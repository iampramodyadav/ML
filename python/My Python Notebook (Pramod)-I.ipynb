{
 "cells": [
  {
   "cell_type": "markdown",
   "metadata": {
    "toc": true
   },
   "source": [
    "<h1>Table of Contents<span class=\"tocSkip\"></span></h1>\n",
    "<div class=\"toc\"><ul class=\"toc-item\"><li><span><a href=\"#Python-Introduction\" data-toc-modified-id=\"Python-Introduction-1\"><span class=\"toc-item-num\">1&nbsp;&nbsp;</span>Python Introduction</a></span><ul class=\"toc-item\"><li><span><a href=\"#Math-Operators-from-Highest-to-Lowest-Precedence\" data-toc-modified-id=\"Math-Operators-from-Highest-to-Lowest-Precedence-1.1\"><span class=\"toc-item-num\">1.1&nbsp;&nbsp;</span>Math Operators from Highest to Lowest Precedence</a></span></li><li><span><a href=\"#Data-type\" data-toc-modified-id=\"Data-type-1.2\"><span class=\"toc-item-num\">1.2&nbsp;&nbsp;</span>Data type</a></span></li><li><span><a href=\"#Storing-Values-in-Variables\" data-toc-modified-id=\"Storing-Values-in-Variables-1.3\"><span class=\"toc-item-num\">1.3&nbsp;&nbsp;</span>Storing Values in Variables</a></span><ul class=\"toc-item\"><li><ul class=\"toc-item\"><li><span><a href=\"#Multiple-Assignments\" data-toc-modified-id=\"Multiple-Assignments-1.3.0.1\"><span class=\"toc-item-num\">1.3.0.1&nbsp;&nbsp;</span>Multiple Assignments</a></span></li></ul></li><li><span><a href=\"#Variable-Names\" data-toc-modified-id=\"Variable-Names-1.3.1\"><span class=\"toc-item-num\">1.3.1&nbsp;&nbsp;</span>Variable Names</a></span><ul class=\"toc-item\"><li><span><a href=\"#Valid-variable-names________________Invalid-variable-names\" data-toc-modified-id=\"Valid-variable-names________________Invalid-variable-names-1.3.1.1\"><span class=\"toc-item-num\">1.3.1.1&nbsp;&nbsp;</span>Valid variable names________________Invalid variable names</a></span></li></ul></li></ul></li><li><span><a href=\"#First-Program\" data-toc-modified-id=\"First-Program-1.4\"><span class=\"toc-item-num\">1.4&nbsp;&nbsp;</span>First Program</a></span></li><li><span><a href=\"#Comments\" data-toc-modified-id=\"Comments-1.5\"><span class=\"toc-item-num\">1.5&nbsp;&nbsp;</span>Comments</a></span></li><li><span><a href=\"#The-print()-Function\" data-toc-modified-id=\"The-print()-Function-1.6\"><span class=\"toc-item-num\">1.6&nbsp;&nbsp;</span>The print() Function</a></span></li><li><span><a href=\"#The-input()-Function\" data-toc-modified-id=\"The-input()-Function-1.7\"><span class=\"toc-item-num\">1.7&nbsp;&nbsp;</span>The input() Function</a></span><ul class=\"toc-item\"><li><span><a href=\"#Taking-multiple-inputs\" data-toc-modified-id=\"Taking-multiple-inputs-1.7.1\"><span class=\"toc-item-num\">1.7.1&nbsp;&nbsp;</span>Taking multiple inputs</a></span></li></ul></li><li><span><a href=\"#The-len()-Function\" data-toc-modified-id=\"The-len()-Function-1.8\"><span class=\"toc-item-num\">1.8&nbsp;&nbsp;</span>The len() Function</a></span></li><li><span><a href=\"#The-str(),-int(),-and-float()-Functions\" data-toc-modified-id=\"The-str(),-int(),-and-float()-Functions-1.9\"><span class=\"toc-item-num\">1.9&nbsp;&nbsp;</span>The str(), int(), and float() Functions</a></span><ul class=\"toc-item\"><li><ul class=\"toc-item\"><li><span><a href=\"#Text-and-Number-Equivalence\" data-toc-modified-id=\"Text-and-Number-Equivalence-1.9.0.1\"><span class=\"toc-item-num\">1.9.0.1&nbsp;&nbsp;</span>Text and Number Equivalence</a></span></li></ul></li></ul></li><li><span><a href=\"#Output-Formatting\" data-toc-modified-id=\"Output-Formatting-1.10\"><span class=\"toc-item-num\">1.10&nbsp;&nbsp;</span>Output Formatting</a></span></li></ul></li><li><span><a href=\"#Flow-Control\" data-toc-modified-id=\"Flow-Control-2\"><span class=\"toc-item-num\">2&nbsp;&nbsp;</span>Flow Control</a></span><ul class=\"toc-item\"><li><ul class=\"toc-item\"><li><ul class=\"toc-item\"><li><span><a href=\"#Comparison-Operators\" data-toc-modified-id=\"Comparison-Operators-2.0.0.1\"><span class=\"toc-item-num\">2.0.0.1&nbsp;&nbsp;</span>Comparison Operators</a></span></li></ul></li><li><span><a href=\"#The-Difference-Between-the-==-and-=-Op-erators\" data-toc-modified-id=\"The-Difference-Between-the-==-and-=-Op-erators-2.0.1\"><span class=\"toc-item-num\">2.0.1&nbsp;&nbsp;</span>The Difference Between the == and = Op erators</a></span></li></ul></li><li><span><a href=\"#Boolean-(Logical)-Operators\" data-toc-modified-id=\"Boolean-(Logical)-Operators-2.1\"><span class=\"toc-item-num\">2.1&nbsp;&nbsp;</span>Boolean (Logical) Operators</a></span></li><li><span><a href=\"#Bitwise-operators\" data-toc-modified-id=\"Bitwise-operators-2.2\"><span class=\"toc-item-num\">2.2&nbsp;&nbsp;</span>Bitwise operators</a></span></li><li><span><a href=\"#Identity-Operators\" data-toc-modified-id=\"Identity-Operators-2.3\"><span class=\"toc-item-num\">2.3&nbsp;&nbsp;</span>Identity Operators</a></span></li><li><span><a href=\"#MemberShip-Operators\" data-toc-modified-id=\"MemberShip-Operators-2.4\"><span class=\"toc-item-num\">2.4&nbsp;&nbsp;</span>MemberShip Operators</a></span></li><li><span><a href=\"#Elements-of-Flow-Control\" data-toc-modified-id=\"Elements-of-Flow-Control-2.5\"><span class=\"toc-item-num\">2.5&nbsp;&nbsp;</span>Elements of Flow Control</a></span><ul class=\"toc-item\"><li><span><a href=\"#Conditions\" data-toc-modified-id=\"Conditions-2.5.1\"><span class=\"toc-item-num\">2.5.1&nbsp;&nbsp;</span>Conditions</a></span></li><li><span><a href=\"#Blocks-of-Code\" data-toc-modified-id=\"Blocks-of-Code-2.5.2\"><span class=\"toc-item-num\">2.5.2&nbsp;&nbsp;</span>Blocks of Code</a></span></li></ul></li><li><span><a href=\"#Flow-Control-Statements\" data-toc-modified-id=\"Flow-Control-Statements-2.6\"><span class=\"toc-item-num\">2.6&nbsp;&nbsp;</span>Flow Control Statements</a></span><ul class=\"toc-item\"><li><span><a href=\"#if-Statements\" data-toc-modified-id=\"if-Statements-2.6.1\"><span class=\"toc-item-num\">2.6.1&nbsp;&nbsp;</span>if Statements</a></span></li><li><span><a href=\"#else-Statements\" data-toc-modified-id=\"else-Statements-2.6.2\"><span class=\"toc-item-num\">2.6.2&nbsp;&nbsp;</span>else Statements</a></span></li><li><span><a href=\"#elif-Statements\" data-toc-modified-id=\"elif-Statements-2.6.3\"><span class=\"toc-item-num\">2.6.3&nbsp;&nbsp;</span>elif Statements</a></span></li><li><span><a href=\"#Nested-if-Statements\" data-toc-modified-id=\"Nested-if-Statements-2.6.4\"><span class=\"toc-item-num\">2.6.4&nbsp;&nbsp;</span>Nested if Statements</a></span></li><li><span><a href=\"#while-Loop-Statements\" data-toc-modified-id=\"while-Loop-Statements-2.6.5\"><span class=\"toc-item-num\">2.6.5&nbsp;&nbsp;</span>while Loop Statements</a></span></li><li><span><a href=\"#while-Loop-with-else\" data-toc-modified-id=\"while-Loop-with-else-2.6.6\"><span class=\"toc-item-num\">2.6.6&nbsp;&nbsp;</span>while Loop with else</a></span><ul class=\"toc-item\"><li><span><a href=\"#Python-Program-to-check-given-number-is-Prime-number-or-not\" data-toc-modified-id=\"Python-Program-to-check-given-number-is-Prime-number-or-not-2.6.6.1\"><span class=\"toc-item-num\">2.6.6.1&nbsp;&nbsp;</span>Python Program to check given number is Prime number or not</a></span></li></ul></li><li><span><a href=\"#break-Statements\" data-toc-modified-id=\"break-Statements-2.6.7\"><span class=\"toc-item-num\">2.6.7&nbsp;&nbsp;</span>break Statements</a></span></li><li><span><a href=\"#continue-Statements\" data-toc-modified-id=\"continue-Statements-2.6.8\"><span class=\"toc-item-num\">2.6.8&nbsp;&nbsp;</span>continue Statements</a></span><ul class=\"toc-item\"><li><span><a href=\"#“Truthy”-and-“Fa-lsey”-Values\" data-toc-modified-id=\"“Truthy”-and-“Fa-lsey”-Values-2.6.8.1\"><span class=\"toc-item-num\">2.6.8.1&nbsp;&nbsp;</span>“Truthy” and “Fa lsey” Values</a></span></li></ul></li><li><span><a href=\"#for-Loops-and-the-range()-Function\" data-toc-modified-id=\"for-Loops-and-the-range()-Function-2.6.9\"><span class=\"toc-item-num\">2.6.9&nbsp;&nbsp;</span>for Loops and the range() Function</a></span><ul class=\"toc-item\"><li><span><a href=\"#for-loop-with-else\" data-toc-modified-id=\"for-loop-with-else-2.6.9.1\"><span class=\"toc-item-num\">2.6.9.1&nbsp;&nbsp;</span>for loop with else</a></span></li><li><span><a href=\"#The-Starting,-Stopping,-and-Stepping-Arguments-to-range()\" data-toc-modified-id=\"The-Starting,-Stopping,-and-Stepping-Arguments-to-range()-2.6.9.2\"><span class=\"toc-item-num\">2.6.9.2&nbsp;&nbsp;</span>The Starting, Stopping, and Stepping Arguments to range()</a></span></li><li><span><a href=\"#Python-Program-to-display-all-prime-numbers-within-an-interval\" data-toc-modified-id=\"Python-Program-to-display-all-prime-numbers-within-an-interval-2.6.9.3\"><span class=\"toc-item-num\">2.6.9.3&nbsp;&nbsp;</span>Python Program to display all prime numbers within an interval</a></span></li></ul></li><li><span><a href=\"#pass-Statement\" data-toc-modified-id=\"pass-Statement-2.6.10\"><span class=\"toc-item-num\">2.6.10&nbsp;&nbsp;</span>pass Statement</a></span></li></ul></li><li><span><a href=\"#Importing-Modules\" data-toc-modified-id=\"Importing-Modules-2.7\"><span class=\"toc-item-num\">2.7&nbsp;&nbsp;</span>Importing Modules</a></span></li><li><span><a href=\"#Ending-a-Program-Early-with-sys.exit()\" data-toc-modified-id=\"Ending-a-Program-Early-with-sys.exit()-2.8\"><span class=\"toc-item-num\">2.8&nbsp;&nbsp;</span>Ending a Program Early with sys.exit()</a></span></li></ul></li><li><span><a href=\"#Functions\" data-toc-modified-id=\"Functions-3\"><span class=\"toc-item-num\">3&nbsp;&nbsp;</span>Functions</a></span><ul class=\"toc-item\"><li><span><a href=\"#def-Statements-with-Parameters\" data-toc-modified-id=\"def-Statements-with-Parameters-3.1\"><span class=\"toc-item-num\">3.1&nbsp;&nbsp;</span>def Statements with Parameters</a></span></li><li><span><a href=\"#Return-Values-and-return-Statements\" data-toc-modified-id=\"Return-Values-and-return-Statements-3.2\"><span class=\"toc-item-num\">3.2&nbsp;&nbsp;</span>Return Values and return Statements</a></span></li><li><span><a href=\"#The-None-Value\" data-toc-modified-id=\"The-None-Value-3.3\"><span class=\"toc-item-num\">3.3&nbsp;&nbsp;</span>The None Value</a></span></li><li><span><a href=\"#Keyword-Arguments-and-print()\" data-toc-modified-id=\"Keyword-Arguments-and-print()-3.4\"><span class=\"toc-item-num\">3.4&nbsp;&nbsp;</span>Keyword Arguments and print()</a></span></li><li><span><a href=\"#Local-and-Global-Scope\" data-toc-modified-id=\"Local-and-Global-Scope-3.5\"><span class=\"toc-item-num\">3.5&nbsp;&nbsp;</span>Local and Global Scope</a></span><ul class=\"toc-item\"><li><span><a href=\"#Local-Variables-Cannot-Be-Used-in-the-Global-Scope\" data-toc-modified-id=\"Local-Variables-Cannot-Be-Used-in-the-Global-Scope-3.5.1\"><span class=\"toc-item-num\">3.5.1&nbsp;&nbsp;</span>Local Variables Cannot Be Used in the Global Scope</a></span></li><li><span><a href=\"#Local-Scopes-Cannot-Use-Variables-in-Other-Local-Scopes\" data-toc-modified-id=\"Local-Scopes-Cannot-Use-Variables-in-Other-Local-Scopes-3.5.2\"><span class=\"toc-item-num\">3.5.2&nbsp;&nbsp;</span>Local Scopes Cannot Use Variables in Other Local Scopes</a></span></li><li><span><a href=\"#Global-Variables-Can-Be-Read-from-a-Local-Scope\" data-toc-modified-id=\"Global-Variables-Can-Be-Read-from-a-Local-Scope-3.5.3\"><span class=\"toc-item-num\">3.5.3&nbsp;&nbsp;</span>Global Variables Can Be Read from a Local Scope</a></span></li><li><span><a href=\"#Local-and-Global-Variables-with-the-Same-Name\" data-toc-modified-id=\"Local-and-Global-Variables-with-the-Same-Name-3.5.4\"><span class=\"toc-item-num\">3.5.4&nbsp;&nbsp;</span>Local and Global Variables with the Same Name</a></span></li></ul></li><li><span><a href=\"#The-global-Statement\" data-toc-modified-id=\"The-global-Statement-3.6\"><span class=\"toc-item-num\">3.6&nbsp;&nbsp;</span>The global Statement</a></span><ul class=\"toc-item\"><li><ul class=\"toc-item\"><li><span><a href=\"#Note:\" data-toc-modified-id=\"Note:-3.6.0.1\"><span class=\"toc-item-num\">3.6.0.1&nbsp;&nbsp;</span>Note:</a></span><ul class=\"toc-item\"><li><span><a href=\"#Functions-as-“Black-Boxes”\" data-toc-modified-id=\"Functions-as-“Black-Boxes”-3.6.0.1.1\"><span class=\"toc-item-num\">3.6.0.1.1&nbsp;&nbsp;</span>Functions as “Black Boxes”</a></span></li></ul></li></ul></li></ul></li><li><span><a href=\"#Exception-Handling\" data-toc-modified-id=\"Exception-Handling-3.7\"><span class=\"toc-item-num\">3.7&nbsp;&nbsp;</span>Exception Handling</a></span></li><li><span><a href=\"#A-Short-Program:-Guess-the-Number\" data-toc-modified-id=\"A-Short-Program:-Guess-the-Number-3.8\"><span class=\"toc-item-num\">3.8&nbsp;&nbsp;</span>A Short Program: Guess the Number</a></span></li><li><span><a href=\"#lambda-function\" data-toc-modified-id=\"lambda-function-3.9\"><span class=\"toc-item-num\">3.9&nbsp;&nbsp;</span>lambda function</a></span></li><li><span><a href=\"#Summary\" data-toc-modified-id=\"Summary-3.10\"><span class=\"toc-item-num\">3.10&nbsp;&nbsp;</span>Summary</a></span></li><li><span><a href=\"#Practice-Projects\" data-toc-modified-id=\"Practice-Projects-3.11\"><span class=\"toc-item-num\">3.11&nbsp;&nbsp;</span>Practice Projects</a></span><ul class=\"toc-item\"><li><span><a href=\"#The-Collatz-Sequence\" data-toc-modified-id=\"The-Collatz-Sequence-3.11.1\"><span class=\"toc-item-num\">3.11.1&nbsp;&nbsp;</span>The Collatz Sequence</a></span></li><li><span><a href=\"#Input-Validation\" data-toc-modified-id=\"Input-Validation-3.11.2\"><span class=\"toc-item-num\">3.11.2&nbsp;&nbsp;</span>Input Validation</a></span></li></ul></li></ul></li><li><span><a href=\"#LISTS\" data-toc-modified-id=\"LISTS-4\"><span class=\"toc-item-num\">4&nbsp;&nbsp;</span>LISTS</a></span><ul class=\"toc-item\"><li><ul class=\"toc-item\"><li><span><a href=\"#Getting-Individual-Values-in-a-List-with-Indexes\" data-toc-modified-id=\"Getting-Individual-Values-in-a-List-with-Indexes-4.0.1\"><span class=\"toc-item-num\">4.0.1&nbsp;&nbsp;</span>Getting Individual Values in a List with Indexes</a></span></li><li><span><a href=\"#Negative-Indexes\" data-toc-modified-id=\"Negative-Indexes-4.0.2\"><span class=\"toc-item-num\">4.0.2&nbsp;&nbsp;</span>Negative Indexes</a></span></li><li><span><a href=\"#Getting-Sublists-with-Slices\" data-toc-modified-id=\"Getting-Sublists-with-Slices-4.0.3\"><span class=\"toc-item-num\">4.0.3&nbsp;&nbsp;</span>Getting Sublists with Slices</a></span></li><li><span><a href=\"#Getting-a-List’s-Length-with-len()\" data-toc-modified-id=\"Getting-a-List’s-Length-with-len()-4.0.4\"><span class=\"toc-item-num\">4.0.4&nbsp;&nbsp;</span>Getting a List’s Length with len()</a></span></li><li><span><a href=\"#List-Count\" data-toc-modified-id=\"List-Count-4.0.5\"><span class=\"toc-item-num\">4.0.5&nbsp;&nbsp;</span>List Count</a></span></li><li><span><a href=\"#Changing-Values-in-a-List-with-Indexes\" data-toc-modified-id=\"Changing-Values-in-a-List-with-Indexes-4.0.6\"><span class=\"toc-item-num\">4.0.6&nbsp;&nbsp;</span>Changing Values in a List with Indexes</a></span></li><li><span><a href=\"#List-Concatenation-and-List-Replication\" data-toc-modified-id=\"List-Concatenation-and-List-Replication-4.0.7\"><span class=\"toc-item-num\">4.0.7&nbsp;&nbsp;</span>List Concatenation and List Replication</a></span></li><li><span><a href=\"#Removing-Values-from-Lists-with-del-Statements\" data-toc-modified-id=\"Removing-Values-from-Lists-with-del-Statements-4.0.8\"><span class=\"toc-item-num\">4.0.8&nbsp;&nbsp;</span>Removing Values from Lists with del Statements</a></span></li></ul></li><li><span><a href=\"#Working-with-Lists\" data-toc-modified-id=\"Working-with-Lists-4.1\"><span class=\"toc-item-num\">4.1&nbsp;&nbsp;</span>Working with Lists</a></span><ul class=\"toc-item\"><li><span><a href=\"#Using-for-Loops-with-Lists\" data-toc-modified-id=\"Using-for-Loops-with-Lists-4.1.1\"><span class=\"toc-item-num\">4.1.1&nbsp;&nbsp;</span>Using for Loops with Lists</a></span></li></ul></li><li><span><a href=\"#List-comprehension\" data-toc-modified-id=\"List-comprehension-4.2\"><span class=\"toc-item-num\">4.2&nbsp;&nbsp;</span>List comprehension</a></span></li><li><span><a href=\"#Nested-List-Comprehensions\" data-toc-modified-id=\"Nested-List-Comprehensions-4.3\"><span class=\"toc-item-num\">4.3&nbsp;&nbsp;</span>Nested List Comprehensions</a></span><ul class=\"toc-item\"><li><span><a href=\"#The-in-and-not-in-Operators\" data-toc-modified-id=\"The-in-and-not-in-Operators-4.3.1\"><span class=\"toc-item-num\">4.3.1&nbsp;&nbsp;</span>The in and not in Operators</a></span></li></ul></li><li><span><a href=\"#Augmented-Assignment-Operators\" data-toc-modified-id=\"Augmented-Assignment-Operators-4.4\"><span class=\"toc-item-num\">4.4&nbsp;&nbsp;</span>Augmented Assignment Operators</a></span></li><li><span><a href=\"#Methods\" data-toc-modified-id=\"Methods-4.5\"><span class=\"toc-item-num\">4.5&nbsp;&nbsp;</span>Methods</a></span><ul class=\"toc-item\"><li><span><a href=\"#Finding-a-Value-in-a-List-with-the-index()-Method\" data-toc-modified-id=\"Finding-a-Value-in-a-List-with-the-index()-Method-4.5.1\"><span class=\"toc-item-num\">4.5.1&nbsp;&nbsp;</span>Finding a Value in a List with the <em>index()</em> Method</a></span></li><li><span><a href=\"#Adding-Values-to-Lists-with-the-append(),extend()--and-insert()-Methods\" data-toc-modified-id=\"Adding-Values-to-Lists-with-the-append(),extend()--and-insert()-Methods-4.5.2\"><span class=\"toc-item-num\">4.5.2&nbsp;&nbsp;</span>Adding Values to Lists with the <em>append()</em>,<em>extend()</em>  and <em>insert()</em> Methods</a></span></li><li><span><a href=\"#Removing-Values-from-Lists-with-remove(),-del,-pop()\" data-toc-modified-id=\"Removing-Values-from-Lists-with-remove(),-del,-pop()-4.5.3\"><span class=\"toc-item-num\">4.5.3&nbsp;&nbsp;</span>Removing Values from Lists with remove(), del, pop()</a></span></li><li><span><a href=\"#List-reverse\" data-toc-modified-id=\"List-reverse-4.5.4\"><span class=\"toc-item-num\">4.5.4&nbsp;&nbsp;</span>List reverse</a></span></li><li><span><a href=\"#List-related-keywords-in-Python\" data-toc-modified-id=\"List-related-keywords-in-Python-4.5.5\"><span class=\"toc-item-num\">4.5.5&nbsp;&nbsp;</span>List related keywords in Python</a></span></li><li><span><a href=\"#Sorting-the-Values-in-a-List-with-the-sort()-Method-and-sorted(list)-method\" data-toc-modified-id=\"Sorting-the-Values-in-a-List-with-the-sort()-Method-and-sorted(list)-method-4.5.6\"><span class=\"toc-item-num\">4.5.6&nbsp;&nbsp;</span>Sorting the Values in a List with the sort() Method and sorted(list) method</a></span></li></ul></li><li><span><a href=\"#Example-Program:-Magic-8-Ball-with-a-List\" data-toc-modified-id=\"Example-Program:-Magic-8-Ball-with-a-List-4.6\"><span class=\"toc-item-num\">4.6&nbsp;&nbsp;</span>Example Program: Magic 8 Ball with a List</a></span></li><li><span><a href=\"#List-like-Types:-Strings-and-Tuples\" data-toc-modified-id=\"List-like-Types:-Strings-and-Tuples-4.7\"><span class=\"toc-item-num\">4.7&nbsp;&nbsp;</span>List-like Types: Strings and Tuples</a></span></li><li><span><a href=\"#Mutable-and-Immutable-Data-Types\" data-toc-modified-id=\"Mutable-and-Immutable-Data-Types-4.8\"><span class=\"toc-item-num\">4.8&nbsp;&nbsp;</span>Mutable and Immutable Data Types</a></span></li><li><span><a href=\"#The-Tuple-Data-Type\" data-toc-modified-id=\"The-Tuple-Data-Type-4.9\"><span class=\"toc-item-num\">4.9&nbsp;&nbsp;</span>The Tuple Data Type</a></span></li><li><span><a href=\"#Tuple-Deletion\" data-toc-modified-id=\"Tuple-Deletion-4.10\"><span class=\"toc-item-num\">4.10&nbsp;&nbsp;</span>Tuple Deletion</a></span></li><li><span><a href=\"#Tuple-Count\" data-toc-modified-id=\"Tuple-Count-4.11\"><span class=\"toc-item-num\">4.11&nbsp;&nbsp;</span>Tuple Count</a></span></li><li><span><a href=\"#Tuple-Index\" data-toc-modified-id=\"Tuple-Index-4.12\"><span class=\"toc-item-num\">4.12&nbsp;&nbsp;</span>Tuple Index</a></span></li><li><span><a href=\"#Tuple-Memebership\" data-toc-modified-id=\"Tuple-Memebership-4.13\"><span class=\"toc-item-num\">4.13&nbsp;&nbsp;</span>Tuple Memebership</a></span></li><li><span><a href=\"#Built-in-Functions\" data-toc-modified-id=\"Built-in-Functions-4.14\"><span class=\"toc-item-num\">4.14&nbsp;&nbsp;</span>Built in Functions</a></span><ul class=\"toc-item\"><li><span><a href=\"#Tuple-Length\" data-toc-modified-id=\"Tuple-Length-4.14.1\"><span class=\"toc-item-num\">4.14.1&nbsp;&nbsp;</span>Tuple Length</a></span></li><li><span><a href=\"#Tuple-Sort\" data-toc-modified-id=\"Tuple-Sort-4.14.2\"><span class=\"toc-item-num\">4.14.2&nbsp;&nbsp;</span>Tuple Sort</a></span></li><li><span><a href=\"#largest-and-smallest-element\" data-toc-modified-id=\"largest-and-smallest-element-4.14.3\"><span class=\"toc-item-num\">4.14.3&nbsp;&nbsp;</span>largest and smallest element</a></span></li><li><span><a href=\"#sum-of-elments\" data-toc-modified-id=\"sum-of-elments-4.14.4\"><span class=\"toc-item-num\">4.14.4&nbsp;&nbsp;</span>sum of elments</a></span></li></ul></li><li><span><a href=\"#Converting-Types-with-the-list()-and-tuple()-Functions\" data-toc-modified-id=\"Converting-Types-with-the-list()-and-tuple()-Functions-4.15\"><span class=\"toc-item-num\">4.15&nbsp;&nbsp;</span>Converting Types with the list() and tuple() Functions</a></span></li><li><span><a href=\"#References\" data-toc-modified-id=\"References-4.16\"><span class=\"toc-item-num\">4.16&nbsp;&nbsp;</span>References</a></span><ul class=\"toc-item\"><li><span><a href=\"#Passing-References\" data-toc-modified-id=\"Passing-References-4.16.1\"><span class=\"toc-item-num\">4.16.1&nbsp;&nbsp;</span>Passing References</a></span></li><li><span><a href=\"#The-copy-Module’s-copy()-and-deepcopy()-Functions\" data-toc-modified-id=\"The-copy-Module’s-copy()-and-deepcopy()-Functions-4.16.2\"><span class=\"toc-item-num\">4.16.2&nbsp;&nbsp;</span>The <em>copy</em> Module’s <em>copy()</em> and <em>deepcopy()</em> Functions</a></span></li></ul></li><li><span><a href=\"#Summary\" data-toc-modified-id=\"Summary-4.17\"><span class=\"toc-item-num\">4.17&nbsp;&nbsp;</span>Summary</a></span></li><li><span><a href=\"#Practice-Projects\" data-toc-modified-id=\"Practice-Projects-4.18\"><span class=\"toc-item-num\">4.18&nbsp;&nbsp;</span>Practice Projects</a></span><ul class=\"toc-item\"><li><span><a href=\"#Comma-Code\" data-toc-modified-id=\"Comma-Code-4.18.1\"><span class=\"toc-item-num\">4.18.1&nbsp;&nbsp;</span>Comma Code</a></span></li><li><span><a href=\"#Character-Picture-Grid\" data-toc-modified-id=\"Character-Picture-Grid-4.18.2\"><span class=\"toc-item-num\">4.18.2&nbsp;&nbsp;</span>Character Picture Grid</a></span></li></ul></li></ul></li><li><span><a href=\"#Sets\" data-toc-modified-id=\"Sets-5\"><span class=\"toc-item-num\">5&nbsp;&nbsp;</span>Sets</a></span><ul class=\"toc-item\"><li><span><a href=\"#Set-Creation\" data-toc-modified-id=\"Set-Creation-5.1\"><span class=\"toc-item-num\">5.1&nbsp;&nbsp;</span>Set Creation</a></span></li><li><span><a href=\"#Add-element-to-a-Set\" data-toc-modified-id=\"Add-element-to-a-Set-5.2\"><span class=\"toc-item-num\">5.2&nbsp;&nbsp;</span>Add element to a Set</a></span></li><li><span><a href=\"#Remove-elements-from-a-Set\" data-toc-modified-id=\"Remove-elements-from-a-Set-5.3\"><span class=\"toc-item-num\">5.3&nbsp;&nbsp;</span>Remove elements from a Set</a></span></li><li><span><a href=\"#Python-Set-Operations\" data-toc-modified-id=\"Python-Set-Operations-5.4\"><span class=\"toc-item-num\">5.4&nbsp;&nbsp;</span>Python Set Operations</a></span></li><li><span><a href=\"#Frozen-Sets\" data-toc-modified-id=\"Frozen-Sets-5.5\"><span class=\"toc-item-num\">5.5&nbsp;&nbsp;</span>Frozen Sets</a></span></li></ul></li><li><span><a href=\"#Dictionaries-and-Structuring-Data\" data-toc-modified-id=\"Dictionaries-and-Structuring-Data-6\"><span class=\"toc-item-num\">6&nbsp;&nbsp;</span>Dictionaries and Structuring Data</a></span><ul class=\"toc-item\"><li><span><a href=\"#The-Dictionary-Data-Type\" data-toc-modified-id=\"The-Dictionary-Data-Type-6.1\"><span class=\"toc-item-num\">6.1&nbsp;&nbsp;</span>The Dictionary Data Type</a></span><ul class=\"toc-item\"><li><span><a href=\"#Dictionaries-vs.-Lists\" data-toc-modified-id=\"Dictionaries-vs.-Lists-6.1.1\"><span class=\"toc-item-num\">6.1.1&nbsp;&nbsp;</span>Dictionaries vs. Lists</a></span></li><li><span><a href=\"#The-keys(),-values(),-and-items()-Methods\" data-toc-modified-id=\"The-keys(),-values(),-and-items()-Methods-6.1.2\"><span class=\"toc-item-num\">6.1.2&nbsp;&nbsp;</span>The <em>keys(), values()</em>, and <em>items()</em> Methods</a></span></li><li><span><a href=\"#Checking-Whether-a-Key-or-Value-Exists-in-a-Dictionary\" data-toc-modified-id=\"Checking-Whether-a-Key-or-Value-Exists-in-a-Dictionary-6.1.3\"><span class=\"toc-item-num\">6.1.3&nbsp;&nbsp;</span>Checking Whether a <em>Key</em> or <em>Value</em> Exists in a Dictionary</a></span></li><li><span><a href=\"#The-get()-Method\" data-toc-modified-id=\"The-get()-Method-6.1.4\"><span class=\"toc-item-num\">6.1.4&nbsp;&nbsp;</span>The get() Method</a></span></li><li><span><a href=\"#The-setdefault()-Method\" data-toc-modified-id=\"The-setdefault()-Method-6.1.5\"><span class=\"toc-item-num\">6.1.5&nbsp;&nbsp;</span>The setdefault() Method</a></span></li></ul></li><li><span><a href=\"#Dict-Add-or-Modify-Elements\" data-toc-modified-id=\"Dict-Add-or-Modify-Elements-6.2\"><span class=\"toc-item-num\">6.2&nbsp;&nbsp;</span>Dict Add or Modify Elements</a></span></li><li><span><a href=\"#Dict-Delete-or-Remove-Element\" data-toc-modified-id=\"Dict-Delete-or-Remove-Element-6.3\"><span class=\"toc-item-num\">6.3&nbsp;&nbsp;</span>Dict Delete or Remove Element</a></span></li><li><span><a href=\"#Dictionary-Methods\" data-toc-modified-id=\"Dictionary-Methods-6.4\"><span class=\"toc-item-num\">6.4&nbsp;&nbsp;</span>Dictionary Methods</a></span></li><li><span><a href=\"#Dict-Comprehension\" data-toc-modified-id=\"Dict-Comprehension-6.5\"><span class=\"toc-item-num\">6.5&nbsp;&nbsp;</span>Dict Comprehension</a></span></li><li><span><a href=\"#Pretty-Printing\" data-toc-modified-id=\"Pretty-Printing-6.6\"><span class=\"toc-item-num\">6.6&nbsp;&nbsp;</span>Pretty Printing</a></span></li><li><span><a href=\"#Using-Data-Structures-to-Model-Real-World-Things\" data-toc-modified-id=\"Using-Data-Structures-to-Model-Real-World-Things-6.7\"><span class=\"toc-item-num\">6.7&nbsp;&nbsp;</span>Using Data Structures to Model Real-World Things</a></span><ul class=\"toc-item\"><li><span><a href=\"#A-Tic-Tac-Toe-Board\" data-toc-modified-id=\"A-Tic-Tac-Toe-Board-6.7.1\"><span class=\"toc-item-num\">6.7.1&nbsp;&nbsp;</span>A Tic-Tac-Toe Board</a></span><ul class=\"toc-item\"><li><span><a href=\"#Complete--tic-tac-toe-game\" data-toc-modified-id=\"Complete--tic-tac-toe-game-6.7.1.1\"><span class=\"toc-item-num\">6.7.1.1&nbsp;&nbsp;</span>Complete  tic-tac-toe game</a></span></li></ul></li><li><span><a href=\"#Nested-Dictionaries-and-Lists\" data-toc-modified-id=\"Nested-Dictionaries-and-Lists-6.7.2\"><span class=\"toc-item-num\">6.7.2&nbsp;&nbsp;</span>Nested Dictionaries and Lists</a></span></li></ul></li><li><span><a href=\"#Summary\" data-toc-modified-id=\"Summary-6.8\"><span class=\"toc-item-num\">6.8&nbsp;&nbsp;</span>Summary</a></span></li><li><span><a href=\"#Practice-Projects\" data-toc-modified-id=\"Practice-Projects-6.9\"><span class=\"toc-item-num\">6.9&nbsp;&nbsp;</span>Practice Projects</a></span><ul class=\"toc-item\"><li><span><a href=\"#Fantasy-Game-Inventory\" data-toc-modified-id=\"Fantasy-Game-Inventory-6.9.1\"><span class=\"toc-item-num\">6.9.1&nbsp;&nbsp;</span>Fantasy Game Inventory</a></span></li><li><span><a href=\"#List-to-Dictionary-Function-for-Fantasy-Game-Inventory\" data-toc-modified-id=\"List-to-Dictionary-Function-for-Fantasy-Game-Inventory-6.9.2\"><span class=\"toc-item-num\">6.9.2&nbsp;&nbsp;</span>List to Dictionary Function for Fantasy Game Inventory</a></span></li></ul></li></ul></li><li><span><a href=\"#Arrays\" data-toc-modified-id=\"Arrays-7\"><span class=\"toc-item-num\">7&nbsp;&nbsp;</span>Arrays</a></span><ul class=\"toc-item\"><li><span><a href=\"#creating-an-array-of-different-data-types\" data-toc-modified-id=\"creating-an-array-of-different-data-types-7.1\"><span class=\"toc-item-num\">7.1&nbsp;&nbsp;</span>creating an array of different data types</a></span></li><li><span><a href=\"#Adding-elements-in-array\" data-toc-modified-id=\"Adding-elements-in-array-7.2\"><span class=\"toc-item-num\">7.2&nbsp;&nbsp;</span>Adding elements in array</a></span></li><li><span><a href=\"#Removing-Elements-from-array\" data-toc-modified-id=\"Removing-Elements-from-array-7.3\"><span class=\"toc-item-num\">7.3&nbsp;&nbsp;</span>Removing Elements from array</a></span></li><li><span><a href=\"#Slicing-of-a-Array\" data-toc-modified-id=\"Slicing-of-a-Array-7.4\"><span class=\"toc-item-num\">7.4&nbsp;&nbsp;</span>Slicing of a Array</a></span></li><li><span><a href=\"#Searching-element-in-a-Array\" data-toc-modified-id=\"Searching-element-in-a-Array-7.5\"><span class=\"toc-item-num\">7.5&nbsp;&nbsp;</span>Searching element in a Array</a></span></li><li><span><a href=\"#Updating-Elements-in-a-Array\" data-toc-modified-id=\"Updating-Elements-in-a-Array-7.6\"><span class=\"toc-item-num\">7.6&nbsp;&nbsp;</span>Updating Elements in a Array</a></span></li></ul></li><li><span><a href=\"#Manipulating-Strings\" data-toc-modified-id=\"Manipulating-Strings-8\"><span class=\"toc-item-num\">8&nbsp;&nbsp;</span>Manipulating Strings</a></span><ul class=\"toc-item\"><li><span><a href=\"#Working-with-Strings\" data-toc-modified-id=\"Working-with-Strings-8.1\"><span class=\"toc-item-num\">8.1&nbsp;&nbsp;</span>Working with Strings</a></span><ul class=\"toc-item\"><li><span><a href=\"#String-Literals\" data-toc-modified-id=\"String-Literals-8.1.1\"><span class=\"toc-item-num\">8.1.1&nbsp;&nbsp;</span>String Literals</a></span></li><li><span><a href=\"#Escape-Characters\" data-toc-modified-id=\"Escape-Characters-8.1.2\"><span class=\"toc-item-num\">8.1.2&nbsp;&nbsp;</span>Escape Characters</a></span></li><li><span><a href=\"#Raw-Strings\" data-toc-modified-id=\"Raw-Strings-8.1.3\"><span class=\"toc-item-num\">8.1.3&nbsp;&nbsp;</span>Raw Strings</a></span></li><li><span><a href=\"#Multiline-Strings-with-Triple-Quotes\" data-toc-modified-id=\"Multiline-Strings-with-Triple-Quotes-8.1.4\"><span class=\"toc-item-num\">8.1.4&nbsp;&nbsp;</span>Multiline Strings with Triple Quotes</a></span></li><li><span><a href=\"#Multiline-Comments\" data-toc-modified-id=\"Multiline-Comments-8.1.5\"><span class=\"toc-item-num\">8.1.5&nbsp;&nbsp;</span>Multiline Comments</a></span></li><li><span><a href=\"#Indexing-and-Slicing-Strings\" data-toc-modified-id=\"Indexing-and-Slicing-Strings-8.1.6\"><span class=\"toc-item-num\">8.1.6&nbsp;&nbsp;</span>Indexing and Slicing Strings</a></span></li><li><span><a href=\"#How-to-change-or-delete-a-string-?\" data-toc-modified-id=\"How-to-change-or-delete-a-string-?-8.1.7\"><span class=\"toc-item-num\">8.1.7&nbsp;&nbsp;</span>How to change or delete a string ?</a></span></li><li><span><a href=\"#Concatenation\" data-toc-modified-id=\"Concatenation-8.1.8\"><span class=\"toc-item-num\">8.1.8&nbsp;&nbsp;</span>Concatenation</a></span></li><li><span><a href=\"#Iterating-Through-String\" data-toc-modified-id=\"Iterating-Through-String-8.1.9\"><span class=\"toc-item-num\">8.1.9&nbsp;&nbsp;</span>Iterating Through String</a></span></li><li><span><a href=\"#The-in-and-not-in-Operators-with-Strings\" data-toc-modified-id=\"The-in-and-not-in-Operators-with-Strings-8.1.10\"><span class=\"toc-item-num\">8.1.10&nbsp;&nbsp;</span>The in and not in Operators with Strings</a></span></li></ul></li><li><span><a href=\"#Useful-String-Methods\" data-toc-modified-id=\"Useful-String-Methods-8.2\"><span class=\"toc-item-num\">8.2&nbsp;&nbsp;</span>Useful String Methods</a></span><ul class=\"toc-item\"><li><span><a href=\"#The-upper(),-lower(),-isupper(),-and-islower()-String-Methods\" data-toc-modified-id=\"The-upper(),-lower(),-isupper(),-and-islower()-String-Methods-8.2.1\"><span class=\"toc-item-num\">8.2.1&nbsp;&nbsp;</span>The upper(), lower(), isupper(), and islower() String Methods</a></span></li><li><span><a href=\"#find(),-replace()-methods\" data-toc-modified-id=\"find(),-replace()-methods-8.2.2\"><span class=\"toc-item-num\">8.2.2&nbsp;&nbsp;</span>find(), replace() methods</a></span><ul class=\"toc-item\"><li><span><a href=\"#Python-Program-to-Check-where-a-String-is-Palindrome-or-not-?\" data-toc-modified-id=\"Python-Program-to-Check-where-a-String-is-Palindrome-or-not-?-8.2.2.1\"><span class=\"toc-item-num\">8.2.2.1&nbsp;&nbsp;</span>Python Program to Check where a String is Palindrome or not ?</a></span></li><li><span><a href=\"#Python-Program-to-Sort-Words-in-Alphabetic-Order?\" data-toc-modified-id=\"Python-Program-to-Sort-Words-in-Alphabetic-Order?-8.2.2.2\"><span class=\"toc-item-num\">8.2.2.2&nbsp;&nbsp;</span>Python Program to Sort Words in Alphabetic Order?</a></span></li></ul></li><li><span><a href=\"#The-isX-String-Methods\" data-toc-modified-id=\"The-isX-String-Methods-8.2.3\"><span class=\"toc-item-num\">8.2.3&nbsp;&nbsp;</span>The isX String Methods</a></span></li><li><span><a href=\"#The-join()-and-split()-String-Methods\" data-toc-modified-id=\"The-join()-and-split()-String-Methods-8.2.4\"><span class=\"toc-item-num\">8.2.4&nbsp;&nbsp;</span>The <em>join()</em> and <em>split()</em> String Methods</a></span></li><li><span><a href=\"#Justifying-Text-with-rjust(),-ljust(),-and-center()\" data-toc-modified-id=\"Justifying-Text-with-rjust(),-ljust(),-and-center()-8.2.5\"><span class=\"toc-item-num\">8.2.5&nbsp;&nbsp;</span>Justifying Text with <em>rjust()</em>, <em>ljust()</em>, and <em>center()</em></a></span></li><li><span><a href=\"#Removing-Whitespace-with-strip(),-rstrip(),-and-lstrip()\" data-toc-modified-id=\"Removing-Whitespace-with-strip(),-rstrip(),-and-lstrip()-8.2.6\"><span class=\"toc-item-num\">8.2.6&nbsp;&nbsp;</span>Removing Whitespace with <em>strip()</em>, <em>rstrip()</em>, and <em>lstrip()</em></a></span></li><li><span><a href=\"#Copying-and-Pasting-Strings-with-the-pyperclip-Module\" data-toc-modified-id=\"Copying-and-Pasting-Strings-with-the-pyperclip-Module-8.2.7\"><span class=\"toc-item-num\">8.2.7&nbsp;&nbsp;</span>Copying and Pasting Strings with the pyperclip Module</a></span></li></ul></li><li><span><a href=\"#Project:-Password-Locker\" data-toc-modified-id=\"Project:-Password-Locker-8.3\"><span class=\"toc-item-num\">8.3&nbsp;&nbsp;</span>Project: Password Locker</a></span><ul class=\"toc-item\"><li><span><a href=\"#Step-1:-Program-Design-and-Data-Structures\" data-toc-modified-id=\"Step-1:-Program-Design-and-Data-Structures-8.3.1\"><span class=\"toc-item-num\">8.3.1&nbsp;&nbsp;</span>Step 1: Program Design and Data Structures</a></span></li></ul></li><li><span><a href=\"#Project:-Adding-Bullets-to-Wiki-Markup\" data-toc-modified-id=\"Project:-Adding-Bullets-to-Wiki-Markup-8.4\"><span class=\"toc-item-num\">8.4&nbsp;&nbsp;</span>Project: Adding Bullets to Wiki Markup</a></span></li><li><span><a href=\"#Summary\" data-toc-modified-id=\"Summary-8.5\"><span class=\"toc-item-num\">8.5&nbsp;&nbsp;</span>Summary</a></span></li><li><span><a href=\"#Practice-Project\" data-toc-modified-id=\"Practice-Project-8.6\"><span class=\"toc-item-num\">8.6&nbsp;&nbsp;</span>Practice Project</a></span><ul class=\"toc-item\"><li><span><a href=\"#Table-Printer\" data-toc-modified-id=\"Table-Printer-8.6.1\"><span class=\"toc-item-num\">8.6.1&nbsp;&nbsp;</span>Table Printer</a></span></li></ul></li></ul></li><li><span><a href=\"#Classes-and-Objects\" data-toc-modified-id=\"Classes-and-Objects-9\"><span class=\"toc-item-num\">9&nbsp;&nbsp;</span>Classes and Objects</a></span><ul class=\"toc-item\"><li><span><a href=\"#Some-points-on-Python-class:\" data-toc-modified-id=\"Some-points-on-Python-class:-9.1\"><span class=\"toc-item-num\">9.1&nbsp;&nbsp;</span>Some points on Python class:</a></span></li><li><span><a href=\"#Defining-a-class\" data-toc-modified-id=\"Defining-a-class-9.2\"><span class=\"toc-item-num\">9.2&nbsp;&nbsp;</span>Defining a class</a></span></li><li><span><a href=\"#Class-Objects\" data-toc-modified-id=\"Class-Objects-9.3\"><span class=\"toc-item-num\">9.3&nbsp;&nbsp;</span>Class Objects</a></span><ul class=\"toc-item\"><li><span><a href=\"#Declaring-an-object\" data-toc-modified-id=\"Declaring-an-object-9.3.1\"><span class=\"toc-item-num\">9.3.1&nbsp;&nbsp;</span>Declaring an object</a></span></li></ul></li><li><span><a href=\"#The-self\" data-toc-modified-id=\"The-self-9.4\"><span class=\"toc-item-num\">9.4&nbsp;&nbsp;</span>The self</a></span></li><li><span><a href=\"#init-method\" data-toc-modified-id=\"init-method-9.5\"><span class=\"toc-item-num\">9.5&nbsp;&nbsp;</span><strong>init</strong> method</a></span></li><li><span><a href=\"#Class-and-Instance-Variables\" data-toc-modified-id=\"Class-and-Instance-Variables-9.6\"><span class=\"toc-item-num\">9.6&nbsp;&nbsp;</span>Class and Instance Variables</a></span></li></ul></li></ul></div>"
   ]
  },
  {
   "cell_type": "markdown",
   "metadata": {},
   "source": [
    " "
   ]
  },
  {
   "cell_type": "markdown",
   "metadata": {},
   "source": [
    " "
   ]
  },
  {
   "cell_type": "markdown",
   "metadata": {},
   "source": [
    " "
   ]
  },
  {
   "cell_type": "markdown",
   "metadata": {},
   "source": [
    " "
   ]
  },
  {
   "cell_type": "markdown",
   "metadata": {},
   "source": [
    " "
   ]
  },
  {
   "cell_type": "markdown",
   "metadata": {},
   "source": [
    " "
   ]
  },
  {
   "cell_type": "markdown",
   "metadata": {},
   "source": [
    "      "
   ]
  },
  {
   "cell_type": "markdown",
   "metadata": {},
   "source": [
    "      "
   ]
  },
  {
   "cell_type": "markdown",
   "metadata": {},
   "source": [
    "       "
   ]
  },
  {
   "cell_type": "markdown",
   "metadata": {},
   "source": [
    "      "
   ]
  },
  {
   "cell_type": "markdown",
   "metadata": {},
   "source": [
    "     \n",
    "     \n",
    "     \n",
    "     \n",
    "     \n",
    "         "
   ]
  },
  {
   "cell_type": "markdown",
   "metadata": {},
   "source": [
    "    \n",
    "    \n",
    "    \n",
    "    \n",
    "       \n",
    "       \n",
    "       \n",
    "    "
   ]
  },
  {
   "cell_type": "markdown",
   "metadata": {},
   "source": [
    "\n",
    "\n",
    "\n",
    "\n"
   ]
  },
  {
   "cell_type": "markdown",
   "metadata": {},
   "source": [
    "    "
   ]
  },
  {
   "cell_type": "markdown",
   "metadata": {},
   "source": [
    "      "
   ]
  },
  {
   "cell_type": "markdown",
   "metadata": {},
   "source": [
    " "
   ]
  },
  {
   "cell_type": "markdown",
   "metadata": {},
   "source": [
    "# Python Introduction"
   ]
  },
  {
   "cell_type": "markdown",
   "metadata": {},
   "source": [
    "## Math Operators from Highest to Lowest Precedence\n",
    "    **     Exponent                                 2 ** 3     8\n",
    "    %      modulus/remainder                        22 % 8     6\n",
    "    //     Integer division/floored quotient        22 // 8    2\n",
    "    /      Division                                 22 / 8     2.75\n",
    "    *      Multiplication                           3 * 5      15\n",
    "    -      Subtraction                              5 - 2      3\n",
    "    +      Addition                                 2 + 2      4"
   ]
  },
  {
   "cell_type": "code",
   "execution_count": 1,
   "metadata": {
    "scrolled": true
   },
   "outputs": [
    {
     "data": {
      "text/plain": [
       "8"
      ]
     },
     "execution_count": 1,
     "metadata": {},
     "output_type": "execute_result"
    }
   ],
   "source": [
    "2**3"
   ]
  },
  {
   "cell_type": "code",
   "execution_count": 2,
   "metadata": {},
   "outputs": [
    {
     "data": {
      "text/plain": [
       "6"
      ]
     },
     "execution_count": 2,
     "metadata": {},
     "output_type": "execute_result"
    }
   ],
   "source": [
    "22%8"
   ]
  },
  {
   "cell_type": "code",
   "execution_count": 3,
   "metadata": {},
   "outputs": [
    {
     "data": {
      "text/plain": [
       "2"
      ]
     },
     "execution_count": 3,
     "metadata": {},
     "output_type": "execute_result"
    }
   ],
   "source": [
    "22//8"
   ]
  },
  {
   "cell_type": "code",
   "execution_count": 4,
   "metadata": {},
   "outputs": [
    {
     "data": {
      "text/plain": [
       "2.75"
      ]
     },
     "execution_count": 4,
     "metadata": {},
     "output_type": "execute_result"
    }
   ],
   "source": [
    "22/8"
   ]
  },
  {
   "cell_type": "markdown",
   "metadata": {},
   "source": [
    " ## Data type\n",
    "  **Every value in Python has a datatype**. **Since everything is an object in Python programming**, data types are actually classes and variables are instance (object) of these classes.\n",
    "  \n",
    "\n",
    "    Integers                 -2, -1, 0, 1, 2, 3, 4, 5\n",
    "    Floating-point numbers   -1.25, -1.0, ‑-0.5, 0.0, 0.5, 1.0, 1.25\n",
    "    Strings                  'a', 'aa', 'aaa', 'Hello!', '11 cats\n",
    "    complex                   1+2j\n",
    "    boolean                   True, False\n",
    "    list                      [1,2,'binod']\n",
    "    tuple                     (1, 1.5, \"ML\")\n",
    "    set                       {10, 30, 20, 40, 5}\n",
    "    Dictionary                {'a': \"apple\", 'b': \"bat\"}</div><i class=\"fa fa-lightbulb-o \"></i>"
   ]
  },
  {
   "cell_type": "code",
   "execution_count": 5,
   "metadata": {},
   "outputs": [
    {
     "name": "stdout",
     "output_type": "stream",
     "text": [
      "5  is of type <class 'int'>\n"
     ]
    }
   ],
   "source": [
    "a = 5                               #data type is implicitly set to integer\n",
    "print(a, \" is of type\", type(a))"
   ]
  },
  {
   "cell_type": "code",
   "execution_count": 6,
   "metadata": {},
   "outputs": [
    {
     "name": "stdout",
     "output_type": "stream",
     "text": [
      "2.5  is of type <class 'float'>\n"
     ]
    }
   ],
   "source": [
    "a = 2.5                            #data type is changed to float\n",
    "print(a, \" is of type\", type(a))"
   ]
  },
  {
   "cell_type": "code",
   "execution_count": 7,
   "metadata": {},
   "outputs": [
    {
     "name": "stdout",
     "output_type": "stream",
     "text": [
      "(1+2j)  is complex number?\n",
      "True\n"
     ]
    }
   ],
   "source": [
    "a = 1 + 2j                          #data type is changed to complex number\n",
    "print(a, \" is complex number?\") \n",
    "print(isinstance(1+2j, complex))"
   ]
  },
  {
   "cell_type": "code",
   "execution_count": 8,
   "metadata": {},
   "outputs": [
    {
     "name": "stdout",
     "output_type": "stream",
     "text": [
      "<class 'bool'>\n"
     ]
    }
   ],
   "source": [
    "a = True                          #a is a boolean type\n",
    "print(type(a))"
   ]
  },
  {
   "cell_type": "markdown",
   "metadata": {},
   "source": [
    "**Boolean represents the truth values False and True**"
   ]
  },
  {
   "cell_type": "code",
   "execution_count": 9,
   "metadata": {},
   "outputs": [
    {
     "data": {
      "text/plain": [
       "True"
      ]
     },
     "execution_count": 9,
     "metadata": {},
     "output_type": "execute_result"
    }
   ],
   "source": [
    "a=5\n",
    "isinstance(a,int)"
   ]
  },
  {
   "cell_type": "code",
   "execution_count": 10,
   "metadata": {},
   "outputs": [
    {
     "name": "stdout",
     "output_type": "stream",
     "text": [
      "<class 'str'>\n"
     ]
    }
   ],
   "source": [
    "s = \"This is Online AI course\"\n",
    "print(type(s))"
   ]
  },
  {
   "cell_type": "markdown",
   "metadata": {},
   "source": [
    "**String is sequence of Unicode characters. We can use single quotes or double quotes to represent strings. Multi-line strings can be denoted using triple quotes, ''' or \"\"\".**\n",
    "\n",
    "A string in Python consists of a series or sequence of characters - letters, numbers, and special characters.  Strings can be indexed - often synonymously called subscripted as well. Similar to C, the first character of a string has the index 0."
   ]
  },
  {
   "cell_type": "code",
   "execution_count": 11,
   "metadata": {},
   "outputs": [
    {
     "name": "stdout",
     "output_type": "stream",
     "text": [
      "<class 'list'>\n"
     ]
    }
   ],
   "source": [
    "a = [10, 20.5, \"Hello\"]\n",
    "print(type(a))"
   ]
  },
  {
   "cell_type": "markdown",
   "metadata": {},
   "source": [
    "**List is an ordered sequence of items. It is one of the most used datatype in Python and is very flexible. All the items in a list do not need to be of the same type.\n",
    "Declaring a list is , Items separated by commas are enclosed within brackets [ ].**"
   ]
  },
  {
   "cell_type": "code",
   "execution_count": 12,
   "metadata": {},
   "outputs": [
    {
     "data": {
      "text/plain": [
       "tuple"
      ]
     },
     "execution_count": 12,
     "metadata": {},
     "output_type": "execute_result"
    }
   ],
   "source": [
    "t = (1, 1.5, \"ML\")\n",
    "type(t)"
   ]
  },
  {
   "cell_type": "markdown",
   "metadata": {},
   "source": [
    "**Tuple is an ordered sequence of items same as list.The only difference is that tuples are immutable. Tuples once created cannot be modified.**"
   ]
  },
  {
   "cell_type": "code",
   "execution_count": 13,
   "metadata": {},
   "outputs": [
    {
     "data": {
      "text/plain": [
       "set"
      ]
     },
     "execution_count": 13,
     "metadata": {},
     "output_type": "execute_result"
    }
   ],
   "source": [
    "s = {10, 30, 20, 40, 5}\n",
    "type(s)"
   ]
  },
  {
   "cell_type": "code",
   "execution_count": 14,
   "metadata": {},
   "outputs": [
    {
     "name": "stdout",
     "output_type": "stream",
     "text": [
      "{5, 40, 10, 20, 30} <class 'set'>\n"
     ]
    }
   ],
   "source": [
    "s= {10, 30, 20, 40, 5,5,30,40}   #automatically set won't consider duplicate elements\n",
    "print (s,type(s))"
   ]
  },
  {
   "cell_type": "code",
   "execution_count": 15,
   "metadata": {},
   "outputs": [
    {
     "ename": "TypeError",
     "evalue": "'set' object is not subscriptable",
     "output_type": "error",
     "traceback": [
      "\u001b[1;31m---------------------------------------------------------------------------\u001b[0m",
      "\u001b[1;31mTypeError\u001b[0m                                 Traceback (most recent call last)",
      "\u001b[1;32m<ipython-input-15-4f496a5e5d40>\u001b[0m in \u001b[0;36m<module>\u001b[1;34m\u001b[0m\n\u001b[0;32m      1\u001b[0m \u001b[0ms\u001b[0m \u001b[1;33m=\u001b[0m \u001b[1;33m{\u001b[0m\u001b[1;36m10\u001b[0m\u001b[1;33m,\u001b[0m \u001b[1;36m30\u001b[0m\u001b[1;33m,\u001b[0m \u001b[1;36m20\u001b[0m\u001b[1;33m,\u001b[0m \u001b[1;36m40\u001b[0m\u001b[1;33m,\u001b[0m \u001b[1;36m5\u001b[0m\u001b[1;33m}\u001b[0m\u001b[1;33m\u001b[0m\u001b[1;33m\u001b[0m\u001b[0m\n\u001b[1;32m----> 2\u001b[1;33m \u001b[0mprint\u001b[0m\u001b[1;33m(\u001b[0m\u001b[0ms\u001b[0m\u001b[1;33m[\u001b[0m\u001b[1;36m1\u001b[0m\u001b[1;33m]\u001b[0m\u001b[1;33m)\u001b[0m\u001b[1;33m\u001b[0m\u001b[1;33m\u001b[0m\u001b[0m\n\u001b[0m\u001b[0;32m      3\u001b[0m \u001b[1;31m#we can't print particular element in set because\u001b[0m\u001b[1;33m\u001b[0m\u001b[1;33m\u001b[0m\u001b[1;33m\u001b[0m\u001b[0m\n\u001b[0;32m      4\u001b[0m             \u001b[1;31m#it's unorder collections of items\u001b[0m\u001b[1;33m\u001b[0m\u001b[1;33m\u001b[0m\u001b[1;33m\u001b[0m\u001b[0m\n",
      "\u001b[1;31mTypeError\u001b[0m: 'set' object is not subscriptable"
     ]
    }
   ],
   "source": [
    "s = {10, 30, 20, 40, 5}\n",
    "print(s[1])\n",
    "#we can't print particular element in set because \n",
    "            #it's unorder collections of items"
   ]
  },
  {
   "cell_type": "markdown",
   "metadata": {},
   "source": [
    "**Set is an unordered collection of unique items. Set is defined by values separated by comma inside braces { }. Items in a set are not ordered.**\n",
    "\n",
    "We can perform set operations like union, intersection on two sets. Set have unique values."
   ]
  },
  {
   "cell_type": "code",
   "execution_count": 16,
   "metadata": {},
   "outputs": [
    {
     "name": "stdout",
     "output_type": "stream",
     "text": [
      "<class 'dict'>\n"
     ]
    }
   ],
   "source": [
    "d={'a': \"apple\", 'b': \"bat\"}\n",
    "print(type(d))"
   ]
  },
  {
   "cell_type": "markdown",
   "metadata": {},
   "source": [
    "**Dictionary is an unordered collection of key-value pairs. In Python, dictionaries are defined within braces {} with each item being a pair in the form key:value. Key and value can be of any type.**"
   ]
  },
  {
   "cell_type": "markdown",
   "metadata": {},
   "source": [
    "**We can convert one sequence to other**"
   ]
  },
  {
   "cell_type": "code",
   "execution_count": 17,
   "metadata": {},
   "outputs": [
    {
     "name": "stdout",
     "output_type": "stream",
     "text": [
      "<class 'list'>\n",
      "<class 'set'>\n",
      "{1, 2, 3}\n"
     ]
    }
   ],
   "source": [
    "a = [1, 2, 3]\n",
    "\n",
    "print(type(a))      #type of a is list \n",
    "\n",
    "s = set(a)          #convert list to set using set() method\n",
    "\n",
    "print(type(s))       #now type of s is set\n",
    "print(s)"
   ]
  },
  {
   "cell_type": "code",
   "execution_count": 18,
   "metadata": {},
   "outputs": [
    {
     "data": {
      "text/plain": [
       "['H', 'e', 'l', 'l', 'o']"
      ]
     },
     "execution_count": 18,
     "metadata": {},
     "output_type": "execute_result"
    }
   ],
   "source": [
    "list(\"Hello\")       #convert String to list using list() method"
   ]
  },
  {
   "cell_type": "code",
   "execution_count": 19,
   "metadata": {},
   "outputs": [
    {
     "data": {
      "text/plain": [
       "'lifesucks'"
      ]
     },
     "execution_count": 19,
     "metadata": {},
     "output_type": "execute_result"
    }
   ],
   "source": [
    "'life'+'sucks'"
   ]
  },
  {
   "cell_type": "code",
   "execution_count": 20,
   "metadata": {},
   "outputs": [
    {
     "data": {
      "text/plain": [
       "'bond007'"
      ]
     },
     "execution_count": 20,
     "metadata": {},
     "output_type": "execute_result"
    }
   ],
   "source": [
    "'bond'+'007'"
   ]
  },
  {
   "cell_type": "code",
   "execution_count": 21,
   "metadata": {},
   "outputs": [
    {
     "ename": "SyntaxError",
     "evalue": "invalid token (<ipython-input-21-85e1f809a746>, line 1)",
     "output_type": "error",
     "traceback": [
      "\u001b[1;36m  File \u001b[1;32m\"<ipython-input-21-85e1f809a746>\"\u001b[1;36m, line \u001b[1;32m1\u001b[0m\n\u001b[1;33m    'boond'+007\u001b[0m\n\u001b[1;37m              ^\u001b[0m\n\u001b[1;31mSyntaxError\u001b[0m\u001b[1;31m:\u001b[0m invalid token\n"
     ]
    }
   ],
   "source": [
    "'boond'+007"
   ]
  },
  {
   "cell_type": "code",
   "execution_count": 22,
   "metadata": {},
   "outputs": [
    {
     "data": {
      "text/plain": [
       "'LifeLifeLifeLifeLife'"
      ]
     },
     "execution_count": 22,
     "metadata": {},
     "output_type": "execute_result"
    }
   ],
   "source": [
    "'Life'*5"
   ]
  },
  {
   "cell_type": "markdown",
   "metadata": {},
   "source": [
    "**The * operator can be used with only two numeric values (for multiplication)\n",
    "or one string value and one integer value (for string replication).\n",
    "Otherwise, Python will just display an error message. eg-**"
   ]
  },
  {
   "cell_type": "code",
   "execution_count": 23,
   "metadata": {},
   "outputs": [
    {
     "ename": "TypeError",
     "evalue": "can't multiply sequence by non-int of type 'str'",
     "output_type": "error",
     "traceback": [
      "\u001b[1;31m---------------------------------------------------------------------------\u001b[0m",
      "\u001b[1;31mTypeError\u001b[0m                                 Traceback (most recent call last)",
      "\u001b[1;32m<ipython-input-23-f778a72e26f9>\u001b[0m in \u001b[0;36m<module>\u001b[1;34m\u001b[0m\n\u001b[1;32m----> 1\u001b[1;33m \u001b[1;34m'life'\u001b[0m\u001b[1;33m*\u001b[0m\u001b[1;34m'sucks'\u001b[0m\u001b[1;33m\u001b[0m\u001b[1;33m\u001b[0m\u001b[0m\n\u001b[0m",
      "\u001b[1;31mTypeError\u001b[0m: can't multiply sequence by non-int of type 'str'"
     ]
    }
   ],
   "source": [
    "'life'*'sucks'"
   ]
  },
  {
   "cell_type": "code",
   "execution_count": 24,
   "metadata": {},
   "outputs": [
    {
     "ename": "TypeError",
     "evalue": "can't multiply sequence by non-int of type 'float'",
     "output_type": "error",
     "traceback": [
      "\u001b[1;31m---------------------------------------------------------------------------\u001b[0m",
      "\u001b[1;31mTypeError\u001b[0m                                 Traceback (most recent call last)",
      "\u001b[1;32m<ipython-input-24-4319b9def653>\u001b[0m in \u001b[0;36m<module>\u001b[1;34m\u001b[0m\n\u001b[1;32m----> 1\u001b[1;33m \u001b[1;34m'life'\u001b[0m\u001b[1;33m*\u001b[0m\u001b[1;36m5.0\u001b[0m\u001b[1;33m\u001b[0m\u001b[1;33m\u001b[0m\u001b[0m\n\u001b[0m",
      "\u001b[1;31mTypeError\u001b[0m: can't multiply sequence by non-int of type 'float'"
     ]
    }
   ],
   "source": [
    "'life'*5.0"
   ]
  },
  {
   "cell_type": "code",
   "execution_count": 25,
   "metadata": {},
   "outputs": [
    {
     "name": "stdout",
     "output_type": "stream",
     "text": [
      "Congratulations, satish! You just wrote 100 lines of code\n"
     ]
    }
   ],
   "source": [
    "user = \"satish\"\n",
    "lines = 100\n",
    "\n",
    "print(\"Congratulations, \" + user + \"! You just wrote \" + str(lines) + \" lines of code\" )\n",
    "#remove str and gives error"
   ]
  },
  {
   "cell_type": "markdown",
   "metadata": {},
   "source": [
    "## Storing Values in Variables\n"
   ]
  },
  {
   "cell_type": "code",
   "execution_count": 26,
   "metadata": {},
   "outputs": [
    {
     "data": {
      "text/plain": [
       "42"
      ]
     },
     "execution_count": 26,
     "metadata": {},
     "output_type": "execute_result"
    }
   ],
   "source": [
    "spam=42\n",
    "spam"
   ]
  },
  {
   "cell_type": "code",
   "execution_count": 27,
   "metadata": {},
   "outputs": [
    {
     "data": {
      "text/plain": [
       "5"
      ]
     },
     "execution_count": 27,
     "metadata": {},
     "output_type": "execute_result"
    }
   ],
   "source": [
    "mail=5\n",
    "mail"
   ]
  },
  {
   "cell_type": "code",
   "execution_count": 28,
   "metadata": {},
   "outputs": [
    {
     "data": {
      "text/plain": [
       "47"
      ]
     },
     "execution_count": 28,
     "metadata": {},
     "output_type": "execute_result"
    }
   ],
   "source": [
    "spam+mail"
   ]
  },
  {
   "cell_type": "code",
   "execution_count": 29,
   "metadata": {},
   "outputs": [
    {
     "data": {
      "text/plain": [
       "52"
      ]
     },
     "execution_count": 29,
     "metadata": {},
     "output_type": "execute_result"
    }
   ],
   "source": [
    "spam+mail+mail"
   ]
  },
  {
   "cell_type": "markdown",
   "metadata": {},
   "source": [
    "#### Multiple Assignments"
   ]
  },
  {
   "cell_type": "code",
   "execution_count": 30,
   "metadata": {},
   "outputs": [],
   "source": [
    "#We use the assignment operator (=) to assign values to a variable\n",
    "\n",
    "a = 10\n",
    "b = 5.5\n",
    "c = \"ML\""
   ]
  },
  {
   "cell_type": "code",
   "execution_count": 31,
   "metadata": {},
   "outputs": [
    {
     "name": "stdout",
     "output_type": "stream",
     "text": [
      "10 5.5 ML\n"
     ]
    }
   ],
   "source": [
    "a, b, c = 10, 5.5, \"ML\" # Multiple Assignments\n",
    "print(a,b,c)"
   ]
  },
  {
   "cell_type": "code",
   "execution_count": 32,
   "metadata": {},
   "outputs": [
    {
     "name": "stdout",
     "output_type": "stream",
     "text": [
      "140703233909200\n"
     ]
    }
   ],
   "source": [
    "x = 3\n",
    "\n",
    "print(id(x))               #print address of variable x"
   ]
  },
  {
   "cell_type": "code",
   "execution_count": 33,
   "metadata": {},
   "outputs": [
    {
     "name": "stdout",
     "output_type": "stream",
     "text": [
      "140703233909200\n"
     ]
    }
   ],
   "source": [
    "y = 3\n",
    "\n",
    "print(id(y))               #print address of variable y"
   ]
  },
  {
   "cell_type": "markdown",
   "metadata": {},
   "source": [
    "**Observation:**\n",
    "x and y points to same memory location"
   ]
  },
  {
   "cell_type": "code",
   "execution_count": 34,
   "metadata": {},
   "outputs": [
    {
     "name": "stdout",
     "output_type": "stream",
     "text": [
      "140703233909168\n"
     ]
    }
   ],
   "source": [
    "y = 2\n",
    "print(id(y))               #print address of variable y"
   ]
  },
  {
   "cell_type": "markdown",
   "metadata": {},
   "source": [
    "### Variable Names\n",
    "You can name a variable anything as long as it obeys the following three rules:\n",
    "    1. It can be only one word.\n",
    "    2. It can use only letters, numbers, and the underscore (_) character.\n",
    "    3. It can’t begin with a number.\n",
    "    \n",
    "#### Valid variable names________________Invalid variable names\n",
    "\n",
    "     balance                               current-balance (hyphens are not allowed)\n",
    "     currentBalance                        current balance (spaces are not allowed)\n",
    "     current_balance                       4account (can’t begin with a number)\n",
    "     _spam                                 42 (can’t begin with a number)\n",
    "     SPAM                                  total_$um (special characters like $ are not allowed)\n",
    "     account4                             'hello' (special characters like ' are not allowed)\n",
    "\n",
    "**Variable names are case-sensitive, meaning that spam, SPAM, Spam, and sPaM are four different variables. It is a Python convention to start your variables with a lowercase letter.**"
   ]
  },
  {
   "cell_type": "markdown",
   "metadata": {},
   "source": [
    "## First Program"
   ]
  },
  {
   "cell_type": "code",
   "execution_count": 35,
   "metadata": {},
   "outputs": [
    {
     "name": "stdout",
     "output_type": "stream",
     "text": [
      "hello world\n",
      "what is your name:\n",
      "pky\n",
      "its good to meet you pky\n",
      "length pf your name:\n",
      "3\n",
      "whats your age\n",
      "25\n",
      "your age will be 26 in one year\n"
     ]
    }
   ],
   "source": [
    "print('hello world')\n",
    "print('what is your name:')\n",
    "myName= input()\n",
    "print('its good to meet you '+ myName)\n",
    "print('length pf your name:')\n",
    "print(len(myName))\n",
    "print('whats your age')\n",
    "age= input()\n",
    "print('your age will be ' + str(int(age)+1) +  ' in one year')\n"
   ]
  },
  {
   "cell_type": "markdown",
   "metadata": {},
   "source": [
    "## Comments\n",
    "Python ignores comments, and you can use them to write notes or remind yourself what the code is trying to do. Any text for the rest of the line following a hash mark (#) is part of a comment. Sometimes, programmers will put a # in front of a line of code to temporarily remove it while testing a program. This is called commenting out code, and it can be useful when you’re trying to figure out why a program doesn’t work. You can remove the # later when you are ready to put the line back in.\n",
    "Python also ignores the blank line after the comment. You can add as many blank lines to your program as you want. This can make your code easier to read, like paragraphs in a book.\n",
    "#This program says hello and asks for my name."
   ]
  },
  {
   "cell_type": "markdown",
   "metadata": {},
   "source": [
    "## The print() Function\n",
    "The print() function displays the string value inside the parentheses on the screen.\n",
    "You can also use this function to put a blank line on the screen; just call print() with\n",
    "nothing in between the parentheses."
   ]
  },
  {
   "cell_type": "code",
   "execution_count": 36,
   "metadata": {},
   "outputs": [
    {
     "name": "stdout",
     "output_type": "stream",
     "text": [
      "Hello World\n"
     ]
    }
   ],
   "source": [
    "print(\"Hello World\")"
   ]
  },
  {
   "cell_type": "code",
   "execution_count": 37,
   "metadata": {},
   "outputs": [
    {
     "name": "stdout",
     "output_type": "stream",
     "text": [
      "The value of a is 10\n",
      "The value of a is 10\n"
     ]
    }
   ],
   "source": [
    "a = 10\n",
    "print(\"The value of a is\", a) #python 3\n",
    "print (\"The value of a is \" + str(a))"
   ]
  },
  {
   "cell_type": "markdown",
   "metadata": {},
   "source": [
    "## The input() Function\n",
    "The input() function waits for the user to type some text on the keyboard and press enter.\n",
    "myName = input()"
   ]
  },
  {
   "cell_type": "code",
   "execution_count": 38,
   "metadata": {},
   "outputs": [
    {
     "name": "stdout",
     "output_type": "stream",
     "text": [
      "Enter a number: 25\n",
      "25\n"
     ]
    }
   ],
   "source": [
    "num = input(\"Enter a number: \")\n",
    "print (num)"
   ]
  },
  {
   "cell_type": "markdown",
   "metadata": {},
   "source": [
    "### Taking multiple inputs\n",
    "\n",
    "**Using split() method :**\n",
    "\n",
    "    input().split(separator, maxsplit)"
   ]
  },
  {
   "cell_type": "code",
   "execution_count": 22,
   "metadata": {
    "ExecuteTime": {
     "end_time": "2020-10-25T09:10:34.202984Z",
     "start_time": "2020-10-25T09:09:56.455751Z"
    }
   },
   "outputs": [
    {
     "name": "stdout",
     "output_type": "stream",
     "text": [
      "Enter a two value: 5 6\n",
      "Number of boys:  5\n",
      "Number of girls:  6\n",
      "\n",
      "Enter a three value: 5 9 8\n",
      "Total number of students:  5\n",
      "Number of boys is :  9\n",
      "Number of girls is :  8\n",
      "\n",
      "Enter a two value: 45 96\n",
      "First number is 45 and second number is 96\n",
      "\n",
      "Enter a multiple value: 45 52 56\n",
      "List of students:  [45, 52, 56]\n"
     ]
    }
   ],
   "source": [
    "# Python program showing how to\n",
    "# multiple input using split\n",
    "\n",
    "# taking two inputs at a time\n",
    "x, y = input(\"Enter a two value: \").split()\n",
    "print(\"Number of boys: \", x)\n",
    "print(\"Number of girls: \", y)\n",
    "print()\n",
    "\n",
    "# taking three inputs at a time\n",
    "x, y, z = input(\"Enter a three value: \").split()\n",
    "print(\"Total number of students: \", x)\n",
    "print(\"Number of boys is : \", y)\n",
    "print(\"Number of girls is : \", z)\n",
    "print()\n",
    "\n",
    "# taking two inputs at a time\n",
    "a, b = input(\"Enter a two value: \").split()\n",
    "print(\"First number is {} and second number is {}\".format(a, b))\n",
    "print()\n",
    "\n",
    "# taking multiple inputs at a time\n",
    "# and type casting using list() function\n",
    "x = list(map(int, input(\"Enter a multiple value: \").split()))\n",
    "print(\"List of students: \", x)"
   ]
  },
  {
   "cell_type": "markdown",
   "metadata": {},
   "source": [
    "**Using List comprehension :** "
   ]
  },
  {
   "cell_type": "code",
   "execution_count": 25,
   "metadata": {
    "ExecuteTime": {
     "end_time": "2020-10-25T09:11:53.008329Z",
     "start_time": "2020-10-25T09:11:25.886472Z"
    }
   },
   "outputs": [
    {
     "name": "stdout",
     "output_type": "stream",
     "text": [
      "Enter two value: 5 8\n",
      "First Number is:  5\n",
      "Second Number is:  8\n",
      "\n",
      "Enter three value: 8 7 5\n",
      "First Number is:  8\n",
      "Second Number is:  7\n",
      "Third Number is:  5\n",
      "\n",
      "Enter two value: 56 223\n",
      "First number is 56 and second number is 223\n",
      "\n",
      "Enter multiple value: 556 25 89\n",
      "Number of list is:  [556, 25, 89]\n"
     ]
    }
   ],
   "source": [
    "# Python program showing\n",
    "# how to take multiple input\n",
    "# using List comprehension\n",
    "\n",
    "# taking two input at a time\n",
    "x, y = [int(x) for x in input(\"Enter two value: \").split()]\n",
    "print(\"First Number is: \", x)\n",
    "print(\"Second Number is: \", y)\n",
    "print()\n",
    "\n",
    "# taking three input at a time\n",
    "x, y, z = [int(x) for x in input(\"Enter three value: \").split()]\n",
    "print(\"First Number is: \", x)\n",
    "print(\"Second Number is: \", y)\n",
    "print(\"Third Number is: \", z)\n",
    "print()\n",
    "\n",
    "# taking two inputs at a time\n",
    "x, y = [int(x) for x in input(\"Enter two value: \").split()]\n",
    "print(\"First number is {} and second number is {}\".format(x, y))\n",
    "print()\n",
    "\n",
    "# taking multiple inputs at a time\n",
    "x = [int(x) for x in input(\"Enter multiple value: \").split()]\n",
    "print(\"Number of list is: \", x)"
   ]
  },
  {
   "cell_type": "markdown",
   "metadata": {},
   "source": [
    "**Note : The above examples take input separated by spaces. In case we wish to take input separated by comma (, ), we can use following:**"
   ]
  },
  {
   "cell_type": "code",
   "execution_count": 27,
   "metadata": {
    "ExecuteTime": {
     "end_time": "2020-10-25T09:13:58.473802Z",
     "start_time": "2020-10-25T09:13:47.742736Z"
    }
   },
   "outputs": [
    {
     "name": "stdout",
     "output_type": "stream",
     "text": [
      "Enter multiple value: 5,6,9,223\n",
      "Number of list is:  [5, 6, 9, 223]\n"
     ]
    }
   ],
   "source": [
    "# taking multiple inputs at a time separated by comma\n",
    "x = [int(x) for x in input(\"Enter multiple value: \").split(\",\")]\n",
    "print(\"Number of list is: \", x) "
   ]
  },
  {
   "cell_type": "markdown",
   "metadata": {},
   "source": [
    "## The len() Function\n",
    "You can pass the len() function a string value (or a variable containing a string), and the function evaluates to the integer value of the number of characters in that string."
   ]
  },
  {
   "cell_type": "code",
   "execution_count": 39,
   "metadata": {},
   "outputs": [
    {
     "data": {
      "text/plain": [
       "5"
      ]
     },
     "execution_count": 39,
     "metadata": {},
     "output_type": "execute_result"
    }
   ],
   "source": [
    "len('hello')"
   ]
  },
  {
   "cell_type": "code",
   "execution_count": 40,
   "metadata": {},
   "outputs": [
    {
     "data": {
      "text/plain": [
       "10"
      ]
     },
     "execution_count": 40,
     "metadata": {},
     "output_type": "execute_result"
    }
   ],
   "source": [
    "len('life sucks')"
   ]
  },
  {
   "cell_type": "code",
   "execution_count": 41,
   "metadata": {},
   "outputs": [
    {
     "data": {
      "text/plain": [
       "0"
      ]
     },
     "execution_count": 41,
     "metadata": {},
     "output_type": "execute_result"
    }
   ],
   "source": [
    "len('')"
   ]
  },
  {
   "cell_type": "code",
   "execution_count": 42,
   "metadata": {},
   "outputs": [
    {
     "data": {
      "text/plain": [
       "1"
      ]
     },
     "execution_count": 42,
     "metadata": {},
     "output_type": "execute_result"
    }
   ],
   "source": [
    "len(' ')"
   ]
  },
  {
   "cell_type": "markdown",
   "metadata": {},
   "source": [
    "## The str(), int(), and float() Functions\n",
    "If you want to concatenate an integer such as 29 with a string to pass to print(), you’ll need to get the value '29', which is the string form of 29. The str() function can be passed an integer value and will evaluate to a string value version of it, as follows:"
   ]
  },
  {
   "cell_type": "code",
   "execution_count": 43,
   "metadata": {},
   "outputs": [
    {
     "data": {
      "text/plain": [
       "'29'"
      ]
     },
     "execution_count": 43,
     "metadata": {},
     "output_type": "execute_result"
    }
   ],
   "source": [
    "str(29)"
   ]
  },
  {
   "cell_type": "code",
   "execution_count": 44,
   "metadata": {},
   "outputs": [
    {
     "name": "stdout",
     "output_type": "stream",
     "text": [
      "i have 29 cows\n"
     ]
    }
   ],
   "source": [
    "print('i have ' +str(29)+ ' cows')"
   ]
  },
  {
   "cell_type": "code",
   "execution_count": 45,
   "metadata": {},
   "outputs": [
    {
     "name": "stdout",
     "output_type": "stream",
     "text": [
      "The value of a is 10\n",
      "The value of a is 10\n"
     ]
    }
   ],
   "source": [
    "a = 10\n",
    "print(\"The value of a is\", a) #python 3\n",
    "print (\"The value of a is \" + str(a))"
   ]
  },
  {
   "cell_type": "code",
   "execution_count": 46,
   "metadata": {},
   "outputs": [
    {
     "data": {
      "text/plain": [
       "'10.62'"
      ]
     },
     "execution_count": 46,
     "metadata": {},
     "output_type": "execute_result"
    }
   ],
   "source": [
    "str(10.62)"
   ]
  },
  {
   "cell_type": "code",
   "execution_count": 47,
   "metadata": {},
   "outputs": [
    {
     "data": {
      "text/plain": [
       "10"
      ]
     },
     "execution_count": 47,
     "metadata": {},
     "output_type": "execute_result"
    }
   ],
   "source": [
    "int(10.62)"
   ]
  },
  {
   "cell_type": "code",
   "execution_count": 48,
   "metadata": {},
   "outputs": [
    {
     "data": {
      "text/plain": [
       "10.0"
      ]
     },
     "execution_count": 48,
     "metadata": {},
     "output_type": "execute_result"
    }
   ],
   "source": [
    "float(10)"
   ]
  },
  {
   "cell_type": "code",
   "execution_count": 49,
   "metadata": {},
   "outputs": [
    {
     "data": {
      "text/plain": [
       "10"
      ]
     },
     "execution_count": 49,
     "metadata": {},
     "output_type": "execute_result"
    }
   ],
   "source": [
    "int('10')"
   ]
  },
  {
   "cell_type": "code",
   "execution_count": 50,
   "metadata": {
    "scrolled": false
   },
   "outputs": [
    {
     "ename": "ValueError",
     "evalue": "invalid literal for int() with base 10: '10.5'",
     "output_type": "error",
     "traceback": [
      "\u001b[1;31m---------------------------------------------------------------------------\u001b[0m",
      "\u001b[1;31mValueError\u001b[0m                                Traceback (most recent call last)",
      "\u001b[1;32m<ipython-input-50-6cc59efdcec3>\u001b[0m in \u001b[0;36m<module>\u001b[1;34m\u001b[0m\n\u001b[1;32m----> 1\u001b[1;33m \u001b[0mint\u001b[0m\u001b[1;33m(\u001b[0m\u001b[1;34m'10.5'\u001b[0m\u001b[1;33m)\u001b[0m\u001b[1;33m\u001b[0m\u001b[1;33m\u001b[0m\u001b[0m\n\u001b[0m",
      "\u001b[1;31mValueError\u001b[0m: invalid literal for int() with base 10: '10.5'"
     ]
    }
   ],
   "source": [
    "int('10.5')"
   ]
  },
  {
   "cell_type": "markdown",
   "metadata": {},
   "source": [
    "#### Text and Number Equivalence\n",
    "Although the string value of a number is considered a completely different\n",
    "value from the integer or floating-point version, an integer can be equal to a\n",
    "floating point.\n",
    "\n",
    "    42 == '42'\n",
    "    False\n",
    "    True\n",
    "    42.0 == 0042.000\n",
    "    True\n",
    "\n",
    "Python makes this distinction because strings are text, while integers and\n",
    "floats are both numbers."
   ]
  },
  {
   "cell_type": "code",
   "execution_count": 51,
   "metadata": {},
   "outputs": [
    {
     "data": {
      "text/plain": [
       "8.965"
      ]
     },
     "execution_count": 51,
     "metadata": {},
     "output_type": "execute_result"
    }
   ],
   "source": [
    "round(8.96538,3)"
   ]
  },
  {
   "cell_type": "code",
   "execution_count": 52,
   "metadata": {},
   "outputs": [
    {
     "data": {
      "text/plain": [
       "8.93"
      ]
     },
     "execution_count": 52,
     "metadata": {},
     "output_type": "execute_result"
    }
   ],
   "source": [
    "round(8.9321,2)"
   ]
  },
  {
   "cell_type": "markdown",
   "metadata": {},
   "source": [
    " ## Output Formatting\n"
   ]
  },
  {
   "cell_type": "code",
   "execution_count": 53,
   "metadata": {},
   "outputs": [
    {
     "name": "stdout",
     "output_type": "stream",
     "text": [
      "The value of a is 10 and b is 20\n"
     ]
    }
   ],
   "source": [
    "a = 10; b = 20 #multiple statements in single line.\n",
    "\n",
    "print(\"The value of a is {} and b is {}\".format(a, b))    #default"
   ]
  },
  {
   "cell_type": "code",
   "execution_count": 54,
   "metadata": {},
   "outputs": [
    {
     "name": "stdout",
     "output_type": "stream",
     "text": [
      "The value of b is 20 and a is 10\n"
     ]
    }
   ],
   "source": [
    "a = 10; b = 20  #multiple statements in single line\n",
    "\n",
    "print(\"The value of b is {1} and a is {0}\".format(a, b)) #specify position of arguments"
   ]
  },
  {
   "cell_type": "code",
   "execution_count": 55,
   "metadata": {},
   "outputs": [
    {
     "name": "stdout",
     "output_type": "stream",
     "text": [
      "Hello satish, Good Morning\n"
     ]
    }
   ],
   "source": [
    "#we can use keyword arguments to format the string\n",
    "\n",
    "print(\"Hello {name}, {greeting}\".format(name=\"satish\", greeting=\"Good Morning\"))"
   ]
  },
  {
   "cell_type": "code",
   "execution_count": 56,
   "metadata": {},
   "outputs": [
    {
     "name": "stdout",
     "output_type": "stream",
     "text": [
      "The story of Bill, Manfred, and Georg\n"
     ]
    }
   ],
   "source": [
    "#we can combine positional arguments with keyword arguments\n",
    "\n",
    "print('The story of {0}, {1}, and {other}'.format('Bill', 'Manfred',other='Georg'))"
   ]
  },
  {
   "cell_type": "code",
   "execution_count": 17,
   "metadata": {
    "ExecuteTime": {
     "end_time": "2020-10-25T08:50:16.812867Z",
     "start_time": "2020-10-25T08:50:16.794916Z"
    }
   },
   "outputs": [
    {
     "name": "stdout",
     "output_type": "stream",
     "text": [
      "GFG\n",
      "09-12-2016\n",
      "pratik@geeksforgeeks\n"
     ]
    }
   ],
   "source": [
    "#code for disabling the softspace feature \n",
    "print('G','F','G', sep='') \n",
    "\n",
    "#for formatting a date \n",
    "print('09','12','2016', sep='-') \n",
    "\n",
    "#another example \n",
    "print('pratik','geeksforgeeks', sep='@') \n"
   ]
  },
  {
   "cell_type": "code",
   "execution_count": 18,
   "metadata": {
    "ExecuteTime": {
     "end_time": "2020-10-25T08:51:59.976415Z",
     "start_time": "2020-10-25T08:51:59.961481Z"
    }
   },
   "outputs": [
    {
     "name": "stdout",
     "output_type": "stream",
     "text": [
      "Welcome to GeeksforGeeks "
     ]
    }
   ],
   "source": [
    "# This Python program must be run with \n",
    "# Python 3 as it won't work with 2.7. \n",
    "\n",
    "# ends the output with a <space> \n",
    "print(\"Welcome to\" , end = ' ') \n",
    "print(\"GeeksforGeeks\", end = ' ') \n"
   ]
  },
  {
   "cell_type": "code",
   "execution_count": 19,
   "metadata": {
    "ExecuteTime": {
     "end_time": "2020-10-25T08:52:35.876944Z",
     "start_time": "2020-10-25T08:52:35.856738Z"
    }
   },
   "outputs": [
    {
     "name": "stdout",
     "output_type": "stream",
     "text": [
      "GFG\n",
      "09-12\n",
      "prtkagarwal@geeksforgeeks\n"
     ]
    }
   ],
   "source": [
    "print('G','F', sep='', end='') \n",
    "print('G') \n",
    "#\\n provides new line after printing the year \n",
    "print('09','12', sep='-', end='\\n') \n",
    "\n",
    "print('prtk','agarwal', sep='', end='@') \n",
    "print('geeksforgeeks') \n"
   ]
  },
  {
   "cell_type": "code",
   "execution_count": 20,
   "metadata": {
    "ExecuteTime": {
     "end_time": "2020-10-25T08:53:29.950219Z",
     "start_time": "2020-10-25T08:53:29.785220Z"
    }
   },
   "outputs": [
    {
     "name": "stdout",
     "output_type": "stream",
     "text": [
      "Geeks :  1, Portal :  5.33\n",
      "Total students :  240, Boys :  120\n",
      "    031\n",
      " 3.561E+02\n"
     ]
    }
   ],
   "source": [
    "# Python program showing how to use\n",
    "# string modulo operator(%) to print\n",
    "# fancier output\n",
    "\n",
    "# print integer and float value\n",
    "print(\"Geeks : % 2d, Portal : % 5.2f\" %(1, 05.333)) \n",
    "\n",
    "# print integer value\n",
    "print(\"Total students : % 3d, Boys : % 2d\" %(240, 120))\n",
    "\n",
    "# print octal value\n",
    "print(\"% 7.3o\"% (25))\n",
    "\n",
    "# print exponential value\n",
    "print(\"% 10.3E\"% (356.08977))\n"
   ]
  },
  {
   "cell_type": "markdown",
   "metadata": {},
   "source": [
    "**Let’s take a look at the placeholders in our example.**\n",
    "\n",
    "     %[flags][width][.precision]type \n",
    "The first placeholder “%2d” is used for the first component of our tuple, i.e. the integer 1. The number will be printed with 2 characters. As 1 consists only of one digit, the output is padded with 1 leading blanks.\n",
    "\n",
    "The second one “%5.2f” is a format description for a float number. Like other placeholders, it is introduced with the % character. This is followed by the total number of digits the string should contain. This number includes the decimal point and all the digits, i.e. before and after the decimal point.\n",
    "\n",
    "Our float number 05.333 has to be formatted with 5 characters. The decimal part of the number or the precision is set to 2, i.e. the number following the “.” in our placeholder. Finally, the last character “f” of our placeholder stands for “float”."
   ]
  },
  {
   "cell_type": "code",
   "execution_count": 21,
   "metadata": {
    "ExecuteTime": {
     "end_time": "2020-10-25T09:02:16.851375Z",
     "start_time": "2020-10-25T09:02:16.804479Z"
    }
   },
   "outputs": [
    {
     "name": "stdout",
     "output_type": "stream",
     "text": [
      "Number one portal is Geeks, For, and Geeks.\n",
      "Geeks :12, Portal :    0.55\n",
      "Second argument:  11, first one:   47.42\n",
      "Geeks:   453, Portal:    59.06\n"
     ]
    }
   ],
   "source": [
    "# Python program showing\n",
    "# a use of format() method\n",
    "\n",
    "# combining positional and keyword arguments\n",
    "print('Number one portal is {0}, {1}, and {other}.'.format('Geeks','For',other='Geeks'))\n",
    "\n",
    "# using format() method with number\n",
    "print(\"Geeks :{0:2d}, Portal :{1:8.2f}\".format(12, 00.546))\n",
    "\n",
    "# Changing positional argument\n",
    "print(\"Second argument: {1:3d}, first one: {0:7.2f}\".format(47.42, 11))\n",
    "\n",
    "print(\"Geeks: {a:5d}, Portal: {p:8.2f}\".format(a=453, p=59.058))"
   ]
  },
  {
   "cell_type": "markdown",
   "metadata": {},
   "source": [
    "# Flow Control"
   ]
  },
  {
   "cell_type": "markdown",
   "metadata": {},
   "source": [
    "#### Comparison Operators\n",
    "\n",
    "Operator      Meaning\n",
    "    ==      Equal to\n",
    "    !=      Not equal to\n",
    "    <       Less than\n",
    "    >       Greater than\n",
    "    <=      Less than or equal to\n",
    "    >=      Greater than or equal to"
   ]
  },
  {
   "cell_type": "code",
   "execution_count": 57,
   "metadata": {},
   "outputs": [
    {
     "data": {
      "text/plain": [
       "False"
      ]
     },
     "execution_count": 57,
     "metadata": {},
     "output_type": "execute_result"
    }
   ],
   "source": [
    "42==56"
   ]
  },
  {
   "cell_type": "code",
   "execution_count": 58,
   "metadata": {},
   "outputs": [
    {
     "data": {
      "text/plain": [
       "True"
      ]
     },
     "execution_count": 58,
     "metadata": {},
     "output_type": "execute_result"
    }
   ],
   "source": [
    "42==7*6"
   ]
  },
  {
   "cell_type": "code",
   "execution_count": 59,
   "metadata": {},
   "outputs": [
    {
     "data": {
      "text/plain": [
       "True"
      ]
     },
     "execution_count": 59,
     "metadata": {},
     "output_type": "execute_result"
    }
   ],
   "source": [
    "45!=56"
   ]
  },
  {
   "cell_type": "code",
   "execution_count": 60,
   "metadata": {},
   "outputs": [
    {
     "data": {
      "text/plain": [
       "True"
      ]
     },
     "execution_count": 60,
     "metadata": {},
     "output_type": "execute_result"
    }
   ],
   "source": [
    "45>=23"
   ]
  },
  {
   "cell_type": "code",
   "execution_count": 61,
   "metadata": {},
   "outputs": [
    {
     "data": {
      "text/plain": [
       "False"
      ]
     },
     "execution_count": 61,
     "metadata": {},
     "output_type": "execute_result"
    }
   ],
   "source": [
    "42=='42'"
   ]
  },
  {
   "cell_type": "code",
   "execution_count": 62,
   "metadata": {},
   "outputs": [
    {
     "data": {
      "text/plain": [
       "False"
      ]
     },
     "execution_count": 62,
     "metadata": {},
     "output_type": "execute_result"
    }
   ],
   "source": [
    "'hello'=='Hello'"
   ]
  },
  {
   "cell_type": "markdown",
   "metadata": {},
   "source": [
    "### The Difference Between the == and = Op erators\n",
    "\n",
    "You might have noticed that the == operator (equal to) has two equal signs, while the = operator (assignment) has just one equal sign. It’s easy to confuse these two operators with each other. Just remember these points:\n",
    "\n",
    "    • The == operator (equal to) asks whether two values are the same as each other.\n",
    "    • The = operator (assignment) puts the value on the right into the variable on the left.\n",
    "\n",
    "To help remember which is which, notice that the == operator (equal to) consists of two characters, just like the != operator (not equal to) consists of two characters.\n",
    "\n"
   ]
  },
  {
   "cell_type": "markdown",
   "metadata": {},
   "source": [
    "## Boolean (Logical) Operators\n",
    "\n",
    "The three Boolean operators **(and, or, and not)** are used to compare Boolean\n",
    "values. Like comparison operators, they evaluate these expressions down\n",
    "to a Boolean value."
   ]
  },
  {
   "cell_type": "code",
   "execution_count": 63,
   "metadata": {},
   "outputs": [
    {
     "data": {
      "text/plain": [
       "True"
      ]
     },
     "execution_count": 63,
     "metadata": {},
     "output_type": "execute_result"
    }
   ],
   "source": [
    "True and True"
   ]
  },
  {
   "cell_type": "code",
   "execution_count": 64,
   "metadata": {},
   "outputs": [
    {
     "data": {
      "text/plain": [
       "False"
      ]
     },
     "execution_count": 64,
     "metadata": {},
     "output_type": "execute_result"
    }
   ],
   "source": [
    "True and False"
   ]
  },
  {
   "cell_type": "code",
   "execution_count": 65,
   "metadata": {},
   "outputs": [
    {
     "data": {
      "text/plain": [
       "False"
      ]
     },
     "execution_count": 65,
     "metadata": {},
     "output_type": "execute_result"
    }
   ],
   "source": [
    "False and False"
   ]
  },
  {
   "cell_type": "code",
   "execution_count": 66,
   "metadata": {},
   "outputs": [
    {
     "data": {
      "text/plain": [
       "True"
      ]
     },
     "execution_count": 66,
     "metadata": {},
     "output_type": "execute_result"
    }
   ],
   "source": [
    "True or True"
   ]
  },
  {
   "cell_type": "code",
   "execution_count": 67,
   "metadata": {},
   "outputs": [
    {
     "data": {
      "text/plain": [
       "True"
      ]
     },
     "execution_count": 67,
     "metadata": {},
     "output_type": "execute_result"
    }
   ],
   "source": [
    "True or False"
   ]
  },
  {
   "cell_type": "code",
   "execution_count": 68,
   "metadata": {},
   "outputs": [
    {
     "data": {
      "text/plain": [
       "False"
      ]
     },
     "execution_count": 68,
     "metadata": {},
     "output_type": "execute_result"
    }
   ],
   "source": [
    "False or False"
   ]
  },
  {
   "cell_type": "code",
   "execution_count": 69,
   "metadata": {},
   "outputs": [
    {
     "data": {
      "text/plain": [
       "False"
      ]
     },
     "execution_count": 69,
     "metadata": {},
     "output_type": "execute_result"
    }
   ],
   "source": [
    "not True"
   ]
  },
  {
   "cell_type": "code",
   "execution_count": 70,
   "metadata": {},
   "outputs": [
    {
     "data": {
      "text/plain": [
       "True"
      ]
     },
     "execution_count": 70,
     "metadata": {},
     "output_type": "execute_result"
    }
   ],
   "source": [
    "not not True"
   ]
  },
  {
   "cell_type": "code",
   "execution_count": 71,
   "metadata": {},
   "outputs": [
    {
     "data": {
      "text/plain": [
       "False"
      ]
     },
     "execution_count": 71,
     "metadata": {},
     "output_type": "execute_result"
    }
   ],
   "source": [
    "(5>4) and (5>6)"
   ]
  },
  {
   "cell_type": "code",
   "execution_count": 72,
   "metadata": {},
   "outputs": [
    {
     "data": {
      "text/plain": [
       "True"
      ]
     },
     "execution_count": 72,
     "metadata": {},
     "output_type": "execute_result"
    }
   ],
   "source": [
    "(5>4) or (5>6)"
   ]
  },
  {
   "cell_type": "code",
   "execution_count": 73,
   "metadata": {},
   "outputs": [
    {
     "data": {
      "text/plain": [
       "True"
      ]
     },
     "execution_count": 73,
     "metadata": {},
     "output_type": "execute_result"
    }
   ],
   "source": [
    "2+2==4 and not 2+2==5 and 4==2*2"
   ]
  },
  {
   "cell_type": "markdown",
   "metadata": {},
   "source": [
    "## Bitwise operators\n",
    "Bitwise operators act on operands as if they were string of binary digits. It operates bit by bit\n",
    "\n",
    "    &,  |,  ~,  ^,  >>,  << are Bitwise operators"
   ]
  },
  {
   "cell_type": "code",
   "execution_count": 74,
   "metadata": {},
   "outputs": [
    {
     "name": "stdout",
     "output_type": "stream",
     "text": [
      "0\n",
      "14\n"
     ]
    }
   ],
   "source": [
    "a, b = 10, 4\n",
    "\n",
    "#Bitwise AND\n",
    "print(a & b) #10=1010, 4=0100 so 10&4(=1*0 0*1 1*0 0*0)=0\n",
    "\n",
    "#Bitwise OR\n",
    "print(a | b) #1or0 0or1 1or0 0or0=1110 in binary=14 in decimal\n",
    "\n",
    "#Bitwise NOT\n",
    "\n",
    "\n",
    "#Bitwise XOR\n",
    "\n",
    "\n",
    "#Bitwise rightshift\n",
    "\n",
    "\n",
    "#Bitwise Leftshift"
   ]
  },
  {
   "cell_type": "markdown",
   "metadata": {},
   "source": [
    "##  Identity Operators\n",
    "**is** and **is not** are the identity operators in Python. They are **used to check if two values (or variables) are located on the same part of the memory.**"
   ]
  },
  {
   "cell_type": "code",
   "execution_count": 75,
   "metadata": {},
   "outputs": [
    {
     "name": "stdout",
     "output_type": "stream",
     "text": [
      "True\n",
      "140703233909264\n",
      "140703233909264\n"
     ]
    }
   ],
   "source": [
    "a = 5\n",
    "b = 5\n",
    "print(a is b)    #5 is object created once both a and b points to same object\n",
    "\n",
    "print(id(a))                 #two values (or variables) are located on the same part of the memory.\n",
    "print(id(b))  "
   ]
  },
  {
   "cell_type": "code",
   "execution_count": 76,
   "metadata": {},
   "outputs": [
    {
     "name": "stdout",
     "output_type": "stream",
     "text": [
      "False\n",
      "1571736909192\n",
      "1571735146888\n"
     ]
    }
   ],
   "source": [
    "l1 = [1, 2, 3]\n",
    "l2 = [1, 2, 3]\n",
    "print(l1 is l2)        #two values (or variables) are located on the different part of the memory.\n",
    "\n",
    "print(id(l1))\n",
    "print(id(l2)) "
   ]
  },
  {
   "cell_type": "code",
   "execution_count": 77,
   "metadata": {},
   "outputs": [
    {
     "name": "stdout",
     "output_type": "stream",
     "text": [
      "False\n",
      "1571735124656\n",
      "1571735124656\n"
     ]
    }
   ],
   "source": [
    "s1 = \"Satish\"\n",
    "s2 = \"Satish\"           #two values (or variables) are located on the same part of the memory.\n",
    "print(s1 is not s2)\n",
    "\n",
    "print(id(s1))                \n",
    "print(id(s2)) "
   ]
  },
  {
   "cell_type": "markdown",
   "metadata": {},
   "source": [
    "## MemberShip Operators\n",
    "**in** and **not in** are the **membership operators in Python.**\n",
    "They are used to **test whether a value or variable is found in a sequence (string, list, tuple, set and dictionary).**"
   ]
  },
  {
   "cell_type": "code",
   "execution_count": 78,
   "metadata": {},
   "outputs": [
    {
     "name": "stdout",
     "output_type": "stream",
     "text": [
      "True\n"
     ]
    }
   ],
   "source": [
    "d = {1: \"a\", 2: \"b\"}\n",
    "print(1 in d)"
   ]
  },
  {
   "cell_type": "code",
   "execution_count": 79,
   "metadata": {},
   "outputs": [
    {
     "name": "stdout",
     "output_type": "stream",
     "text": [
      "True\n"
     ]
    }
   ],
   "source": [
    "d = {1: \"a\", 2: \"b\"}\n",
    "print(1 in d)"
   ]
  },
  {
   "cell_type": "markdown",
   "metadata": {},
   "source": [
    "## Elements of Flow Control\n",
    "\n",
    "Flow control statements often start with a part called the condition, and all are followed by a block of code called the clause. Before you learn about Python’s specific flow control statements, I’ll cover what a condition and a block are.\n",
    "\n",
    "### Conditions\n",
    "condition is just a more specific name in the context of flow control statements. Conditions always evaluate down to a Boolean value, True or False. A flow control statement decides what to do based on whether its condition is True or False, and almost every flow control statement uses a condition.\n",
    "\n",
    "### Blocks of Code\n",
    "Lines of Python code can be grouped together in blocks. You can tell when a block begins and ends from the indentation of the lines of code. There are three rules for blocks.\n",
    "    1. Blocks begin when the indentation increases.\n",
    "    2. Blocks can contain other blocks.\n",
    "    3. Blocks end when the indentation decreases to zero or to a containing block’s indentation.\n",
    "\n"
   ]
  },
  {
   "cell_type": "markdown",
   "metadata": {},
   "source": [
    "## Flow Control Statements\n",
    "\n",
    "### if Statements\n",
    "\n",
    "In plain English, an if statement could be read as, “If this condition is\n",
    "true, execute the code in the clause.” In Python, an if statement consists of\n",
    "the following:\n",
    "    • The if keyword\n",
    "    • A condition (that is, an expression that evaluates to True or False)\n",
    "    • A colon\n",
    "    • Starting on the next line, an indented block(or four spaces) of code (called the if clause)\n",
    "\n",
    "    if name == 'Alice':\n",
    "       print('Hi, Alice.')\n",
    "\n",
    "![title](https://cdn.programiz.com/sites/tutorial2program/files/Python_if_statement.jpg)\n",
    "\n",
    "### else Statements\n",
    "\n",
    "An if clause can optionally be followed by an else statement. The else clause is executed only when the if statement’s condition is False. In plain English, an else statement could be read as, “If this condition is true, execute this code. Or else, execute that code.” An else statement doesn’t have a condition, and in code, an else statement always consists of the following:\n",
    "• The else keyword\n",
    "• A colon\n",
    "• Starting on the next line, an indented block of code (called the else clause)\n",
    "\n",
    "    if name == 'Alice':\n",
    "        print('Hi, Alice.')\n",
    "    else:\n",
    "        print('Hello, stranger.')\n",
    "![title](https://cdn.programiz.com/sites/tutorial2program/files/Python_if_else_statement.jpg)    \n",
    "### elif Statements\n",
    "\n",
    "While only one of the if or else **(else if)** clauses will execute, you may have a case where you want one of many possible clauses to execute. The elif statement is an “else if” statement that always follows an if or another elif statement. It provides another condition that is checked only if any of the previous conditions were False. In code, an elif statement always consists of the following:\n",
    "    • The elif keyword\n",
    "    • A condition (that is, an expression that evaluates to True or False)\n",
    "    • A colon\n",
    "    • Starting on the next line, an indented block of code (called the elif clause)\n",
    "\n",
    "Let’s add an elif to the name checker to see this statement in action.\n",
    "\n",
    "    if name == 'Alice':\n",
    "        print('Hi, Alice.')\n",
    "    elif age < 12:\n",
    "        print('You are not Alice, kiddo.')\n",
    "![title](https://cdn.programiz.com/sites/tutorial2program/files/Python_if_elif_else_statement.jpg)\n",
    "This time, you check the person’s age, and the program will tell them something different if they’re younger than 12. he elif clause executes if age < 12 is True and name == 'Alice' is False. However, if both of the conditions are False, then both of the clauses are skipped. It is not guaranteed that at least one of the clauses will be executed. When there is a chain of elif statements, only one or none of the clauses will be executed. Once one of the statements’ conditions is found to be True, the rest of the elif clauses are automatically skipped.\n",
    "    \n",
    "    if name == 'Alice':\n",
    "        print('Hi, Alice.')\n",
    "    elif age < 12:\n",
    "        print('You are not Alice, kiddo.')\n",
    "    elif age > 2000:\n",
    "        print('Unlike you, Alice is not an undead, immortal vampire.')\n",
    "    elif age > 100:\n",
    "        print('You are not Alice, grannie.')\n",
    "        \n",
    "Here I’ve added two more elif statements to make the name checker greet a person with different answers based on age.\n",
    "\n",
    "Optionally, you can have an else statement after the last elif statement. In that case, it is guaranteed that at least one (and only one) of the clauses will be executed. If the conditions in every if and elif statement are False, then the else clause is executed. For example, let’s re-create the Alice program to use if, elif, and else clauses.\n",
    "\n",
    "    if name == 'Alice':\n",
    "        print('Hi, Alice.')\n",
    "    elif age < 12:\n",
    "        print('You are not Alice, kiddo.')\n",
    "    else:\n",
    "        print('You are neither Alice nor a little kid.')\n",
    "\n",
    "In plain English, this type of flow control structure would be, “If the first condition is true, do this. Else, if the second condition is true, do that. Otherwise, do something else.”\n",
    "### Nested if Statements\n",
    "We can have a if...elif...else statement inside another if...elif...else statement. This is called nesting in computer programming.\n",
    "\n",
    "    num = 10.5\n",
    "\n",
    "    if num >= 0:\n",
    "        if num == 0:\n",
    "            print(\"Zero\")\n",
    "        else:\n",
    "            print(\"Positive number\")\n",
    "    else:\n",
    "        print(\"Negative Number\")\n",
    "        \n",
    "\n",
    "### while Loop Statements\n",
    "\n",
    "You can make a block of code execute over and over again with a while statement. **The code in a while clause will be executed as long as the while statement’s condition is True.** In code, a while statement always consists of the following:\n",
    "    • The while keyword\n",
    "    • A condition (that is, an expression that evaluates to True or False)\n",
    "    • A colon\n",
    "    • Starting on the next line, an indented block of code (called the while clause)\n",
    "    \n",
    "        spam = 0\n",
    "        if spam < 5:\n",
    "            print('Hello, world.')\n",
    "            spam = spam + 1\n",
    "Here is the code with a while statement:\n",
    "\n",
    "        spam = 0\n",
    "        while spam < 5:\n",
    "            print('Hello, world.')\n",
    "            spam = spam + 1\n",
    "![title](https://cdn.programiz.com/sites/tutorial2program/files/whileLoopFlowchart.jpg)        \n",
    "These statements are similar—both if and while check the value of spam, and if it’s less than five, they print a message. But when you run these two code snippets, something very different happens for each one. For the if statement, the output is simply \"Hello, world.\". But for the while statement, it’s \"Hello, world.\" repeated five times!\n",
    "The code with the if statement checks the condition, and it prints Hello, world. only once if that condition is true. The code with the while loop, on the other hand, will print it five times. It stops after five prints because the integer in spam is incremented by one at the end of each loop iteration, which means that the loop will execute five times before spam < 5 is False."
   ]
  },
  {
   "cell_type": "code",
   "execution_count": 80,
   "metadata": {},
   "outputs": [
    {
     "name": "stdout",
     "output_type": "stream",
     "text": [
      "This will print always\n"
     ]
    }
   ],
   "source": [
    "num = 10\n",
    "\n",
    "if num > 10:                        # try 0, -1 and None\n",
    "    print(\"Number is positive\")\n",
    "print(\"This will print always\")      #This print statement always print\n",
    "\n",
    "                                    #change number "
   ]
  },
  {
   "cell_type": "code",
   "execution_count": 81,
   "metadata": {},
   "outputs": [
    {
     "name": "stdout",
     "output_type": "stream",
     "text": [
      "This will print always\n"
     ]
    }
   ],
   "source": [
    "num = 10\n",
    "\n",
    "                                      # try 0, -1 and None\n",
    "if 0:\n",
    "    print(\"Number is positive\")\n",
    "    \n",
    "print(\"This will print always\")      #This print statement always print\n"
   ]
  },
  {
   "cell_type": "code",
   "execution_count": 82,
   "metadata": {},
   "outputs": [
    {
     "name": "stdout",
     "output_type": "stream",
     "text": [
      "Number is positive\n",
      "This will print always\n"
     ]
    }
   ],
   "source": [
    "num = 10\n",
    "\n",
    "                                      # try 0, -1 and None\n",
    "if -1:\n",
    "    print(\"Number is positive\")\n",
    "    \n",
    "print(\"This will print always\")      #This print statement always print"
   ]
  },
  {
   "cell_type": "code",
   "execution_count": 83,
   "metadata": {},
   "outputs": [
    {
     "name": "stdout",
     "output_type": "stream",
     "text": [
      "This will print always\n"
     ]
    }
   ],
   "source": [
    "num = 10\n",
    "\n",
    "                                      # try 0, -1 and None\n",
    "if None:\n",
    "    print(\"Number is positive\")\n",
    "    \n",
    "print(\"This will print always\")      #This print statement always print"
   ]
  },
  {
   "cell_type": "code",
   "execution_count": 84,
   "metadata": {},
   "outputs": [
    {
     "name": "stdout",
     "output_type": "stream",
     "text": [
      "This will print always\n"
     ]
    }
   ],
   "source": [
    "num = 10\n",
    "\n",
    "                                      # try 0, -1 and None\n",
    "if False:\n",
    "    print(\"Number is positive\")\n",
    "    \n",
    "print(\"This will print always\")      #This print statement always print"
   ]
  },
  {
   "cell_type": "code",
   "execution_count": 85,
   "metadata": {},
   "outputs": [
    {
     "name": "stdout",
     "output_type": "stream",
     "text": [
      "Number is positive\n",
      "This will print always\n"
     ]
    }
   ],
   "source": [
    "num = 10\n",
    "\n",
    "                                      # try 0, -1 and None\n",
    "if True:\n",
    "    print(\"Number is positive\")\n",
    "    \n",
    "print(\"This will print always\")      #This print statement always print"
   ]
  },
  {
   "cell_type": "markdown",
   "metadata": {},
   "source": [
    "**0, None, False considered as false, everything else considered as true**"
   ]
  },
  {
   "cell_type": "code",
   "execution_count": 86,
   "metadata": {},
   "outputs": [
    {
     "name": "stdout",
     "output_type": "stream",
     "text": [
      "ZERO\n"
     ]
    }
   ],
   "source": [
    "num = 0\n",
    "\n",
    "if num > 0:\n",
    "    print(\"Positive number\")\n",
    "elif num == 0:\n",
    "    print(\"ZERO\")\n",
    "else:\n",
    "    print(\"Negative Number\")"
   ]
  },
  {
   "cell_type": "code",
   "execution_count": 87,
   "metadata": {},
   "outputs": [
    {
     "name": "stdout",
     "output_type": "stream",
     "text": [
      "Positive number\n"
     ]
    }
   ],
   "source": [
    "num = 10.5\n",
    "\n",
    "if num >= 0:\n",
    "    if num == 0:\n",
    "        print(\"Zero\")\n",
    "    else:\n",
    "        print(\"Positive number\")\n",
    "else:\n",
    "    print(\"Negative Number\")"
   ]
  },
  {
   "cell_type": "markdown",
   "metadata": {},
   "source": [
    "**Python program to find the largest element among three Numbers**"
   ]
  },
  {
   "cell_type": "code",
   "execution_count": 88,
   "metadata": {},
   "outputs": [
    {
     "name": "stdout",
     "output_type": "stream",
     "text": [
      "Largest element among three numbers is: 50\n"
     ]
    }
   ],
   "source": [
    "num1 = 10\n",
    "num2 = 50\n",
    "num3 = 15\n",
    "\n",
    "if (num1 >= num2) and (num1 >= num3):           #logical operator   and\n",
    "    largest = num1\n",
    "elif (num2 >= num1) and (num2 >= num3):\n",
    "    largest = num2\n",
    "else:\n",
    "    largest = num3\n",
    "print(\"Largest element among three numbers is: {}\".format(largest))"
   ]
  },
  {
   "cell_type": "code",
   "execution_count": 89,
   "metadata": {},
   "outputs": [
    {
     "name": "stdout",
     "output_type": "stream",
     "text": [
      "type your name\n",
      "pky\n",
      "type your name\n",
      "your name\n",
      "thank you\n"
     ]
    }
   ],
   "source": [
    "#An Annoying while Loop\n",
    "name=''   #First, the program sets the name variable to an empty string.\n",
    "while name!= 'your name':\n",
    "    print('type your name')\n",
    "    name= input()\n",
    "print('thank you')"
   ]
  },
  {
   "cell_type": "code",
   "execution_count": 90,
   "metadata": {},
   "outputs": [
    {
     "name": "stdout",
     "output_type": "stream",
     "text": [
      "Product is: 14400000\n"
     ]
    }
   ],
   "source": [
    "#Find product of all numbers present in a list\n",
    "\n",
    "lst = [10, 20, 30, 40, 60]\n",
    "\n",
    "product = 1\n",
    "index = 0\n",
    "\n",
    "while index < len(lst):\n",
    "    product *= lst[index]\n",
    "    index += 1\n",
    "\n",
    "print(\"Product is: {}\".format(product))"
   ]
  },
  {
   "cell_type": "code",
   "execution_count": 91,
   "metadata": {},
   "outputs": [
    {
     "name": "stdout",
     "output_type": "stream",
     "text": [
      "thank you\n"
     ]
    }
   ],
   "source": [
    "while name!= 'your name': #variable not set to any string so\n",
    "    print('type your name')\n",
    "    name= input()\n",
    "print('thank you')"
   ]
  },
  {
   "cell_type": "markdown",
   "metadata": {},
   "source": [
    "### while Loop with else\n",
    "Same as that of for loop, we can have an optional else block with while loop as well.\n",
    "\n",
    "The else part is executed if the condition in the while loop evaluates to False. The while loop can be terminated with a break statement.\n",
    "\n",
    "In such case, the else part is ignored. Hence, a while loop's else part runs if no break occurs and the condition is false."
   ]
  },
  {
   "cell_type": "code",
   "execution_count": 92,
   "metadata": {},
   "outputs": [
    {
     "name": "stdout",
     "output_type": "stream",
     "text": [
      "1\n",
      "2\n",
      "3\n",
      "no item left in the list\n"
     ]
    }
   ],
   "source": [
    "numbers = [1, 2, 3]\n",
    "\n",
    "#iterating over the list\n",
    "index = 0\n",
    "while index < len(numbers):\n",
    "    print(numbers[index])\n",
    "    index += 1              #IF YOU FORGET IT TO WRITE, THIS LOOP WILL KEEP RUNNING (INFNITE LOOP)\n",
    "    \n",
    "else:\n",
    "    print(\"no item left in the list\")"
   ]
  },
  {
   "cell_type": "markdown",
   "metadata": {},
   "source": [
    "#### Python Program to check given number is Prime number or not"
   ]
  },
  {
   "cell_type": "code",
   "execution_count": 93,
   "metadata": {},
   "outputs": [
    {
     "name": "stdout",
     "output_type": "stream",
     "text": [
      "Enter a number: 25\n",
      "25 is divisible by 5\n",
      "25 is NOT a Prime number\n"
     ]
    }
   ],
   "source": [
    "num = int(input(\"Enter a number: \"))        #convert string to int\n",
    "\n",
    "\n",
    "isDivisible = False;\n",
    "\n",
    "i=2;\n",
    "while i < num:\n",
    "    if num % i == 0:\n",
    "        isDivisible = True;\n",
    "        print (\"{} is divisible by {}\".format(num,i) )\n",
    "    i += 1;\n",
    "    \n",
    "if isDivisible:\n",
    "    print(\"{} is NOT a Prime number\".format(num))\n",
    "else:\n",
    "    print(\"{} is a Prime number\".format(num))\n"
   ]
  },
  {
   "cell_type": "markdown",
   "metadata": {},
   "source": [
    "###  break Statements\n",
    "In Python, break and continue statements can alter the flow of a normal loop. Loops iterate over a block of code until test expression is false, but sometimes we wish to terminate the current iteration or even the whole loop without cheking test expression.\n",
    "\n",
    "![title](https://cdn.programiz.com/sites/tutorial2program/files/flowchart-break-statement.jpg)\n",
    "There is a shortcut to getting the program execution to break out of a while loop’s clause early. If the execution reaches a break statement, it immediately exits the while loop’s clause. In code, a break statement simply contains the break keyword.\n",
    "Pretty simple, right? Here’s a program that does the same thing as the previous program, but it uses a break statement to escape the loop.\n",
    "![title](https://cdn.programiz.com/sites/tutorial2program/files/how-break-statement-works.jpg)"
   ]
  },
  {
   "cell_type": "code",
   "execution_count": 94,
   "metadata": {},
   "outputs": [
    {
     "name": "stdout",
     "output_type": "stream",
     "text": [
      "1\n",
      "2\n",
      "3\n",
      "Outside of for loop\n"
     ]
    }
   ],
   "source": [
    "numbers = [1, 2, 3, 4]\n",
    "\n",
    "for num in numbers:          #iterating over list\n",
    "    if num == 4:\n",
    "        break\n",
    "    print(num)\n",
    "    \n",
    "else:                             #else is also part of for loop\n",
    "    print(\"in the else-block\")\n",
    "    \n",
    "print(\"Outside of for loop\")"
   ]
  },
  {
   "cell_type": "markdown",
   "metadata": {},
   "source": [
    "**Python Program to check given number is Prime number or not (using break)**"
   ]
  },
  {
   "cell_type": "code",
   "execution_count": 95,
   "metadata": {},
   "outputs": [
    {
     "name": "stdout",
     "output_type": "stream",
     "text": [
      "Enter a number: 25\n",
      "25 is divisible by 5\n",
      "25 is NOT a Prime number\n"
     ]
    }
   ],
   "source": [
    "num = int(input(\"Enter a number: \"))                   #convert string to int\n",
    "\n",
    "isDivisible = False;\n",
    "i=2;\n",
    "\n",
    "while i < num:\n",
    "    if num % i == 0:\n",
    "        isDivisible = True;\n",
    "        print (\"{} is divisible by {}\".format(num,i) )\n",
    "        break;                                         # this line is the only addition. (in above program)\n",
    "    i += 1;\n",
    "    \n",
    "    \n",
    "if isDivisible:\n",
    "    print(\"{} is NOT a Prime number\".format(num))\n",
    "else:\n",
    "    print(\"{} is a Prime number\".format(num))"
   ]
  },
  {
   "cell_type": "code",
   "execution_count": 96,
   "metadata": {},
   "outputs": [
    {
     "name": "stdout",
     "output_type": "stream",
     "text": [
      "input your name\n",
      "pky\n",
      "input your name\n",
      "your name\n",
      "thank you\n"
     ]
    }
   ],
   "source": [
    "while True:\n",
    "    print('input your name')\n",
    "    name=input()\n",
    "    if name=='your name':\n",
    "        break\n",
    "print('thank you')"
   ]
  },
  {
   "cell_type": "markdown",
   "metadata": {},
   "source": [
    "### continue Statements\n",
    "![title](https://cdn.programiz.com/sites/tutorial2program/files/continue-statement-flowchart.jpg)\n",
    "Like break statements, continue statements are used inside loops. When the execution reaches a continue statement, the program execution immediately jumps back to the start of the loop and reevaluates the loop’s condition. (This is also what happens when the execution reaches the end of the loop.)\n",
    "![title](https://cdn.programiz.com/sites/tutorial2program/files/how-continue-statment-works.jpg)"
   ]
  },
  {
   "cell_type": "code",
   "execution_count": 97,
   "metadata": {},
   "outputs": [
    {
     "name": "stdout",
     "output_type": "stream",
     "text": [
      "1\n",
      "3\n",
      "5\n",
      "else-block\n"
     ]
    }
   ],
   "source": [
    "#print odd numbers present in a list\n",
    "numbers = [1, 2, 3, 4, 5]\n",
    "\n",
    "for num in numbers:\n",
    "    if num % 2 == 0:\n",
    "        continue\n",
    "    print(num)\n",
    "else:\n",
    "    print(\"else-block\")"
   ]
  },
  {
   "cell_type": "code",
   "execution_count": 98,
   "metadata": {},
   "outputs": [
    {
     "name": "stdout",
     "output_type": "stream",
     "text": [
      "who are you\n",
      "pky\n",
      "who are you\n",
      "ket\n",
      "heloo ket, what is password\n",
      "gate1\n",
      "welcome\n"
     ]
    }
   ],
   "source": [
    "while True:\n",
    "    print('who are you')\n",
    "    name= input()\n",
    "    if name!='ket':\n",
    "        continue\n",
    "    print('heloo ket, what is password')\n",
    "    pswrd=input()\n",
    "    if pswrd=='gate1':\n",
    "        break\n",
    "print('welcome')"
   ]
  },
  {
   "cell_type": "markdown",
   "metadata": {},
   "source": [
    "#### “Truthy” and “Fa lsey” Values\n",
    "There are some values in other data types that conditions will consider equivalent to True and False. When used in conditions, 0, 0.0, and '' (the empty string) are considered False, while all other values are considered True. For example, look at the following program:\n",
    "\n",
    "    name = ''\n",
    "    while not name:\n",
    "        print('Enter your name:')\n",
    "        name = input()\n",
    "    print('How many guests will you have?')\n",
    "    numOfGuests = int(input())\n",
    "    if numOfGuests:\n",
    "        print('Be sure to have enough room for all your guests.')\n",
    "    print('Done')\n",
    "    \n",
    "If the user enters a blank string for name, then the while statement’s condition will be True u, and the program continues to ask for a name. If the value for numOfGuests is not 0 v, then the condition is considered to be True, and the program will print a reminder for the user w. You could have typed not name != '' instead of not name, and numOfGuests != 0 instead of numOfGuests, but using the truthy and falsey values can make your code easier to read."
   ]
  },
  {
   "cell_type": "markdown",
   "metadata": {},
   "source": [
    "### for Loops and the range() Function\n",
    "The while loop keeps looping while its condition is True (which is the reason for its name), but what if you want to execute a block of code only a certain number of times? You can do this with a for loop statement and the range() function\n",
    "In code, a for statement looks something like for i in range(5): and\n",
    "always includes the following:\n",
    "    • The for keyword\n",
    "    • A variable name\n",
    "    • The in keyword\n",
    "    • A call to the range() method with up to three integers passed to it\n",
    "    • A colon\n",
    "    • Starting on the next line, an indented block of code (called the for clause)\n",
    "![title](https://cdn.programiz.com/sites/tutorial2program/files/forLoop.jpg)    \n",
    "Let’s create a new program called fiveTimes.py to help you see a for loop\n",
    "in action."
   ]
  },
  {
   "cell_type": "code",
   "execution_count": 99,
   "metadata": {},
   "outputs": [
    {
     "name": "stdout",
     "output_type": "stream",
     "text": [
      "<class 'int'>\n",
      "<class 'int'>\n",
      "<class 'int'>\n",
      "<class 'int'>\n",
      "<class 'int'>\n",
      "Product is: 12000000\n"
     ]
    }
   ],
   "source": [
    "#Find product of all numbers present in a list\n",
    "\n",
    "lst = [10, 20, 30, 40, 50]\n",
    "\n",
    "product = 1\n",
    "#iterating over the list\n",
    "for ele in lst:\n",
    "    print(type(ele))\n",
    "    product *= ele\n",
    "\n",
    "print(\"Product is: {}\".format(product))"
   ]
  },
  {
   "cell_type": "code",
   "execution_count": 100,
   "metadata": {},
   "outputs": [
    {
     "name": "stdout",
     "output_type": "stream",
     "text": [
      "may name is:\n",
      "pky five time(0)\n",
      "pky five time(1)\n",
      "pky five time(2)\n",
      "pky five time(3)\n",
      "pky five time(4)\n"
     ]
    }
   ],
   "source": [
    "print('may name is:')\n",
    "for i in range(5):\n",
    "    print('pky five time('+str(i)+')')"
   ]
  },
  {
   "cell_type": "code",
   "execution_count": 101,
   "metadata": {},
   "outputs": [
    {
     "name": "stdout",
     "output_type": "stream",
     "text": [
      "sum first of 100 number\n",
      "5050\n"
     ]
    }
   ],
   "source": [
    "print('sum first of 100 number')\n",
    "s=0\n",
    "for i in range(100):\n",
    "    i=i+1\n",
    "    s=s+i\n",
    "print(s)"
   ]
  },
  {
   "cell_type": "code",
   "execution_count": 102,
   "metadata": {},
   "outputs": [
    {
     "name": "stdout",
     "output_type": "stream",
     "text": [
      "sum first of n number\n",
      "enter value of n\n",
      "6\n",
      "21\n"
     ]
    }
   ],
   "source": [
    "print('sum first of n number')\n",
    "print('enter value of n')\n",
    "n=int(input())\n",
    "s=0\n",
    "for i in range(n+1):\n",
    "    s=s+i\n",
    "print(s)"
   ]
  },
  {
   "cell_type": "code",
   "execution_count": 103,
   "metadata": {},
   "outputs": [
    {
     "name": "stdout",
     "output_type": "stream",
     "text": [
      "sum first of n number\n",
      "enter value of n\n",
      "6\n",
      "21\n"
     ]
    }
   ],
   "source": [
    "print('sum first of n number')\n",
    "print('enter value of n')\n",
    "n=int(input())\n",
    "i=0\n",
    "s=0\n",
    "for i in range(n):\n",
    "    i=i+1\n",
    "    s=s+i\n",
    "print(s)"
   ]
  },
  {
   "cell_type": "code",
   "execution_count": 104,
   "metadata": {},
   "outputs": [
    {
     "name": "stdout",
     "output_type": "stream",
     "text": [
      "sum first of 4 number\n",
      "14\n"
     ]
    }
   ],
   "source": [
    "print('sum first of 4 number')\n",
    "s=0\n",
    "for i in range(4):\n",
    "    i=i+2\n",
    "    s=s+i\n",
    "print(s)"
   ]
  },
  {
   "cell_type": "markdown",
   "metadata": {},
   "source": [
    "#### for loop with else\n",
    "A for loop can have an optional else block as well. The else part is executed if the items in the sequence used in for loop exhausts.\n",
    "\n",
    "break statement can be used to stop a for loop. In such case, the else part is ignored.\n",
    "\n",
    "Hence, a for loop's else part runs if no break occurs."
   ]
  },
  {
   "cell_type": "code",
   "execution_count": 105,
   "metadata": {},
   "outputs": [
    {
     "name": "stdout",
     "output_type": "stream",
     "text": [
      "1\n",
      "2\n",
      "3\n",
      "no item left in the list\n"
     ]
    }
   ],
   "source": [
    "numbers = [1, 2, 3]\n",
    "\n",
    "#iterating over the list\n",
    "for item in numbers:\n",
    "    print(item)\n",
    "else:\n",
    "    print(\"no item left in the list\")"
   ]
  },
  {
   "cell_type": "code",
   "execution_count": 106,
   "metadata": {},
   "outputs": [
    {
     "name": "stdout",
     "output_type": "stream",
     "text": [
      "1\n",
      "2\n"
     ]
    }
   ],
   "source": [
    "for item in numbers:\n",
    "    print(item)\n",
    "    if item % 2 == 0:\n",
    "        break\n",
    "else:\n",
    "    print(\"no item left in the list\")"
   ]
  },
  {
   "cell_type": "markdown",
   "metadata": {},
   "source": [
    "#### The Starting, Stopping, and Stepping Arguments to range()\n",
    "\n",
    "    for i in range(12, 16):\n",
    "        print(i)\n",
    "The first argument will be where the for loop’s variable starts, and the\n",
    "second argument will be up to, but not including, the number to stop at."
   ]
  },
  {
   "cell_type": "code",
   "execution_count": 107,
   "metadata": {},
   "outputs": [
    {
     "name": "stdout",
     "output_type": "stream",
     "text": [
      "12\n",
      "13\n",
      "14\n",
      "15\n"
     ]
    }
   ],
   "source": [
    "for i in range(12, 16):\n",
    "    print(i)"
   ]
  },
  {
   "cell_type": "markdown",
   "metadata": {},
   "source": [
    "The range() function can also be called with three arguments. The first\n",
    "two arguments will be the start and stop values, and the third will be the\n",
    "step argument. The step is the amount that the variable is increased by after\n",
    "each iteration.\n",
    "    \n",
    "    for i in range(0, 10, 2):\n",
    "        print(i)\n",
    "        \n",
    "So calling range(0, 10, 2) will count from zero to eight by intervals of two."
   ]
  },
  {
   "cell_type": "code",
   "execution_count": 108,
   "metadata": {
    "scrolled": true
   },
   "outputs": [
    {
     "name": "stdout",
     "output_type": "stream",
     "text": [
      "0\n",
      "2\n",
      "4\n",
      "6\n",
      "8\n"
     ]
    }
   ],
   "source": [
    "for i in range(0, 10, 2):\n",
    "        print(i)"
   ]
  },
  {
   "cell_type": "markdown",
   "metadata": {},
   "source": [
    "you can even use\n",
    "a negative number for the step argument to make the for loop count down\n",
    "instead of up.\n",
    "\n",
    "    for i in range(5, -1, -1):\n",
    "        print(i)\n",
    "\n",
    "Running a for loop to print i with range(5, -1, -1) should print from\n",
    "five down to zero."
   ]
  },
  {
   "cell_type": "code",
   "execution_count": 109,
   "metadata": {},
   "outputs": [
    {
     "name": "stdout",
     "output_type": "stream",
     "text": [
      "5\n",
      "4\n",
      "3\n",
      "2\n",
      "1\n",
      "0\n"
     ]
    }
   ],
   "source": [
    "for i in range(5,-1,-1):\n",
    "    print(i)"
   ]
  },
  {
   "cell_type": "markdown",
   "metadata": {},
   "source": [
    "#### Python Program to display all prime numbers within an interval"
   ]
  },
  {
   "cell_type": "code",
   "execution_count": 110,
   "metadata": {},
   "outputs": [
    {
     "name": "stdout",
     "output_type": "stream",
     "text": [
      "Prime numbers between 20 and 50 are :\n",
      "23\n",
      "29\n",
      "31\n",
      "37\n",
      "41\n",
      "43\n",
      "47\n"
     ]
    }
   ],
   "source": [
    "index1 = 20\n",
    "index2 = 50\n",
    "\n",
    "print(\"Prime numbers between {0} and {1} are :\".format(index1, index2))\n",
    "\n",
    "for num in range(index1, index2+1):      #default step size is 1\n",
    "    if num > 1:\n",
    "        isDivisible = False;\n",
    "        for index in range(2, num):\n",
    "            if num % index == 0:\n",
    "                isDivisible = True;\n",
    "        if not isDivisible:        \n",
    "            print(num);"
   ]
  },
  {
   "cell_type": "markdown",
   "metadata": {},
   "source": [
    "### pass Statement\n",
    "The pass statement is a null statement. But the difference between pass and comment is that comment is ignored by the interpreter whereas pass is not ignroed. \n",
    "\n",
    "The pass statement is generally used as a placeholder i.e. when the user does not know what code to write. So user simply places pass at that line. Sometimes, pass is used when the user doesn’t want any code to execute. So user simply places pass there as empty code is not allowed in loops, function definitions, class definitions, or in if statements. So using pass statement user avoids this error."
   ]
  },
  {
   "cell_type": "code",
   "execution_count": 9,
   "metadata": {
    "ExecuteTime": {
     "end_time": "2020-10-25T06:16:50.752028Z",
     "start_time": "2020-10-25T06:16:50.731046Z"
    }
   },
   "outputs": [
    {
     "name": "stdout",
     "output_type": "stream",
     "text": [
      "b\n",
      "c\n",
      "d\n"
     ]
    }
   ],
   "source": [
    "li = ['a', 'b', 'c', 'd']\n",
    "\n",
    "for i in li:\n",
    "    if (i == 'a'):\n",
    "        pass\n",
    "    else:\n",
    "        print(i)"
   ]
  },
  {
   "cell_type": "code",
   "execution_count": 11,
   "metadata": {
    "ExecuteTime": {
     "end_time": "2020-10-25T06:17:37.453485Z",
     "start_time": "2020-10-25T06:17:37.443516Z"
    }
   },
   "outputs": [],
   "source": [
    "a = 10\n",
    "b = 20\n",
    "\n",
    "if(a<b): \n",
    "    pass\n",
    "else: \n",
    "    print(\"b<a\")"
   ]
  },
  {
   "cell_type": "markdown",
   "metadata": {},
   "source": [
    "## Importing Modules\n",
    "All Python programs can call a basic set of functions called built-in functions, including the print(), input(), and len() functions you’ve seen before. Python also comes with a set of modules called the standard library. Each module is a Python program that contains a related group of functions that can be embedded in your programs. For example, the math module has mathematicsrelated functions, the random module has random number–related functions, and so on. Before you can use the functions in a module, you must import the module with an import statement. In code, an import statement consists of\n",
    "the following:\n",
    "    • The import keyword\n",
    "    • The name of the module\n",
    "    • Optionally, more module names, as long as they are separated by commas\n",
    "Once you import a module, you can use all the cool functions of that module. Let’s give it a try with the random module, which will give us access to the random.ranint() function."
   ]
  },
  {
   "cell_type": "code",
   "execution_count": 111,
   "metadata": {
    "scrolled": true
   },
   "outputs": [
    {
     "name": "stdout",
     "output_type": "stream",
     "text": [
      "10\n",
      "10\n",
      "2\n",
      "3\n",
      "8\n"
     ]
    }
   ],
   "source": [
    "import random\n",
    "for i in range(5):\n",
    "    print(random.randint(1,10))"
   ]
  },
  {
   "cell_type": "code",
   "execution_count": 112,
   "metadata": {},
   "outputs": [
    {
     "name": "stdout",
     "output_type": "stream",
     "text": [
      "enter the n\n",
      "3\n",
      "1+3+5+\n",
      "sum of (3) odd number is=(9)\n"
     ]
    }
   ],
   "source": [
    "#program for sum of n odd no\n",
    "\n",
    "print('enter the n')\n",
    "n=int(input())\n",
    "a=2*n-1\n",
    "s=0\n",
    "\n",
    "for i in range(1,a+1,2):\n",
    "    print(i,end='+')\n",
    "    s=s+i\n",
    "    \n",
    "print('\\nsum of ('+str(n)+') odd number is=(' +str(s)+ ')')"
   ]
  },
  {
   "cell_type": "markdown",
   "metadata": {},
   "source": [
    "The random.randint() function call evaluates to a random integer value between the two integers that you pass it. Since randint() is in the random module, you must first type random. in front of the function name to tell Python to look for this function inside the random module. Here’s an example of an import statement that imports four different modules:\n",
    "\n",
    "    import random, sys, os, math\n",
    "\n",
    "Now we can use any of the functions in these four modules. We’ll learn more about them later in the book\n",
    "\n",
    "\n"
   ]
  },
  {
   "cell_type": "markdown",
   "metadata": {},
   "source": [
    "## Ending a Program Early with sys.exit()\n",
    "\n",
    "The last flow control concept to cover is how to terminate the program. This always happens if the program execution reaches the bottom of the instructions. However, you can cause the program to terminate, or exit, by calling the sys.exit() function. Since this function is in the sys module, you have to import sys before your program can use it.\n",
    "\n"
   ]
  },
  {
   "cell_type": "code",
   "execution_count": 113,
   "metadata": {},
   "outputs": [
    {
     "name": "stdout",
     "output_type": "stream",
     "text": [
      "enter exit to exit\n",
      "exit\n"
     ]
    },
    {
     "ename": "SystemExit",
     "evalue": "",
     "output_type": "error",
     "traceback": [
      "An exception has occurred, use %tb to see the full traceback.\n",
      "\u001b[1;31mSystemExit\u001b[0m\n"
     ]
    },
    {
     "name": "stderr",
     "output_type": "stream",
     "text": [
      "C:\\Users\\ASUS\\anaconda3\\lib\\site-packages\\IPython\\core\\interactiveshell.py:3339: UserWarning: To exit: use 'exit', 'quit', or Ctrl-D.\n",
      "  warn(\"To exit: use 'exit', 'quit', or Ctrl-D.\", stacklevel=1)\n"
     ]
    }
   ],
   "source": [
    "import sys\n",
    "while True:\n",
    "    print('enter exit to exit')\n",
    "    response=input()\n",
    "    if response=='exit':\n",
    "        sys.exit()\n",
    "    print('you typed'+response+'.')\n"
   ]
  },
  {
   "cell_type": "markdown",
   "metadata": {},
   "source": [
    "# Functions\n",
    "You’re already familiar with the print(), input(), and len() functions from the previous chapters. Python provides several builtin functions like these, but you can also write your own functions. A function is like a mini-program within a program.\n",
    "\n"
   ]
  },
  {
   "cell_type": "code",
   "execution_count": 114,
   "metadata": {},
   "outputs": [
    {
     "name": "stdout",
     "output_type": "stream",
     "text": [
      "heloo india\n",
      "tu jaane na\n",
      "heloo india\n",
      "tu jaane na\n"
     ]
    }
   ],
   "source": [
    "def hello():\n",
    "    print('heloo india')\n",
    "    print('tu jaane na')\n",
    "hello()\n",
    "hello()"
   ]
  },
  {
   "cell_type": "markdown",
   "metadata": {},
   "source": [
    "## def Statements with Parameters\n",
    "When you call the print() or len() function, you pass in values, called arguments in this context, by typing them between the parentheses. You can also define your own functions that accept arguments."
   ]
  },
  {
   "cell_type": "code",
   "execution_count": 115,
   "metadata": {},
   "outputs": [
    {
     "name": "stdout",
     "output_type": "stream",
     "text": [
      "sleep is bad pk\n",
      "you will pk\n"
     ]
    }
   ],
   "source": [
    "def hello(name):\n",
    "    print(\"sleep is bad \" +name)\n",
    "    print('you will '+ name)\n",
    "hello('pk')"
   ]
  },
  {
   "cell_type": "markdown",
   "metadata": {},
   "source": [
    "## Return Values and return Statements\n",
    "In general, the value that a function call evaluates to is called the return value of the function. When creating a function using the def statement, you can specify what the return value should be with a return statement. A return statement consists of the following:\n",
    "\n",
    "    • The return keyword\n",
    "    • The value or expression that the function should \n",
    "When an expression is used with a return statement, the return value is what this expression evaluates to. For example, the following program defines a function that returns a different string depending on what number it is passed as an argument   "
   ]
  },
  {
   "cell_type": "code",
   "execution_count": 116,
   "metadata": {},
   "outputs": [
    {
     "name": "stdout",
     "output_type": "stream",
     "text": [
      "8 goos but not tru\n"
     ]
    }
   ],
   "source": [
    "import random\n",
    "def getAnswer(ans):\n",
    "    if ans==1:\n",
    "        return '1 is not a good choice'\n",
    "    elif ans==2:\n",
    "        return '2 relly'\n",
    "    elif ans==3:\n",
    "        return 'nice try'\n",
    "    elif ans==4:\n",
    "        return 'never loose hope'\n",
    "    elif ans==5:\n",
    "        return 'you are just about to reach'\n",
    "    elif ans==6:\n",
    "        return '6 is not alwya max'\n",
    "    elif ans==7:\n",
    "        return 'try your best'\n",
    "    elif ans==8:\n",
    "        return '8 goos but not tru'\n",
    "    elif ans==9:\n",
    "        return '9 bingo'\n",
    "print(getAnswer(random.randint(1,9)))"
   ]
  },
  {
   "cell_type": "markdown",
   "metadata": {},
   "source": [
    "## The None Value\n",
    "-The None keyword is used to define a null value, or no value at all.\n",
    "-None is not the same as 0, False, or an empty string. None is a datatype of its own (NoneType) and only None can be None.\n",
    "-Comparing None to anything will always return False except None itself.\n"
   ]
  },
  {
   "cell_type": "code",
   "execution_count": 117,
   "metadata": {},
   "outputs": [
    {
     "name": "stdout",
     "output_type": "stream",
     "text": [
      "None\n"
     ]
    }
   ],
   "source": [
    "# Declaring a None variable using is operator\n",
    "var = None\n",
    "\n",
    "if var is None: # Checking if the variable is None\n",
    "  print(\"None\")\n",
    "else:\n",
    "  print(\"Not None\")"
   ]
  },
  {
   "cell_type": "code",
   "execution_count": 118,
   "metadata": {},
   "outputs": [
    {
     "name": "stdout",
     "output_type": "stream",
     "text": [
      "None\n"
     ]
    }
   ],
   "source": [
    "# Declaring a None variable usin == operator\n",
    "var = None\n",
    "\n",
    "if var == None: # Checking if the variable is None\n",
    "  print(\"None\")\n",
    "else:\n",
    "  print(\"Not None\")"
   ]
  },
  {
   "cell_type": "code",
   "execution_count": 119,
   "metadata": {},
   "outputs": [
    {
     "name": "stdout",
     "output_type": "stream",
     "text": [
      "<class 'NoneType'>\n"
     ]
    }
   ],
   "source": [
    "# Declaring a variable and initializing with None type\n",
    "typeOfNone = type(None) \n",
    "\n",
    "print(typeOfNone)"
   ]
  },
  {
   "cell_type": "code",
   "execution_count": 120,
   "metadata": {},
   "outputs": [
    {
     "name": "stdout",
     "output_type": "stream",
     "text": [
      "True\n"
     ]
    }
   ],
   "source": [
    "# Comparing None with none and printing the result\n",
    "print (None == None)"
   ]
  },
  {
   "cell_type": "code",
   "execution_count": 121,
   "metadata": {},
   "outputs": [
    {
     "name": "stdout",
     "output_type": "stream",
     "text": [
      "False\n"
     ]
    }
   ],
   "source": [
    "# Comparing none with False and printing the result\n",
    "print(None == False)"
   ]
  },
  {
   "cell_type": "code",
   "execution_count": 122,
   "metadata": {},
   "outputs": [
    {
     "name": "stdout",
     "output_type": "stream",
     "text": [
      "False\n"
     ]
    }
   ],
   "source": [
    "# Declaring an empty string\n",
    "str = \"\"\n",
    "# Comparing None with empty string and printing the result\n",
    "print (str == None)"
   ]
  },
  {
   "cell_type": "markdown",
   "metadata": {},
   "source": [
    "This value-without-a-value can be helpful when you need to store something that won’t be confused for a real value in a variable. One place where None is used is as the return value of print(). The print() function displays text on the screen, but it doesn’t need to return anything in the same way len() or input() does. But since all function calls need to evaluate to a return value, print() returns None. To see this in action, enter the following into the interactive shell:"
   ]
  },
  {
   "cell_type": "code",
   "execution_count": 123,
   "metadata": {},
   "outputs": [
    {
     "name": "stdout",
     "output_type": "stream",
     "text": [
      "Hello!\n"
     ]
    },
    {
     "data": {
      "text/plain": [
       "True"
      ]
     },
     "execution_count": 123,
     "metadata": {},
     "output_type": "execute_result"
    }
   ],
   "source": [
    "spam = print('Hello!')\n",
    "None == spam"
   ]
  },
  {
   "cell_type": "markdown",
   "metadata": {},
   "source": [
    "Behind the scenes, Python adds return *None* to the end of any function definition with no return statement. This is similar to how a while or for loop implicitly ends with a continue statement. Also, if you use a return statement without a value (that is, just the return keyword by itself), then None is returned."
   ]
  },
  {
   "cell_type": "markdown",
   "metadata": {},
   "source": [
    "## Keyword Arguments and print()\n",
    "   Most arguments are identified by their position in the function call. For example, random.randint(1, 10) is different from random.randint(10, 1). The function call random.randint(1, 10) will return a random integer between 1 and 10, because the first argument is the low end of the range and the second argument is the high end (while random.randint(10, 1) causes an error).\n",
    "   However, *keyword arguments* are identified by the keyword put before them in the function call. Keyword arguments are often used for optional parameters. For example, the *print()* function has the optional parameters *end* and *sep* to specify what should be printed at the end of its arguments and between its arguments (separating them), respectively.\n",
    "   If you ran the following program:"
   ]
  },
  {
   "cell_type": "code",
   "execution_count": 124,
   "metadata": {},
   "outputs": [
    {
     "name": "stdout",
     "output_type": "stream",
     "text": [
      "hello\n",
      "pramod\n"
     ]
    }
   ],
   "source": [
    "print('hello')\n",
    "print('pramod')"
   ]
  },
  {
   "cell_type": "code",
   "execution_count": 125,
   "metadata": {},
   "outputs": [
    {
     "name": "stdout",
     "output_type": "stream",
     "text": [
      "helloPramod\n"
     ]
    }
   ],
   "source": [
    "print('hello',end='')\n",
    "print('Pramod')"
   ]
  },
  {
   "cell_type": "markdown",
   "metadata": {},
   "source": [
    "Similarly, when you pass multiple string values to print(), the function will automatically separate them with a single space. Enter the following into the interactive shell:"
   ]
  },
  {
   "cell_type": "code",
   "execution_count": 126,
   "metadata": {},
   "outputs": [
    {
     "name": "stdout",
     "output_type": "stream",
     "text": [
      "cat dog mice\n"
     ]
    }
   ],
   "source": [
    "print('cat','dog','mice')"
   ]
  },
  {
   "cell_type": "code",
   "execution_count": 127,
   "metadata": {},
   "outputs": [
    {
     "name": "stdout",
     "output_type": "stream",
     "text": [
      "cat,dog,mice\n"
     ]
    }
   ],
   "source": [
    "'''But you could replace the default separating string by passing the sep\n",
    "keyword argument. Enter the following into the interactive shell:'''\n",
    "\n",
    "print('cat','dog','mice', sep=',')"
   ]
  },
  {
   "cell_type": "markdown",
   "metadata": {},
   "source": [
    "You can add keyword arguments to the functions you write as well, but first you’ll have to learn about the list and dictionary data types in the next two chapters."
   ]
  },
  {
   "cell_type": "markdown",
   "metadata": {},
   "source": [
    "## Local and Global Scope\n",
    "   Parameters and variables that are assigned in a called function are said to exist in that function’s *local scope*. Variables that are assigned outside all functions are said to exist in the *global scope*. A variable that exists in a local scope is called a *local variable*, while a variable that exists in the global scope is called a *global variable*. A variable must be one or the other; it cannot be both local and global."
   ]
  },
  {
   "cell_type": "markdown",
   "metadata": {},
   "source": [
    "### Local Variables Cannot Be Used in the Global Scope\n",
    "Consider this program, which will cause an error when you run it:"
   ]
  },
  {
   "cell_type": "code",
   "execution_count": 128,
   "metadata": {},
   "outputs": [
    {
     "ename": "NameError",
     "evalue": "name 'egg' is not defined",
     "output_type": "error",
     "traceback": [
      "\u001b[1;31m---------------------------------------------------------------------------\u001b[0m",
      "\u001b[1;31mNameError\u001b[0m                                 Traceback (most recent call last)",
      "\u001b[1;32m<ipython-input-128-664ed55639e4>\u001b[0m in \u001b[0;36m<module>\u001b[1;34m\u001b[0m\n\u001b[0;32m      2\u001b[0m     \u001b[0megg\u001b[0m\u001b[1;33m=\u001b[0m\u001b[1;36m25\u001b[0m\u001b[1;33m\u001b[0m\u001b[1;33m\u001b[0m\u001b[0m\n\u001b[0;32m      3\u001b[0m \u001b[0mspam\u001b[0m\u001b[1;33m(\u001b[0m\u001b[1;33m)\u001b[0m\u001b[1;33m\u001b[0m\u001b[1;33m\u001b[0m\u001b[0m\n\u001b[1;32m----> 4\u001b[1;33m \u001b[0mprint\u001b[0m\u001b[1;33m(\u001b[0m\u001b[0megg\u001b[0m\u001b[1;33m)\u001b[0m\u001b[1;33m\u001b[0m\u001b[1;33m\u001b[0m\u001b[0m\n\u001b[0m",
      "\u001b[1;31mNameError\u001b[0m: name 'egg' is not defined"
     ]
    }
   ],
   "source": [
    "def spam():\n",
    "    egg=25\n",
    "spam()\n",
    "print(egg)"
   ]
  },
  {
   "cell_type": "markdown",
   "metadata": {},
   "source": [
    "The error happens because the eggs variable exists only in the local scope created when spam() is called. Once the program execution returns from spam, that local scope is destroyed, and there is no longer a variable named eggs. So when your program tries to run print(eggs), Python gives you an error saying that eggs is not defined."
   ]
  },
  {
   "cell_type": "markdown",
   "metadata": {},
   "source": [
    "### Local Scopes Cannot Use Variables in Other Local Scopes\n",
    "A new local scope is created whenever a function is called, including when a function is called from another function. Consider this program:"
   ]
  },
  {
   "cell_type": "code",
   "execution_count": 129,
   "metadata": {},
   "outputs": [
    {
     "name": "stdout",
     "output_type": "stream",
     "text": [
      "99\n"
     ]
    }
   ],
   "source": [
    "def spam(): \n",
    "    egg=99   #u\n",
    "    bacon()   #v\n",
    "    print(egg)  #w\n",
    "def bacon():\n",
    "    ham=101\n",
    "    egg=0   #x\n",
    "spam()    #y"
   ]
  },
  {
   "cell_type": "markdown",
   "metadata": {},
   "source": [
    "   When the program starts, the spam() function is called y, and a localscope is created. The local variable eggs u is set to 99. Then the bacon() function is called v, and a second local scope is created. Multiple local scopes can exist at the same time. In this new local scope, the local variable ham is set to 101, and a local variable eggs—which is different from the one in spam()’s local scope—is also created x and set to 0.\n",
    "   When bacon() returns, the local scope for that call is destroyed. The program execution continues in the spam() function to print the value of eggs w, and since the local scope for the call to spam() still exists here, the eggs variable is set to 99. This is what the program prints.\n",
    "   The upshot is that local variables in one function are completely separate from the local variables in another function"
   ]
  },
  {
   "cell_type": "markdown",
   "metadata": {},
   "source": [
    "### Global Variables Can Be Read from a Local Scope\n",
    "   Consider the following program:"
   ]
  },
  {
   "cell_type": "code",
   "execution_count": 130,
   "metadata": {},
   "outputs": [
    {
     "name": "stdout",
     "output_type": "stream",
     "text": [
      "42\n",
      "42\n"
     ]
    }
   ],
   "source": [
    "def spam():\n",
    "    print(eggs)\n",
    "eggs=42\n",
    "spam()\n",
    "print(eggs)"
   ]
  },
  {
   "cell_type": "markdown",
   "metadata": {},
   "source": [
    "Since there is no parameter named eggs or any code that assigns eggs a value in the spam() function, when eggs is used in spam(), Python considers it a reference to the global variable eggs. This is why 42 is printed when the previous program is run."
   ]
  },
  {
   "cell_type": "markdown",
   "metadata": {},
   "source": [
    "### Local and Global Variables with the Same Name\n",
    "   To simplify your life, avoid using local variables that have the same name as a global variable or another local variable. But technically, it’s perfectly legal to do so in Python."
   ]
  },
  {
   "cell_type": "code",
   "execution_count": 131,
   "metadata": {},
   "outputs": [
    {
     "name": "stdout",
     "output_type": "stream",
     "text": [
      "bcon local 20\n",
      "spm local 10\n",
      "bcon local 20\n",
      "global 60\n"
     ]
    }
   ],
   "source": [
    "def spam():\n",
    "    egg='spm local 10'\n",
    "    print(egg)\n",
    "def bacon():\n",
    "    egg='bcon local 20'\n",
    "    print(egg)\n",
    "    spam()\n",
    "    print(egg)\n",
    "egg='global 60'\n",
    "bacon()\n",
    "print(egg)"
   ]
  },
  {
   "cell_type": "markdown",
   "metadata": {},
   "source": [
    "There are actually three different variables in this program, but confusingly they are all named eggs. The variables are as follows:\n",
    "-A variable named eggs that exists in a local scope when spam() is called.\n",
    "-A variable named eggs that exists in a local scope when bacon() is called.\n",
    "-A variable named eggs that exists in the global scope.\n"
   ]
  },
  {
   "cell_type": "markdown",
   "metadata": {},
   "source": [
    "## The global Statement\n",
    "   If you need to modify a global variable from within a function, use the global statement. If you have a line such as *global eggs* at the top of a function, it tells Python, *“In this function, eggs refers to the global variable, so don’t create a local variable with this name.”*"
   ]
  },
  {
   "cell_type": "code",
   "execution_count": 132,
   "metadata": {},
   "outputs": [
    {
     "name": "stdout",
     "output_type": "stream",
     "text": [
      "spam 10\n"
     ]
    }
   ],
   "source": [
    "def spam():\n",
    "    global egg      #1 In this function, eggs refers to the global variable\n",
    "    egg='spam 10'    #global as #1 mentioned\n",
    "egg='global 20'     #2 global variable\n",
    "spam()              #spam function calle so again #1 exicuted and global variable value change\n",
    "print(egg)"
   ]
  },
  {
   "cell_type": "code",
   "execution_count": 133,
   "metadata": {},
   "outputs": [
    {
     "name": "stdout",
     "output_type": "stream",
     "text": [
      "global 20\n"
     ]
    }
   ],
   "source": [
    "def spam():\n",
    "    global egg    #1 In this function, eggs refers to the global variable\n",
    "    egg='spam 10'\n",
    "egg='global 20'   #2 global variable\n",
    "print(egg)        #output will be 'global 20' as spam() not called so value wont change"
   ]
  },
  {
   "cell_type": "code",
   "execution_count": 134,
   "metadata": {},
   "outputs": [
    {
     "name": "stdout",
     "output_type": "stream",
     "text": [
      "global 20\n"
     ]
    }
   ],
   "source": [
    "def spam():\n",
    "                  #global variable not mentioned so it is a local variable\n",
    "    egg='spam 10' #local variable\n",
    "    \n",
    "egg='global 20'   #global variable\n",
    "spam()            #spam() is called but varioble value wont change as global not mentioned in spam() funtion\n",
    "print(egg)"
   ]
  },
  {
   "cell_type": "markdown",
   "metadata": {},
   "source": [
    "There are four rules to tell whether a variable is in a local scope or global scope:\n",
    "\n",
    "1. If a variable is being used in the global scope (that is, outside of all functions), then it is always a global variable.\n",
    "2. If there is a global statement for that variable in a function, it is a global variable.\n",
    "3. Otherwise, if the variable is used in an assignment statement in the function, it is a local variable.\n",
    "4. But if the variable is not used in an assignment statement, it is a global variable.\n"
   ]
  },
  {
   "cell_type": "code",
   "execution_count": 135,
   "metadata": {},
   "outputs": [
    {
     "name": "stdout",
     "output_type": "stream",
     "text": [
      "spam 10\n"
     ]
    }
   ],
   "source": [
    "def spam():\n",
    "    global egg\n",
    "    egg='spam 10'   #global var\n",
    "def ham():\n",
    "    egg='ham'       #local\n",
    "def bacon():\n",
    "    print(egg)      #global will print\n",
    "egg='global 60'     #global\n",
    "spam()              \n",
    "print(egg)\n"
   ]
  },
  {
   "cell_type": "markdown",
   "metadata": {},
   "source": [
    "   #### Note:\n",
    "   In a function, a variable will either always be global or always be local. There’s no way that the code in a function can use a local variable named eggs and then later in that same function use the global eggs variable.\n",
    "   \n",
    "   *If you ever want to modify the value stored in a global variable from in a function, you must use a global statement on that variable.*\n",
    "   \n",
    "   If you try to use a local variable in a function before you assign a valueto it, as in the following program, Python will give you an error."
   ]
  },
  {
   "cell_type": "code",
   "execution_count": 136,
   "metadata": {},
   "outputs": [
    {
     "ename": "UnboundLocalError",
     "evalue": "local variable 'egg' referenced before assignment",
     "output_type": "error",
     "traceback": [
      "\u001b[1;31m---------------------------------------------------------------------------\u001b[0m",
      "\u001b[1;31mUnboundLocalError\u001b[0m                         Traceback (most recent call last)",
      "\u001b[1;32m<ipython-input-136-a1346586c8a0>\u001b[0m in \u001b[0;36m<module>\u001b[1;34m\u001b[0m\n\u001b[0;32m      3\u001b[0m     \u001b[0megg\u001b[0m\u001b[1;33m=\u001b[0m\u001b[1;34m'local 10'\u001b[0m\u001b[1;33m\u001b[0m\u001b[1;33m\u001b[0m\u001b[0m\n\u001b[0;32m      4\u001b[0m \u001b[0megg\u001b[0m\u001b[1;33m=\u001b[0m\u001b[1;34m'global 60'\u001b[0m      \u001b[1;31m#2 Python will not fall back to using the global eggs variable\u001b[0m\u001b[1;33m\u001b[0m\u001b[1;33m\u001b[0m\u001b[0m\n\u001b[1;32m----> 5\u001b[1;33m \u001b[0mspam\u001b[0m\u001b[1;33m(\u001b[0m\u001b[1;33m)\u001b[0m\u001b[1;33m\u001b[0m\u001b[1;33m\u001b[0m\u001b[0m\n\u001b[0m",
      "\u001b[1;32m<ipython-input-136-a1346586c8a0>\u001b[0m in \u001b[0;36mspam\u001b[1;34m()\u001b[0m\n\u001b[0;32m      1\u001b[0m \u001b[1;32mdef\u001b[0m \u001b[0mspam\u001b[0m\u001b[1;33m(\u001b[0m\u001b[1;33m)\u001b[0m\u001b[1;33m:\u001b[0m\u001b[1;33m\u001b[0m\u001b[1;33m\u001b[0m\u001b[0m\n\u001b[1;32m----> 2\u001b[1;33m     \u001b[0mprint\u001b[0m\u001b[1;33m(\u001b[0m\u001b[0megg\u001b[0m\u001b[1;33m)\u001b[0m       \u001b[1;31m#1 Error:print(eggs) is executed before eggs is assigned anything, the local variable eggs doesn’t exist.\u001b[0m\u001b[1;33m\u001b[0m\u001b[1;33m\u001b[0m\u001b[0m\n\u001b[0m\u001b[0;32m      3\u001b[0m     \u001b[0megg\u001b[0m\u001b[1;33m=\u001b[0m\u001b[1;34m'local 10'\u001b[0m\u001b[1;33m\u001b[0m\u001b[1;33m\u001b[0m\u001b[0m\n\u001b[0;32m      4\u001b[0m \u001b[0megg\u001b[0m\u001b[1;33m=\u001b[0m\u001b[1;34m'global 60'\u001b[0m      \u001b[1;31m#2 Python will not fall back to using the global eggs variable\u001b[0m\u001b[1;33m\u001b[0m\u001b[1;33m\u001b[0m\u001b[0m\n\u001b[0;32m      5\u001b[0m \u001b[0mspam\u001b[0m\u001b[1;33m(\u001b[0m\u001b[1;33m)\u001b[0m\u001b[1;33m\u001b[0m\u001b[1;33m\u001b[0m\u001b[0m\n",
      "\u001b[1;31mUnboundLocalError\u001b[0m: local variable 'egg' referenced before assignment"
     ]
    }
   ],
   "source": [
    "def spam():\n",
    "    print(egg)       #1 Error:print(eggs) is executed before eggs is assigned anything, the local variable eggs doesn’t exist.\n",
    "    egg='local 10'\n",
    "egg='global 60'      #2 Python will not fall back to using the global eggs variable \n",
    "spam()           "
   ]
  },
  {
   "cell_type": "markdown",
   "metadata": {},
   "source": [
    "=> This error happens because Python sees that there is an assignment statement for egg in the *spam()* function #1 and therefore considers *eggs* to be local. But because *print(eggs)* is executed before *egg* is assigned anything, the local variable eggs doesn’t exist. Python will not fall back to using the global eggs variable #2.\n",
    "\n",
    "=> if we write again like bellow, there will be no error as local var assigned before print(egg)"
   ]
  },
  {
   "cell_type": "code",
   "execution_count": 137,
   "metadata": {},
   "outputs": [
    {
     "name": "stdout",
     "output_type": "stream",
     "text": [
      "local 10\n"
     ]
    }
   ],
   "source": [
    "def spam():\n",
    "    egg='local 10'   #local var\n",
    "    print(egg)\n",
    "egg='global 60'      #global var\n",
    "spam()              #it will print local var"
   ]
  },
  {
   "cell_type": "markdown",
   "metadata": {},
   "source": [
    "##### Functions as “Black Boxes”\n",
    "   Often, all you need to know about a function are its inputs (the parameters) and output value; you don’t always have to burden yourself with how the function’s code actually works. When you think about functions in this high-level way, it’s common to say that you’re treating the function as a “black box.” This idea is fundamental to modern programming. Later chapters in this book will show you several modules with functions that were written by other people. While you can take a peek at the source code if you’re curious, you don’t need to know how these functions work in order to use them. And because writing functions without global variables is encouraged, you usually don’t have to worry about the function’s code interacting with the rest of your program."
   ]
  },
  {
   "cell_type": "markdown",
   "metadata": {},
   "source": [
    "## Exception Handling\n",
    "   Right now, getting an error, or exception, in your Python program means the entire program will crash. You don’t want this to happen in real-world programs. Instead, you want the program to detect errors, handle them, and then continue to run. \n",
    "    For example, consider the following program, which has a “ZeroDivisionError” error.\n",
    "    "
   ]
  },
  {
   "cell_type": "code",
   "execution_count": 138,
   "metadata": {},
   "outputs": [
    {
     "name": "stdout",
     "output_type": "stream",
     "text": [
      "21.0\n",
      "14.0\n",
      "8.4\n"
     ]
    }
   ],
   "source": [
    "def devideBy(num):\n",
    "    return 42/num\n",
    "\n",
    "print(devideBy(2))\n",
    "print(devideBy(3))\n",
    "print(devideBy(5))\n"
   ]
  },
  {
   "cell_type": "code",
   "execution_count": 139,
   "metadata": {},
   "outputs": [
    {
     "name": "stdout",
     "output_type": "stream",
     "text": [
      "21.0\n",
      "14.0\n",
      "8.4\n"
     ]
    },
    {
     "ename": "ZeroDivisionError",
     "evalue": "division by zero",
     "output_type": "error",
     "traceback": [
      "\u001b[1;31m---------------------------------------------------------------------------\u001b[0m",
      "\u001b[1;31mZeroDivisionError\u001b[0m                         Traceback (most recent call last)",
      "\u001b[1;32m<ipython-input-139-b2dbd009dcb7>\u001b[0m in \u001b[0;36m<module>\u001b[1;34m\u001b[0m\n\u001b[0;32m      5\u001b[0m \u001b[0mprint\u001b[0m\u001b[1;33m(\u001b[0m\u001b[0mdevideBy\u001b[0m\u001b[1;33m(\u001b[0m\u001b[1;36m3\u001b[0m\u001b[1;33m)\u001b[0m\u001b[1;33m)\u001b[0m\u001b[1;33m\u001b[0m\u001b[1;33m\u001b[0m\u001b[0m\n\u001b[0;32m      6\u001b[0m \u001b[0mprint\u001b[0m\u001b[1;33m(\u001b[0m\u001b[0mdevideBy\u001b[0m\u001b[1;33m(\u001b[0m\u001b[1;36m5\u001b[0m\u001b[1;33m)\u001b[0m\u001b[1;33m)\u001b[0m\u001b[1;33m\u001b[0m\u001b[1;33m\u001b[0m\u001b[0m\n\u001b[1;32m----> 7\u001b[1;33m \u001b[0mprint\u001b[0m\u001b[1;33m(\u001b[0m\u001b[0mdevideBy\u001b[0m\u001b[1;33m(\u001b[0m\u001b[1;36m0\u001b[0m\u001b[1;33m)\u001b[0m\u001b[1;33m)\u001b[0m\u001b[1;33m\u001b[0m\u001b[1;33m\u001b[0m\u001b[0m\n\u001b[0m",
      "\u001b[1;32m<ipython-input-139-b2dbd009dcb7>\u001b[0m in \u001b[0;36mdevideBy\u001b[1;34m(num)\u001b[0m\n\u001b[0;32m      1\u001b[0m \u001b[1;32mdef\u001b[0m \u001b[0mdevideBy\u001b[0m\u001b[1;33m(\u001b[0m\u001b[0mnum\u001b[0m\u001b[1;33m)\u001b[0m\u001b[1;33m:\u001b[0m\u001b[1;33m\u001b[0m\u001b[1;33m\u001b[0m\u001b[0m\n\u001b[1;32m----> 2\u001b[1;33m     \u001b[1;32mreturn\u001b[0m \u001b[1;36m42\u001b[0m\u001b[1;33m/\u001b[0m\u001b[0mnum\u001b[0m\u001b[1;33m\u001b[0m\u001b[1;33m\u001b[0m\u001b[0m\n\u001b[0m\u001b[0;32m      3\u001b[0m \u001b[1;33m\u001b[0m\u001b[0m\n\u001b[0;32m      4\u001b[0m \u001b[0mprint\u001b[0m\u001b[1;33m(\u001b[0m\u001b[0mdevideBy\u001b[0m\u001b[1;33m(\u001b[0m\u001b[1;36m2\u001b[0m\u001b[1;33m)\u001b[0m\u001b[1;33m)\u001b[0m\u001b[1;33m\u001b[0m\u001b[1;33m\u001b[0m\u001b[0m\n\u001b[0;32m      5\u001b[0m \u001b[0mprint\u001b[0m\u001b[1;33m(\u001b[0m\u001b[0mdevideBy\u001b[0m\u001b[1;33m(\u001b[0m\u001b[1;36m3\u001b[0m\u001b[1;33m)\u001b[0m\u001b[1;33m)\u001b[0m\u001b[1;33m\u001b[0m\u001b[1;33m\u001b[0m\u001b[0m\n",
      "\u001b[1;31mZeroDivisionError\u001b[0m: division by zero"
     ]
    }
   ],
   "source": [
    "def devideBy(num):\n",
    "    return 42/num\n",
    "\n",
    "print(devideBy(2))\n",
    "print(devideBy(3))\n",
    "print(devideBy(5))\n",
    "print(devideBy(0))"
   ]
  },
  {
   "cell_type": "markdown",
   "metadata": {},
   "source": [
    "A ZeroDivisionError happens whenever you try to divide a number by zero. From the line number given in the error message, you know that the return statement in devideBy() is causing an error. Errors can be handled with try and except statements. The code that could potentially have an error is put in a try clause. The program execution moves to the start of a following except clause if an error happens. You can put the previous divide-by-zero code in a try clause and have an except clause contain code to handle what happens when this error occurs."
   ]
  },
  {
   "cell_type": "code",
   "execution_count": 140,
   "metadata": {},
   "outputs": [
    {
     "name": "stdout",
     "output_type": "stream",
     "text": [
      "21.0\n",
      "14.0\n",
      "8.4\n",
      "invalid\n",
      "None\n",
      "42.0\n"
     ]
    }
   ],
   "source": [
    "def devideBy(num):\n",
    "    try:\n",
    "        return 42/num\n",
    "    except ZeroDivisionError:\n",
    "        print('invalid')\n",
    "print(devideBy(2))\n",
    "print(devideBy(3))\n",
    "print(devideBy(5))\n",
    "print(devideBy(0))\n",
    "print(devideBy(1))"
   ]
  },
  {
   "cell_type": "markdown",
   "metadata": {},
   "source": [
    "When code in a try clause causes an error, the program executionimmediately moves to the code in the except clause. After running that code, the execution continues as normal.\n",
    "\n",
    "Note that any errors that occur in function calls in a try block will also be caught. Consider the following program, which instead has the *devideBy()* calls in the try block:\n"
   ]
  },
  {
   "cell_type": "code",
   "execution_count": 141,
   "metadata": {},
   "outputs": [
    {
     "name": "stdout",
     "output_type": "stream",
     "text": [
      "21.0\n",
      "14.0\n",
      "8.4\n",
      "invalid\n"
     ]
    }
   ],
   "source": [
    "def devideBy(num):\n",
    "    return 42/num\n",
    "try:\n",
    "    print(devideBy(2))\n",
    "    print(devideBy(3))\n",
    "    print(devideBy(5))\n",
    "    print(devideBy(0))\n",
    "    print(devideBy(1))\n",
    "    print(devideBy(23))\n",
    "except ZeroDivisionError:\n",
    "    print('invalid')\n"
   ]
  },
  {
   "cell_type": "markdown",
   "metadata": {},
   "source": [
    "The reason *print(devideBy(1)),print(devideBy(23))* is never executed is because once the execution jumps to the code in the except clause, it does not return to the try clause. Instead, it just continues moving down as normal."
   ]
  },
  {
   "cell_type": "code",
   "execution_count": 142,
   "metadata": {},
   "outputs": [
    {
     "name": "stdout",
     "output_type": "stream",
     "text": [
      "input the number n\n",
      "25\n",
      "input devider\n",
      "5\n",
      "5.0\n"
     ]
    }
   ],
   "source": [
    "print('input the number n')\n",
    "n=int(input())\n",
    "def devideBy(num):\n",
    "    try:\n",
    "        return n/num\n",
    "    except ZeroDivisionError:\n",
    "        print('undefined')\n",
    "print('input devider')\n",
    "num=int(input())\n",
    "print(devideBy(num))"
   ]
  },
  {
   "cell_type": "markdown",
   "metadata": {},
   "source": [
    "## A Short Program: Guess the Number\n",
    "\n",
    " “guess the number” game\n",
    " When you run this program, the output will look something like this:\n",
    " \n",
    "        I am thinking of a number between 1 and 20.\n",
    "        Take a guess.\n",
    "        10\n",
    "        Your guess is too low.\n",
    "        Take a guess.\n",
    "        15\n",
    "        Your guess is too low.\n",
    "        Take a guess.\n",
    "        17\n",
    "        Your guess is too high.\n",
    "        Take a guess.\n",
    "        16\n",
    "        Good job! You guessed my number in 4 guesses!\n"
   ]
  },
  {
   "cell_type": "code",
   "execution_count": 1,
   "metadata": {},
   "outputs": [
    {
     "name": "stdout",
     "output_type": "stream",
     "text": [
      "I am thinking of a number between 1 and 20.\n",
      "Take a guess.\n",
      "16\n",
      "Good job! You guessed my number in 1 guesses!\n"
     ]
    }
   ],
   "source": [
    "#when correct no is 16\n",
    "\n",
    "print('I am thinking of a number between 1 and 20.')\n",
    "n=0\n",
    "i=0\n",
    "while True:\n",
    "    i=i+1\n",
    "    print('Take a guess.')\n",
    "    n=int(input())\n",
    "    if n>16:\n",
    "        print('Your guess is too high.')\n",
    "    elif n==16:\n",
    "        break\n",
    "    elif n<16:\n",
    "        print('Your guess is too low.')\n",
    "print('Good job! You guessed my number in '+(str(i))+' guesses!')"
   ]
  },
  {
   "cell_type": "code",
   "execution_count": 2,
   "metadata": {},
   "outputs": [
    {
     "name": "stdout",
     "output_type": "stream",
     "text": [
      "I am thinking of a number between 1 and 20.\n",
      "Take a guess.\n",
      "10\n",
      "Your guess is too high.\n",
      "Take a guess.\n",
      "5\n",
      "Your guess is too low.\n",
      "Take a guess.\n",
      "7\n",
      "Your guess is too low.\n",
      "Take a guess.\n",
      "8\n",
      "Your guess is too low.\n",
      "Take a guess.\n",
      "9\n",
      "Good job! You guessed my number in 5 guesses!\n"
     ]
    }
   ],
   "source": [
    "#when correct no is random & unlimited no of guesses\n",
    "\n",
    "import random\n",
    "print('I am thinking of a number between 1 and 20.')\n",
    "rn = random.randint(1,20)\n",
    "n=0\n",
    "i=0\n",
    "while True:\n",
    "    i=i+1\n",
    "    print('Take a guess.')\n",
    "    n=int(input())\n",
    "    if n>rn:\n",
    "        print('Your guess is too high.')\n",
    "    elif n==rn:\n",
    "        break\n",
    "    elif n<rn:\n",
    "        print('Your guess is too low.')\n",
    "print('Good job! You guessed my number in ' +(str(i))+ ' guesses!')"
   ]
  },
  {
   "cell_type": "code",
   "execution_count": 3,
   "metadata": {},
   "outputs": [
    {
     "name": "stdout",
     "output_type": "stream",
     "text": [
      "I am thinking of a number between 1 and 20.\n",
      "Take a guess.\n",
      "10\n",
      "Your guess is too low.\n",
      "Take a guess.\n",
      "15\n",
      "Good job! You guessed my number in 2 guesses!\n"
     ]
    }
   ],
   "source": [
    "#when no is random and limited no of guesses\n",
    "\n",
    "import random\n",
    "print('I am thinking of a number between 1 and 20.')\n",
    "rn = random.randint(1,20)                                    # to generate a number for the user to guess\n",
    "n=0\n",
    "i=0\n",
    "for i in range(1,7):                                         # Ask the player to guess 6 times.\n",
    "    print('Take a guess.')\n",
    "    n=int(input())\n",
    "    if n>rn:\n",
    "        print('Your guess is too high.'#to see whether the guess is less than orgreater than the secret number. \n",
    "    elif n<rn:\n",
    "        print('Your guess is too low.')\n",
    "    else:\n",
    "        break                                    #This condition is the correct guess!\n",
    "if n==rn:\n",
    "    print('Good job! You guessed my number in ' +(str(i))+ ' guesses!')\n",
    "else:\n",
    "    print('Nope. The number I was thinking of was ' + str(rn))\n"
   ]
  },
  {
   "cell_type": "markdown",
   "metadata": {},
   "source": [
    "After the for loop, the previous if...else statement checks whether the player has correctly guessed the number and prints an appropriate message to the screen."
   ]
  },
  {
   "cell_type": "markdown",
   "metadata": {},
   "source": [
    " ## lambda function\n",
    " the lambda keyword is used to create anonymous functions. It has the following syntax:\n",
    " \n",
    "     lambda arguments : expression\n",
    "     \n",
    "1. This function can have any number of arguments but only one expression, which is evaluated and returned.\n",
    "2. One is free to use lambda functions wherever function objects are required.\n",
    "3. You need to keep in your knowledge that lambda functions are syntactically restricted to a single expression.\n",
    "4. It has various uses in particular fields of programming besides other types of expressions in functions.     "
   ]
  },
  {
   "cell_type": "code",
   "execution_count": 31,
   "metadata": {
    "ExecuteTime": {
     "end_time": "2020-10-25T09:30:51.239281Z",
     "start_time": "2020-10-25T09:30:51.218302Z"
    }
   },
   "outputs": [
    {
     "name": "stdout",
     "output_type": "stream",
     "text": [
      "125\n"
     ]
    }
   ],
   "source": [
    "# Python program to illustrate cube of a number\n",
    "# showing difference between def() and lambda().\n",
    "\n",
    "\n",
    "def cube(y):\n",
    "    return y * y * y\n",
    "\n",
    "print(cube(5))"
   ]
  },
  {
   "cell_type": "code",
   "execution_count": 32,
   "metadata": {
    "ExecuteTime": {
     "end_time": "2020-10-25T09:31:04.021620Z",
     "start_time": "2020-10-25T09:31:04.002673Z"
    }
   },
   "outputs": [
    {
     "name": "stdout",
     "output_type": "stream",
     "text": [
      "343\n"
     ]
    }
   ],
   "source": [
    "g = lambda x: x * x * x\n",
    "print(g(7))"
   ]
  },
  {
   "cell_type": "markdown",
   "metadata": {},
   "source": [
    "**The lambda function gets more helpful when used inside a function.**"
   ]
  },
  {
   "cell_type": "code",
   "execution_count": 33,
   "metadata": {
    "ExecuteTime": {
     "end_time": "2020-10-25T09:32:24.176077Z",
     "start_time": "2020-10-25T09:32:24.153138Z"
    }
   },
   "outputs": [
    {
     "name": "stdout",
     "output_type": "stream",
     "text": [
      "Now power is set to 2\n",
      "8 powerof 2 =  64\n",
      "Now power is set to 5\n",
      "8 powerof 5 =  32768\n"
     ]
    }
   ],
   "source": [
    "# Python program to demonstrate\n",
    "# lmabda functions\n",
    "\n",
    "\n",
    "def power(n):\n",
    "    return lambda a: a**n\n",
    "\n",
    "\n",
    "# base = lambda a : a**2 get\n",
    "# returned to base\n",
    "base = power(2)         #now pwer 2 will return, lambda a:a**2 so, base=lambda a:a**2, so base(8)=8**2\n",
    "\n",
    "print(\"Now power is set to 2\")\n",
    "\n",
    "# when calling base it gets\n",
    "# executed with already set with 2\n",
    "print(\"8 powerof 2 = \", base(8))\n",
    "\n",
    "# base = lambda a : a**5 get\n",
    "# returned to base\n",
    "base = power(5)\n",
    "print(\"Now power is set to 5\")\n",
    "\n",
    "# when calling base it gets executed\n",
    "# with already set with newly 2\n",
    "print(\"8 powerof 5 = \", base(8))"
   ]
  },
  {
   "cell_type": "markdown",
   "metadata": {},
   "source": [
    "## Summary\n",
    "   Functions are the primary way to compartmentalize your code into logical groups. Since the variables in functions exist in their own local scopes, the code in one function cannot directly affect the values of variables in other functions. This limits what code could be changing the values of your variables, which can be helpful when it comes to debugging your code.\n",
    "    \n",
    "   Functions are a great tool to help you organize your code. You can think of them as black boxes: They have inputs in the form of parameters and outputs in the form of return values, and the code in them doesn’t affect variables in other functions.\n",
    "    \n",
    "   In previous chapters, a single error could cause your programs to crash. In this chapter, you learned about try and except statements, which can run code when an error has been detected. This can make your programs more resilient to common error cases.\n"
   ]
  },
  {
   "cell_type": "markdown",
   "metadata": {},
   "source": [
    "## Practice Projects\n",
    "\n",
    "### The Collatz Sequence\n",
    "Write a function named collatz() that has one parameter named number. If number is even, then collatz() should print *number//2* and return this value. If number is odd, then *collatz()* should print and *return 3 * number + 1*. Then write a program that lets the user type in an integer and that keeps calling collatz() on that number until the function returns the value 1.\n",
    "\n",
    "*(Amazingly enough, this sequence actually works for any integer—sooner or later, using this sequence, you’ll arrive at 1! Even mathematicians aren’t sure why. Your program is exploring what’s called the Collatz sequence, sometimes called “the simplest impossible math problem.”)* R\n",
    "emember to convert the return value from input() to an integer with the int() function; otherwise, it will be a string value. *Hint: An integer number is even if number % 2 == 0, and it’s odd if number % 2 == 1.*"
   ]
  },
  {
   "cell_type": "code",
   "execution_count": 4,
   "metadata": {},
   "outputs": [
    {
     "name": "stdout",
     "output_type": "stream",
     "text": [
      "3\n",
      "10\n",
      "5\n",
      "16\n",
      "8\n",
      "4\n",
      "2\n",
      "1\n"
     ]
    }
   ],
   "source": [
    "number=int(input())\n",
    "def collatz(number):\n",
    "    if number%2==0:\n",
    "        number=number//2\n",
    "        print(number)\n",
    "        return number\n",
    "    else:\n",
    "        number=number*3+1\n",
    "        print(number)\n",
    "        return number\n",
    "while number!=1:\n",
    "    number=collatz(number)"
   ]
  },
  {
   "cell_type": "markdown",
   "metadata": {},
   "source": [
    "###  Input Validation\n",
    "\n",
    "Add try and except statements to the previous project to detect whether the user types in a noninteger string. Normally, the int() function will raise a ValueError error if it is passed a noninteger string, as in int('puppy'). In the except clause, print a message to the user saying they must enter an integer."
   ]
  },
  {
   "cell_type": "code",
   "execution_count": 5,
   "metadata": {},
   "outputs": [
    {
     "name": "stdout",
     "output_type": "stream",
     "text": [
      "enter a no.:3\n",
      "10\n",
      "5\n",
      "16\n",
      "8\n",
      "4\n",
      "2\n",
      "1\n"
     ]
    }
   ],
   "source": [
    "number=(input('enter a no.:'))\n",
    "def collatz(number):\n",
    "    if number%2==0:\n",
    "        n=number//2\n",
    "        print(n)\n",
    "        return n\n",
    "    else:\n",
    "        n=number*3+1\n",
    "        print(n)\n",
    "        return n\n",
    "try:    \n",
    "    while number!=1:\n",
    "        number=collatz(int(number))\n",
    "except ValueError:\n",
    "    print('enter a INTEGER no')"
   ]
  },
  {
   "cell_type": "markdown",
   "metadata": {},
   "source": [
    "# LISTS\n",
    "\n",
    "One more topic you’ll need to understand before you can begin writing programs in earnest is the list data type and its cousin, the tuple. Lists and tuples can contain multiple values, which makes it easier to write programs that handle large amounts of data. And since lists themselves can contain other lists, you can use them to arrange data into hierarchical structures."
   ]
  },
  {
   "cell_type": "markdown",
   "metadata": {},
   "source": [
    "1. A list is a value that contains multiple values in an **ordered sequence.**\n",
    "2. Just as string values are typed with quote characters to mark where the string begins and ends, a list begins with an opening square bracket and ends with a closing square bracket, []\n",
    "3. Values inside the list are also called items. Items are separated with commas (that is, they are comma-delimited).\n",
    "4. Lists are **mutable,** which means they can be changed.\n",
    "5. Each item in the list has an assigned index value.\n",
    "For example-"
   ]
  },
  {
   "cell_type": "code",
   "execution_count": 1,
   "metadata": {},
   "outputs": [
    {
     "data": {
      "text/plain": [
       "[1, 2, 3]"
      ]
     },
     "execution_count": 1,
     "metadata": {},
     "output_type": "execute_result"
    }
   ],
   "source": [
    "[1,2,3]"
   ]
  },
  {
   "cell_type": "code",
   "execution_count": 2,
   "metadata": {},
   "outputs": [
    {
     "data": {
      "text/plain": [
       "['cat', 'bat', 'rat', 'elephant']"
      ]
     },
     "execution_count": 2,
     "metadata": {},
     "output_type": "execute_result"
    }
   ],
   "source": [
    "['cat','bat','rat','elephant']"
   ]
  },
  {
   "cell_type": "code",
   "execution_count": 3,
   "metadata": {},
   "outputs": [
    {
     "data": {
      "text/plain": [
       "['cat', 3.14, True, None]"
      ]
     },
     "execution_count": 3,
     "metadata": {},
     "output_type": "execute_result"
    }
   ],
   "source": [
    "['cat', 3.14, True,None]"
   ]
  },
  {
   "cell_type": "code",
   "execution_count": 4,
   "metadata": {},
   "outputs": [
    {
     "data": {
      "text/plain": [
       "['cat', 'bat', 'rat']"
      ]
     },
     "execution_count": 4,
     "metadata": {},
     "output_type": "execute_result"
    }
   ],
   "source": [
    "spam=['cat','bat','rat']\n",
    "spam"
   ]
  },
  {
   "cell_type": "markdown",
   "metadata": {},
   "source": [
    "The spam variable is still assigned only one value: the list value. But the list value itself contains other values. The value [] is an empty list that contains no values, similar to '', the empty string."
   ]
  },
  {
   "cell_type": "markdown",
   "metadata": {},
   "source": [
    "### Getting Individual Values in a List with Indexes\n",
    "\n",
    "Say you have the list *['cat', 'bat', 'rat', 'elephant']* stored in a variable named spam. The Python code *spam[0]* would evaluate to *'cat'*, and *spam[1]* would evaluate to *'bat'*, and so on.\n",
    "The integer inside the square brackets that follows the list is called an *index*. The first value in the list is at\n",
    "*index 0*, the second value is at *index 1*, the third value is at *index 2*, and so on.\n",
    "For example-"
   ]
  },
  {
   "cell_type": "code",
   "execution_count": 5,
   "metadata": {},
   "outputs": [
    {
     "data": {
      "text/plain": [
       "'cat'"
      ]
     },
     "execution_count": 5,
     "metadata": {},
     "output_type": "execute_result"
    }
   ],
   "source": [
    "spam=['cat','bat','rat']\n",
    "spam[0]"
   ]
  },
  {
   "cell_type": "code",
   "execution_count": 6,
   "metadata": {},
   "outputs": [
    {
     "data": {
      "text/plain": [
       "'bat'"
      ]
     },
     "execution_count": 6,
     "metadata": {},
     "output_type": "execute_result"
    }
   ],
   "source": [
    "spam[1]"
   ]
  },
  {
   "cell_type": "code",
   "execution_count": 7,
   "metadata": {},
   "outputs": [
    {
     "data": {
      "text/plain": [
       "'rat'"
      ]
     },
     "execution_count": 7,
     "metadata": {},
     "output_type": "execute_result"
    }
   ],
   "source": [
    "spam[2]"
   ]
  },
  {
   "cell_type": "code",
   "execution_count": 8,
   "metadata": {},
   "outputs": [
    {
     "name": "stdout",
     "output_type": "stream",
     "text": [
      "cat\n",
      "bat\n",
      "rat\n"
     ]
    }
   ],
   "source": [
    "print (spam[0])\n",
    "print(spam[1])\n",
    "print (spam[2])"
   ]
  },
  {
   "cell_type": "code",
   "execution_count": 9,
   "metadata": {},
   "outputs": [
    {
     "data": {
      "text/plain": [
       "'the cat eats the rat'"
      ]
     },
     "execution_count": 9,
     "metadata": {},
     "output_type": "execute_result"
    }
   ],
   "source": [
    "'the '+spam[0]+' eats the '+spam[2]"
   ]
  },
  {
   "cell_type": "code",
   "execution_count": 10,
   "metadata": {},
   "outputs": [
    {
     "ename": "IndexError",
     "evalue": "list index out of range",
     "output_type": "error",
     "traceback": [
      "\u001b[1;31m---------------------------------------------------------------------------\u001b[0m",
      "\u001b[1;31mIndexError\u001b[0m                                Traceback (most recent call last)",
      "\u001b[1;32m<ipython-input-10-626ecaac1b45>\u001b[0m in \u001b[0;36m<module>\u001b[1;34m\u001b[0m\n\u001b[0;32m      1\u001b[0m \u001b[0mspam\u001b[0m\u001b[1;33m=\u001b[0m\u001b[1;33m[\u001b[0m\u001b[1;34m'cat'\u001b[0m\u001b[1;33m,\u001b[0m\u001b[1;34m'bat'\u001b[0m\u001b[1;33m,\u001b[0m\u001b[1;34m'rat'\u001b[0m\u001b[1;33m]\u001b[0m\u001b[1;33m\u001b[0m\u001b[1;33m\u001b[0m\u001b[0m\n\u001b[1;32m----> 2\u001b[1;33m \u001b[0mspam\u001b[0m\u001b[1;33m[\u001b[0m\u001b[1;36m1110\u001b[0m\u001b[1;33m]\u001b[0m\u001b[1;33m\u001b[0m\u001b[1;33m\u001b[0m\u001b[0m\n\u001b[0m",
      "\u001b[1;31mIndexError\u001b[0m: list index out of range"
     ]
    }
   ],
   "source": [
    "spam=['cat','bat','rat']\n",
    "spam[1110]"
   ]
  },
  {
   "cell_type": "markdown",
   "metadata": {},
   "source": [
    "Python will give you an *IndexError* error message if you use an index that exceeds the number of values in your list value"
   ]
  },
  {
   "cell_type": "code",
   "execution_count": 11,
   "metadata": {},
   "outputs": [
    {
     "ename": "TypeError",
     "evalue": "list indices must be integers or slices, not float",
     "output_type": "error",
     "traceback": [
      "\u001b[1;31m---------------------------------------------------------------------------\u001b[0m",
      "\u001b[1;31mTypeError\u001b[0m                                 Traceback (most recent call last)",
      "\u001b[1;32m<ipython-input-11-cf6627e6f4c9>\u001b[0m in \u001b[0;36m<module>\u001b[1;34m\u001b[0m\n\u001b[0;32m      1\u001b[0m \u001b[0mspam\u001b[0m\u001b[1;33m=\u001b[0m\u001b[1;33m[\u001b[0m\u001b[1;34m'cat'\u001b[0m\u001b[1;33m,\u001b[0m\u001b[1;34m'bat'\u001b[0m\u001b[1;33m,\u001b[0m\u001b[1;34m'rat'\u001b[0m\u001b[1;33m]\u001b[0m\u001b[1;33m\u001b[0m\u001b[1;33m\u001b[0m\u001b[0m\n\u001b[1;32m----> 2\u001b[1;33m \u001b[0mspam\u001b[0m\u001b[1;33m[\u001b[0m\u001b[1;36m1.0\u001b[0m\u001b[1;33m]\u001b[0m\u001b[1;33m\u001b[0m\u001b[1;33m\u001b[0m\u001b[0m\n\u001b[0m",
      "\u001b[1;31mTypeError\u001b[0m: list indices must be integers or slices, not float"
     ]
    }
   ],
   "source": [
    "spam=['cat','bat','rat']\n",
    "spam[1.0]"
   ]
  },
  {
   "cell_type": "code",
   "execution_count": 12,
   "metadata": {},
   "outputs": [
    {
     "ename": "SyntaxError",
     "evalue": "invalid syntax (<ipython-input-12-5e4a1ec6069b>, line 1)",
     "output_type": "error",
     "traceback": [
      "\u001b[1;36m  File \u001b[1;32m\"<ipython-input-12-5e4a1ec6069b>\"\u001b[1;36m, line \u001b[1;32m1\u001b[0m\n\u001b[1;33m    Indexes can be only integer values, not floats. The following example will cause a *TypeError error:*\u001b[0m\n\u001b[1;37m              ^\u001b[0m\n\u001b[1;31mSyntaxError\u001b[0m\u001b[1;31m:\u001b[0m invalid syntax\n"
     ]
    }
   ],
   "source": [
    "Indexes can be only integer values, not floats. The following example will cause a *TypeError error:*"
   ]
  },
  {
   "cell_type": "code",
   "execution_count": 13,
   "metadata": {},
   "outputs": [
    {
     "data": {
      "text/plain": [
       "'bat'"
      ]
     },
     "execution_count": 13,
     "metadata": {},
     "output_type": "execute_result"
    }
   ],
   "source": [
    "spam[int(1.0)]"
   ]
  },
  {
   "cell_type": "markdown",
   "metadata": {},
   "source": [
    "Lists can also contain other list values. The values in these lists of lists can be accessed using multiple indexes, like so:\n"
   ]
  },
  {
   "cell_type": "code",
   "execution_count": 14,
   "metadata": {},
   "outputs": [
    {
     "data": {
      "text/plain": [
       "['cat', 'dog']"
      ]
     },
     "execution_count": 14,
     "metadata": {},
     "output_type": "execute_result"
    }
   ],
   "source": [
    "spam=[['cat','dog'],'mice','rat','fat',[1,2,3,55]]\n",
    "spam[0]"
   ]
  },
  {
   "cell_type": "code",
   "execution_count": 15,
   "metadata": {},
   "outputs": [
    {
     "data": {
      "text/plain": [
       "'dog'"
      ]
     },
     "execution_count": 15,
     "metadata": {},
     "output_type": "execute_result"
    }
   ],
   "source": [
    "spam[0][1]"
   ]
  },
  {
   "cell_type": "code",
   "execution_count": 16,
   "metadata": {},
   "outputs": [
    {
     "data": {
      "text/plain": [
       "'cat'"
      ]
     },
     "execution_count": 16,
     "metadata": {},
     "output_type": "execute_result"
    }
   ],
   "source": [
    "spam[0][0]"
   ]
  },
  {
   "cell_type": "code",
   "execution_count": 17,
   "metadata": {},
   "outputs": [
    {
     "data": {
      "text/plain": [
       "'fat'"
      ]
     },
     "execution_count": 17,
     "metadata": {},
     "output_type": "execute_result"
    }
   ],
   "source": [
    "spam[3]"
   ]
  },
  {
   "cell_type": "code",
   "execution_count": 18,
   "metadata": {},
   "outputs": [
    {
     "data": {
      "text/plain": [
       "[1, 2, 3, 55]"
      ]
     },
     "execution_count": 18,
     "metadata": {},
     "output_type": "execute_result"
    }
   ],
   "source": [
    "spam[4]"
   ]
  },
  {
   "cell_type": "code",
   "execution_count": 19,
   "metadata": {},
   "outputs": [
    {
     "data": {
      "text/plain": [
       "55"
      ]
     },
     "execution_count": 19,
     "metadata": {},
     "output_type": "execute_result"
    }
   ],
   "source": [
    "spam[4][3]"
   ]
  },
  {
   "cell_type": "markdown",
   "metadata": {},
   "source": [
    "The first index dictates which list value to use, and the second indicates the value within the list value. For example, spam[0][1] prints 'dog', the second value in the first list.\n"
   ]
  },
  {
   "cell_type": "markdown",
   "metadata": {},
   "source": [
    "### Negative Indexes\n",
    "\n",
    "-While indexes start at 0 and go up, you can also use negative integers for the index.\n",
    "-The integer value -1 refers to the last index in a list, the value -2 refers to the second-to-last index in a list, and so on. Enter the following into the interactive shell:"
   ]
  },
  {
   "cell_type": "code",
   "execution_count": 20,
   "metadata": {},
   "outputs": [
    {
     "data": {
      "text/plain": [
       "[1, 2, 3, 55]"
      ]
     },
     "execution_count": 20,
     "metadata": {},
     "output_type": "execute_result"
    }
   ],
   "source": [
    "spam=[['cat','dog'],'mice','rat','fat',[1,2,3,55]]\n",
    "spam[-1]"
   ]
  },
  {
   "cell_type": "code",
   "execution_count": 21,
   "metadata": {},
   "outputs": [
    {
     "data": {
      "text/plain": [
       "55"
      ]
     },
     "execution_count": 21,
     "metadata": {},
     "output_type": "execute_result"
    }
   ],
   "source": [
    "spam[-1][-1]"
   ]
  },
  {
   "cell_type": "code",
   "execution_count": 22,
   "metadata": {},
   "outputs": [
    {
     "data": {
      "text/plain": [
       "2"
      ]
     },
     "execution_count": 22,
     "metadata": {},
     "output_type": "execute_result"
    }
   ],
   "source": [
    "spam[-1][-3]"
   ]
  },
  {
   "cell_type": "code",
   "execution_count": 23,
   "metadata": {},
   "outputs": [
    {
     "data": {
      "text/plain": [
       "'fat'"
      ]
     },
     "execution_count": 23,
     "metadata": {},
     "output_type": "execute_result"
    }
   ],
   "source": [
    "spam[-2]"
   ]
  },
  {
   "cell_type": "markdown",
   "metadata": {},
   "source": [
    "### Getting Sublists with Slices\n",
    "Just as an index can get a single value from a list, a slice can get several values from a list, in the form of a new list. A slice is typed between square brackets, like an index, but it has two integers separated by a colon. Notice the difference between indexes and slices.\n",
    "\n",
    "•\t spam[2] is a list with an index (one integer).\n",
    "•\t spam[1:4] is a list with a slice (two integers).\n",
    "\n",
    "In a slice, the first integer is the index where the slice starts. The second integer is the index where the slice ends. A slice goes up to, but will not include, the value at the second index. A slice evaluates to a new list value. \n",
    "\n"
   ]
  },
  {
   "cell_type": "code",
   "execution_count": 24,
   "metadata": {},
   "outputs": [
    {
     "data": {
      "text/plain": [
       "['cat', 'bat']"
      ]
     },
     "execution_count": 24,
     "metadata": {},
     "output_type": "execute_result"
    }
   ],
   "source": [
    "spam = ['cat', 'bat', 'rat', 'elephant']\n",
    "spam[0:2]\n",
    "    "
   ]
  },
  {
   "cell_type": "code",
   "execution_count": 25,
   "metadata": {},
   "outputs": [
    {
     "data": {
      "text/plain": [
       "['cat', 'bat', 'rat']"
      ]
     },
     "execution_count": 25,
     "metadata": {},
     "output_type": "execute_result"
    }
   ],
   "source": [
    "spam[0:-1]"
   ]
  },
  {
   "cell_type": "code",
   "execution_count": 26,
   "metadata": {},
   "outputs": [
    {
     "data": {
      "text/plain": [
       "['cat', 'bat', 'rat']"
      ]
     },
     "execution_count": 26,
     "metadata": {},
     "output_type": "execute_result"
    }
   ],
   "source": [
    "spam[0:3]"
   ]
  },
  {
   "cell_type": "code",
   "execution_count": 27,
   "metadata": {},
   "outputs": [
    {
     "data": {
      "text/plain": [
       "['cat', 'bat', 'rat', 'elephant']"
      ]
     },
     "execution_count": 27,
     "metadata": {},
     "output_type": "execute_result"
    }
   ],
   "source": [
    "spam[0:4]"
   ]
  },
  {
   "cell_type": "markdown",
   "metadata": {},
   "source": [
    "As a shortcut, you can leave out one or both of the indexes on either side of the colon in the slice. Leaving out the first index is the same as using 0, or the beginning of the list. Leaving out the second index is the same as using the length of the list, which will slice to the end of the list. E"
   ]
  },
  {
   "cell_type": "code",
   "execution_count": 28,
   "metadata": {},
   "outputs": [
    {
     "data": {
      "text/plain": [
       "['cat', 'bat', 'rat']"
      ]
     },
     "execution_count": 28,
     "metadata": {},
     "output_type": "execute_result"
    }
   ],
   "source": [
    "spam[:3]"
   ]
  },
  {
   "cell_type": "code",
   "execution_count": 29,
   "metadata": {},
   "outputs": [
    {
     "data": {
      "text/plain": [
       "['cat', 'bat', 'rat']"
      ]
     },
     "execution_count": 29,
     "metadata": {},
     "output_type": "execute_result"
    }
   ],
   "source": [
    "spam[:-1]"
   ]
  },
  {
   "cell_type": "code",
   "execution_count": 30,
   "metadata": {},
   "outputs": [
    {
     "data": {
      "text/plain": [
       "['cat', 'bat', 'rat', 'elephant']"
      ]
     },
     "execution_count": 30,
     "metadata": {},
     "output_type": "execute_result"
    }
   ],
   "source": [
    "spam[:]"
   ]
  },
  {
   "cell_type": "code",
   "execution_count": 31,
   "metadata": {},
   "outputs": [
    {
     "data": {
      "text/plain": [
       "['rat', 'elephant']"
      ]
     },
     "execution_count": 31,
     "metadata": {},
     "output_type": "execute_result"
    }
   ],
   "source": [
    "spam[2:]"
   ]
  },
  {
   "cell_type": "markdown",
   "metadata": {},
   "source": [
    "**print alternate elements in a list, *list[start:end:stepSize]***"
   ]
  },
  {
   "cell_type": "code",
   "execution_count": 32,
   "metadata": {},
   "outputs": [
    {
     "name": "stdout",
     "output_type": "stream",
     "text": [
      "[10, 20, 30, 40, 50, 60, 70, 80]\n",
      "[10, 30, 50, 70]\n",
      "[30, 50, 70]\n"
     ]
    }
   ],
   "source": [
    "numbers = [10, 20, 30, 40, 50,60,70,80]\n",
    "\n",
    "print(numbers)\n",
    "\n",
    "print(numbers[::2])                     #print alternate elements in a list  10, 30, 50, 70\n",
    "\n",
    "print(numbers[2::2])                    #print from 2 to last with two gap, 30,50,70"
   ]
  },
  {
   "cell_type": "markdown",
   "metadata": {},
   "source": [
    "### Getting a List’s Length with len()\n",
    "The len() function will return the number of values that are in a list value passed to it, just like it can count the number of characters in a string value. "
   ]
  },
  {
   "cell_type": "code",
   "execution_count": 33,
   "metadata": {},
   "outputs": [
    {
     "data": {
      "text/plain": [
       "4"
      ]
     },
     "execution_count": 33,
     "metadata": {},
     "output_type": "execute_result"
    }
   ],
   "source": [
    "len(spam)"
   ]
  },
  {
   "cell_type": "code",
   "execution_count": 34,
   "metadata": {},
   "outputs": [
    {
     "name": "stdout",
     "output_type": "stream",
     "text": [
      "4\n"
     ]
    }
   ],
   "source": [
    "lst = ['one', 'two', 'three', 'four']\n",
    "                                                #find length of a list\n",
    "print(len(lst))"
   ]
  },
  {
   "cell_type": "markdown",
   "metadata": {},
   "source": [
    "### List Count\n",
    "**to count how many time element occurs in list.**"
   ]
  },
  {
   "cell_type": "code",
   "execution_count": 35,
   "metadata": {},
   "outputs": [
    {
     "name": "stdout",
     "output_type": "stream",
     "text": [
      "2\n",
      "2\n"
     ]
    }
   ],
   "source": [
    "numbers = [1, 2, 3, 1, 3, 4, 2, 5]\n",
    "\n",
    "print(numbers.count(1))   #frequency of 1 in a list\n",
    "\n",
    "print(numbers.count(3))   #frequency of 3 in a list"
   ]
  },
  {
   "cell_type": "markdown",
   "metadata": {},
   "source": [
    "###  Changing Values in a List with Indexes\n",
    "Normally a variable name goes on the left side of an assignment statement, like spam = 42. However, you can also use an index of a list to change the value at that index."
   ]
  },
  {
   "cell_type": "code",
   "execution_count": 36,
   "metadata": {},
   "outputs": [
    {
     "data": {
      "text/plain": [
       "['cat', 'eagle', 'rat', 'elephant']"
      ]
     },
     "execution_count": 36,
     "metadata": {},
     "output_type": "execute_result"
    }
   ],
   "source": [
    "spam = ['cat', 'bat', 'rat', 'elephant']\n",
    "spam[1]='eagle'\n",
    "spam"
   ]
  },
  {
   "cell_type": "code",
   "execution_count": 37,
   "metadata": {},
   "outputs": [
    {
     "data": {
      "text/plain": [
       "['rat', 'eagle', 'rat', 'elephant']"
      ]
     },
     "execution_count": 37,
     "metadata": {},
     "output_type": "execute_result"
    }
   ],
   "source": [
    "spam[0]=spam[2]\n",
    "spam"
   ]
  },
  {
   "cell_type": "markdown",
   "metadata": {},
   "source": [
    "### List Concatenation and List Replication\n",
    "\n",
    "The **+ operator** can combine two lists to create a new list value in the same way it combines two strings into a new string value.**The * operator** can also be used with a list and an integer value to replicate the list"
   ]
  },
  {
   "cell_type": "code",
   "execution_count": 38,
   "metadata": {},
   "outputs": [
    {
     "data": {
      "text/plain": [
       "['a', 'b', 'c', 1, 2, 3]"
      ]
     },
     "execution_count": 38,
     "metadata": {},
     "output_type": "execute_result"
    }
   ],
   "source": [
    "['a','b','c']+[1,2,3]"
   ]
  },
  {
   "cell_type": "code",
   "execution_count": 39,
   "metadata": {},
   "outputs": [
    {
     "data": {
      "text/plain": [
       "['cat', 'bat', 'rat', 'elephant', 1, 2, 3, 4]"
      ]
     },
     "execution_count": 39,
     "metadata": {},
     "output_type": "execute_result"
    }
   ],
   "source": [
    "spam = ['cat', 'bat', 'rat', 'elephant']\n",
    "spam+[1,2,3,4]"
   ]
  },
  {
   "cell_type": "code",
   "execution_count": 40,
   "metadata": {},
   "outputs": [
    {
     "data": {
      "text/plain": [
       "['cat',\n",
       " 'bat',\n",
       " 'rat',\n",
       " 'elephant',\n",
       " 'cat',\n",
       " 'bat',\n",
       " 'rat',\n",
       " 'elephant',\n",
       " 'cat',\n",
       " 'bat',\n",
       " 'rat',\n",
       " 'elephant']"
      ]
     },
     "execution_count": 40,
     "metadata": {},
     "output_type": "execute_result"
    }
   ],
   "source": [
    "spam*3"
   ]
  },
  {
   "cell_type": "markdown",
   "metadata": {},
   "source": [
    "### Removing Values from Lists with del Statements\n",
    "The *del* statement will delete values at an index in a list. All of the values in the list after the deleted value will be moved up one index"
   ]
  },
  {
   "cell_type": "code",
   "execution_count": 41,
   "metadata": {},
   "outputs": [
    {
     "data": {
      "text/plain": [
       "['bat', 'rat', 'elephant']"
      ]
     },
     "execution_count": 41,
     "metadata": {},
     "output_type": "execute_result"
    }
   ],
   "source": [
    "spam = ['cat', 'bat', 'rat', 'elephant']\n",
    "del spam[0]\n",
    "spam"
   ]
  },
  {
   "cell_type": "code",
   "execution_count": 42,
   "metadata": {},
   "outputs": [
    {
     "data": {
      "text/plain": [
       "['bat', 'elephant']"
      ]
     },
     "execution_count": 42,
     "metadata": {},
     "output_type": "execute_result"
    }
   ],
   "source": [
    "del spam[1]\n",
    "spam"
   ]
  },
  {
   "cell_type": "code",
   "execution_count": 43,
   "metadata": {},
   "outputs": [
    {
     "data": {
      "text/plain": [
       "['elephant']"
      ]
     },
     "execution_count": 43,
     "metadata": {},
     "output_type": "execute_result"
    }
   ],
   "source": [
    "del spam[0]\n",
    "spam"
   ]
  },
  {
   "cell_type": "markdown",
   "metadata": {},
   "source": [
    "The del statement can also be used on a simple variable to delete it, as if it were an “unassignment” statement. If you try to use the variable after deleting it, you will get a NameError error because the variable no longer exists. In practice, you almost never need to delete simple variables. The delstatement is mostly used to delete values from lists."
   ]
  },
  {
   "cell_type": "markdown",
   "metadata": {},
   "source": [
    "## Working with Lists\n",
    "When you first begin writing programs, it’s tempting to create many individual variables to store a group of similar values. For example, if I wanted to store the names of my cats, I might be tempted to write code like this:\n",
    "\n",
    "    catName1 = 'Zophie'\n",
    "    catName2 = 'Pooka'\n",
    "    catName3 = 'Simon'\n",
    "    catName4 = 'Lady Macbeth'\n",
    "    catName5 = 'Fat-tail'\n",
    "    catName6 = 'Miss Cleo'\n",
    "    \n",
    "It turns out that this is a bad way to write code. For one thing, if the number of cats changes, your program will never be able to store more cats than you have variables. These types of programs also have a lot of duplicate or nearly identical code in them. Consider how much duplicate code is in the following program.\n",
    "\n",
    "    print('Enter the name of cat 1:')\n",
    "    catName1 = input()\n",
    "    print('Enter the name of cat 2:')\n",
    "    catName2 = input()\n",
    "    print('Enter the name of cat 3:')\n",
    "    catName3 = input()\n",
    "    print('Enter the name of cat 4:')\n",
    "    catName4 = input()\n",
    "    print('Enter the name of cat 5:')\n",
    "    catName5 = input()\n",
    "    print('Enter the name of cat 6:')\n",
    "    catName6 = input()\n",
    "    print('The cat names are:')\n",
    "    print(catName1 + ' ' + catName2 + ' ' + catName3 + ' ' + catName4 + ' ' +\n",
    "    catName5 + ' ' + catName6)\n",
    "\n"
   ]
  },
  {
   "cell_type": "code",
   "execution_count": 44,
   "metadata": {},
   "outputs": [
    {
     "name": "stdout",
     "output_type": "stream",
     "text": [
      "Enter the name of cat 1:\n",
      "a\n",
      "Enter the name of cat 2:\n",
      "c\n",
      "Enter the name of cat 3:\n",
      "b\n",
      "Enter the name of cat 4:\n",
      "g\n",
      "Enter the name of cat 5:\n",
      "d\n",
      "Enter the name of cat 6:\n",
      "w\n",
      "The cat names are:\n",
      "a c b g d w\n"
     ]
    }
   ],
   "source": [
    "print('Enter the name of cat 1:')\n",
    "catName1 = input()\n",
    "print('Enter the name of cat 2:')\n",
    "catName2 = input()\n",
    "print('Enter the name of cat 3:')\n",
    "catName3 = input()\n",
    "print('Enter the name of cat 4:')\n",
    "catName4 = input()\n",
    "print('Enter the name of cat 5:')\n",
    "catName5 = input()\n",
    "print('Enter the name of cat 6:')\n",
    "catName6 = input()\n",
    "print('The cat names are:')\n",
    "print(catName1 + ' ' + catName2 + ' ' + catName3 + ' ' + catName4 + ' ' + catName5 + ' ' + catName6)"
   ]
  },
  {
   "cell_type": "markdown",
   "metadata": {},
   "source": [
    "Instead of using multiple, repetitive variables, you can use a single variable that contains a list value. For example, here’s a new and improved version of the program. This new version uses a single list and can store any number of cats that the user types in."
   ]
  },
  {
   "cell_type": "code",
   "execution_count": 45,
   "metadata": {},
   "outputs": [
    {
     "name": "stdout",
     "output_type": "stream",
     "text": [
      "name of the cat ''to exit:ghk\n",
      "name of the cat ''to exit:jhk\n",
      "name of the cat ''to exit:\n",
      "cat names are\n",
      "['ghk', 'jhk', '']\n"
     ]
    }
   ],
   "source": [
    "#written by me\n",
    "catName=[]\n",
    "name='s'\n",
    "while name!='':\n",
    "    name=input(\"name of the cat ''to exit:\")\n",
    "    catName= catName+[name]\n",
    "print('cat names are')                          \n",
    "print(catName)"
   ]
  },
  {
   "cell_type": "code",
   "execution_count": 46,
   "metadata": {},
   "outputs": [
    {
     "name": "stdout",
     "output_type": "stream",
     "text": [
      "enter the name 1 (or enter nothig to stop):\n",
      "b\n",
      "enter the name 2 (or enter nothig to stop):\n",
      "k\n",
      "enter the name 3 (or enter nothig to stop):\n",
      "y\n",
      "enter the name 4 (or enter nothig to stop):\n",
      "\n",
      "cat names are:\n",
      "b\n",
      "k\n",
      "y\n"
     ]
    }
   ],
   "source": [
    "\n",
    "catName=[]\n",
    "while True:\n",
    "    print('enter the name '+ str(len(catName)+1) + ' (or enter nothig to stop):')\n",
    "    name=input()\n",
    "    if name=='':\n",
    "        break\n",
    "    else:\n",
    "        catName=catName+[name]\n",
    "print('cat names are:')\n",
    "for i in range (len(catName)):              #by using i in range\n",
    "    print(catName[i])"
   ]
  },
  {
   "cell_type": "code",
   "execution_count": 47,
   "metadata": {},
   "outputs": [
    {
     "name": "stdout",
     "output_type": "stream",
     "text": [
      "enter the name 1 (or enter nothig to stop):\n",
      "b\n",
      "enter the name 2 (or enter nothig to stop):\n",
      "k\n",
      "enter the name 3 (or enter nothig to stop):\n",
      "l\n",
      "enter the name 4 (or enter nothig to stop):\n",
      "\n",
      "cat names are:\n",
      "b\n",
      "k\n",
      "l\n"
     ]
    }
   ],
   "source": [
    "catName=[]\n",
    "while True:\n",
    "    print('enter the name '+ str(len(catName)+1) + ' (or enter nothig to stop):')\n",
    "    name=input()\n",
    "    if name=='':\n",
    "        break\n",
    "    catName=catName+[name]\n",
    "print('cat names are:') \n",
    "for i in catName:                                #using for name in catName len\n",
    "    print(i)"
   ]
  },
  {
   "cell_type": "markdown",
   "metadata": {},
   "source": [
    "The benefit of using a list is that your data is now in a structure, so your program is much more flexible in processing the data than it would be with several repetitive variables"
   ]
  },
  {
   "cell_type": "markdown",
   "metadata": {},
   "source": [
    "### Using for Loops with Lists\n",
    " Technically, a for loop repeats the code block once for each value in a list or list-like value. For example, if you ran\n",
    "this code:\n",
    "\n",
    "    for i in range(4):\n",
    "        print(i)\n",
    "the output of this program would be as follows:\n",
    "\n",
    "    0\n",
    "    1\n",
    "    2\n",
    "    3\n",
    "    \n",
    "This is because the return value from range(4) is a list-like value that Python considers similar to [0, 1, 2, 3]. The following program has the same output as the previous one:\n",
    "\n",
    "    for i in [0, 1, 2, 3]:\n",
    "        print(i)\n",
    "        \n",
    "What the previous for loop actually does is loop through its clause with the variable i set to a successive value in the\n",
    "[0, 1, 2, 3] list in each iteration."
   ]
  },
  {
   "cell_type": "code",
   "execution_count": 48,
   "metadata": {},
   "outputs": [
    {
     "name": "stdout",
     "output_type": "stream",
     "text": [
      "0\n",
      "1\n",
      "2\n",
      "3\n"
     ]
    }
   ],
   "source": [
    "for i in [0, 1, 2, 3]:\n",
    "    print(i)"
   ]
  },
  {
   "cell_type": "markdown",
   "metadata": {},
   "source": [
    "A common Python technique is to use range(len(someList)) with a for\n",
    "loop to iterate over the indexes of a list. For example,\n"
   ]
  },
  {
   "cell_type": "code",
   "execution_count": 49,
   "metadata": {},
   "outputs": [
    {
     "name": "stdout",
     "output_type": "stream",
     "text": [
      "Index 0 in supplies is: pens\n",
      "Index 1 in supplies is: staplers\n",
      "Index 2 in supplies is: flame-throwers\n",
      "Index 3 in supplies is: binders\n"
     ]
    }
   ],
   "source": [
    "supplies = ['pens', 'staplers', 'flame-throwers', 'binders']\n",
    "for i in range(len(supplies)):\n",
    "    print('Index ' + str(i) + ' in supplies is: ' + supplies[i])"
   ]
  },
  {
   "cell_type": "markdown",
   "metadata": {},
   "source": [
    "Using range(len(supplies)) in the previously shown for loop is handy because the code in the loop can access the index (as the variable i) and the value at that index (as supplies[i]). Best of all, range(len(supplies)) will iterate through all the indexes of supplies, no matter how many items it contains."
   ]
  },
  {
   "cell_type": "markdown",
   "metadata": {},
   "source": [
    "##  List comprehension"
   ]
  },
  {
   "cell_type": "code",
   "execution_count": 50,
   "metadata": {},
   "outputs": [
    {
     "name": "stdout",
     "output_type": "stream",
     "text": [
      "[0, 1, 4, 9, 16, 25, 36, 49, 64, 81]\n"
     ]
    }
   ],
   "source": [
    "# without list comprehension\n",
    "\n",
    "squares = []\n",
    "for i in range(10):\n",
    "    squares.append(i**2)   #list append\n",
    "print(squares)"
   ]
  },
  {
   "cell_type": "code",
   "execution_count": 51,
   "metadata": {},
   "outputs": [
    {
     "name": "stdout",
     "output_type": "stream",
     "text": [
      "[0, 1, 4, 9, 16, 25, 36, 49, 64, 81]\n"
     ]
    }
   ],
   "source": [
    "#using list comprehension\n",
    "\n",
    "squares = [i**2 for i in range(10)]\n",
    "\n",
    "print(squares)"
   ]
  },
  {
   "cell_type": "code",
   "execution_count": 52,
   "metadata": {},
   "outputs": [
    {
     "name": "stdout",
     "output_type": "stream",
     "text": [
      "[-20, -40, 20, 40, 100]\n",
      "[10, 20, 50]\n",
      "[(0, 0), (1, 1), (2, 4), (3, 9), (4, 16), (5, 25), (6, 36), (7, 49), (8, 64), (9, 81)]\n"
     ]
    }
   ],
   "source": [
    "#example\n",
    "\n",
    "lst = [-10, -20, 10, 20, 50]\n",
    "\n",
    "new_lst = [i*2 for i in lst]              #create a new list with values doubled\n",
    "print(new_lst)\n",
    "\n",
    "\n",
    "new_lst = [i for i in lst if i >= 0]      #filter the list to exclude negative numbers\n",
    "print(new_lst)\n",
    "\n",
    "\n",
    "\n",
    "new_lst = [(i, i**2) for i in range(10)]   #create a list of tuples like (number, square_of_number)\n",
    "print(new_lst)"
   ]
  },
  {
   "cell_type": "markdown",
   "metadata": {},
   "source": [
    "## Nested List Comprehensions\n"
   ]
  },
  {
   "cell_type": "code",
   "execution_count": 53,
   "metadata": {},
   "outputs": [
    {
     "name": "stdout",
     "output_type": "stream",
     "text": [
      "[[1, 5, 9], [2, 6, 10], [3, 7, 11], [4, 8, 12]]\n"
     ]
    }
   ],
   "source": [
    "#let's suppose we have a matrix\n",
    "\n",
    "matrix = [[1, 2, 3, 4],\n",
    "          [5, 6, 7, 8],\n",
    "          [9, 10, 11, 12]]\n",
    "\n",
    "                                #transpose of a matrix without list comprehension\n",
    "transposed = []\n",
    "for i in range(4):\n",
    "    lst = []\n",
    "    for row in matrix:\n",
    "        lst.append(row[i])\n",
    "    transposed.append(lst)\n",
    "\n",
    "print(transposed)"
   ]
  },
  {
   "cell_type": "markdown",
   "metadata": {},
   "source": [
    "**Using list comprehension above code can be written in one line**"
   ]
  },
  {
   "cell_type": "code",
   "execution_count": 54,
   "metadata": {},
   "outputs": [
    {
     "name": "stdout",
     "output_type": "stream",
     "text": [
      "[[1, 5, 9], [2, 6, 10], [3, 7, 11], [4, 8, 12]]\n"
     ]
    }
   ],
   "source": [
    "#with list comprehension\n",
    "matrix = [[1, 2, 3, 4],\n",
    "          [5, 6, 7, 8],\n",
    "          [9, 10, 11, 12]]\n",
    "\n",
    "transposed = [[row[i] for row in matrix] for i in range(4)]\n",
    "print(transposed)"
   ]
  },
  {
   "cell_type": "markdown",
   "metadata": {},
   "source": [
    "### The in and not in Operators\n",
    "You can determine whether a value is or isn’t in a list with the in and not in operators. Like other operators, in and not in are used in expressions and connect two values: a value to look for in a list and the list where it may be found. These expressions will evaluate to a Boolean value."
   ]
  },
  {
   "cell_type": "code",
   "execution_count": 55,
   "metadata": {},
   "outputs": [
    {
     "data": {
      "text/plain": [
       "True"
      ]
     },
     "execution_count": 55,
     "metadata": {},
     "output_type": "execute_result"
    }
   ],
   "source": [
    "'ram' in ['sam','jam','cam','ram']"
   ]
  },
  {
   "cell_type": "code",
   "execution_count": 56,
   "metadata": {},
   "outputs": [
    {
     "data": {
      "text/plain": [
       "True"
      ]
     },
     "execution_count": 56,
     "metadata": {},
     "output_type": "execute_result"
    }
   ],
   "source": [
    "spam=['sam','jam','cam','ram']\n",
    "'cam' in spam"
   ]
  },
  {
   "cell_type": "code",
   "execution_count": 57,
   "metadata": {},
   "outputs": [
    {
     "data": {
      "text/plain": [
       "False"
      ]
     },
     "execution_count": 57,
     "metadata": {},
     "output_type": "execute_result"
    }
   ],
   "source": [
    "'cat'in spam"
   ]
  },
  {
   "cell_type": "code",
   "execution_count": 58,
   "metadata": {},
   "outputs": [
    {
     "data": {
      "text/plain": [
       "True"
      ]
     },
     "execution_count": 58,
     "metadata": {},
     "output_type": "execute_result"
    }
   ],
   "source": [
    "'mat'not in spam"
   ]
  },
  {
   "cell_type": "markdown",
   "metadata": {},
   "source": [
    "**type in a pet name and then checks to see whether the name is in a list of pets.**"
   ]
  },
  {
   "cell_type": "code",
   "execution_count": 59,
   "metadata": {},
   "outputs": [
    {
     "name": "stdout",
     "output_type": "stream",
     "text": [
      "enter pet name\n",
      "don\n",
      "don is my pet\n"
     ]
    }
   ],
   "source": [
    "myPets=['don','mon','jol','sal']\n",
    "print('enter pet name')\n",
    "name=input()\n",
    "if name in myPets:\n",
    "    print(name+' is my pet')\n",
    "else:\n",
    "    print(name+ ' is not my pet')"
   ]
  },
  {
   "cell_type": "markdown",
   "metadata": {},
   "source": [
    "**The multiple assignment trick is a shortcut that lets you assign multiple variables with the values in a list in one line of code. So instead of doing this:**"
   ]
  },
  {
   "cell_type": "code",
   "execution_count": 60,
   "metadata": {},
   "outputs": [],
   "source": [
    "cat=['fat','black','loud']\n",
    "size=cat[0]\n",
    "color=cat[1]\n",
    "disposion=cat[2]"
   ]
  },
  {
   "cell_type": "markdown",
   "metadata": {},
   "source": [
    "you could type this line of code:"
   ]
  },
  {
   "cell_type": "code",
   "execution_count": 61,
   "metadata": {},
   "outputs": [
    {
     "data": {
      "text/plain": [
       "'fat'"
      ]
     },
     "execution_count": 61,
     "metadata": {},
     "output_type": "execute_result"
    }
   ],
   "source": [
    "cat=['fat','black','loud']\n",
    "size,color,disposion=cat\n",
    "size"
   ]
  },
  {
   "cell_type": "markdown",
   "metadata": {},
   "source": [
    "**The number of variables and the length of the list must be exactly equal, or Python will give you a ValueError**:"
   ]
  },
  {
   "cell_type": "code",
   "execution_count": 62,
   "metadata": {},
   "outputs": [
    {
     "ename": "ValueError",
     "evalue": "not enough values to unpack (expected 4, got 3)",
     "output_type": "error",
     "traceback": [
      "\u001b[1;31m---------------------------------------------------------------------------\u001b[0m",
      "\u001b[1;31mValueError\u001b[0m                                Traceback (most recent call last)",
      "\u001b[1;32m<ipython-input-62-7510c00683e0>\u001b[0m in \u001b[0;36m<module>\u001b[1;34m\u001b[0m\n\u001b[0;32m      1\u001b[0m \u001b[0mcat\u001b[0m\u001b[1;33m=\u001b[0m\u001b[1;33m[\u001b[0m\u001b[1;34m'fat'\u001b[0m\u001b[1;33m,\u001b[0m\u001b[1;34m'black'\u001b[0m\u001b[1;33m,\u001b[0m\u001b[1;34m'loud'\u001b[0m\u001b[1;33m]\u001b[0m\u001b[1;33m\u001b[0m\u001b[1;33m\u001b[0m\u001b[0m\n\u001b[1;32m----> 2\u001b[1;33m \u001b[0msize\u001b[0m\u001b[1;33m,\u001b[0m\u001b[0mcolor\u001b[0m\u001b[1;33m,\u001b[0m\u001b[0mdisposion\u001b[0m\u001b[1;33m,\u001b[0m\u001b[0mname\u001b[0m\u001b[1;33m=\u001b[0m\u001b[0mcat\u001b[0m\u001b[1;33m\u001b[0m\u001b[1;33m\u001b[0m\u001b[0m\n\u001b[0m",
      "\u001b[1;31mValueError\u001b[0m: not enough values to unpack (expected 4, got 3)"
     ]
    }
   ],
   "source": [
    "cat=['fat','black','loud']\n",
    "size,color,disposion,name=cat"
   ]
  },
  {
   "cell_type": "markdown",
   "metadata": {},
   "source": [
    "## Augmented Assignment Operators\n",
    "Augmented Assignment Operators\n",
    "When assigning a value to a variable, you will frequently use the variable\n",
    "itself. For example, after assigning 42 to the variable spam, you would increase\n",
    "the value in spam by 1 with the following code:"
   ]
  },
  {
   "cell_type": "code",
   "execution_count": 63,
   "metadata": {},
   "outputs": [
    {
     "data": {
      "text/plain": [
       "49"
      ]
     },
     "execution_count": 63,
     "metadata": {},
     "output_type": "execute_result"
    }
   ],
   "source": [
    "spam = 42\n",
    "spam = spam + 7\n",
    "spam"
   ]
  },
  {
   "cell_type": "markdown",
   "metadata": {},
   "source": [
    "**As a shortcut, you can use the augmented assignment operator += to do the same thing:**"
   ]
  },
  {
   "cell_type": "code",
   "execution_count": 64,
   "metadata": {},
   "outputs": [
    {
     "data": {
      "text/plain": [
       "49"
      ]
     },
     "execution_count": 64,
     "metadata": {},
     "output_type": "execute_result"
    }
   ],
   "source": [
    "spam = 42\n",
    "spam += 7\n",
    "spam"
   ]
  },
  {
   "cell_type": "markdown",
   "metadata": {},
   "source": [
    "**There are augmented assignment operators for the +, -, *, /, and % operators, described in Table-**\n",
    "\n",
    "      Augmented assignment statement         Equivalent assignment statement\n",
    "        spam = spam + 1                            spam += 1\n",
    "        spam = spam - 1                            spam -= 1\n",
    "        spam = spam * 1                            spam *= 1\n",
    "        spam = spam / 1                            spam /= 1\n",
    "        spam = spam % 1                            spam %= 1\n",
    "\n",
    "The += operator can also do string and list concatenation, and the *= operator can do string and list replication\n",
    "\n"
   ]
  },
  {
   "cell_type": "code",
   "execution_count": 65,
   "metadata": {},
   "outputs": [
    {
     "data": {
      "text/plain": [
       "'hello world'"
      ]
     },
     "execution_count": 65,
     "metadata": {},
     "output_type": "execute_result"
    }
   ],
   "source": [
    "spam='hello'\n",
    "spam+=' world'\n",
    "spam"
   ]
  },
  {
   "cell_type": "code",
   "execution_count": 66,
   "metadata": {},
   "outputs": [
    {
     "data": {
      "text/plain": [
       "['sucks', 'sucks', 'sucks']"
      ]
     },
     "execution_count": 66,
     "metadata": {},
     "output_type": "execute_result"
    }
   ],
   "source": [
    "life=['sucks']\n",
    "life*=3\n",
    "life"
   ]
  },
  {
   "cell_type": "markdown",
   "metadata": {},
   "source": [
    "## Methods\n",
    "Each data type has its own set of methods. The list data type, for example, has several useful methods for finding, adding, removing, andotherwise manipulating values in a list.\n",
    "\n",
    "### Finding a Value in a List with the *index()* Method\n",
    "\n",
    "List values have an ***index()*** method that can be passed a value, and if thatvalue exists in the list, the index of the value is returned. **If the value isn’tin the list, then Python produces a ValueError error.** Enter the following intothe interactive shell:\n"
   ]
  },
  {
   "cell_type": "code",
   "execution_count": 67,
   "metadata": {},
   "outputs": [
    {
     "data": {
      "text/plain": [
       "3"
      ]
     },
     "execution_count": 67,
     "metadata": {},
     "output_type": "execute_result"
    }
   ],
   "source": [
    "spam=['life','living','poetry','music']\n",
    "spam.index('music')"
   ]
  },
  {
   "cell_type": "code",
   "execution_count": 68,
   "metadata": {},
   "outputs": [
    {
     "ename": "ValueError",
     "evalue": "'money' is not in list",
     "output_type": "error",
     "traceback": [
      "\u001b[1;31m---------------------------------------------------------------------------\u001b[0m",
      "\u001b[1;31mValueError\u001b[0m                                Traceback (most recent call last)",
      "\u001b[1;32m<ipython-input-68-62db7f398346>\u001b[0m in \u001b[0;36m<module>\u001b[1;34m\u001b[0m\n\u001b[1;32m----> 1\u001b[1;33m \u001b[0mspam\u001b[0m\u001b[1;33m.\u001b[0m\u001b[0mindex\u001b[0m\u001b[1;33m(\u001b[0m\u001b[1;34m'money'\u001b[0m\u001b[1;33m)\u001b[0m\u001b[1;33m\u001b[0m\u001b[1;33m\u001b[0m\u001b[0m\n\u001b[0m",
      "\u001b[1;31mValueError\u001b[0m: 'money' is not in list"
     ]
    }
   ],
   "source": [
    "spam.index('money')"
   ]
  },
  {
   "cell_type": "code",
   "execution_count": 69,
   "metadata": {},
   "outputs": [
    {
     "data": {
      "text/plain": [
       "0"
      ]
     },
     "execution_count": 69,
     "metadata": {},
     "output_type": "execute_result"
    }
   ],
   "source": [
    "spam.index('life')"
   ]
  },
  {
   "cell_type": "markdown",
   "metadata": {},
   "source": [
    "\n",
    "When there are duplicates of the value in the list, the index of its first appearance is returned. Enter the following into the interactive shell, and notice that **index()** **returns 1, not 4:\n"
   ]
  },
  {
   "cell_type": "code",
   "execution_count": 70,
   "metadata": {},
   "outputs": [
    {
     "data": {
      "text/plain": [
       "1"
      ]
     },
     "execution_count": 70,
     "metadata": {},
     "output_type": "execute_result"
    }
   ],
   "source": [
    "spam=['life','music','living','poetry','music']\n",
    "spam.index('music')"
   ]
  },
  {
   "cell_type": "markdown",
   "metadata": {},
   "source": [
    "### Adding Values to Lists with the *append()*,*extend()*  and *insert()* Methods\n",
    "\n",
    "To add new values to a list, use the **append(), extend()** and **insert()** methods.\n"
   ]
  },
  {
   "cell_type": "code",
   "execution_count": 71,
   "metadata": {},
   "outputs": [
    {
     "data": {
      "text/plain": [
       "['life', 'music', 'living', 'poetry', 'money']"
      ]
     },
     "execution_count": 71,
     "metadata": {},
     "output_type": "execute_result"
    }
   ],
   "source": [
    "spam=['life','music','living','poetry']\n",
    "spam.append('money')\n",
    "spam"
   ]
  },
  {
   "cell_type": "markdown",
   "metadata": {},
   "source": [
    "The previous **append()** method call adds the argument **to the end of the list.**\n",
    "The **insert()** method can insert a value **at any index** in the list. The **first argument to insert() is the index for the new value, and the second argument is the new value to be inserted.**"
   ]
  },
  {
   "cell_type": "code",
   "execution_count": 72,
   "metadata": {},
   "outputs": [
    {
     "data": {
      "text/plain": [
       "['life', 'money', 'music', 'living', 'poetry']"
      ]
     },
     "execution_count": 72,
     "metadata": {},
     "output_type": "execute_result"
    }
   ],
   "source": [
    "spam=['life','music','living','poetry']\n",
    "spam.insert(1,'money')\n",
    "spam"
   ]
  },
  {
   "cell_type": "code",
   "execution_count": 73,
   "metadata": {},
   "outputs": [
    {
     "data": {
      "text/plain": [
       "['life', 'money', 'music', 'living', 'poetry', 'like']"
      ]
     },
     "execution_count": 73,
     "metadata": {},
     "output_type": "execute_result"
    }
   ],
   "source": [
    "spam.insert(56,'like')\n",
    "spam"
   ]
  },
  {
   "cell_type": "code",
   "execution_count": 74,
   "metadata": {},
   "outputs": [
    {
     "name": "stdout",
     "output_type": "stream",
     "text": [
      "['one', 'two', 'three', 'four', ['five', 'six']]\n"
     ]
    }
   ],
   "source": [
    "lst = ['one', 'two', 'three', 'four']\n",
    "\n",
    "lst2 = ['five', 'six']\n",
    "\n",
    "#append \n",
    "lst.append(lst2)\n",
    "\n",
    "print(lst)"
   ]
  },
  {
   "cell_type": "markdown",
   "metadata": {},
   "source": [
    "**extend will join the list with list1**"
   ]
  },
  {
   "cell_type": "code",
   "execution_count": 75,
   "metadata": {},
   "outputs": [
    {
     "name": "stdout",
     "output_type": "stream",
     "text": [
      "['one', 'two', 'three', 'four', 'five', 'six']\n"
     ]
    }
   ],
   "source": [
    "lst = ['one', 'two', 'three', 'four']\n",
    "\n",
    "lst2 = ['five', 'six']\n",
    "\n",
    "#extend will join the list with list1\n",
    "\n",
    "lst.extend(lst2)\n",
    "\n",
    "print(lst)"
   ]
  },
  {
   "cell_type": "markdown",
   "metadata": {},
   "source": [
    "***Methods belong to a single data type. The append() and insert() methods are list methods and can be called only on list values, not on other values such as strings or integers.***"
   ]
  },
  {
   "cell_type": "code",
   "execution_count": 76,
   "metadata": {},
   "outputs": [
    {
     "ename": "AttributeError",
     "evalue": "'str' object has no attribute 'append'",
     "output_type": "error",
     "traceback": [
      "\u001b[1;31m---------------------------------------------------------------------------\u001b[0m",
      "\u001b[1;31mAttributeError\u001b[0m                            Traceback (most recent call last)",
      "\u001b[1;32m<ipython-input-76-d031586dad70>\u001b[0m in \u001b[0;36m<module>\u001b[1;34m\u001b[0m\n\u001b[0;32m      1\u001b[0m \u001b[0meggs\u001b[0m\u001b[1;33m=\u001b[0m\u001b[1;34m'hello'\u001b[0m\u001b[1;33m\u001b[0m\u001b[1;33m\u001b[0m\u001b[0m\n\u001b[1;32m----> 2\u001b[1;33m \u001b[0meggs\u001b[0m\u001b[1;33m.\u001b[0m\u001b[0mappend\u001b[0m\u001b[1;33m(\u001b[0m\u001b[1;34m'hen'\u001b[0m\u001b[1;33m)\u001b[0m\u001b[1;33m\u001b[0m\u001b[1;33m\u001b[0m\u001b[0m\n\u001b[0m",
      "\u001b[1;31mAttributeError\u001b[0m: 'str' object has no attribute 'append'"
     ]
    }
   ],
   "source": [
    "eggs='hello'\n",
    "eggs.append('hen')"
   ]
  },
  {
   "cell_type": "code",
   "execution_count": 77,
   "metadata": {},
   "outputs": [
    {
     "ename": "AttributeError",
     "evalue": "'int' object has no attribute 'append'",
     "output_type": "error",
     "traceback": [
      "\u001b[1;31m---------------------------------------------------------------------------\u001b[0m",
      "\u001b[1;31mAttributeError\u001b[0m                            Traceback (most recent call last)",
      "\u001b[1;32m<ipython-input-77-99d99c70e067>\u001b[0m in \u001b[0;36m<module>\u001b[1;34m\u001b[0m\n\u001b[0;32m      1\u001b[0m \u001b[0meggs\u001b[0m\u001b[1;33m=\u001b[0m\u001b[1;36m42\u001b[0m\u001b[1;33m\u001b[0m\u001b[1;33m\u001b[0m\u001b[0m\n\u001b[1;32m----> 2\u001b[1;33m \u001b[0meggs\u001b[0m\u001b[1;33m.\u001b[0m\u001b[0mappend\u001b[0m\u001b[1;33m(\u001b[0m\u001b[1;34m'hen'\u001b[0m\u001b[1;33m)\u001b[0m\u001b[1;33m\u001b[0m\u001b[1;33m\u001b[0m\u001b[0m\n\u001b[0m\u001b[0;32m      3\u001b[0m \u001b[0meggs\u001b[0m\u001b[1;33m\u001b[0m\u001b[1;33m\u001b[0m\u001b[0m\n",
      "\u001b[1;31mAttributeError\u001b[0m: 'int' object has no attribute 'append'"
     ]
    }
   ],
   "source": [
    "eggs=42\n",
    "eggs.append('hen')\n",
    "eggs"
   ]
  },
  {
   "cell_type": "code",
   "execution_count": 78,
   "metadata": {},
   "outputs": [
    {
     "ename": "AttributeError",
     "evalue": "'int' object has no attribute 'insert'",
     "output_type": "error",
     "traceback": [
      "\u001b[1;31m---------------------------------------------------------------------------\u001b[0m",
      "\u001b[1;31mAttributeError\u001b[0m                            Traceback (most recent call last)",
      "\u001b[1;32m<ipython-input-78-c776bb670aa1>\u001b[0m in \u001b[0;36m<module>\u001b[1;34m\u001b[0m\n\u001b[0;32m      1\u001b[0m \u001b[0meggs\u001b[0m\u001b[1;33m=\u001b[0m\u001b[1;36m42\u001b[0m\u001b[1;33m\u001b[0m\u001b[1;33m\u001b[0m\u001b[0m\n\u001b[1;32m----> 2\u001b[1;33m \u001b[0meggs\u001b[0m\u001b[1;33m.\u001b[0m\u001b[0minsert\u001b[0m\u001b[1;33m(\u001b[0m\u001b[1;36m1\u001b[0m\u001b[1;33m,\u001b[0m\u001b[1;34m'hen'\u001b[0m\u001b[1;33m)\u001b[0m\u001b[1;33m\u001b[0m\u001b[1;33m\u001b[0m\u001b[0m\n\u001b[0m\u001b[0;32m      3\u001b[0m \u001b[0meggs\u001b[0m\u001b[1;33m\u001b[0m\u001b[1;33m\u001b[0m\u001b[0m\n",
      "\u001b[1;31mAttributeError\u001b[0m: 'int' object has no attribute 'insert'"
     ]
    }
   ],
   "source": [
    "eggs=42\n",
    "eggs.insert(1,'hen')\n",
    "eggs"
   ]
  },
  {
   "cell_type": "code",
   "execution_count": 79,
   "metadata": {},
   "outputs": [
    {
     "data": {
      "text/plain": [
       "[42, 'hen']"
      ]
     },
     "execution_count": 79,
     "metadata": {},
     "output_type": "execute_result"
    }
   ],
   "source": [
    "eggs=[42]\n",
    "eggs.append('hen')\n",
    "eggs"
   ]
  },
  {
   "cell_type": "markdown",
   "metadata": {},
   "source": [
    "### Removing Values from Lists with remove(), del, pop()\n",
    "\n",
    "The *remove()* method is passed the value to be removed from the list it is called on. Enter the following into the interactive shell:"
   ]
  },
  {
   "cell_type": "code",
   "execution_count": 80,
   "metadata": {},
   "outputs": [
    {
     "name": "stdout",
     "output_type": "stream",
     "text": [
      "['one', 'three', 'four', 'five']\n",
      "three\n",
      "['one', 'four', 'five']\n"
     ]
    }
   ],
   "source": [
    "                                              #del to remove item based on index position\n",
    "lst = ['one', 'two', 'three', 'four', 'five']\n",
    "\n",
    "del lst[1]\n",
    "print(lst)\n",
    "\n",
    "                                              #or we can use pop() method\n",
    "a = lst.pop(1)\n",
    "print(a)\n",
    "\n",
    "print(lst)"
   ]
  },
  {
   "cell_type": "markdown",
   "metadata": {},
   "source": [
    "**pop return the removed item**"
   ]
  },
  {
   "cell_type": "code",
   "execution_count": 81,
   "metadata": {},
   "outputs": [
    {
     "name": "stdout",
     "output_type": "stream",
     "text": [
      "two\n",
      "['one', 'three', 'four', 'five']\n"
     ]
    }
   ],
   "source": [
    "lst = ['one', 'two', 'three', 'four', 'five']\n",
    "a = lst.pop(1)\n",
    "print(a)\n",
    "\n",
    "print(lst)"
   ]
  },
  {
   "cell_type": "code",
   "execution_count": 82,
   "metadata": {},
   "outputs": [
    {
     "data": {
      "text/plain": [
       "['life', 'music', 'living', 'poetry']"
      ]
     },
     "execution_count": 82,
     "metadata": {},
     "output_type": "execute_result"
    }
   ],
   "source": [
    "spam=['life','music','living','poetry','money']\n",
    "spam.remove('money')\n",
    "spam"
   ]
  },
  {
   "cell_type": "markdown",
   "metadata": {},
   "source": [
    "**Attempting to delete a value that does not exist in the list will result in a ValueError error**"
   ]
  },
  {
   "cell_type": "code",
   "execution_count": 83,
   "metadata": {},
   "outputs": [
    {
     "ename": "ValueError",
     "evalue": "list.remove(x): x not in list",
     "output_type": "error",
     "traceback": [
      "\u001b[1;31m---------------------------------------------------------------------------\u001b[0m",
      "\u001b[1;31mValueError\u001b[0m                                Traceback (most recent call last)",
      "\u001b[1;32m<ipython-input-83-bcf8712c33c3>\u001b[0m in \u001b[0;36m<module>\u001b[1;34m\u001b[0m\n\u001b[1;32m----> 1\u001b[1;33m \u001b[0mspam\u001b[0m\u001b[1;33m.\u001b[0m\u001b[0mremove\u001b[0m\u001b[1;33m(\u001b[0m\u001b[1;34m'enjoy'\u001b[0m\u001b[1;33m)\u001b[0m\u001b[1;33m\u001b[0m\u001b[1;33m\u001b[0m\u001b[0m\n\u001b[0m\u001b[0;32m      2\u001b[0m \u001b[0mspam\u001b[0m\u001b[1;33m\u001b[0m\u001b[1;33m\u001b[0m\u001b[0m\n",
      "\u001b[1;31mValueError\u001b[0m: list.remove(x): x not in list"
     ]
    }
   ],
   "source": [
    "spam.remove('enjoy')\n",
    "spam"
   ]
  },
  {
   "cell_type": "markdown",
   "metadata": {},
   "source": [
    "**If the value appears multiple times in the list, only the first instance of the value will be removed.**"
   ]
  },
  {
   "cell_type": "code",
   "execution_count": 84,
   "metadata": {},
   "outputs": [
    {
     "data": {
      "text/plain": [
       "['life', 'music', 'living', 'poetry', 'money']"
      ]
     },
     "execution_count": 84,
     "metadata": {},
     "output_type": "execute_result"
    }
   ],
   "source": [
    "spam=['life','money','music','living','poetry','money']\n",
    "spam.remove('money')\n",
    "spam"
   ]
  },
  {
   "cell_type": "markdown",
   "metadata": {},
   "source": [
    "### List reverse \n"
   ]
  },
  {
   "cell_type": "code",
   "execution_count": 85,
   "metadata": {},
   "outputs": [
    {
     "name": "stdout",
     "output_type": "stream",
     "text": [
      "['four', 'three', 'two', 'one']\n"
     ]
    }
   ],
   "source": [
    "#reverse is reverses the entire list\n",
    "\n",
    "lst = ['one', 'two', 'three', 'four']\n",
    "\n",
    "lst.reverse()\n",
    "\n",
    "print(lst)"
   ]
  },
  {
   "cell_type": "markdown",
   "metadata": {},
   "source": [
    "### List related keywords in Python"
   ]
  },
  {
   "cell_type": "code",
   "execution_count": 86,
   "metadata": {},
   "outputs": [
    {
     "name": "stdout",
     "output_type": "stream",
     "text": [
      "AI\n",
      "ML\n"
     ]
    }
   ],
   "source": [
    "#keyword 'in' is used to test if an item is in a list\n",
    "lst = ['one', 'two', 'three', 'four']\n",
    "\n",
    "if 'two' in lst:\n",
    "    print('AI')\n",
    "\n",
    "#keyword 'not' can combined with 'in'\n",
    "if 'six' not in lst:\n",
    "    print('ML')"
   ]
  },
  {
   "cell_type": "markdown",
   "metadata": {},
   "source": [
    "### Sorting the Values in a List with the sort() Method and sorted(list) method\n",
    "Lists of number values or lists of strings can be sorted with the **sort()** method."
   ]
  },
  {
   "cell_type": "code",
   "execution_count": 87,
   "metadata": {},
   "outputs": [
    {
     "data": {
      "text/plain": [
       "['aan', 'ant', 'bee', 'cat', 'dog', 'elephant', 'tiger']"
      ]
     },
     "execution_count": 87,
     "metadata": {},
     "output_type": "execute_result"
    }
   ],
   "source": [
    "spam=['tiger','ant','bee','aan','dog','elephant','cat']\n",
    "spam.sort()\n",
    "spam"
   ]
  },
  {
   "cell_type": "code",
   "execution_count": 88,
   "metadata": {},
   "outputs": [
    {
     "data": {
      "text/plain": [
       "[1, 1.0, 2.02, 6.02, 9, 10]"
      ]
     },
     "execution_count": 88,
     "metadata": {},
     "output_type": "execute_result"
    }
   ],
   "source": [
    "spam=[1,2.02,6.02,1.0,10,9]\n",
    "spam.sort()\n",
    "spam"
   ]
  },
  {
   "cell_type": "markdown",
   "metadata": {},
   "source": [
    "1. he easiest way to sort a List is with the sorted(list) function.\n",
    "2. That takes a list and returns a new list with those elements in sorted order.\n",
    "3. **The original list is not changed.**\n",
    "4. The sorted() optional argument reverse=True, e.g. sorted(list, reverse=True), makes it sort backwards.\n",
    "\n"
   ]
  },
  {
   "cell_type": "code",
   "execution_count": 89,
   "metadata": {},
   "outputs": [
    {
     "name": "stdout",
     "output_type": "stream",
     "text": [
      "Sorted list : [1, 2, 3, 6, 8]\n",
      "Original list:  [3, 1, 6, 2, 8]\n"
     ]
    }
   ],
   "source": [
    "                                             #create a list with numbers\n",
    "numbers = [3, 1, 6, 2, 8]\n",
    "\n",
    "sorted_lst = sorted(numbers)\n",
    "\n",
    "\n",
    "print(\"Sorted list :\", sorted_lst)\n",
    "\n",
    "                                           #original list remain unchanged\n",
    "print(\"Original list: \", numbers)"
   ]
  },
  {
   "cell_type": "code",
   "execution_count": 90,
   "metadata": {},
   "outputs": [
    {
     "name": "stdout",
     "output_type": "stream",
     "text": [
      "Reverse sorted list : [8, 6, 3, 2, 1]\n",
      "Original list : [3, 1, 6, 2, 8]\n"
     ]
    }
   ],
   "source": [
    "                                            #print a list in reverse sorted order\n",
    "print(\"Reverse sorted list :\", sorted(numbers, reverse=True))\n",
    "\n",
    "                                             #orginal list remain unchanged\n",
    "print(\"Original list :\",  numbers)"
   ]
  },
  {
   "cell_type": "markdown",
   "metadata": {},
   "source": [
    "**sort the list and stored in itself**"
   ]
  },
  {
   "cell_type": "code",
   "execution_count": 91,
   "metadata": {},
   "outputs": [
    {
     "name": "stdout",
     "output_type": "stream",
     "text": [
      "Sorted list:  [1, 4.2, 5, 5, 20]\n"
     ]
    }
   ],
   "source": [
    "lst = [1, 20, 5, 5, 4.2]\n",
    "\n",
    "                                       #sort the list and stored in itself\n",
    "lst.sort()\n",
    "\n",
    "                                       # add element 'a' to the list to show an error\n",
    "\n",
    "print(\"Sorted list: \", lst)"
   ]
  },
  {
   "cell_type": "code",
   "execution_count": 92,
   "metadata": {},
   "outputs": [
    {
     "ename": "TypeError",
     "evalue": "'<' not supported between instances of 'str' and 'int'",
     "output_type": "error",
     "traceback": [
      "\u001b[1;31m---------------------------------------------------------------------------\u001b[0m",
      "\u001b[1;31mTypeError\u001b[0m                                 Traceback (most recent call last)",
      "\u001b[1;32m<ipython-input-92-0354af416f5c>\u001b[0m in \u001b[0;36m<module>\u001b[1;34m\u001b[0m\n\u001b[0;32m      1\u001b[0m \u001b[0mlst\u001b[0m \u001b[1;33m=\u001b[0m \u001b[1;33m[\u001b[0m\u001b[1;36m1\u001b[0m\u001b[1;33m,\u001b[0m \u001b[1;36m20\u001b[0m\u001b[1;33m,\u001b[0m \u001b[1;34m'b'\u001b[0m\u001b[1;33m,\u001b[0m \u001b[1;36m5\u001b[0m\u001b[1;33m,\u001b[0m \u001b[1;34m'a'\u001b[0m\u001b[1;33m]\u001b[0m\u001b[1;33m\u001b[0m\u001b[1;33m\u001b[0m\u001b[0m\n\u001b[1;32m----> 2\u001b[1;33m \u001b[0mprint\u001b[0m\u001b[1;33m(\u001b[0m\u001b[0mlst\u001b[0m\u001b[1;33m.\u001b[0m\u001b[0msort\u001b[0m\u001b[1;33m(\u001b[0m\u001b[1;33m)\u001b[0m\u001b[1;33m)\u001b[0m \u001b[1;31m# sort list with element of different datatypes.\u001b[0m\u001b[1;33m\u001b[0m\u001b[1;33m\u001b[0m\u001b[0m\n\u001b[0m",
      "\u001b[1;31mTypeError\u001b[0m: '<' not supported between instances of 'str' and 'int'"
     ]
    }
   ],
   "source": [
    "lst = [1, 20, 'b', 5, 'a']\n",
    "print(lst.sort()) # sort list with element of different datatypes.\n"
   ]
  },
  {
   "cell_type": "markdown",
   "metadata": {},
   "source": [
    "**You can also pass True for the *reverse* keyword argument to have sort() sort the values in reverse order.**"
   ]
  },
  {
   "cell_type": "code",
   "execution_count": 93,
   "metadata": {},
   "outputs": [
    {
     "data": {
      "text/plain": [
       "['poetry', 'music', 'money', 'money', 'living', 'life']"
      ]
     },
     "execution_count": 93,
     "metadata": {},
     "output_type": "execute_result"
    }
   ],
   "source": [
    "spam=['life','money','music','living','poetry','money']\n",
    "spam.sort(reverse=True)\n",
    "spam"
   ]
  },
  {
   "cell_type": "code",
   "execution_count": 94,
   "metadata": {},
   "outputs": [
    {
     "data": {
      "text/plain": [
       "['tiger', 'elephant', 'dog', 'cat', 'bee', 'ant', 'aan']"
      ]
     },
     "execution_count": 94,
     "metadata": {},
     "output_type": "execute_result"
    }
   ],
   "source": [
    "spam=['tiger','ant','bee','aan','dog','elephant','cat']\n",
    "spam.sort(reverse=True)\n",
    "spam"
   ]
  },
  {
   "cell_type": "markdown",
   "metadata": {},
   "source": [
    "**There are three things you should note about the sort() method**. \n",
    "**First**,the sort() method sorts the list in place; don’t try to capture the return value by writing code like \n",
    "*spam = spam.sort().*\n",
    "**Second**, you cannot sort lists that have both number values and string values in them, since Python doesn’t know how to compare these values.Type the following into the interactive shell and notice the TypeError error:"
   ]
  },
  {
   "cell_type": "code",
   "execution_count": 95,
   "metadata": {},
   "outputs": [
    {
     "ename": "TypeError",
     "evalue": "'<' not supported between instances of 'str' and 'int'",
     "output_type": "error",
     "traceback": [
      "\u001b[1;31m---------------------------------------------------------------------------\u001b[0m",
      "\u001b[1;31mTypeError\u001b[0m                                 Traceback (most recent call last)",
      "\u001b[1;32m<ipython-input-95-2b4772beda7e>\u001b[0m in \u001b[0;36m<module>\u001b[1;34m\u001b[0m\n\u001b[0;32m      1\u001b[0m \u001b[0mspam\u001b[0m\u001b[1;33m=\u001b[0m\u001b[1;33m[\u001b[0m\u001b[1;36m1\u001b[0m\u001b[1;33m,\u001b[0m\u001b[1;36m2\u001b[0m\u001b[1;33m,\u001b[0m\u001b[1;36m3\u001b[0m\u001b[1;33m,\u001b[0m\u001b[1;34m'kids'\u001b[0m\u001b[1;33m,\u001b[0m\u001b[1;34m'cat'\u001b[0m\u001b[1;33m]\u001b[0m\u001b[1;33m\u001b[0m\u001b[1;33m\u001b[0m\u001b[0m\n\u001b[1;32m----> 2\u001b[1;33m \u001b[0mspam\u001b[0m\u001b[1;33m.\u001b[0m\u001b[0msort\u001b[0m\u001b[1;33m(\u001b[0m\u001b[1;33m)\u001b[0m\u001b[1;33m\u001b[0m\u001b[1;33m\u001b[0m\u001b[0m\n\u001b[0m",
      "\u001b[1;31mTypeError\u001b[0m: '<' not supported between instances of 'str' and 'int'"
     ]
    }
   ],
   "source": [
    "spam=[1,2,3,'kids','cat']\n",
    "spam.sort()\n"
   ]
  },
  {
   "cell_type": "markdown",
   "metadata": {},
   "source": [
    "**Third,** sort() uses “ASCIIbetical order” rather than actual alphabetical order for sorting strings. **This means uppercase letters come before lowercase letters**. Therefore, the lowercase a is sorted so that it comes after the uppercase Z. For an example,"
   ]
  },
  {
   "cell_type": "code",
   "execution_count": 96,
   "metadata": {},
   "outputs": [
    {
     "data": {
      "text/plain": [
       "['Ant', 'Bee', 'Zebra', 'aam', 'bee']"
      ]
     },
     "execution_count": 96,
     "metadata": {},
     "output_type": "execute_result"
    }
   ],
   "source": [
    "spam=['Ant','aam','bee','Bee','Zebra']\n",
    "spam.sort()\n",
    "spam"
   ]
  },
  {
   "cell_type": "markdown",
   "metadata": {},
   "source": [
    "**If you need to sort the values in regular alphabetical order, pass str. lower for the key keyword argument in the sort() method call.**\n",
    "This causes the sort() function to treat all the items in the list as if they were lowercase without actually changing the values in the list."
   ]
  },
  {
   "cell_type": "code",
   "execution_count": 97,
   "metadata": {},
   "outputs": [
    {
     "data": {
      "text/plain": [
       "['aam', 'Ant', 'bee', 'Bee', 'Zebra']"
      ]
     },
     "execution_count": 97,
     "metadata": {},
     "output_type": "execute_result"
    }
   ],
   "source": [
    "spam=['Ant','aam','bee','Bee','Zebra']\n",
    "spam.sort(key=str.lower)\n",
    "spam"
   ]
  },
  {
   "cell_type": "markdown",
   "metadata": {},
   "source": [
    "## Example Program: Magic 8 Ball with a List\n",
    "Using lists, you can write a much more elegant version of the previous chapter’s Magic 8 Ball program. Instead of several lines of nearly identical elif statements, you can create a single list that the code works with. Open a new file editor window and enter the following code. "
   ]
  },
  {
   "cell_type": "code",
   "execution_count": 98,
   "metadata": {},
   "outputs": [
    {
     "name": "stdout",
     "output_type": "stream",
     "text": [
      "you are just about to reach\n"
     ]
    }
   ],
   "source": [
    "import random\n",
    "spam=['1 is not a good choice',\n",
    "      '2 relly','nice try',  \n",
    "      'never loose hope',\n",
    "      'you are just about to reach',\n",
    "      '6 is not alwya max',\n",
    "      'try your best',\n",
    "      '8 goos but not tru',\n",
    "      '9 bingo']\n",
    "print(spam[random.randint(0,int(len(spam))-1)])"
   ]
  },
  {
   "cell_type": "markdown",
   "metadata": {},
   "source": [
    "**When you run this program, you’ll see that it works the same as the previous bellow program.**"
   ]
  },
  {
   "cell_type": "code",
   "execution_count": 99,
   "metadata": {},
   "outputs": [
    {
     "name": "stdout",
     "output_type": "stream",
     "text": [
      "9 bingo\n"
     ]
    }
   ],
   "source": [
    "import random\n",
    "def getAnswer(ans):\n",
    "    if ans==1:\n",
    "        return '1 is not a good choice'\n",
    "    elif ans==2:\n",
    "        return '2 relly'\n",
    "    elif ans==3:\n",
    "        return 'nice try'\n",
    "    elif ans==4:\n",
    "        return 'never loose hope'\n",
    "    elif ans==5:\n",
    "        return 'you are just about to reach'\n",
    "    elif ans==6:\n",
    "        return '6 is not alwya max'\n",
    "    elif ans==7:\n",
    "        return 'try your best'\n",
    "    elif ans==8:\n",
    "        return '8 goos but not tru'\n",
    "    elif ans==9:\n",
    "        return '9 bingo'\n",
    "print(getAnswer(random.randint(1,9)))"
   ]
  },
  {
   "cell_type": "markdown",
   "metadata": {},
   "source": [
    "**Note:** **Exceptions to Indentation Rules in Python**\n",
    "\n",
    "In most cases, the amount of indentation for a line of code tells Python what block it is in. There are some exceptions to this rule, however. For example, lists can actually span several lines in the source code file. The indentation of these lines do not matter; Python knows that until it sees the ending square bracket, the list is not finished. For example, you can have code that looks like this:"
   ]
  },
  {
   "cell_type": "code",
   "execution_count": 100,
   "metadata": {},
   "outputs": [
    {
     "name": "stdout",
     "output_type": "stream",
     "text": [
      "['apples', 'oranges', 'bananas', 'cats']\n"
     ]
    }
   ],
   "source": [
    "spam = ['apples',\n",
    "\n",
    " 'oranges',\n",
    "                             'bananas',\n",
    "'cats'           ]\n",
    "print(spam)"
   ]
  },
  {
   "cell_type": "markdown",
   "metadata": {},
   "source": [
    "Of course, practically speaking, most people use Python’s behavior to make their lists look pretty and readable, like the messages list in the Magic 8 Ball program. You can also split up a single instruction across multiple lines using the \\ line continuation character at the end. Think of \\ as saying, “This instruction continues on the next line.” The indentation on the line after a \\ line continuation is not significant. For example, the following is valid Python code:\n"
   ]
  },
  {
   "cell_type": "code",
   "execution_count": 101,
   "metadata": {},
   "outputs": [
    {
     "name": "stdout",
     "output_type": "stream",
     "text": [
      "Four score and seven yearsago...\n"
     ]
    }
   ],
   "source": [
    "print('Four score and seven ' + \\\n",
    "        'years'  +\\\n",
    "      'ago...')"
   ]
  },
  {
   "cell_type": "markdown",
   "metadata": {},
   "source": [
    "These tricks are useful when you want to rearrange long lines of Python code to be a bit more readable"
   ]
  },
  {
   "cell_type": "markdown",
   "metadata": {},
   "source": [
    "## List-like Types: Strings and Tuples\n",
    "Lists aren’t the only data types that represent ordered sequences of values. For example, strings and lists are actually similar, if you consider a string to be a “list” of single text characters. Many of the things you can do with lists can also be done with strings: indexing; slicing; and using them with for loops, with len(), and with the in and not in operators. To see this, enter the following into the interactive shell:"
   ]
  },
  {
   "cell_type": "code",
   "execution_count": 102,
   "metadata": {},
   "outputs": [
    {
     "data": {
      "text/plain": [
       "'p'"
      ]
     },
     "execution_count": 102,
     "metadata": {},
     "output_type": "execute_result"
    }
   ],
   "source": [
    "name='pramod'\n",
    "name[0]"
   ]
  },
  {
   "cell_type": "code",
   "execution_count": 103,
   "metadata": {},
   "outputs": [
    {
     "data": {
      "text/plain": [
       "'o'"
      ]
     },
     "execution_count": 103,
     "metadata": {},
     "output_type": "execute_result"
    }
   ],
   "source": [
    "name[-2]"
   ]
  },
  {
   "cell_type": "code",
   "execution_count": 104,
   "metadata": {},
   "outputs": [
    {
     "data": {
      "text/plain": [
       "'d'"
      ]
     },
     "execution_count": 104,
     "metadata": {},
     "output_type": "execute_result"
    }
   ],
   "source": [
    "name[-1]"
   ]
  },
  {
   "cell_type": "code",
   "execution_count": 105,
   "metadata": {},
   "outputs": [
    {
     "data": {
      "text/plain": [
       "'pra'"
      ]
     },
     "execution_count": 105,
     "metadata": {},
     "output_type": "execute_result"
    }
   ],
   "source": [
    "name[0:3]"
   ]
  },
  {
   "cell_type": "code",
   "execution_count": 106,
   "metadata": {},
   "outputs": [
    {
     "data": {
      "text/plain": [
       "True"
      ]
     },
     "execution_count": 106,
     "metadata": {},
     "output_type": "execute_result"
    }
   ],
   "source": [
    "'pr' in name"
   ]
  },
  {
   "cell_type": "code",
   "execution_count": 107,
   "metadata": {},
   "outputs": [
    {
     "data": {
      "text/plain": [
       "True"
      ]
     },
     "execution_count": 107,
     "metadata": {},
     "output_type": "execute_result"
    }
   ],
   "source": [
    "'mo'in name"
   ]
  },
  {
   "cell_type": "code",
   "execution_count": 108,
   "metadata": {},
   "outputs": [
    {
     "data": {
      "text/plain": [
       "False"
      ]
     },
     "execution_count": 108,
     "metadata": {},
     "output_type": "execute_result"
    }
   ],
   "source": [
    "'Pr'in name"
   ]
  },
  {
   "cell_type": "code",
   "execution_count": 109,
   "metadata": {},
   "outputs": [
    {
     "name": "stdout",
     "output_type": "stream",
     "text": [
      "p\n",
      "r\n",
      "a\n",
      "m\n",
      "o\n",
      "d\n"
     ]
    }
   ],
   "source": [
    "for i in name:\n",
    "    print(i)"
   ]
  },
  {
   "cell_type": "code",
   "execution_count": 110,
   "metadata": {},
   "outputs": [
    {
     "name": "stdout",
     "output_type": "stream",
     "text": [
      "***p****\n",
      "***r****\n",
      "***a****\n",
      "***m****\n",
      "***o****\n",
      "***d****\n"
     ]
    }
   ],
   "source": [
    "name='pramod'\n",
    "for i in name:\n",
    "    print('***' +i+ '****')"
   ]
  },
  {
   "cell_type": "markdown",
   "metadata": {},
   "source": [
    "## Mutable and Immutable Data Types\n",
    "But lists and strings are different in an important way.\n",
    "**A list value is a mutable data type: It can have values added, removed, or changed.     \n",
    "However,a stringis immutable: It cannot be changed.**"
   ]
  },
  {
   "cell_type": "code",
   "execution_count": 111,
   "metadata": {},
   "outputs": [
    {
     "ename": "TypeError",
     "evalue": "'str' object does not support item assignment",
     "output_type": "error",
     "traceback": [
      "\u001b[1;31m---------------------------------------------------------------------------\u001b[0m",
      "\u001b[1;31mTypeError\u001b[0m                                 Traceback (most recent call last)",
      "\u001b[1;32m<ipython-input-111-ed4c740b8102>\u001b[0m in \u001b[0;36m<module>\u001b[1;34m\u001b[0m\n\u001b[0;32m      1\u001b[0m \u001b[0mname\u001b[0m \u001b[1;33m=\u001b[0m \u001b[1;34m'Zophie a cat'\u001b[0m\u001b[1;33m\u001b[0m\u001b[1;33m\u001b[0m\u001b[0m\n\u001b[1;32m----> 2\u001b[1;33m \u001b[0mname\u001b[0m\u001b[1;33m[\u001b[0m\u001b[1;36m7\u001b[0m\u001b[1;33m]\u001b[0m\u001b[1;33m=\u001b[0m\u001b[1;34m'the'\u001b[0m\u001b[1;33m\u001b[0m\u001b[1;33m\u001b[0m\u001b[0m\n\u001b[0m",
      "\u001b[1;31mTypeError\u001b[0m: 'str' object does not support item assignment"
     ]
    }
   ],
   "source": [
    "name = 'Zophie a cat'\n",
    "name[7]='the'"
   ]
  },
  {
   "cell_type": "markdown",
   "metadata": {},
   "source": [
    "**The proper way to “mutate” a string is to use slicing and concatenation to build a new string by copying from parts of the old string**"
   ]
  },
  {
   "cell_type": "code",
   "execution_count": 112,
   "metadata": {},
   "outputs": [
    {
     "data": {
      "text/plain": [
       "'Zophie the cat'"
      ]
     },
     "execution_count": 112,
     "metadata": {},
     "output_type": "execute_result"
    }
   ],
   "source": [
    "name = 'Zophie a cat'\n",
    "newName=name[0:7]+'the'+name[8:12]\n",
    "newName"
   ]
  },
  {
   "cell_type": "code",
   "execution_count": 113,
   "metadata": {},
   "outputs": [
    {
     "data": {
      "text/plain": [
       "'Zophie a cat'"
      ]
     },
     "execution_count": 113,
     "metadata": {},
     "output_type": "execute_result"
    }
   ],
   "source": [
    "name"
   ]
  },
  {
   "cell_type": "markdown",
   "metadata": {},
   "source": [
    "We used [0:7] and [8:12] to refer to the characters that we don’t wish to replace. Notice that the original 'Zophie a cat' string is not modified because strings are immutable. Although a list value is mutable, the second line in the following code does not modify the list eggs:"
   ]
  },
  {
   "cell_type": "code",
   "execution_count": 114,
   "metadata": {},
   "outputs": [
    {
     "data": {
      "text/plain": [
       "[4, 5, 6]"
      ]
     },
     "execution_count": 114,
     "metadata": {},
     "output_type": "execute_result"
    }
   ],
   "source": [
    "eggs = [1, 2, 3]\n",
    "eggs = [4, 5, 6]\n",
    "eggs"
   ]
  },
  {
   "cell_type": "markdown",
   "metadata": {},
   "source": [
    "**The list value in eggs isn’t being changed here; rather, an entirely new and different list value ([4, 5, 6]) is overwriting the old list value ([1, 2, 3]).\n",
    "If you wanted to actually modify the original list in eggs to contain [4, 5, 6], you would have to do something like this**"
   ]
  },
  {
   "cell_type": "code",
   "execution_count": 115,
   "metadata": {},
   "outputs": [
    {
     "data": {
      "text/plain": [
       "[4, 5, 6]"
      ]
     },
     "execution_count": 115,
     "metadata": {},
     "output_type": "execute_result"
    }
   ],
   "source": [
    "eggs=[1,2,3]\n",
    "del eggs[2]\n",
    "del eggs[1]\n",
    "del eggs[0]\n",
    "\n",
    "eggs.append(4)\n",
    "eggs.append(5)\n",
    "eggs.append(6)\n",
    "eggs"
   ]
  },
  {
   "cell_type": "markdown",
   "metadata": {},
   "source": [
    "Changing a value of a mutable data type (like what the del statement and append() method do in the previous example) changes the value in place, since the variable’s value is not replaced with a new list value."
   ]
  },
  {
   "cell_type": "markdown",
   "metadata": {},
   "source": [
    "## The Tuple Data Type\n",
    "The tuple data type is almost identical to the list data type, except in two ways. First, tuples are typed with parentheses, ( and ), instead of square brackets, [ and ].\n",
    "\n",
    "1. A tuple is similar to list\n",
    "\n",
    "2. The diffence between the two is that we can't change the elements of tuple once it is assigned whereas in the list, elements can be changedor example,"
   ]
  },
  {
   "cell_type": "markdown",
   "metadata": {},
   "source": [
    "**Tuple creation**"
   ]
  },
  {
   "cell_type": "code",
   "execution_count": 116,
   "metadata": {},
   "outputs": [
    {
     "data": {
      "text/plain": [
       "'ram'"
      ]
     },
     "execution_count": 116,
     "metadata": {},
     "output_type": "execute_result"
    }
   ],
   "source": [
    "name=('ram','sam','dam',5)\n",
    "name[0]\n"
   ]
  },
  {
   "cell_type": "code",
   "execution_count": 117,
   "metadata": {},
   "outputs": [
    {
     "data": {
      "text/plain": [
       "tuple"
      ]
     },
     "execution_count": 117,
     "metadata": {},
     "output_type": "execute_result"
    }
   ],
   "source": [
    "type(name)"
   ]
  },
  {
   "cell_type": "code",
   "execution_count": 118,
   "metadata": {},
   "outputs": [
    {
     "name": "stdout",
     "output_type": "stream",
     "text": [
      "(1, 2, 3)\n",
      "(1, 'raju', 28, 'abc')\n",
      "(1, (2, 3, 4), [1, 'raju', 28, 'abc'])\n"
     ]
    }
   ],
   "source": [
    "#empty tuple\n",
    "t = ()\n",
    "\n",
    "#tuple having integers\n",
    "t = (1, 2, 3)\n",
    "print(t)\n",
    "\n",
    "#tuple with mixed datatypes\n",
    "t = (1, 'raju', 28, 'abc')\n",
    "print(t)\n",
    "\n",
    "#nested tuple\n",
    "t = (1, (2, 3, 4), [1, 'raju', 28, 'abc'])\n",
    "print(t)"
   ]
  },
  {
   "cell_type": "code",
   "execution_count": 119,
   "metadata": {},
   "outputs": [
    {
     "data": {
      "text/plain": [
       "'dam'"
      ]
     },
     "execution_count": 119,
     "metadata": {},
     "output_type": "execute_result"
    }
   ],
   "source": [
    "name[2]"
   ]
  },
  {
   "cell_type": "code",
   "execution_count": 120,
   "metadata": {},
   "outputs": [
    {
     "data": {
      "text/plain": [
       "5"
      ]
     },
     "execution_count": 120,
     "metadata": {},
     "output_type": "execute_result"
    }
   ],
   "source": [
    "name[3]"
   ]
  },
  {
   "cell_type": "code",
   "execution_count": 121,
   "metadata": {},
   "outputs": [
    {
     "data": {
      "text/plain": [
       "('ram', 'sam')"
      ]
     },
     "execution_count": 121,
     "metadata": {},
     "output_type": "execute_result"
    }
   ],
   "source": [
    "name[0:2]"
   ]
  },
  {
   "cell_type": "code",
   "execution_count": 122,
   "metadata": {},
   "outputs": [
    {
     "data": {
      "text/plain": [
       "'dam'"
      ]
     },
     "execution_count": 122,
     "metadata": {},
     "output_type": "execute_result"
    }
   ],
   "source": [
    "name[-2]"
   ]
  },
  {
   "cell_type": "code",
   "execution_count": 123,
   "metadata": {},
   "outputs": [
    {
     "name": "stdout",
     "output_type": "stream",
     "text": [
      "(2, 3, 4)\n",
      "(1, 2, 3, 4)\n",
      "(1, 2, 3, 4, 5, 6)\n"
     ]
    }
   ],
   "source": [
    "#Slicing\n",
    "t = (1, 2, 3, 4, 5, 6)\n",
    "\n",
    "print(t[1:4])\n",
    "\n",
    "#print elements from starting to 2nd last elements\n",
    "print(t[:-2])\n",
    "\n",
    "#print elements from starting to end\n",
    "print(t[:])"
   ]
  },
  {
   "cell_type": "markdown",
   "metadata": {},
   "source": [
    "**But the main way that tuples are different from lists is that tuples, like strings, are immutable. Tuples cannot have their values modified, appended, or removed.**\n",
    "1. unlike lists, tuples are immutable\n",
    "2. This means that elements of a tuple cannot be changed once it has been assigned. But, if the element is itself a mutable datatype like list, its nested items can be changed."
   ]
  },
  {
   "cell_type": "code",
   "execution_count": 124,
   "metadata": {
    "scrolled": true
   },
   "outputs": [
    {
     "ename": "TypeError",
     "evalue": "'tuple' object does not support item assignment",
     "output_type": "error",
     "traceback": [
      "\u001b[1;31m---------------------------------------------------------------------------\u001b[0m",
      "\u001b[1;31mTypeError\u001b[0m                                 Traceback (most recent call last)",
      "\u001b[1;32m<ipython-input-124-635c0834c334>\u001b[0m in \u001b[0;36m<module>\u001b[1;34m\u001b[0m\n\u001b[0;32m      1\u001b[0m \u001b[0mname1\u001b[0m\u001b[1;33m=\u001b[0m\u001b[1;33m(\u001b[0m\u001b[1;34m'ram'\u001b[0m\u001b[1;33m,\u001b[0m\u001b[1;34m'sam'\u001b[0m\u001b[1;33m,\u001b[0m\u001b[1;34m'dam'\u001b[0m\u001b[1;33m,\u001b[0m\u001b[1;36m5\u001b[0m\u001b[1;33m)\u001b[0m\u001b[1;33m\u001b[0m\u001b[1;33m\u001b[0m\u001b[0m\n\u001b[1;32m----> 2\u001b[1;33m \u001b[0mname1\u001b[0m\u001b[1;33m[\u001b[0m\u001b[1;36m0\u001b[0m\u001b[1;33m]\u001b[0m\u001b[1;33m=\u001b[0m\u001b[1;36m6\u001b[0m\u001b[1;33m\u001b[0m\u001b[1;33m\u001b[0m\u001b[0m\n\u001b[0m",
      "\u001b[1;31mTypeError\u001b[0m: 'tuple' object does not support item assignment"
     ]
    }
   ],
   "source": [
    "name1=('ram','sam','dam',5)\n",
    "name1[0]=6"
   ]
  },
  {
   "cell_type": "code",
   "execution_count": 125,
   "metadata": {},
   "outputs": [
    {
     "ename": "TypeError",
     "evalue": "'tuple' object does not support item assignment",
     "output_type": "error",
     "traceback": [
      "\u001b[1;31m---------------------------------------------------------------------------\u001b[0m",
      "\u001b[1;31mTypeError\u001b[0m                                 Traceback (most recent call last)",
      "\u001b[1;32m<ipython-input-125-1fb87c1270c4>\u001b[0m in \u001b[0;36m<module>\u001b[1;34m\u001b[0m\n\u001b[0;32m      2\u001b[0m \u001b[0mt\u001b[0m \u001b[1;33m=\u001b[0m \u001b[1;33m(\u001b[0m\u001b[1;36m1\u001b[0m\u001b[1;33m,\u001b[0m \u001b[1;36m2\u001b[0m\u001b[1;33m,\u001b[0m \u001b[1;36m3\u001b[0m\u001b[1;33m,\u001b[0m \u001b[1;36m4\u001b[0m\u001b[1;33m,\u001b[0m \u001b[1;33m[\u001b[0m\u001b[1;36m5\u001b[0m\u001b[1;33m,\u001b[0m \u001b[1;36m6\u001b[0m\u001b[1;33m,\u001b[0m \u001b[1;36m7\u001b[0m\u001b[1;33m]\u001b[0m\u001b[1;33m)\u001b[0m\u001b[1;33m\u001b[0m\u001b[1;33m\u001b[0m\u001b[0m\n\u001b[0;32m      3\u001b[0m \u001b[1;33m\u001b[0m\u001b[0m\n\u001b[1;32m----> 4\u001b[1;33m \u001b[0mt\u001b[0m\u001b[1;33m[\u001b[0m\u001b[1;36m2\u001b[0m\u001b[1;33m]\u001b[0m \u001b[1;33m=\u001b[0m \u001b[1;34m'x'\u001b[0m \u001b[1;31m#will get TypeError\u001b[0m\u001b[1;33m\u001b[0m\u001b[1;33m\u001b[0m\u001b[0m\n\u001b[0m",
      "\u001b[1;31mTypeError\u001b[0m: 'tuple' object does not support item assignment"
     ]
    }
   ],
   "source": [
    "#creating tuple\n",
    "t = (1, 2, 3, 4, [5, 6, 7])\n",
    "\n",
    "t[2] = 'x' #will get TypeError"
   ]
  },
  {
   "cell_type": "code",
   "execution_count": 126,
   "metadata": {},
   "outputs": [
    {
     "name": "stdout",
     "output_type": "stream",
     "text": [
      "(1, 2, 3, 4, [5, 'satish', 7])\n"
     ]
    }
   ],
   "source": [
    "t[4][1] = 'satish'\n",
    "print(t)"
   ]
  },
  {
   "cell_type": "code",
   "execution_count": 127,
   "metadata": {},
   "outputs": [
    {
     "name": "stdout",
     "output_type": "stream",
     "text": [
      "(1, 2, 3, 4, 5, 6)\n"
     ]
    }
   ],
   "source": [
    "#concatinating tuples\n",
    "\n",
    "t = (1, 2, 3) + (4, 5, 6)\n",
    "print(t)"
   ]
  },
  {
   "cell_type": "code",
   "execution_count": 128,
   "metadata": {},
   "outputs": [
    {
     "name": "stdout",
     "output_type": "stream",
     "text": [
      "('satish', 'satish', 'satish', 'satish')\n"
     ]
    }
   ],
   "source": [
    "#repeat the elements in a tuple for a given number of times using the * operator.\n",
    "t = (('satish', ) * 4)\n",
    "print(t)"
   ]
  },
  {
   "cell_type": "markdown",
   "metadata": {},
   "source": [
    "**If you have only one value in your tuple, you can indicate this by placing a trailing comma after the value inside the parentheses**. **Otherwise, Python will think you’ve just typed a value inside regular parentheses.** The comma is what lets Python know this is a tuple value."
   ]
  },
  {
   "cell_type": "code",
   "execution_count": 129,
   "metadata": {},
   "outputs": [
    {
     "name": "stdout",
     "output_type": "stream",
     "text": [
      "('satish', 'naveen', 'srinu')\n"
     ]
    }
   ],
   "source": [
    "#nested tuple\n",
    "t = ('ABC', ('satish', 'naveen', 'srinu'))\n",
    "\n",
    "print(t[1])"
   ]
  },
  {
   "cell_type": "code",
   "execution_count": 130,
   "metadata": {},
   "outputs": [
    {
     "name": "stdout",
     "output_type": "stream",
     "text": [
      "srinu\n"
     ]
    }
   ],
   "source": [
    "print(t[1][2])"
   ]
  },
  {
   "cell_type": "code",
   "execution_count": 131,
   "metadata": {},
   "outputs": [
    {
     "data": {
      "text/plain": [
       "str"
      ]
     },
     "execution_count": 131,
     "metadata": {},
     "output_type": "execute_result"
    }
   ],
   "source": [
    "type(('hello'))"
   ]
  },
  {
   "cell_type": "code",
   "execution_count": 132,
   "metadata": {},
   "outputs": [
    {
     "data": {
      "text/plain": [
       "tuple"
      ]
     },
     "execution_count": 132,
     "metadata": {},
     "output_type": "execute_result"
    }
   ],
   "source": [
    "type(('hello',))"
   ]
  },
  {
   "cell_type": "code",
   "execution_count": 133,
   "metadata": {},
   "outputs": [
    {
     "name": "stdout",
     "output_type": "stream",
     "text": [
      "<class 'tuple'>\n",
      "('satish',)\n"
     ]
    }
   ],
   "source": [
    "#parenthesis is optional\n",
    "t = \"satish\", \n",
    "print(type(t))\n",
    "\n",
    "print(t)"
   ]
  },
  {
   "cell_type": "markdown",
   "metadata": {},
   "source": [
    "**You can use tuples to convey to anyone reading your code that you don’t intend for that sequence of values to change.** If you need an ordered sequence of values that never changes, use a tuple. A second benefit of using tuples instead of lists is that, because they are immutable and their contents don’t change, Python can implement some optimizations that make code using tuples slightly faster than code using lists."
   ]
  },
  {
   "cell_type": "markdown",
   "metadata": {},
   "source": [
    "## Tuple Deletion\n",
    "**we cannot change the elements in a tuple. That also means we cannot delete or remove items from a tuple.** delete entire tuple using del keyword\n"
   ]
  },
  {
   "cell_type": "code",
   "execution_count": 134,
   "metadata": {},
   "outputs": [],
   "source": [
    "#delete entire tuple using del keyword\n",
    "t = (1, 2, 3, 4, 5, 6)\n",
    "\n",
    "#delete entire tuple\n",
    "del t\n"
   ]
  },
  {
   "cell_type": "markdown",
   "metadata": {},
   "source": [
    "## Tuple Count\n",
    "get the frequency of particular element appears in a tuple,count(element)  "
   ]
  },
  {
   "cell_type": "code",
   "execution_count": 135,
   "metadata": {},
   "outputs": [
    {
     "data": {
      "text/plain": [
       "3"
      ]
     },
     "execution_count": 135,
     "metadata": {},
     "output_type": "execute_result"
    }
   ],
   "source": [
    "t = (1, 2, 3, 1, 3, 3, 4, 1)\n",
    "\n",
    "#get the frequency of particular element appears in a tuple\n",
    "t.count(1)"
   ]
  },
  {
   "cell_type": "markdown",
   "metadata": {},
   "source": [
    "## Tuple Index"
   ]
  },
  {
   "cell_type": "code",
   "execution_count": 136,
   "metadata": {},
   "outputs": [
    {
     "name": "stdout",
     "output_type": "stream",
     "text": [
      "2\n"
     ]
    }
   ],
   "source": [
    "t = (1, 2, 3, 1, 3, 3, 4, 1)\n",
    "\n",
    "print(t.index(3))                  #return index of the first element is equal to 3\n",
    "                                #print index of the 1"
   ]
  },
  {
   "cell_type": "markdown",
   "metadata": {},
   "source": [
    "## Tuple Memebership\n",
    "test if an item exists in a tuple or not, using the keyword in."
   ]
  },
  {
   "cell_type": "code",
   "execution_count": 137,
   "metadata": {},
   "outputs": [
    {
     "name": "stdout",
     "output_type": "stream",
     "text": [
      "True\n"
     ]
    }
   ],
   "source": [
    "#test if an item exists in a tuple or not, using the keyword in.\n",
    "t = (1, 2, 3, 4, 5, 6)\n",
    "\n",
    "print(1 in t)"
   ]
  },
  {
   "cell_type": "code",
   "execution_count": 138,
   "metadata": {},
   "outputs": [
    {
     "name": "stdout",
     "output_type": "stream",
     "text": [
      "False\n"
     ]
    }
   ],
   "source": [
    "print(7 in t)"
   ]
  },
  {
   "cell_type": "markdown",
   "metadata": {},
   "source": [
    "## Built in Functions\n",
    "###  Tuple Length\n"
   ]
  },
  {
   "cell_type": "code",
   "execution_count": 139,
   "metadata": {},
   "outputs": [
    {
     "name": "stdout",
     "output_type": "stream",
     "text": [
      "6\n"
     ]
    }
   ],
   "source": [
    "t = (1, 2, 3, 4, 5, 6)\n",
    "print(len(t))"
   ]
  },
  {
   "cell_type": "markdown",
   "metadata": {},
   "source": [
    "###  Tuple Sort\n",
    "you cant modify tuple,so it take elements in the tuple and return a new sorted listv(does not sort the tuple itself)."
   ]
  },
  {
   "cell_type": "code",
   "execution_count": 140,
   "metadata": {},
   "outputs": [
    {
     "name": "stdout",
     "output_type": "stream",
     "text": [
      "[1, 2, 3, 4, 5]\n"
     ]
    }
   ],
   "source": [
    "t = (4, 5, 1, 2, 3)\n",
    "\n",
    "new_t = sorted(t)\n",
    "print(new_t)                   #Take elements in the tuple and return a new sorted list \n",
    "                               #(does not sort the tuple itself)."
   ]
  },
  {
   "cell_type": "markdown",
   "metadata": {},
   "source": [
    "### largest and smallest element"
   ]
  },
  {
   "cell_type": "code",
   "execution_count": 141,
   "metadata": {},
   "outputs": [
    {
     "name": "stdout",
     "output_type": "stream",
     "text": [
      "9\n"
     ]
    }
   ],
   "source": [
    "#get the largest element in a tuple\n",
    "t = (2, 5, 1, 6, 9)\n",
    "\n",
    "print(max(t))"
   ]
  },
  {
   "cell_type": "code",
   "execution_count": 142,
   "metadata": {},
   "outputs": [
    {
     "name": "stdout",
     "output_type": "stream",
     "text": [
      "1\n"
     ]
    }
   ],
   "source": [
    "#get the smallest element in a tuple\n",
    "print(min(t))"
   ]
  },
  {
   "cell_type": "markdown",
   "metadata": {},
   "source": [
    "### sum of elments"
   ]
  },
  {
   "cell_type": "code",
   "execution_count": 143,
   "metadata": {},
   "outputs": [
    {
     "name": "stdout",
     "output_type": "stream",
     "text": [
      "23\n"
     ]
    }
   ],
   "source": [
    "#get sum of elments in the tuple\n",
    "\n",
    "print(sum(t))"
   ]
  },
  {
   "cell_type": "markdown",
   "metadata": {},
   "source": [
    "## Converting Types with the list() and tuple() Functions\n",
    "\n",
    "Just like how str(42) will return '42', the string representation of the integer 42, the functions list() and tuple() will return list and tuple versions of the values passed to them. "
   ]
  },
  {
   "cell_type": "code",
   "execution_count": 144,
   "metadata": {},
   "outputs": [
    {
     "data": {
      "text/plain": [
       "(1, 2, 3, 'cat', 'daog')"
      ]
     },
     "execution_count": 144,
     "metadata": {},
     "output_type": "execute_result"
    }
   ],
   "source": [
    "tuple([1,2,3,'cat','daog'])  #list to tuple"
   ]
  },
  {
   "cell_type": "code",
   "execution_count": 145,
   "metadata": {},
   "outputs": [
    {
     "data": {
      "text/plain": [
       "[1, 2, 3, 'cat', 'daog']"
      ]
     },
     "execution_count": 145,
     "metadata": {},
     "output_type": "execute_result"
    }
   ],
   "source": [
    "list((1, 2, 3, 'cat', 'daog'))  #tuple to list"
   ]
  },
  {
   "cell_type": "markdown",
   "metadata": {},
   "source": [
    "Converting a tuple to a list is handy if you need a mutable version of a tuple value."
   ]
  },
  {
   "cell_type": "markdown",
   "metadata": {},
   "source": [
    "## References\n"
   ]
  },
  {
   "cell_type": "code",
   "execution_count": 146,
   "metadata": {},
   "outputs": [
    {
     "data": {
      "text/plain": [
       "100"
      ]
     },
     "execution_count": 146,
     "metadata": {},
     "output_type": "execute_result"
    }
   ],
   "source": [
    "spam=42\n",
    "cheese=spam\n",
    "spam=100\n",
    "spam"
   ]
  },
  {
   "cell_type": "code",
   "execution_count": 147,
   "metadata": {},
   "outputs": [
    {
     "data": {
      "text/plain": [
       "42"
      ]
     },
     "execution_count": 147,
     "metadata": {},
     "output_type": "execute_result"
    }
   ],
   "source": [
    "cheese"
   ]
  },
  {
   "cell_type": "code",
   "execution_count": 148,
   "metadata": {},
   "outputs": [
    {
     "data": {
      "text/plain": [
       "140703233912304"
      ]
     },
     "execution_count": 148,
     "metadata": {},
     "output_type": "execute_result"
    }
   ],
   "source": [
    "id(spam)"
   ]
  },
  {
   "cell_type": "code",
   "execution_count": 149,
   "metadata": {},
   "outputs": [
    {
     "data": {
      "text/plain": [
       "140703233910448"
      ]
     },
     "execution_count": 149,
     "metadata": {},
     "output_type": "execute_result"
    }
   ],
   "source": [
    "id(cheese)"
   ]
  },
  {
   "cell_type": "markdown",
   "metadata": {},
   "source": [
    "You assign 42 to the spam variable, and then you copy the value in spam and assign it to the variable cheese. When you later change the value in spam to 100, this doesn’t affect the value in cheese. This is because spam and cheese are different variables that store different values."
   ]
  },
  {
   "cell_type": "markdown",
   "metadata": {},
   "source": [
    "**But lists don’t work this way.** When you assign a list to a variable, you are actually assigning a list ***reference*** to the variable. A *reference* is a value that points to some bit of data, and a list reference is a value that points to a list. Here is some code that will make this distinction easier to understand. "
   ]
  },
  {
   "cell_type": "code",
   "execution_count": 150,
   "metadata": {},
   "outputs": [
    {
     "data": {
      "text/plain": [
       "[1, 'hello', 3, 4, 5]"
      ]
     },
     "execution_count": 150,
     "metadata": {},
     "output_type": "execute_result"
    }
   ],
   "source": [
    "spam=[1,2,3,4,5]        #u\n",
    "cheese=spam            #v \n",
    "cheese[1]='hello'       #w\n",
    "spam"
   ]
  },
  {
   "cell_type": "code",
   "execution_count": 151,
   "metadata": {},
   "outputs": [
    {
     "data": {
      "text/plain": [
       "[1, 'hello', 3, 4, 5]"
      ]
     },
     "execution_count": 151,
     "metadata": {},
     "output_type": "execute_result"
    }
   ],
   "source": [
    "cheese"
   ]
  },
  {
   "cell_type": "markdown",
   "metadata": {},
   "source": [
    "The code changed only the cheese list, but it seems that both the cheese and spam lists have changed."
   ]
  },
  {
   "cell_type": "code",
   "execution_count": 152,
   "metadata": {},
   "outputs": [
    {
     "data": {
      "text/plain": [
       "1883248818184"
      ]
     },
     "execution_count": 152,
     "metadata": {},
     "output_type": "execute_result"
    }
   ],
   "source": [
    "id(spam)"
   ]
  },
  {
   "cell_type": "code",
   "execution_count": 153,
   "metadata": {},
   "outputs": [
    {
     "data": {
      "text/plain": [
       "1883248818184"
      ]
     },
     "execution_count": 153,
     "metadata": {},
     "output_type": "execute_result"
    }
   ],
   "source": [
    "id(cheese)"
   ]
  },
  {
   "cell_type": "markdown",
   "metadata": {},
   "source": [
    "   When you create the list *u*, you assign a reference to it in the spam variable. But the next line *v* copies only the list reference in spam to cheese, not the list value itself. This means the values stored in spam and cheese now both refer to the same list. There is only one underlying list because the list itself was never actually copied. So when you modify the first element of cheese *w*, you are modifying the same list that spam refers to."
   ]
  },
  {
   "cell_type": "markdown",
   "metadata": {},
   "source": [
    "   **Variables will contain references to list values rather than list values themselves. But for strings and integer values, variables simply contain the string or integer value. Python uses references whenever variables must store values of mutable data types, such as lists or dictionaries. For values of immutable data types such as strings, integers, or tuples, Python variables will store the value itself.**"
   ]
  },
  {
   "cell_type": "markdown",
   "metadata": {},
   "source": [
    "### Passing References\n",
    "References are particularly important for understanding how arguments get passed to functions. When a function is called, the values of the arguments are copied to the parameter variables. For lists (and dictionaries, which I’ll describe in the next chapter), this means a copy of the reference is used for the parameter. To see the consequences of this, open a new file editor window, enter the following code, \n"
   ]
  },
  {
   "cell_type": "code",
   "execution_count": 154,
   "metadata": {},
   "outputs": [
    {
     "name": "stdout",
     "output_type": "stream",
     "text": [
      "[1, 2, 3, 4, 5, 'hello']\n"
     ]
    }
   ],
   "source": [
    "def egg(someParameter):\n",
    "    someParameter.append('hello')\n",
    "spam=[1,2,3,4,5]\n",
    "egg(spam)\n",
    "print(spam)"
   ]
  },
  {
   "cell_type": "markdown",
   "metadata": {},
   "source": [
    "Notice that when eggs() is called, a return value is not used to assign a new value to spam. Instead, it modifies the list in place, directly.\n",
    "\n",
    "Even though spam and someParameter contain separate references, they both refer to the same list. This is why the append('Hello') method call inside the function affects the list even after the function call has returned. Keep this behavior in mind: Forgetting that Python handles list anddictionary variables this way can lead to confusing bugs."
   ]
  },
  {
   "cell_type": "markdown",
   "metadata": {},
   "source": [
    "### The *copy* Module’s *copy()* and *deepcopy()* Functions\n",
    "\n",
    "Although passing around references is often the handiest way to deal withlists and dictionaries, if the function modifies the list or dictionary that is passed, you may not want these changes in the original list or dictionary value.\n",
    "\n",
    " For this, Python provides a module named **copy** that provides both the **copy()** and **deepcopy()** functions. The first of these, **copy.copy()**, can be ***used to make a duplicate copy of a mutable value like a list or dictionary, not just a copy of a reference.***"
   ]
  },
  {
   "cell_type": "code",
   "execution_count": 155,
   "metadata": {},
   "outputs": [
    {
     "data": {
      "text/plain": [
       "[1, 'YoYo', 3, 5, 4, 'life']"
      ]
     },
     "execution_count": 155,
     "metadata": {},
     "output_type": "execute_result"
    }
   ],
   "source": [
    "import copy\n",
    "spam=[1,2,3,5,4,'life']\n",
    "cheese=copy.copy(spam)\n",
    "cheese[1]='YoYo'\n",
    "cheese"
   ]
  },
  {
   "cell_type": "code",
   "execution_count": 156,
   "metadata": {},
   "outputs": [
    {
     "data": {
      "text/plain": [
       "[1, 2, 3, 5, 4, 'life']"
      ]
     },
     "execution_count": 156,
     "metadata": {},
     "output_type": "execute_result"
    }
   ],
   "source": [
    "spam"
   ]
  },
  {
   "cell_type": "markdown",
   "metadata": {},
   "source": [
    "**If the *list you need to copy contains lists*, then use the copy.deepcopy() function instead of copy.copy(). The deepcopy() function will copy these inner lists as well.**"
   ]
  },
  {
   "cell_type": "markdown",
   "metadata": {},
   "source": [
    "## Summary\n",
    "Lists are useful data types since they allow you to write code that works on a modifiable number of values in a single variable. Later in this book, you will see programs using lists to do things that would be difficult or impossible to do without them.\n",
    "\n",
    "Lists are mutable, meaning that their contents can change. Tuples and strings, although list-like in some respects, are immutable and cannot be changed. A variable that contains a tuple or string value can be overwritten with a new tuple or string value, but this is not the same thing as modifying the existing value in place—like, say, the append() or remove() methods do on lists.\n",
    "\n",
    "Variables do not store list values directly; they store references to lists. This is an important distinction when copying variables or passing lists as arguments in function calls. Because the value that is being copied is the list reference, be aware that any changes you make to the list might impact another variable in your program. You can use copy() or deepcopy() if you want to make changes to a list in one variable without modifying the original list"
   ]
  },
  {
   "cell_type": "markdown",
   "metadata": {},
   "source": [
    "## Practice Projects\n",
    "\n",
    "### Comma Code\n",
    "\n",
    "Say you have a list value like this:\n",
    "\n",
    "    spam = ['apples', 'bananas', 'tofu', 'cats']\n",
    "\n",
    "Write a function that takes a list value as an argument and returns a string with all the items separated by a comma and a space, with and inserted before the last item. For example, passing the previous spam list to the function would return *'apples, bananas, tofu, and cats'*. But your function should be able to work with any list value passed to it."
   ]
  },
  {
   "cell_type": "code",
   "execution_count": 157,
   "metadata": {},
   "outputs": [
    {
     "name": "stdout",
     "output_type": "stream",
     "text": [
      "1,2,3,cat,and dog\n"
     ]
    }
   ],
   "source": [
    "def commaCode(spam):\n",
    "    spam2=''\n",
    "    for i in range (len(spam)-1):  \n",
    "        str(spam[i])\n",
    "        spam2=spam2+str(spam[i])+','\n",
    "    for i in range (len(spam)-1, len(spam)):\n",
    "        spam2=spam2+'and '+ str(spam[i])\n",
    "    return print(spam2)\n",
    "s=[1,2,3,'cat','dog']\n",
    "commaCode(s)"
   ]
  },
  {
   "cell_type": "code",
   "execution_count": 158,
   "metadata": {},
   "outputs": [
    {
     "name": "stdout",
     "output_type": "stream",
     "text": [
      "lenth of stirng: 5\n",
      "enter 0th value\n",
      "man\n",
      "enter 1th value\n",
      "tan\n",
      "enter 2th value\n",
      "ran\n",
      "enter 3th value\n",
      "lan\n",
      "enter 4th value\n",
      "wan\n",
      "list is: ['man', 'tan', 'ran', 'lan', 'wan']\n",
      "list in commaCode is:\n",
      "man,tan,ran,lan,and wan\n"
     ]
    }
   ],
   "source": [
    "def commaCode(spam):                                 #define function for commaCode\n",
    "    spam2=''\n",
    "    for i in range (len(spam)-1):  \n",
    "        str(spam[i])\n",
    "        spam2=spam2+str(spam[i])+','\n",
    "    for i in range (len(spam)-1, len(spam)):\n",
    "        spam2=spam2+'and '+ str(spam[i])\n",
    "    return print(spam2)\n",
    "n=int(input('lenth of stirng: '))\n",
    "\n",
    "s=[]                                             #to enter the list elements\n",
    "for i in range (n):\n",
    "    print('enter '+str(i)+ 'th value')\n",
    "    valu=input()\n",
    "    s.append(valu)\n",
    "print('list is:', s)\n",
    "\n",
    "                                                 #commaCode to print in comma formate\n",
    "print('list in commaCode is:')\n",
    "commaCode(s)"
   ]
  },
  {
   "cell_type": "markdown",
   "metadata": {},
   "source": [
    "### Character Picture Grid\n",
    "\n",
    "Say you have a list of lists where each value in the inner lists is a one-character string, like this:\n",
    "\n",
    "    grid = [['.', '.', '.', '.', '.', '.'],\n",
    "            ['.', 'O', 'O', '.', '.', '.'],\n",
    "            ['O', 'O', 'O', 'O', '.', '.'],\n",
    "            ['O', 'O', 'O', 'O', 'O', '.'],\n",
    "            ['.', 'O', 'O', 'O', 'O', 'O'],\n",
    "            ['O', 'O', 'O', 'O', 'O', '.'],\n",
    "            ['O', 'O', 'O', 'O', '.', '.'],\n",
    "            ['.', 'O', 'O', '.', '.', '.'],\n",
    "            ['.', '.', '.', '.', '.', '.']]\n",
    "    \n",
    "You can think of grid[x][y] as being the character at the x- and y-coordinates of a “picture” drawn with text characters. The (0, 0) origin will be in the upper-left corner, the x-coordinates increase going right, and w the y-coordinates increase going down. Copy the previous grid value, and write code that uses it to print the image.\n",
    "\n",
    "    ..OO.OO..\n",
    "    .OOOOOOO.\n",
    "    .OOOOOOO.\n",
    "    ..OOOOO..\n",
    "    ...OOO...\n",
    "    ....O....\n",
    "    \n",
    "Hint: You will need to use a loop in a loop in order to print grid[0][0], then grid[1][0], then grid[2][0], and so on, up to grid[8][0]. This will finish the first row, so then print a newline. Then your program should print grid[0][1], then grid[1][1], then grid[2][1], and so on. The last thing your program will print is grid[8][5]. Also, remember to pass the end keyword argument to print() if you don’t want a newline printed automatically after each print() call."
   ]
  },
  {
   "cell_type": "code",
   "execution_count": 159,
   "metadata": {},
   "outputs": [
    {
     "name": "stdout",
     "output_type": "stream",
     "text": [
      "..OO.OO..\n",
      ".OOOOOOO.\n",
      ".OOOOOOO.\n",
      "..OOOOO..\n",
      "...OOO...\n",
      "....O....\n"
     ]
    }
   ],
   "source": [
    "grid = [['.', '.', '.', '.', '.', '.'],\n",
    "        ['.', 'O', 'O', '.', '.', '.'],\n",
    "        ['O', 'O', 'O', 'O', '.', '.'],\n",
    "        ['O', 'O', 'O', 'O', 'O', '.'],\n",
    "        ['.', 'O', 'O', 'O', 'O', 'O'],\n",
    "        ['O', 'O', 'O', 'O', 'O', '.'],\n",
    "        ['O', 'O', 'O', 'O', '.', '.'],\n",
    "        ['.', 'O', 'O', '.', '.', '.'],\n",
    "        ['.', '.', '.', '.', '.', '.']]\n",
    "for i in range (6):\n",
    "    for j in range (9):\n",
    "        print (grid[j][i],end='')\n",
    "    print('')"
   ]
  },
  {
   "cell_type": "markdown",
   "metadata": {},
   "source": [
    "# Sets\n",
    "1. A set is an **unordered** collection of items. Every element **is unique (no duplicates)**.\n",
    "2. The set itself is **mutable**. We can add or remove items from it.\n",
    "3. can be used to **perform mathematical set operations** like union, intersection, symmetric difference etc."
   ]
  },
  {
   "cell_type": "markdown",
   "metadata": {},
   "source": [
    "## Set Creation\n",
    "created using curly braces {}"
   ]
  },
  {
   "cell_type": "code",
   "execution_count": 160,
   "metadata": {},
   "outputs": [
    {
     "name": "stdout",
     "output_type": "stream",
     "text": [
      "{1, 2, 3}\n",
      "<class 'set'>\n"
     ]
    }
   ],
   "source": [
    "#set of integers\n",
    "s = {1, 2, 3}\n",
    "\n",
    "print(s)\n",
    "print(type(s))   #print type of s "
   ]
  },
  {
   "cell_type": "code",
   "execution_count": 161,
   "metadata": {},
   "outputs": [
    {
     "name": "stdout",
     "output_type": "stream",
     "text": [
      "{1, 2, 3, 4}\n"
     ]
    }
   ],
   "source": [
    "#set doesn't allow duplicates. They store only one instance.\n",
    "\n",
    "s = {1, 2, 3, 1, 4}\n",
    "print(s)"
   ]
  },
  {
   "cell_type": "markdown",
   "metadata": {},
   "source": [
    "**we can make set from a list**,by using *set([list elements])*"
   ]
  },
  {
   "cell_type": "code",
   "execution_count": 162,
   "metadata": {},
   "outputs": [
    {
     "name": "stdout",
     "output_type": "stream",
     "text": [
      "{1, 2, 3}\n"
     ]
    }
   ],
   "source": [
    "#we can make set from a list\n",
    "\n",
    "s = set([1, 2, 3, 1])\n",
    "print(s)"
   ]
  },
  {
   "cell_type": "code",
   "execution_count": 163,
   "metadata": {},
   "outputs": [
    {
     "name": "stdout",
     "output_type": "stream",
     "text": [
      "<class 'set'>\n"
     ]
    }
   ],
   "source": [
    "#initialize a set  with set() method\n",
    "\n",
    "s = set()\n",
    "print(type(s))"
   ]
  },
  {
   "cell_type": "markdown",
   "metadata": {},
   "source": [
    "## Add element to a Set\n",
    "1. we can add single element using **add()** method and \n",
    "2. add multiple elements using **update()** method\n",
    "3. set object doesn't support indexing, will get TypeError"
   ]
  },
  {
   "cell_type": "code",
   "execution_count": 164,
   "metadata": {},
   "outputs": [
    {
     "ename": "TypeError",
     "evalue": "'set' object is not subscriptable",
     "output_type": "error",
     "traceback": [
      "\u001b[1;31m---------------------------------------------------------------------------\u001b[0m",
      "\u001b[1;31mTypeError\u001b[0m                                 Traceback (most recent call last)",
      "\u001b[1;32m<ipython-input-164-9a30584168ac>\u001b[0m in \u001b[0;36m<module>\u001b[1;34m\u001b[0m\n\u001b[0;32m      1\u001b[0m \u001b[0ms\u001b[0m \u001b[1;33m=\u001b[0m \u001b[1;33m{\u001b[0m\u001b[1;36m1\u001b[0m\u001b[1;33m,\u001b[0m \u001b[1;36m3\u001b[0m\u001b[1;33m}\u001b[0m\u001b[1;33m\u001b[0m\u001b[1;33m\u001b[0m\u001b[0m\n\u001b[0;32m      2\u001b[0m                          \u001b[1;31m#set object doesn't support indexing\u001b[0m\u001b[1;33m\u001b[0m\u001b[1;33m\u001b[0m\u001b[1;33m\u001b[0m\u001b[0m\n\u001b[1;32m----> 3\u001b[1;33m \u001b[0mprint\u001b[0m\u001b[1;33m(\u001b[0m\u001b[0ms\u001b[0m\u001b[1;33m[\u001b[0m\u001b[1;36m1\u001b[0m\u001b[1;33m]\u001b[0m\u001b[1;33m)\u001b[0m              \u001b[1;31m#will get TypeError\u001b[0m\u001b[1;33m\u001b[0m\u001b[1;33m\u001b[0m\u001b[0m\n\u001b[0m",
      "\u001b[1;31mTypeError\u001b[0m: 'set' object is not subscriptable"
     ]
    }
   ],
   "source": [
    "s = {1, 3}\n",
    "                         #set object doesn't support indexing\n",
    "print(s[1])              #will get TypeError"
   ]
  },
  {
   "cell_type": "code",
   "execution_count": 165,
   "metadata": {},
   "outputs": [
    {
     "name": "stdout",
     "output_type": "stream",
     "text": [
      "{1, 2, 3}\n"
     ]
    }
   ],
   "source": [
    "#add element\n",
    "s = {1, 3}\n",
    "\n",
    "s.add(2)\n",
    "print(s)"
   ]
  },
  {
   "cell_type": "code",
   "execution_count": 166,
   "metadata": {},
   "outputs": [
    {
     "name": "stdout",
     "output_type": "stream",
     "text": [
      "{1, 2, 3, 5, 6}\n"
     ]
    }
   ],
   "source": [
    "#add multiple elements\n",
    "\n",
    "s.update([5, 6, 1])\n",
    "print(s)"
   ]
  },
  {
   "cell_type": "code",
   "execution_count": 167,
   "metadata": {},
   "outputs": [
    {
     "name": "stdout",
     "output_type": "stream",
     "text": [
      "{1, 2, 3, 5, 6, 8, 9, 10}\n"
     ]
    }
   ],
   "source": [
    "#add list and set\n",
    "\n",
    "s.update([8, 9], {10, 2, 3})\n",
    "print(s)"
   ]
  },
  {
   "cell_type": "markdown",
   "metadata": {},
   "source": [
    "## Remove elements from a Set\n",
    "1. A particular item can be removed from set using methods, **discard() and remove().**\n",
    "2. we can remove item using **pop()** method,it will **remove random element**\n",
    "3. Remove all items in set using **clear()** method"
   ]
  },
  {
   "cell_type": "code",
   "execution_count": 168,
   "metadata": {},
   "outputs": [
    {
     "name": "stdout",
     "output_type": "stream",
     "text": [
      "{1, 2, 3, 4, 5}\n",
      "{1, 2, 3, 5}\n"
     ]
    }
   ],
   "source": [
    "s = {1, 2, 3, 5, 4}\n",
    "print(s)\n",
    "\n",
    "s.discard(4)    #4 is removed from set s\n",
    "print(s)"
   ]
  },
  {
   "cell_type": "code",
   "execution_count": 169,
   "metadata": {},
   "outputs": [
    {
     "name": "stdout",
     "output_type": "stream",
     "text": [
      "{1, 3, 5}\n"
     ]
    }
   ],
   "source": [
    "#remove an element \n",
    "s.remove(2)\n",
    "\n",
    "print(s)"
   ]
  },
  {
   "cell_type": "code",
   "execution_count": 170,
   "metadata": {},
   "outputs": [
    {
     "ename": "KeyError",
     "evalue": "7",
     "output_type": "error",
     "traceback": [
      "\u001b[1;31m---------------------------------------------------------------------------\u001b[0m",
      "\u001b[1;31mKeyError\u001b[0m                                  Traceback (most recent call last)",
      "\u001b[1;32m<ipython-input-170-f0f5859d0435>\u001b[0m in \u001b[0;36m<module>\u001b[1;34m\u001b[0m\n\u001b[0;32m      1\u001b[0m \u001b[1;31m#remove an element not present in a set s\u001b[0m\u001b[1;33m\u001b[0m\u001b[1;33m\u001b[0m\u001b[1;33m\u001b[0m\u001b[0m\n\u001b[0;32m      2\u001b[0m \u001b[1;33m\u001b[0m\u001b[0m\n\u001b[1;32m----> 3\u001b[1;33m \u001b[0ms\u001b[0m\u001b[1;33m.\u001b[0m\u001b[0mremove\u001b[0m\u001b[1;33m(\u001b[0m\u001b[1;36m7\u001b[0m\u001b[1;33m)\u001b[0m \u001b[1;31m# will get KeyError\u001b[0m\u001b[1;33m\u001b[0m\u001b[1;33m\u001b[0m\u001b[0m\n\u001b[0m",
      "\u001b[1;31mKeyError\u001b[0m: 7"
     ]
    }
   ],
   "source": [
    "#remove an element not present in a set s\n",
    "\n",
    "s.remove(7) # will get KeyError"
   ]
  },
  {
   "cell_type": "code",
   "execution_count": 171,
   "metadata": {},
   "outputs": [
    {
     "name": "stdout",
     "output_type": "stream",
     "text": [
      "{1, 3, 5}\n"
     ]
    }
   ],
   "source": [
    "#discard an element not present in a set s\n",
    "\n",
    "s.discard(7)\n",
    "print(s)"
   ]
  },
  {
   "cell_type": "code",
   "execution_count": 172,
   "metadata": {},
   "outputs": [
    {
     "name": "stdout",
     "output_type": "stream",
     "text": [
      "{2, 3, 4, 5}\n"
     ]
    }
   ],
   "source": [
    "#we can remove item using pop() method\n",
    "s = {1, 2, 3, 5, 4}\n",
    "\n",
    "s.pop()                   #remove random element\n",
    "print(s)"
   ]
  },
  {
   "cell_type": "code",
   "execution_count": 173,
   "metadata": {},
   "outputs": [
    {
     "name": "stdout",
     "output_type": "stream",
     "text": [
      "{3, 4, 5}\n"
     ]
    }
   ],
   "source": [
    "s.pop() \n",
    "print(s)"
   ]
  },
  {
   "cell_type": "code",
   "execution_count": 174,
   "metadata": {},
   "outputs": [
    {
     "name": "stdout",
     "output_type": "stream",
     "text": [
      "set()\n"
     ]
    }
   ],
   "source": [
    "s = {1, 5, 2, 3, 6}\n",
    "\n",
    "s.clear()   #remove all items in set using clear() method\n",
    "\n",
    "print(s)"
   ]
  },
  {
   "cell_type": "markdown",
   "metadata": {},
   "source": [
    "## Python Set Operations\n",
    "1. **union:** using | operator, or  set1.union(set2)\n",
    "2. **intersection:** using & operator, or set1.intersection(set2)\n",
    "3. **Difference:** using - operator, or set1.difference(set2)\n",
    "4. **symmetric difference:** set of elements in both set1 and set2 except those that are common in both: use ^ operator (set1^set2),or set1.symmetric_difference(set2)\n",
    "5. **chech for subset:** issubset() eg:''x.issubset(y))'' to check x is subset of y"
   ]
  },
  {
   "cell_type": "code",
   "execution_count": 175,
   "metadata": {},
   "outputs": [
    {
     "name": "stdout",
     "output_type": "stream",
     "text": [
      "{1, 2, 3, 4, 5, 6, 7}\n"
     ]
    }
   ],
   "source": [
    "set1 = {1, 2, 3, 4, 5}\n",
    "set2 = {3, 4, 5, 6, 7}\n",
    "\n",
    "#union of 2 sets using | operator\n",
    "\n",
    "print(set1 | set2)"
   ]
  },
  {
   "cell_type": "code",
   "execution_count": 176,
   "metadata": {},
   "outputs": [
    {
     "name": "stdout",
     "output_type": "stream",
     "text": [
      "{1, 2, 3, 4, 5, 6, 7}\n"
     ]
    }
   ],
   "source": [
    "#another way of getting union of 2 sets\n",
    "\n",
    "print(set1.union(set2))"
   ]
  },
  {
   "cell_type": "code",
   "execution_count": 177,
   "metadata": {},
   "outputs": [
    {
     "ename": "NameError",
     "evalue": "name 'intersection' is not defined",
     "output_type": "error",
     "traceback": [
      "\u001b[1;31m---------------------------------------------------------------------------\u001b[0m",
      "\u001b[1;31mNameError\u001b[0m                                 Traceback (most recent call last)",
      "\u001b[1;32m<ipython-input-177-23a10fdba537>\u001b[0m in \u001b[0;36m<module>\u001b[1;34m\u001b[0m\n\u001b[1;32m----> 1\u001b[1;33m \u001b[0mintersection\u001b[0m\u001b[1;31m#intersection of 2 sets using & operator\u001b[0m\u001b[1;33m\u001b[0m\u001b[1;33m\u001b[0m\u001b[0m\n\u001b[0m\u001b[0;32m      2\u001b[0m \u001b[1;33m\u001b[0m\u001b[0m\n\u001b[0;32m      3\u001b[0m \u001b[0mprint\u001b[0m\u001b[1;33m(\u001b[0m\u001b[0mset1\u001b[0m \u001b[1;33m&\u001b[0m \u001b[0mset2\u001b[0m\u001b[1;33m)\u001b[0m\u001b[1;33m\u001b[0m\u001b[1;33m\u001b[0m\u001b[0m\n",
      "\u001b[1;31mNameError\u001b[0m: name 'intersection' is not defined"
     ]
    }
   ],
   "source": [
    "intersection#intersection of 2 sets using & operator\n",
    "\n",
    "print(set1 & set2)"
   ]
  },
  {
   "cell_type": "code",
   "execution_count": 178,
   "metadata": {},
   "outputs": [
    {
     "name": "stdout",
     "output_type": "stream",
     "text": [
      "{3, 4, 5}\n"
     ]
    }
   ],
   "source": [
    "#use intersection function \n",
    "\n",
    "print(set1.intersection(set2))"
   ]
  },
  {
   "cell_type": "code",
   "execution_count": 179,
   "metadata": {},
   "outputs": [
    {
     "name": "stdout",
     "output_type": "stream",
     "text": [
      "{1, 2}\n"
     ]
    }
   ],
   "source": [
    "#set Difference: set of elements that are only in set1 but not in set2\n",
    "\n",
    "print(set1 - set2)"
   ]
  },
  {
   "cell_type": "code",
   "execution_count": 180,
   "metadata": {},
   "outputs": [
    {
     "name": "stdout",
     "output_type": "stream",
     "text": [
      "{1, 2}\n"
     ]
    }
   ],
   "source": [
    "#use differnce function \n",
    "\n",
    "print(set1.difference(set2))"
   ]
  },
  {
   "cell_type": "code",
   "execution_count": 181,
   "metadata": {},
   "outputs": [
    {
     "name": "stdout",
     "output_type": "stream",
     "text": [
      "{1, 2, 6, 7}\n"
     ]
    }
   ],
   "source": [
    "\"\"\"symmetric difference: set of elements in both set1 and set2 \n",
    "#except those that are common in both.\"\"\"\n",
    "\n",
    "#use ^ operator\n",
    "\n",
    "print(set1^set2)"
   ]
  },
  {
   "cell_type": "code",
   "execution_count": 182,
   "metadata": {},
   "outputs": [
    {
     "name": "stdout",
     "output_type": "stream",
     "text": [
      "{1, 2, 6, 7}\n"
     ]
    }
   ],
   "source": [
    "#use symmetric_difference function\n",
    "\n",
    "print(set1.symmetric_difference(set2))"
   ]
  },
  {
   "cell_type": "code",
   "execution_count": 183,
   "metadata": {},
   "outputs": [
    {
     "name": "stdout",
     "output_type": "stream",
     "text": [
      "set 'x' is subset of 'y' ? False\n",
      "set 'y' is subset of 'x' ? True\n"
     ]
    }
   ],
   "source": [
    "#find issubset()\n",
    "x = {\"a\",\"b\",\"c\",\"d\",\"e\"}\n",
    "y = {\"c\",\"d\"}\n",
    "\n",
    "print(\"set 'x' is subset of 'y' ?\", x.issubset(y))   #check x is subset of y\n",
    "\n",
    "print(\"set 'y' is subset of 'x' ?\", y.issubset(x))  #check y is subset of x"
   ]
  },
  {
   "cell_type": "markdown",
   "metadata": {},
   "source": [
    "## Frozen Sets\n",
    "1. Frozen sets has the **characteristics of sets**, but **we can't be changed once it's assigned.** While tuple are immutable lists, **frozen sets are immutable sets.**\n",
    "\n",
    "2. Frozensets can be created using the function **frozenset()**\n",
    "\n",
    "3. **Sets being mutable are unhashable, so they can't be used as dictionary keys**. On the other hand, **frozensets are hashable and can be used as keys to a dictionary.**\n",
    "\n",
    "4. This datatype supports methods like **copy(), difference(), intersection(), isdisjoint(), issubset(), issuperset(), symmetric_difference() and union().** Being **immutable it does not have method that add or remove elements.**"
   ]
  },
  {
   "cell_type": "code",
   "execution_count": 184,
   "metadata": {},
   "outputs": [
    {
     "ename": "AttributeError",
     "evalue": "'frozenset' object has no attribute 'add'",
     "output_type": "error",
     "traceback": [
      "\u001b[1;31m---------------------------------------------------------------------------\u001b[0m",
      "\u001b[1;31mAttributeError\u001b[0m                            Traceback (most recent call last)",
      "\u001b[1;32m<ipython-input-184-91446590e838>\u001b[0m in \u001b[0;36m<module>\u001b[1;34m\u001b[0m\n\u001b[0;32m      3\u001b[0m \u001b[1;33m\u001b[0m\u001b[0m\n\u001b[0;32m      4\u001b[0m                                         \u001b[1;31m#try to add element into set1 gives an error\u001b[0m\u001b[1;33m\u001b[0m\u001b[1;33m\u001b[0m\u001b[1;33m\u001b[0m\u001b[0m\n\u001b[1;32m----> 5\u001b[1;33m \u001b[0mset1\u001b[0m\u001b[1;33m.\u001b[0m\u001b[0madd\u001b[0m\u001b[1;33m(\u001b[0m\u001b[1;36m5\u001b[0m\u001b[1;33m)\u001b[0m\u001b[1;33m\u001b[0m\u001b[1;33m\u001b[0m\u001b[0m\n\u001b[0m",
      "\u001b[1;31mAttributeError\u001b[0m: 'frozenset' object has no attribute 'add'"
     ]
    }
   ],
   "source": [
    "set1 = frozenset([1, 2, 3, 4])\n",
    "set2 = frozenset([3, 4, 5, 6])\n",
    "\n",
    "                                        #try to add element into set1 gives an error\n",
    "set1.add(5)"
   ]
  },
  {
   "cell_type": "code",
   "execution_count": 185,
   "metadata": {},
   "outputs": [
    {
     "ename": "TypeError",
     "evalue": "'frozenset' object is not subscriptable",
     "output_type": "error",
     "traceback": [
      "\u001b[1;31m---------------------------------------------------------------------------\u001b[0m",
      "\u001b[1;31mTypeError\u001b[0m                                 Traceback (most recent call last)",
      "\u001b[1;32m<ipython-input-185-1b025a0aa499>\u001b[0m in \u001b[0;36m<module>\u001b[1;34m\u001b[0m\n\u001b[1;32m----> 1\u001b[1;33m \u001b[0mprint\u001b[0m\u001b[1;33m(\u001b[0m\u001b[0mset1\u001b[0m\u001b[1;33m[\u001b[0m\u001b[1;36m1\u001b[0m\u001b[1;33m]\u001b[0m\u001b[1;33m)\u001b[0m                  \u001b[1;31m# frozen set doesn't support indexing\u001b[0m\u001b[1;33m\u001b[0m\u001b[1;33m\u001b[0m\u001b[0m\n\u001b[0m",
      "\u001b[1;31mTypeError\u001b[0m: 'frozenset' object is not subscriptable"
     ]
    }
   ],
   "source": [
    "print(set1[1])                  # frozen set doesn't support indexing"
   ]
  },
  {
   "cell_type": "code",
   "execution_count": 186,
   "metadata": {},
   "outputs": [
    {
     "name": "stdout",
     "output_type": "stream",
     "text": [
      "frozenset({3, 4})\n",
      "frozenset({3, 4})\n"
     ]
    }
   ],
   "source": [
    "                       #intersection of two sets\n",
    "print(set1 & set2)\n",
    "\n",
    "             #or \n",
    "print(set1.intersection(set2))"
   ]
  },
  {
   "cell_type": "code",
   "execution_count": 187,
   "metadata": {},
   "outputs": [
    {
     "name": "stdout",
     "output_type": "stream",
     "text": [
      "frozenset({1, 2, 5, 6})\n",
      "frozenset({1, 2, 5, 6})\n"
     ]
    }
   ],
   "source": [
    "#symmetric difference\n",
    "print(set1 ^ set2)\n",
    "\n",
    "#or\n",
    "print(set1.symmetric_difference(set2))"
   ]
  },
  {
   "cell_type": "markdown",
   "metadata": {},
   "source": [
    "# Dictionaries and Structuring Data\n",
    "\n"
   ]
  },
  {
   "cell_type": "markdown",
   "metadata": {},
   "source": [
    "In this chapter, I will cover the dictionary data type, which provides a flexible way to access and organize data. Then, combining dictionaries with your knowledge of lists from the previous chapter, you’ll learn how to create a data structure to model a tic-tac-toe board.\n",
    "\n",
    "Python dictionary is an unordered collection of items. While other compound data types have only value as an element, a dictionary has a key: value pair."
   ]
  },
  {
   "cell_type": "markdown",
   "metadata": {},
   "source": [
    "## The Dictionary Data Type\n",
    "Like a list, a *dictionary* is a collection of many values. But unlike *indexes* for lists, indexes for dictionaries can use many different data types, not just integers. Indexes for dictionaries are called *keys*, and a key with its associated value is called a *key-value pair*.\n",
    "**In code, a dictionary is typed with braces, {}**"
   ]
  },
  {
   "cell_type": "code",
   "execution_count": 188,
   "metadata": {},
   "outputs": [
    {
     "data": {
      "text/plain": [
       "'fat'"
      ]
     },
     "execution_count": 188,
     "metadata": {},
     "output_type": "execute_result"
    }
   ],
   "source": [
    "myCat={'size':'fat','color':'grey','disposition': 'loud'}\n",
    "myCat['size']"
   ]
  },
  {
   "cell_type": "code",
   "execution_count": 189,
   "metadata": {},
   "outputs": [
    {
     "data": {
      "text/plain": [
       "'grey'"
      ]
     },
     "execution_count": 189,
     "metadata": {},
     "output_type": "execute_result"
    }
   ],
   "source": [
    "myCat['color']"
   ]
  },
  {
   "cell_type": "code",
   "execution_count": 190,
   "metadata": {},
   "outputs": [
    {
     "data": {
      "text/plain": [
       "'my cat has grey fur'"
      ]
     },
     "execution_count": 190,
     "metadata": {},
     "output_type": "execute_result"
    }
   ],
   "source": [
    "'my cat has '+myCat['color']+ ' fur'"
   ]
  },
  {
   "cell_type": "code",
   "execution_count": 191,
   "metadata": {},
   "outputs": [
    {
     "name": "stdout",
     "output_type": "stream",
     "text": [
      "{1: 'abc', 2: 'xyz'}\n",
      "{'name': 'satish', 1: ['abc', 'xyz']}\n",
      "{1: 'abc', 2: 'xyz'}\n"
     ]
    }
   ],
   "source": [
    "#empty dictionary\n",
    "my_dict = {}\n",
    "\n",
    "#dictionary with integer keys\n",
    "my_dict = {1: 'abc', 2: 'xyz'}\n",
    "print(my_dict)\n",
    "\n",
    "#dictionary with mixed keys\n",
    "my_dict = {'name': 'satish', 1: ['abc', 'xyz']}\n",
    "print(my_dict)\n",
    "\n",
    "\n",
    "#create empty dictionary using dict()\n",
    "my_dict = dict()\n",
    "\n",
    "my_dict = dict([(1, 'abc'), (2, 'xyz')])                           #create a dict with list of tuples\n",
    "print(my_dict)"
   ]
  },
  {
   "cell_type": "markdown",
   "metadata": {},
   "source": [
    "**Dictionaries can still use integer values as keys, just like lists use integers for indexes, but they do not have to start at and can be any number.**"
   ]
  },
  {
   "cell_type": "code",
   "execution_count": 192,
   "metadata": {},
   "outputs": [
    {
     "data": {
      "text/plain": [
       "'luggage combination'"
      ]
     },
     "execution_count": 192,
     "metadata": {},
     "output_type": "execute_result"
    }
   ],
   "source": [
    "spam={1234:'luggage combination',42:'the answer'}\n",
    "spam[1234]"
   ]
  },
  {
   "cell_type": "code",
   "execution_count": 193,
   "metadata": {},
   "outputs": [
    {
     "name": "stdout",
     "output_type": "stream",
     "text": [
      "satish\n"
     ]
    }
   ],
   "source": [
    "my_dict = {'name': 'satish', 'age': 27, 'address': 'guntur'}\n",
    "\n",
    "#get name\n",
    "print(my_dict['name'])"
   ]
  },
  {
   "cell_type": "code",
   "execution_count": 194,
   "metadata": {},
   "outputs": [
    {
     "ename": "KeyError",
     "evalue": "'degree'",
     "output_type": "error",
     "traceback": [
      "\u001b[1;31m---------------------------------------------------------------------------\u001b[0m",
      "\u001b[1;31mKeyError\u001b[0m                                  Traceback (most recent call last)",
      "\u001b[1;32m<ipython-input-194-235a293ee8a6>\u001b[0m in \u001b[0;36m<module>\u001b[1;34m\u001b[0m\n\u001b[0;32m      1\u001b[0m \u001b[1;31m#if key is not present it gives KeyError\u001b[0m\u001b[1;33m\u001b[0m\u001b[1;33m\u001b[0m\u001b[1;33m\u001b[0m\u001b[0m\n\u001b[0;32m      2\u001b[0m \u001b[1;33m\u001b[0m\u001b[0m\n\u001b[1;32m----> 3\u001b[1;33m \u001b[0mprint\u001b[0m\u001b[1;33m(\u001b[0m\u001b[0mmy_dict\u001b[0m\u001b[1;33m[\u001b[0m\u001b[1;34m'degree'\u001b[0m\u001b[1;33m]\u001b[0m\u001b[1;33m)\u001b[0m\u001b[1;33m\u001b[0m\u001b[1;33m\u001b[0m\u001b[0m\n\u001b[0m",
      "\u001b[1;31mKeyError\u001b[0m: 'degree'"
     ]
    }
   ],
   "source": [
    "#if key is not present it gives KeyError\n",
    "\n",
    "print(my_dict['degree'])"
   ]
  },
  {
   "cell_type": "code",
   "execution_count": 195,
   "metadata": {},
   "outputs": [
    {
     "name": "stdout",
     "output_type": "stream",
     "text": [
      "guntur\n"
     ]
    }
   ],
   "source": [
    "#another way of accessing key\n",
    "\n",
    "print(my_dict.get('address'))"
   ]
  },
  {
   "cell_type": "code",
   "execution_count": 196,
   "metadata": {},
   "outputs": [
    {
     "name": "stdout",
     "output_type": "stream",
     "text": [
      "None\n"
     ]
    }
   ],
   "source": [
    "#if key is not present it will give None using get method\n",
    "\n",
    "print(my_dict.get('degree'))"
   ]
  },
  {
   "cell_type": "code",
   "execution_count": null,
   "metadata": {},
   "outputs": [],
   "source": []
  },
  {
   "cell_type": "markdown",
   "metadata": {},
   "source": [
    "### Dictionaries vs. Lists\n",
    "\n",
    "Unlike lists, **items in dictionaries are unordered.** The first item in a list named spam would be spam[0]. But **there is no “first” item in a dictionary.** While the order of items matters for determining whether two lists are the same, it does not matter in what order the key-value pairs are typed in a dictionary. "
   ]
  },
  {
   "cell_type": "code",
   "execution_count": 197,
   "metadata": {},
   "outputs": [
    {
     "data": {
      "text/plain": [
       "False"
      ]
     },
     "execution_count": 197,
     "metadata": {},
     "output_type": "execute_result"
    }
   ],
   "source": [
    "spam=['cat','rat','eagle']\n",
    "baccon=['rat','eagle','cat']\n",
    "spam==baccon"
   ]
  },
  {
   "cell_type": "code",
   "execution_count": 198,
   "metadata": {},
   "outputs": [
    {
     "data": {
      "text/plain": [
       "True"
      ]
     },
     "execution_count": 198,
     "metadata": {},
     "output_type": "execute_result"
    }
   ],
   "source": [
    "eggs={'name':'l','class':8, 'age':17}\n",
    "ham={'age':17,'name':'l','class':8}\n",
    "eggs==ham"
   ]
  },
  {
   "cell_type": "markdown",
   "metadata": {},
   "source": [
    "**Because dictionaries are not ordered, they can’t be sliced like lists.**\n",
    "Trying to access a key that does not exist in a dictionary will result in a KeyError error message, much like a list’s “out-of-range” IndexError error message"
   ]
  },
  {
   "cell_type": "code",
   "execution_count": 199,
   "metadata": {},
   "outputs": [
    {
     "ename": "KeyError",
     "evalue": "'color'",
     "output_type": "error",
     "traceback": [
      "\u001b[1;31m---------------------------------------------------------------------------\u001b[0m",
      "\u001b[1;31mKeyError\u001b[0m                                  Traceback (most recent call last)",
      "\u001b[1;32m<ipython-input-199-1f58d46d3c36>\u001b[0m in \u001b[0;36m<module>\u001b[1;34m\u001b[0m\n\u001b[0;32m      1\u001b[0m \u001b[0meggs\u001b[0m\u001b[1;33m=\u001b[0m\u001b[1;33m{\u001b[0m\u001b[1;34m'name'\u001b[0m\u001b[1;33m:\u001b[0m\u001b[1;34m'l'\u001b[0m\u001b[1;33m,\u001b[0m\u001b[1;34m'class'\u001b[0m\u001b[1;33m:\u001b[0m\u001b[1;36m8\u001b[0m\u001b[1;33m,\u001b[0m \u001b[1;34m'age'\u001b[0m\u001b[1;33m:\u001b[0m\u001b[1;36m17\u001b[0m\u001b[1;33m}\u001b[0m\u001b[1;33m\u001b[0m\u001b[1;33m\u001b[0m\u001b[0m\n\u001b[1;32m----> 2\u001b[1;33m \u001b[0meggs\u001b[0m\u001b[1;33m[\u001b[0m\u001b[1;34m'color'\u001b[0m\u001b[1;33m]\u001b[0m\u001b[1;33m\u001b[0m\u001b[1;33m\u001b[0m\u001b[0m\n\u001b[0m",
      "\u001b[1;31mKeyError\u001b[0m: 'color'"
     ]
    }
   ],
   "source": [
    "eggs={'name':'l','class':8, 'age':17}\n",
    "eggs['color']"
   ]
  },
  {
   "cell_type": "code",
   "execution_count": 200,
   "metadata": {},
   "outputs": [
    {
     "data": {
      "text/plain": [
       "{'name': 'l', 'class': 8, 'age': 17, 'color': 52}"
      ]
     },
     "execution_count": 200,
     "metadata": {},
     "output_type": "execute_result"
    }
   ],
   "source": [
    "eggs={'name':'l','class':8, 'age':17}\n",
    "eggs['color']=52\n",
    "eggs"
   ]
  },
  {
   "cell_type": "code",
   "execution_count": 202,
   "metadata": {},
   "outputs": [
    {
     "name": "stdout",
     "output_type": "stream",
     "text": [
      "enter name,(keep blank to quit)\n",
      "riya\n",
      "bithday of riya is ondec 4\n",
      "enter name,(keep blank to quit)\n",
      "pky\n",
      "birhday info cant find in database\n",
      "5sep\n",
      "bday data base updated\n",
      "enter name,(keep blank to quit)\n",
      "pky\n",
      "bithday of pky is on5sep\n",
      "enter name,(keep blank to quit)\n",
      "\n",
      "{'riya': 'dec 4', 'saloni': 'nov 4', 'pramod': 'oct 26', 'pky': '5sep'}\n"
     ]
    }
   ],
   "source": [
    "birthday={'riya':'dec 4','saloni':'nov 4','pramod':'oct 26'}          # initial dictionary and store it in birthdays\n",
    "while True:\n",
    "    print('enter name,(keep blank to quit)')\n",
    "    name=input()                            #if the entered name exists as a key in the dictionary with the in keyword\n",
    "    if name=='':\n",
    "        break\n",
    "    if name in birthday:\n",
    "        print('bithday of '+ name+ ' is on'+ birthday[name])\n",
    "    else:\n",
    "        print('birhday info cant find in database')\n",
    "        bday=input()\n",
    "        birthday[name]=bday                                                   #entering new data in dictionary\n",
    "        print('bday data base updated')\n",
    "print(birthday)                                                               #optional to see updated list\n",
    "        "
   ]
  },
  {
   "cell_type": "markdown",
   "metadata": {},
   "source": [
    "**Of course, all the data you enter in this program is forgotten when the program terminates. You’ll learn how to save data to files on the hard drive in Chapter 8.**\n"
   ]
  },
  {
   "cell_type": "markdown",
   "metadata": {},
   "source": [
    "### The *keys(), values()*, and *items()* Methods\n",
    "\n",
    "   There are three dictionary methods that will return list-like values of the dictionary’s keys, values, or both keys and values: *keys(), values()*, and *items()*. The values returned by these methods are not true lists: They cannot be modified and do not have an *append()* method. But these data types (dict_keys,dict_values, and dict_items, respectively) can be used in for loops. To see how these methods work, enter the following into the interactive shell:"
   ]
  },
  {
   "cell_type": "code",
   "execution_count": 203,
   "metadata": {},
   "outputs": [
    {
     "name": "stdout",
     "output_type": "stream",
     "text": [
      "red\n",
      "42\n"
     ]
    }
   ],
   "source": [
    "spam = {'color': 'red', 'age': 42}\n",
    "for v in spam.values():\n",
    "    print(v)"
   ]
  },
  {
   "cell_type": "code",
   "execution_count": 204,
   "metadata": {},
   "outputs": [
    {
     "data": {
      "text/plain": [
       "dict_values(['red', 42])"
      ]
     },
     "execution_count": 204,
     "metadata": {},
     "output_type": "execute_result"
    }
   ],
   "source": [
    "spam.values()"
   ]
  },
  {
   "cell_type": "markdown",
   "metadata": {},
   "source": [
    "**Here, a for loop iterates over each of the values in the spam dictionary. A for loop can also iterate over the keys or both keys and values:**"
   ]
  },
  {
   "cell_type": "code",
   "execution_count": 205,
   "metadata": {},
   "outputs": [
    {
     "name": "stdout",
     "output_type": "stream",
     "text": [
      "color\n",
      "age\n"
     ]
    }
   ],
   "source": [
    "for k in spam.keys():\n",
    "    print(k)"
   ]
  },
  {
   "cell_type": "code",
   "execution_count": 206,
   "metadata": {},
   "outputs": [
    {
     "name": "stdout",
     "output_type": "stream",
     "text": [
      "('color', 'red')\n",
      "('age', 42)\n"
     ]
    }
   ],
   "source": [
    "for i in spam.items():\n",
    "    print(i)"
   ]
  },
  {
   "cell_type": "markdown",
   "metadata": {},
   "source": [
    "**Notice that the values in the dict_items value returned by the items() method aretuples of the key and value. If you want a true list from one of these methods, pass its list-like return value to the list() function.** Enter the following into the interactive shell:"
   ]
  },
  {
   "cell_type": "code",
   "execution_count": 207,
   "metadata": {},
   "outputs": [
    {
     "data": {
      "text/plain": [
       "dict_keys(['color', 'age'])"
      ]
     },
     "execution_count": 207,
     "metadata": {},
     "output_type": "execute_result"
    }
   ],
   "source": [
    "spam = {'color': 'red', 'age': 42}\n",
    "spam.keys()"
   ]
  },
  {
   "cell_type": "code",
   "execution_count": 208,
   "metadata": {},
   "outputs": [
    {
     "data": {
      "text/plain": [
       "['color', 'age']"
      ]
     },
     "execution_count": 208,
     "metadata": {},
     "output_type": "execute_result"
    }
   ],
   "source": [
    "list(spam.keys())"
   ]
  },
  {
   "cell_type": "markdown",
   "metadata": {},
   "source": [
    "**You can also use the multiple assignment trick in a for loop to assign the key and value to separate variables. Enter the following into the interactive shell:**"
   ]
  },
  {
   "cell_type": "code",
   "execution_count": 209,
   "metadata": {},
   "outputs": [
    {
     "name": "stdout",
     "output_type": "stream",
     "text": [
      "key: color  value: red\n",
      "key: age  value: 42\n"
     ]
    }
   ],
   "source": [
    "spam = {'color': 'red', 'age': 42}\n",
    "for k,v in spam.items():\n",
    "    print('key: '+k+'  value: '+str(v))"
   ]
  },
  {
   "cell_type": "markdown",
   "metadata": {},
   "source": [
    "### Checking Whether a *Key* or *Value* Exists in a Dictionary\n",
    "Recall from the previous chapter that the in and not in operators can check whether a value exists in a list. You can also use these operators to see whether a certain key or value exists in a dictionary. Enter the following into the interactive shell:"
   ]
  },
  {
   "cell_type": "code",
   "execution_count": 210,
   "metadata": {},
   "outputs": [
    {
     "data": {
      "text/plain": [
       "True"
      ]
     },
     "execution_count": 210,
     "metadata": {},
     "output_type": "execute_result"
    }
   ],
   "source": [
    "spam = {'name': 'Zophie', 'age': 7}\n",
    "'name' in spam.keys()"
   ]
  },
  {
   "cell_type": "code",
   "execution_count": 211,
   "metadata": {},
   "outputs": [
    {
     "data": {
      "text/plain": [
       "True"
      ]
     },
     "execution_count": 211,
     "metadata": {},
     "output_type": "execute_result"
    }
   ],
   "source": [
    "'name' in spam"
   ]
  },
  {
   "cell_type": "code",
   "execution_count": 212,
   "metadata": {},
   "outputs": [
    {
     "data": {
      "text/plain": [
       "True"
      ]
     },
     "execution_count": 212,
     "metadata": {},
     "output_type": "execute_result"
    }
   ],
   "source": [
    "'age' in spam"
   ]
  },
  {
   "cell_type": "code",
   "execution_count": 213,
   "metadata": {},
   "outputs": [
    {
     "data": {
      "text/plain": [
       "False"
      ]
     },
     "execution_count": 213,
     "metadata": {},
     "output_type": "execute_result"
    }
   ],
   "source": [
    "'age' in spam.values()"
   ]
  },
  {
   "cell_type": "code",
   "execution_count": 214,
   "metadata": {},
   "outputs": [
    {
     "data": {
      "text/plain": [
       "True"
      ]
     },
     "execution_count": 214,
     "metadata": {},
     "output_type": "execute_result"
    }
   ],
   "source": [
    "'age' not in spam.values()"
   ]
  },
  {
   "cell_type": "code",
   "execution_count": 215,
   "metadata": {},
   "outputs": [
    {
     "data": {
      "text/plain": [
       "True"
      ]
     },
     "execution_count": 215,
     "metadata": {},
     "output_type": "execute_result"
    }
   ],
   "source": [
    "7 in spam.values()"
   ]
  },
  {
   "cell_type": "markdown",
   "metadata": {},
   "source": [
    "### The get() Method\n",
    " get() method that takes two arguments: the key of the value to retrieve and a fallback value to return if that key does not exist.\n"
   ]
  },
  {
   "cell_type": "code",
   "execution_count": 216,
   "metadata": {},
   "outputs": [
    {
     "data": {
      "text/plain": [
       "2"
      ]
     },
     "execution_count": 216,
     "metadata": {},
     "output_type": "execute_result"
    }
   ],
   "source": [
    "picnicItems = {'apples': 5, 'cups': 2}\n",
    "picnicItems.get('cups',0)"
   ]
  },
  {
   "cell_type": "code",
   "execution_count": 217,
   "metadata": {},
   "outputs": [
    {
     "data": {
      "text/plain": [
       "0"
      ]
     },
     "execution_count": 217,
     "metadata": {},
     "output_type": "execute_result"
    }
   ],
   "source": [
    "picnicItems.get('apple',0)"
   ]
  },
  {
   "cell_type": "code",
   "execution_count": 218,
   "metadata": {},
   "outputs": [
    {
     "data": {
      "text/plain": [
       "'i am bringing 2 cups'"
      ]
     },
     "execution_count": 218,
     "metadata": {},
     "output_type": "execute_result"
    }
   ],
   "source": [
    "'i am bringing '+ str(picnicItems.get('cups',0))+ ' cups'"
   ]
  },
  {
   "cell_type": "code",
   "execution_count": 219,
   "metadata": {},
   "outputs": [
    {
     "data": {
      "text/plain": [
       "'i am bringing 0 apple'"
      ]
     },
     "execution_count": 219,
     "metadata": {},
     "output_type": "execute_result"
    }
   ],
   "source": [
    "'i am bringing '+ str(picnicItems.get('apple',0))+ ' apple'"
   ]
  },
  {
   "cell_type": "markdown",
   "metadata": {},
   "source": [
    "Because there is no 'apple' key in the picnicItems dictionary, the default value 0 is returned by the get() method. Without using get(), the code would have caused an error message, such as in the following example:\n"
   ]
  },
  {
   "cell_type": "code",
   "execution_count": 220,
   "metadata": {},
   "outputs": [
    {
     "ename": "KeyError",
     "evalue": "'apple'",
     "output_type": "error",
     "traceback": [
      "\u001b[1;31m---------------------------------------------------------------------------\u001b[0m",
      "\u001b[1;31mKeyError\u001b[0m                                  Traceback (most recent call last)",
      "\u001b[1;32m<ipython-input-220-439bc887f795>\u001b[0m in \u001b[0;36m<module>\u001b[1;34m\u001b[0m\n\u001b[1;32m----> 1\u001b[1;33m \u001b[1;34m'i am bringing '\u001b[0m\u001b[1;33m+\u001b[0m \u001b[0mstr\u001b[0m\u001b[1;33m(\u001b[0m\u001b[0mpicnicItems\u001b[0m\u001b[1;33m[\u001b[0m\u001b[1;34m'apple'\u001b[0m\u001b[1;33m]\u001b[0m\u001b[1;33m)\u001b[0m\u001b[1;33m+\u001b[0m \u001b[1;34m' apple'\u001b[0m\u001b[1;33m\u001b[0m\u001b[1;33m\u001b[0m\u001b[0m\n\u001b[0m",
      "\u001b[1;31mKeyError\u001b[0m: 'apple'"
     ]
    }
   ],
   "source": [
    "'i am bringing '+ str(picnicItems['apple'])+ ' apple'"
   ]
  },
  {
   "cell_type": "code",
   "execution_count": 221,
   "metadata": {},
   "outputs": [
    {
     "data": {
      "text/plain": [
       "2"
      ]
     },
     "execution_count": 221,
     "metadata": {},
     "output_type": "execute_result"
    }
   ],
   "source": [
    "picnicItems = {'apples': 5, 'cups': 2}\n",
    "picnicItems.get('cups')"
   ]
  },
  {
   "cell_type": "code",
   "execution_count": 222,
   "metadata": {},
   "outputs": [
    {
     "name": "stdout",
     "output_type": "stream",
     "text": [
      "None\n"
     ]
    }
   ],
   "source": [
    "print(picnicItems.get('name'))"
   ]
  },
  {
   "cell_type": "markdown",
   "metadata": {},
   "source": []
  },
  {
   "cell_type": "markdown",
   "metadata": {},
   "source": [
    "### The setdefault() Method\n",
    "\n"
   ]
  },
  {
   "cell_type": "markdown",
   "metadata": {},
   "source": [
    "You’ll often have to set a value in a dictionary for a certain key only if that key does not already have a value. The code looks something like this:"
   ]
  },
  {
   "cell_type": "code",
   "execution_count": 223,
   "metadata": {},
   "outputs": [
    {
     "data": {
      "text/plain": [
       "{'name': 'pooka', 'age': 5, 'color': 'black'}"
      ]
     },
     "execution_count": 223,
     "metadata": {},
     "output_type": "execute_result"
    }
   ],
   "source": [
    "spam={'name':'pooka','age':5}\n",
    "if 'color' not in spam:\n",
    "    spam['color']='black'\n",
    "spam"
   ]
  },
  {
   "cell_type": "markdown",
   "metadata": {},
   "source": [
    "The **setdefault()** method offers a way to do this in one line of code. The **first argument passed to the method is the key** to check for, and the **second argument is the value to set at that key** **if the key does not exist.** If the key does exist, the setdefault() method returns the key’s value."
   ]
  },
  {
   "cell_type": "code",
   "execution_count": 224,
   "metadata": {},
   "outputs": [
    {
     "data": {
      "text/plain": [
       "{'name': 'pooka', 'age': 5, 'color': 'black'}"
      ]
     },
     "execution_count": 224,
     "metadata": {},
     "output_type": "execute_result"
    }
   ],
   "source": [
    "spam={'name':'pooka','age':5}\n",
    "spam.setdefault('color','black')\n",
    "spam"
   ]
  },
  {
   "cell_type": "code",
   "execution_count": 225,
   "metadata": {},
   "outputs": [
    {
     "data": {
      "text/plain": [
       "{'name': 'pooka', 'age': 5, 'color': 'black'}"
      ]
     },
     "execution_count": 225,
     "metadata": {},
     "output_type": "execute_result"
    }
   ],
   "source": [
    "spam.setdefault('color','white')\n",
    "spam"
   ]
  },
  {
   "cell_type": "markdown",
   "metadata": {},
   "source": [
    "The first time *setdefault()* is called, the dictionary in spam changes to *{'color': 'black', 'age': 5, 'name': 'Pooka'}.* The method returns the value *'black'* because this is now the value set for the key 'color'. When *spam.setdefault('color', 'white')* is called next, the value for that key is **not changed to 'white' because spam already has a key named 'color'.**"
   ]
  },
  {
   "cell_type": "markdown",
   "metadata": {},
   "source": [
    "The **setdefault()** method is a nice shortcut to ensure that a key exists. **Here is a short program that counts the number of occurrences of each letter in a string**. Open the file editor window and enter the following code, "
   ]
  },
  {
   "cell_type": "code",
   "execution_count": 226,
   "metadata": {},
   "outputs": [
    {
     "name": "stdout",
     "output_type": "stream",
     "text": [
      "{'I': 1, 't': 6, ' ': 13, 'w': 2, 'a': 4, 's': 3, 'b': 1, 'r': 5, 'i': 6, 'g': 2, 'h': 3, 'c': 3, 'o': 2, 'l': 3, 'd': 3, 'y': 1, 'n': 4, 'A': 1, 'p': 1, ',': 1, 'e': 5, 'k': 2, '.': 1}\n"
     ]
    }
   ],
   "source": [
    "message = 'It was a bright cold day in April, and the clocks were striking thirteen.'\n",
    "count={}\n",
    "for character in message:\n",
    "    count.setdefault(character,0)\n",
    "    count[character]=count[character]+1\n",
    "print(count)"
   ]
  },
  {
   "cell_type": "code",
   "execution_count": 227,
   "metadata": {},
   "outputs": [
    {
     "name": "stdout",
     "output_type": "stream",
     "text": [
      "{'I': 1, 't': 6, ' ': 13, 'w': 2, 'a': 4, 's': 3, 'b': 1, 'r': 5, 'i': 6, 'g': 2, 'h': 3, 'c': 3, 'o': 2, 'l': 3, 'd': 3, 'y': 1, 'n': 4, 'A': 1, 'p': 1, ',': 1, 'e': 5, 'k': 2, '.': 1}\n"
     ]
    }
   ],
   "source": [
    "message = 'It was a bright cold day in April, and the clocks were striking thirteen.'\n",
    "count={}\n",
    "for i in message:\n",
    "    count.setdefault(i,0)\n",
    "    count[i]=count[i]+1\n",
    "print(count)"
   ]
  },
  {
   "cell_type": "markdown",
   "metadata": {},
   "source": [
    "The program loops over each character in the message variable’s string, counting how often each character appears. The setdefault() method call ensures that the key is in the count dictionary (with a default value of 0) so the program doesn’t throw a KeyError error when *count[character] = count[character] + 1* is executed. "
   ]
  },
  {
   "cell_type": "markdown",
   "metadata": {},
   "source": [
    "From the output, you can see that the lowercase letter c appears 3 times, the space character appears 13 times, and the uppercase letter A appears 1 time. This program will work no matter what string is inside the message variable, even if the string is millions of characters long!"
   ]
  },
  {
   "cell_type": "markdown",
   "metadata": {},
   "source": [
    "## Dict Add or Modify Elements"
   ]
  },
  {
   "cell_type": "code",
   "execution_count": 228,
   "metadata": {},
   "outputs": [
    {
     "name": "stdout",
     "output_type": "stream",
     "text": [
      "{'name': 'raju', 'age': 27, 'address': 'guntur'}\n"
     ]
    }
   ],
   "source": [
    "my_dict = {'name': 'satish', 'age': 27, 'address': 'guntur'}\n",
    "                                                                  #update name \n",
    "my_dict['name'] = 'raju'\n",
    "\n",
    "print(my_dict)"
   ]
  },
  {
   "cell_type": "code",
   "execution_count": 229,
   "metadata": {},
   "outputs": [
    {
     "name": "stdout",
     "output_type": "stream",
     "text": [
      "{'name': 'raju', 'age': 27, 'address': 'guntur', 'degree': 'M.Tech'}\n"
     ]
    }
   ],
   "source": [
    "                                                               #add new key\n",
    "my_dict['degree'] = 'M.Tech'\n",
    "\n",
    "print(my_dict)"
   ]
  },
  {
   "cell_type": "markdown",
   "metadata": {},
   "source": [
    "##  Dict Delete or Remove Element"
   ]
  },
  {
   "cell_type": "code",
   "execution_count": 230,
   "metadata": {},
   "outputs": [
    {
     "name": "stdout",
     "output_type": "stream",
     "text": [
      "27\n",
      "{'name': 'satish', 'address': 'guntur'}\n"
     ]
    }
   ],
   "source": [
    "#create a dictionary\n",
    "my_dict = {'name': 'satish', 'age': 27, 'address': 'guntur'}\n",
    "\n",
    "                                            #remove a particular item\n",
    "print(my_dict.pop('age'))\n",
    "\n",
    "print(my_dict)"
   ]
  },
  {
   "cell_type": "code",
   "execution_count": 231,
   "metadata": {},
   "outputs": [
    {
     "name": "stdout",
     "output_type": "stream",
     "text": [
      "{'name': 'satish', 'age': 27}\n"
     ]
    }
   ],
   "source": [
    "my_dict = {'name': 'satish', 'age': 27, 'address': 'guntur'}\n",
    "\n",
    "                                            #remove an arbitarty key\n",
    "my_dict.popitem()\n",
    "\n",
    "print(my_dict)"
   ]
  },
  {
   "cell_type": "code",
   "execution_count": 232,
   "metadata": {},
   "outputs": [
    {
     "name": "stdout",
     "output_type": "stream",
     "text": [
      "{3: 9, 4: 16, 5: 25}\n"
     ]
    }
   ],
   "source": [
    "squares = {2: 4, 3: 9, 4: 16, 5: 25}\n",
    "\n",
    "                                               #delete particular key\n",
    "del squares[2]\n",
    "\n",
    "print(squares)"
   ]
  },
  {
   "cell_type": "code",
   "execution_count": 233,
   "metadata": {},
   "outputs": [
    {
     "name": "stdout",
     "output_type": "stream",
     "text": [
      "{}\n"
     ]
    }
   ],
   "source": [
    "                                            #remove all items\n",
    "squares.clear()\n",
    "\n",
    "print(squares)"
   ]
  },
  {
   "cell_type": "code",
   "execution_count": 234,
   "metadata": {},
   "outputs": [
    {
     "ename": "NameError",
     "evalue": "name 'squares' is not defined",
     "output_type": "error",
     "traceback": [
      "\u001b[1;31m---------------------------------------------------------------------------\u001b[0m",
      "\u001b[1;31mNameError\u001b[0m                                 Traceback (most recent call last)",
      "\u001b[1;32m<ipython-input-234-eea9242ff699>\u001b[0m in \u001b[0;36m<module>\u001b[1;34m\u001b[0m\n\u001b[0;32m      4\u001b[0m \u001b[1;32mdel\u001b[0m \u001b[0msquares\u001b[0m\u001b[1;33m\u001b[0m\u001b[1;33m\u001b[0m\u001b[0m\n\u001b[0;32m      5\u001b[0m \u001b[1;33m\u001b[0m\u001b[0m\n\u001b[1;32m----> 6\u001b[1;33m \u001b[0mprint\u001b[0m\u001b[1;33m(\u001b[0m\u001b[0msquares\u001b[0m\u001b[1;33m)\u001b[0m \u001b[1;31m#NameError because dict is deleted\u001b[0m\u001b[1;33m\u001b[0m\u001b[1;33m\u001b[0m\u001b[0m\n\u001b[0m",
      "\u001b[1;31mNameError\u001b[0m: name 'squares' is not defined"
     ]
    }
   ],
   "source": [
    "squares = {2: 4, 3: 9, 4: 16, 5: 25}\n",
    "\n",
    "                                             #delete dictionary itself\n",
    "del squares\n",
    "\n",
    "print(squares) #NameError because dict is deleted"
   ]
  },
  {
   "cell_type": "markdown",
   "metadata": {},
   "source": [
    "## Dictionary Methods"
   ]
  },
  {
   "cell_type": "code",
   "execution_count": 235,
   "metadata": {},
   "outputs": [
    {
     "name": "stdout",
     "output_type": "stream",
     "text": [
      "{2: 4, 3: 9, 4: 16, 5: 25}\n"
     ]
    }
   ],
   "source": [
    "squares = {2: 4, 3: 9, 4: 16, 5: 25}\n",
    "\n",
    "my_dict = squares.copy()\n",
    "print(my_dict)"
   ]
  },
  {
   "cell_type": "code",
   "execution_count": 236,
   "metadata": {},
   "outputs": [
    {
     "name": "stdout",
     "output_type": "stream",
     "text": [
      "{'Math': 0, 'English': 0, 'Hindi': 0}\n"
     ]
    }
   ],
   "source": [
    "      #fromkeys[seq[, v]] -> Return a new dictionary with keys from seq and value equal to v (defaults to None).\n",
    "\n",
    "\n",
    "subjects = {}.fromkeys(['Math', 'English', 'Hindi'], 0)\n",
    "\n",
    "print(subjects)"
   ]
  },
  {
   "cell_type": "code",
   "execution_count": 237,
   "metadata": {},
   "outputs": [
    {
     "name": "stdout",
     "output_type": "stream",
     "text": [
      "dict_items([(2, 4), (3, 9), (4, 16), (5, 25)])\n"
     ]
    }
   ],
   "source": [
    "subjects = {2:4, 3:9, 4:16, 5:25}\n",
    "print(subjects.items())               #return a new view of the dictionary items (key, value)"
   ]
  },
  {
   "cell_type": "code",
   "execution_count": 238,
   "metadata": {},
   "outputs": [
    {
     "name": "stdout",
     "output_type": "stream",
     "text": [
      "dict_keys([2, 3, 4, 5])\n"
     ]
    }
   ],
   "source": [
    "subjects = {2:4, 3:9, 4:16, 5:25}\n",
    "print(subjects.keys())                  #return a new view of the dictionary keys"
   ]
  },
  {
   "cell_type": "code",
   "execution_count": 239,
   "metadata": {},
   "outputs": [
    {
     "name": "stdout",
     "output_type": "stream",
     "text": [
      "['__class__', '__contains__', '__delattr__', '__delitem__', '__dir__', '__doc__', '__eq__', '__format__', '__ge__', '__getattribute__', '__getitem__', '__gt__', '__hash__', '__init__', '__init_subclass__', '__iter__', '__le__', '__len__', '__lt__', '__ne__', '__new__', '__reduce__', '__reduce_ex__', '__repr__', '__setattr__', '__setitem__', '__sizeof__', '__str__', '__subclasshook__', 'clear', 'copy', 'fromkeys', 'get', 'items', 'keys', 'pop', 'popitem', 'setdefault', 'update', 'values']\n"
     ]
    }
   ],
   "source": [
    "#get list of all available methods and attributes of dictionary\n",
    "d = {}\n",
    "print(dir(d))"
   ]
  },
  {
   "cell_type": "markdown",
   "metadata": {},
   "source": [
    "## Dict Comprehension"
   ]
  },
  {
   "cell_type": "code",
   "execution_count": 240,
   "metadata": {},
   "outputs": [
    {
     "name": "stdout",
     "output_type": "stream",
     "text": [
      "('a', 1)\n",
      "('b', 2)\n",
      "('c', 3)\n"
     ]
    }
   ],
   "source": [
    "#Dict comprehensions are just like list comprehensions but for dictionaries\n",
    "\n",
    "d = {'a': 1, 'b': 2, 'c': 3}\n",
    "for pair in d.items():\n",
    "    print(pair)"
   ]
  },
  {
   "cell_type": "code",
   "execution_count": 241,
   "metadata": {},
   "outputs": [
    {
     "name": "stdout",
     "output_type": "stream",
     "text": [
      "{'c': 3, 'd': 4}\n"
     ]
    }
   ],
   "source": [
    "#Creating a new dictionary with only pairs where the value is larger than 2\n",
    "\n",
    "d = {'a': 1, 'b': 2, 'c': 3, 'd': 4}\n",
    "\n",
    "new_dict = {k:v for k, v in d.items() if v > 2}\n",
    "print(new_dict)"
   ]
  },
  {
   "cell_type": "code",
   "execution_count": 242,
   "metadata": {},
   "outputs": [
    {
     "name": "stdout",
     "output_type": "stream",
     "text": [
      "{'cc': 6, 'dc': 8, 'ec': 10}\n"
     ]
    }
   ],
   "source": [
    "#We can also perform operations on the key value pairs\n",
    "\n",
    "d = {'a':1,'b':2,'c':3,'d':4,'e':5}\n",
    "\n",
    "d = {k + 'c':v * 2 for k, v in d.items() if v > 2}\n",
    "print(d)"
   ]
  },
  {
   "cell_type": "markdown",
   "metadata": {},
   "source": [
    "## Pretty Printing\n",
    "If you **import the pprint** module into your programs, you’ll have access to the **pprint()** and **pformat()** functions that will **“pretty print”** a dictionary’s values. This is helpful when you want a cleaner display of the items in a dictionary than what print() provides."
   ]
  },
  {
   "cell_type": "code",
   "execution_count": 243,
   "metadata": {},
   "outputs": [
    {
     "name": "stdout",
     "output_type": "stream",
     "text": [
      "{' ': 13,\n",
      " ',': 1,\n",
      " '.': 1,\n",
      " 'A': 1,\n",
      " 'I': 1,\n",
      " 'a': 4,\n",
      " 'b': 1,\n",
      " 'c': 3,\n",
      " 'd': 3,\n",
      " 'e': 5,\n",
      " 'g': 2,\n",
      " 'h': 3,\n",
      " 'i': 6,\n",
      " 'k': 2,\n",
      " 'l': 3,\n",
      " 'n': 4,\n",
      " 'o': 2,\n",
      " 'p': 1,\n",
      " 'r': 5,\n",
      " 's': 3,\n",
      " 't': 6,\n",
      " 'w': 2,\n",
      " 'y': 1}\n"
     ]
    }
   ],
   "source": [
    "message = 'It was a bright cold day in April, and the clocks were striking thirteen.'\n",
    "import pprint\n",
    "count={}\n",
    "for character in message:\n",
    "    count.setdefault(character,0)\n",
    "    count[character]=count[character]+1\n",
    "    \n",
    "pprint.pprint(count)           #or print(pprint.pformat(count))"
   ]
  },
  {
   "cell_type": "markdown",
   "metadata": {},
   "source": [
    "The pprint.pprint() function is especially helpful when the dictionary itself contains nested lists or dictionaries. If you want to obtain the prettified text as a string value instead of displaying it on the screen, call pprint.pformat() instead. These two lines are equivalent to each other:\n",
    "\n",
    "    pprint.pprint(someDictionaryValue)\n",
    "    print(pprint.pformat(someDictionaryValue))"
   ]
  },
  {
   "cell_type": "code",
   "execution_count": 244,
   "metadata": {},
   "outputs": [
    {
     "name": "stdout",
     "output_type": "stream",
     "text": [
      "{' ': 13,\n",
      " ',': 1,\n",
      " '.': 1,\n",
      " 'A': 1,\n",
      " 'I': 1,\n",
      " 'a': 4,\n",
      " 'b': 1,\n",
      " 'c': 3,\n",
      " 'd': 3,\n",
      " 'e': 5,\n",
      " 'g': 2,\n",
      " 'h': 3,\n",
      " 'i': 6,\n",
      " 'k': 2,\n",
      " 'l': 3,\n",
      " 'n': 4,\n",
      " 'o': 2,\n",
      " 'p': 1,\n",
      " 'r': 5,\n",
      " 's': 3,\n",
      " 't': 6,\n",
      " 'w': 2,\n",
      " 'y': 1}\n"
     ]
    }
   ],
   "source": [
    "message = 'It was a bright cold day in April, and the clocks were striking thirteen.'\n",
    "count={}\n",
    "for i in message:\n",
    "    count.setdefault(i,0)\n",
    "    count[i]=count[i]+1\n",
    "print(pprint.pformat(count)) #or pprint.pprint(count) "
   ]
  },
  {
   "cell_type": "markdown",
   "metadata": {},
   "source": [
    "## Using Data Structures to Model Real-World Things\n",
    "\n",
    "Even before the Internet, it was possible to play a game of chess with someone on the other side of the world. Each player would set up a chessboard at their home and then take turns mailing a postcard to each other describing each move. To do this, the players needed a way to unambiguously describe the state of the board and their moves.\n",
    "\n",
    "In algebraic chess notation, the spaces on the chessboard are identified by a number and letter coordinate, as in Figure\n",
    "\n",
    "![Image of chess](https://upload.wikimedia.org/wikipedia/commons/thumb/b/b6/SCD_algebraic_notation.svg/242px-SCD_algebraic_notation.svg.png)\n",
    "\n",
    "The chess pieces are identified by letters: **K for king, Q for queen, R for rook, B for bishop, and N for knight**. Describing a move uses the letter of the piece and the coordinates of its destination. A pair of these moves describes what happens in a single turn (with white going first); for instance, the notation 2. Nf3 Nc6 indicates that white moved a knight to f3 and black\n",
    "moved a knight to c6 on the second turn of the game. There’s a bit more to algebraic notation than this, but the point is that\n",
    "you can use it to unambiguously describe a game of chess without needing to be in front of a chessboard. Your opponent can even be on the other side of the world! In fact, you don’t even need a physical chess set if you have a good memory: You can just read the mailed chess moves and update boards you have in your imagination. Computers have good memories. A program on a modern computer can easily store billions of strings like '2. Nf3 Nc6'. This is how computers can\n",
    "play chess without having a physical chessboard. They model data to represent a chessboard, and you can write code to work with this model. This is where lists and dictionaries can come in. You can use them to model real-world things, like chessboards. For the first example, you’ll use a game that’s a little simpler than chess: **tic-tac-toe.** "
   ]
  },
  {
   "cell_type": "markdown",
   "metadata": {},
   "source": [
    "### A Tic-Tac-Toe Board\n",
    "A tic-tac-toe board looks like a large hash symbol (#) with nine slots that can each contain an X, an O, or a blank. To represent the board with a dictionary, you can assign each slot a string-value key, as shown in Figure\n",
    "![image of tic tac toe](https://automatetheboringstuff.com/images/000003.png)\n",
    "You can use string values to represent what’s in each slot on the board: 'X', 'O', or ' ' (a space character). Thus, you’ll need to store nine strings. You can use a dictionary of values for this. The string value with the key 'top-R' can represent the top-right corner, the string value with the key 'low-L' can represent the bottom-left corner, the string value with the key 'mid-M' can represent the middle, and so on.\n",
    "This dictionary is a data structure that represents a tic-tac-toe board. Store this board-as-a-dictionary in a variable named theBoard. Open a new file editor window, and enter the following source code, "
   ]
  },
  {
   "cell_type": "code",
   "execution_count": 245,
   "metadata": {},
   "outputs": [],
   "source": [
    "theBoard={'t-l':' ','t-M':' ','t-r':' ',\n",
    "          'm-L':' ','m-M':' ','m-R':' ',\n",
    "          'l-L':' ','l-M':' ','l-R':' '}\n",
    "#The data structure stored in the theBoard variable represents the tic-tactoe board in Figure"
   ]
  },
  {
   "cell_type": "markdown",
   "metadata": {},
   "source": [
    " **Let’s create a function to print the board dictionary onto the screen.**"
   ]
  },
  {
   "cell_type": "code",
   "execution_count": 246,
   "metadata": {},
   "outputs": [
    {
     "name": "stdout",
     "output_type": "stream",
     "text": [
      " | | \n",
      "-+-+-\n",
      " | | \n",
      "-+-+-\n",
      " | | \n"
     ]
    }
   ],
   "source": [
    "theBoard={'t-L':' ','t-M':' ','t-R':' ',\n",
    "          'm-L':' ','m-M':' ','m-R':' ',\n",
    "          'l-L':' ','l-M':' ','l-R':' '}\n",
    "\n",
    "\n",
    "def printBoard(board):\n",
    "    print(board['t-L']+'|'+board['t-M']+'|'+board['t-R'])\n",
    "    print('-+-+-')\n",
    "    print(board['m-L']+'|'+board['m-M']+'|'+board['m-R'])\n",
    "    print('-+-+-')\n",
    "    print(board['l-L']+'|'+board['l-M']+'|'+board['l-R'])\n",
    "    \n",
    "    \n",
    "printBoard(theBoard)"
   ]
  },
  {
   "cell_type": "markdown",
   "metadata": {},
   "source": []
  },
  {
   "cell_type": "code",
   "execution_count": 247,
   "metadata": {},
   "outputs": [
    {
     "name": "stdout",
     "output_type": "stream",
     "text": [
      "o|o|o\n",
      "-+-+-\n",
      "x|x| \n",
      "-+-+-\n",
      " | |x\n"
     ]
    }
   ],
   "source": [
    "theBoard={'t-L':'o','t-M':'o','t-R':'o',\n",
    "          'm-L':'x','m-M':'x','m-R':' ',\n",
    "          'l-L':' ','l-M':' ','l-R':'x'}\n",
    "\n",
    "\n",
    "def printBoard(board):\n",
    "    print(board['t-L']+'|'+board['t-M']+'|'+board['t-R'])\n",
    "    print('-+-+-')\n",
    "    print(board['m-L']+'|'+board['m-M']+'|'+board['m-R'])\n",
    "    print('-+-+-')\n",
    "    print(board['l-L']+'|'+board['l-M']+'|'+board['l-R'])\n",
    "    \n",
    "    \n",
    "printBoard(theBoard)"
   ]
  },
  {
   "cell_type": "markdown",
   "metadata": {},
   "source": [
    "the **printBoard()** function expects the tic-tac-toe data structure to be a dictionary with keys for all nine slots. If the dictionary you passed was **missing,** say, the **'m-M'** key, your program would no longer work"
   ]
  },
  {
   "cell_type": "code",
   "execution_count": 248,
   "metadata": {},
   "outputs": [
    {
     "name": "stdout",
     "output_type": "stream",
     "text": [
      " | | \n",
      "-+-+-\n"
     ]
    },
    {
     "ename": "KeyError",
     "evalue": "'m-M'",
     "output_type": "error",
     "traceback": [
      "\u001b[1;31m---------------------------------------------------------------------------\u001b[0m",
      "\u001b[1;31mKeyError\u001b[0m                                  Traceback (most recent call last)",
      "\u001b[1;32m<ipython-input-248-7f3bd54f6d08>\u001b[0m in \u001b[0;36m<module>\u001b[1;34m\u001b[0m\n\u001b[0;32m     12\u001b[0m \u001b[1;33m\u001b[0m\u001b[0m\n\u001b[0;32m     13\u001b[0m \u001b[1;33m\u001b[0m\u001b[0m\n\u001b[1;32m---> 14\u001b[1;33m \u001b[0mprintBoard\u001b[0m\u001b[1;33m(\u001b[0m\u001b[0mtheBoard\u001b[0m\u001b[1;33m)\u001b[0m\u001b[1;33m\u001b[0m\u001b[1;33m\u001b[0m\u001b[0m\n\u001b[0m",
      "\u001b[1;32m<ipython-input-248-7f3bd54f6d08>\u001b[0m in \u001b[0;36mprintBoard\u001b[1;34m(board)\u001b[0m\n\u001b[0;32m      7\u001b[0m     \u001b[0mprint\u001b[0m\u001b[1;33m(\u001b[0m\u001b[0mboard\u001b[0m\u001b[1;33m[\u001b[0m\u001b[1;34m't-L'\u001b[0m\u001b[1;33m]\u001b[0m\u001b[1;33m+\u001b[0m\u001b[1;34m'|'\u001b[0m\u001b[1;33m+\u001b[0m\u001b[0mboard\u001b[0m\u001b[1;33m[\u001b[0m\u001b[1;34m't-M'\u001b[0m\u001b[1;33m]\u001b[0m\u001b[1;33m+\u001b[0m\u001b[1;34m'|'\u001b[0m\u001b[1;33m+\u001b[0m\u001b[0mboard\u001b[0m\u001b[1;33m[\u001b[0m\u001b[1;34m't-R'\u001b[0m\u001b[1;33m]\u001b[0m\u001b[1;33m)\u001b[0m\u001b[1;33m\u001b[0m\u001b[1;33m\u001b[0m\u001b[0m\n\u001b[0;32m      8\u001b[0m     \u001b[0mprint\u001b[0m\u001b[1;33m(\u001b[0m\u001b[1;34m'-+-+-'\u001b[0m\u001b[1;33m)\u001b[0m\u001b[1;33m\u001b[0m\u001b[1;33m\u001b[0m\u001b[0m\n\u001b[1;32m----> 9\u001b[1;33m     \u001b[0mprint\u001b[0m\u001b[1;33m(\u001b[0m\u001b[0mboard\u001b[0m\u001b[1;33m[\u001b[0m\u001b[1;34m'm-L'\u001b[0m\u001b[1;33m]\u001b[0m\u001b[1;33m+\u001b[0m\u001b[1;34m'|'\u001b[0m\u001b[1;33m+\u001b[0m\u001b[0mboard\u001b[0m\u001b[1;33m[\u001b[0m\u001b[1;34m'm-M'\u001b[0m\u001b[1;33m]\u001b[0m\u001b[1;33m+\u001b[0m\u001b[1;34m'|'\u001b[0m\u001b[1;33m+\u001b[0m\u001b[0mboard\u001b[0m\u001b[1;33m[\u001b[0m\u001b[1;34m'm-R'\u001b[0m\u001b[1;33m]\u001b[0m\u001b[1;33m)\u001b[0m\u001b[1;33m\u001b[0m\u001b[1;33m\u001b[0m\u001b[0m\n\u001b[0m\u001b[0;32m     10\u001b[0m     \u001b[0mprint\u001b[0m\u001b[1;33m(\u001b[0m\u001b[1;34m'-+-+-'\u001b[0m\u001b[1;33m)\u001b[0m\u001b[1;33m\u001b[0m\u001b[1;33m\u001b[0m\u001b[0m\n\u001b[0;32m     11\u001b[0m     \u001b[0mprint\u001b[0m\u001b[1;33m(\u001b[0m\u001b[0mboard\u001b[0m\u001b[1;33m[\u001b[0m\u001b[1;34m'l-L'\u001b[0m\u001b[1;33m]\u001b[0m\u001b[1;33m+\u001b[0m\u001b[1;34m'|'\u001b[0m\u001b[1;33m+\u001b[0m\u001b[0mboard\u001b[0m\u001b[1;33m[\u001b[0m\u001b[1;34m'l-M'\u001b[0m\u001b[1;33m]\u001b[0m\u001b[1;33m+\u001b[0m\u001b[1;34m'|'\u001b[0m\u001b[1;33m+\u001b[0m\u001b[0mboard\u001b[0m\u001b[1;33m[\u001b[0m\u001b[1;34m'l-R'\u001b[0m\u001b[1;33m]\u001b[0m\u001b[1;33m)\u001b[0m\u001b[1;33m\u001b[0m\u001b[1;33m\u001b[0m\u001b[0m\n",
      "\u001b[1;31mKeyError\u001b[0m: 'm-M'"
     ]
    }
   ],
   "source": [
    "theBoard={'t-L':' ','t-M':' ','t-R':' ',\n",
    "          'm-L':' ','m-R':' ',\n",
    "          'l-L':' ','l-M':' ','l-R':' '}\n",
    "\n",
    "\n",
    "def printBoard(board):\n",
    "    print(board['t-L']+'|'+board['t-M']+'|'+board['t-R'])\n",
    "    print('-+-+-')\n",
    "    print(board['m-L']+'|'+board['m-M']+'|'+board['m-R'])\n",
    "    print('-+-+-')\n",
    "    print(board['l-L']+'|'+board['l-M']+'|'+board['l-R'])\n",
    "    \n",
    "    \n",
    "printBoard(theBoard)"
   ]
  },
  {
   "cell_type": "markdown",
   "metadata": {},
   "source": [
    "**Now let’s add code that allows the players to enter their moves.**"
   ]
  },
  {
   "cell_type": "code",
   "execution_count": 249,
   "metadata": {},
   "outputs": [
    {
     "name": "stdout",
     "output_type": "stream",
     "text": [
      " | | \n",
      "-+-+-\n",
      " | | \n",
      "-+-+-\n",
      " | | \n",
      "turn for player x move which space\n",
      "t-L\n",
      "x| | \n",
      "-+-+-\n",
      " | | \n",
      "-+-+-\n",
      " | | \n",
      "turn for player o move which space\n",
      "t-M\n",
      "x|o| \n",
      "-+-+-\n",
      " | | \n",
      "-+-+-\n",
      " | | \n",
      "turn for player x move which space\n",
      "t-L\n",
      "x|o| \n",
      "-+-+-\n",
      " | | \n",
      "-+-+-\n",
      " | | \n",
      "turn for player o move which space\n",
      "t-R\n",
      "x|o|o\n",
      "-+-+-\n",
      " | | \n",
      "-+-+-\n",
      " | | \n",
      "turn for player x move which space\n",
      "m-R\n",
      "x|o|o\n",
      "-+-+-\n",
      " | |x\n",
      "-+-+-\n",
      " | | \n",
      "turn for player o move which space\n",
      "m-M\n",
      "x|o|o\n",
      "-+-+-\n",
      " |o|x\n",
      "-+-+-\n",
      " | | \n",
      "turn for player x move which space\n",
      "m-L\n",
      "x|o|o\n",
      "-+-+-\n",
      "x|o|x\n",
      "-+-+-\n",
      " | | \n",
      "turn for player o move which space\n",
      "l-L\n",
      "x|o|o\n",
      "-+-+-\n",
      "x|o|x\n",
      "-+-+-\n",
      "o| | \n",
      "turn for player x move which space\n",
      "l-M\n",
      "x|o|o\n",
      "-+-+-\n",
      "x|o|x\n",
      "-+-+-\n",
      "o|x| \n"
     ]
    }
   ],
   "source": [
    "theBoard={'t-L':' ','t-M':' ','t-R':' ',\n",
    "          'm-L':' ','m-M':' ','m-R':' ',\n",
    "          'l-L':' ','l-M':' ','l-R':' '}\n",
    "\n",
    "\n",
    "def printBoard(board):\n",
    "    print(board['t-L']+'|'+board['t-M']+'|'+board['t-R'])\n",
    "    print('-+-+-')\n",
    "    print(board['m-L']+'|'+board['m-M']+'|'+board['m-R'])\n",
    "    print('-+-+-')\n",
    "    print(board['l-L']+'|'+board['l-M']+'|'+board['l-R'])\n",
    "    \n",
    "turn='x'\n",
    "for i in range(9):\n",
    "    printBoard(theBoard)\n",
    "    print('turn for player '+turn+' move which space')\n",
    "    move=input()\n",
    "    theBoard[move]=turn\n",
    "    if turn=='x':\n",
    "        turn='o'\n",
    "    else:\n",
    "        turn='x'\n",
    "printBoard(theBoard)"
   ]
  },
  {
   "cell_type": "markdown",
   "metadata": {},
   "source": [
    "**This isn’t a complete tic-tac-toe game—for instance, it doesn’t ever check whether a player has won—but it’s enough to see how data structures can be used in programs.**"
   ]
  },
  {
   "cell_type": "code",
   "execution_count": 250,
   "metadata": {},
   "outputs": [
    {
     "name": "stdout",
     "output_type": "stream",
     "text": [
      " | | \n",
      "-+-+-\n",
      " | | \n",
      "-+-+-\n",
      " | | \n",
      "turn for player x move which space\n",
      "7\n",
      "x| | \n",
      "-+-+-\n",
      " | | \n",
      "-+-+-\n",
      " | | \n",
      "turn for player o move which space\n",
      "8\n",
      "x|o| \n",
      "-+-+-\n",
      " | | \n",
      "-+-+-\n",
      " | | \n",
      "turn for player x move which space\n",
      "9\n",
      "x|o|x\n",
      "-+-+-\n",
      " | | \n",
      "-+-+-\n",
      " | | \n",
      "turn for player o move which space\n",
      "5\n",
      "x|o|x\n",
      "-+-+-\n",
      " |o| \n",
      "-+-+-\n",
      " | | \n",
      "turn for player x move which space\n",
      "6\n",
      "x|o|x\n",
      "-+-+-\n",
      " |o|x\n",
      "-+-+-\n",
      " | | \n",
      "turn for player o move which space\n",
      "1\n",
      "x|o|x\n",
      "-+-+-\n",
      " |o|x\n",
      "-+-+-\n",
      "o| | \n",
      "turn for player x move which space\n",
      "2\n",
      "x|o|x\n",
      "-+-+-\n",
      " |o|x\n",
      "-+-+-\n",
      "o|x| \n",
      "turn for player o move which space\n",
      "3\n",
      "x|o|x\n",
      "-+-+-\n",
      " |o|x\n",
      "-+-+-\n",
      "o|x|o\n",
      "turn for player x move which space\n",
      "4\n",
      "x|o|x\n",
      "-+-+-\n",
      "x|o|x\n",
      "-+-+-\n",
      "o|x|o\n"
     ]
    }
   ],
   "source": [
    "theBoard={'7':' ','8':' ','9':' ',\n",
    "          '4':' ','5':' ','6':' ',\n",
    "          '1':' ','2':' ','3':' '}\n",
    "\n",
    "\n",
    "def printBoard(board):\n",
    "    print(board['7']+'|'+board['8']+'|'+board['9'])\n",
    "    print('-+-+-')\n",
    "    print(board['4']+'|'+board['5']+'|'+board['6'])\n",
    "    print('-+-+-')\n",
    "    print(board['1']+'|'+board['2']+'|'+board['3'])\n",
    "    \n",
    "turn='x'\n",
    "for i in range(9):\n",
    "    printBoard(theBoard)\n",
    "    print('turn for player '+turn+' move which space')\n",
    "    move=input()\n",
    "    theBoard[move]=turn\n",
    "    if turn=='x':\n",
    "        turn='o'\n",
    "    else:\n",
    "        turn='x'\n",
    "        \n",
    "printBoard(theBoard)"
   ]
  },
  {
   "cell_type": "code",
   "execution_count": 251,
   "metadata": {},
   "outputs": [
    {
     "name": "stdout",
     "output_type": "stream",
     "text": [
      " | | \n",
      "-+-+-\n",
      " | | \n",
      "-+-+-\n",
      " | | \n",
      "turn for player x move which space\n",
      "7\n",
      "x| | \n",
      "-+-+-\n",
      " | | \n",
      "-+-+-\n",
      " | | \n",
      "turn for player o move which space\n",
      "8\n",
      "x|o| \n",
      "-+-+-\n",
      " | | \n",
      "-+-+-\n",
      " | | \n",
      "turn for player x move which space\n",
      "3\n",
      "x|o| \n",
      "-+-+-\n",
      " | | \n",
      "-+-+-\n",
      " | |x\n",
      "turn for player o move which space\n",
      "9\n",
      "x|o|o\n",
      "-+-+-\n",
      " | | \n",
      "-+-+-\n",
      " | |x\n",
      "turn for player x move which space\n",
      "5\n",
      "x|o|o\n",
      "-+-+-\n",
      " |x| \n",
      "-+-+-\n",
      " | |x\n",
      "turn for player o move which space\n",
      "6\n",
      "x|o|o\n",
      "-+-+-\n",
      " |x|o\n",
      "-+-+-\n",
      " | |x\n",
      "turn for player x move which space\n",
      "4\n",
      "x|o|o\n",
      "-+-+-\n",
      "x|x|o\n",
      "-+-+-\n",
      " | |x\n",
      "turn for player o move which space\n",
      "1\n",
      "x|o|o\n",
      "-+-+-\n",
      "x|x|o\n",
      "-+-+-\n",
      "o| |x\n",
      "turn for player x move which space\n",
      "2\n",
      "x|o|o\n",
      "-+-+-\n",
      "x|x|o\n",
      "-+-+-\n",
      "o|x|x\n",
      "9\n"
     ]
    }
   ],
   "source": [
    "theBoard={'7':' ','8':' ','9':' ',\n",
    "          '4':' ','5':' ','6':' ',\n",
    "          '1':' ','2':' ','3':' '}\n",
    "\n",
    "\n",
    "def printBoard(board):\n",
    "    print(board['7']+'|'+board['8']+'|'+board['9'])\n",
    "    print('-+-+-')\n",
    "    print(board['4']+'|'+board['5']+'|'+board['6'])\n",
    "    print('-+-+-')\n",
    "    print(board['1']+'|'+board['2']+'|'+board['3'])\n",
    "    \n",
    "turn='x'\n",
    "numberOfMove=0\n",
    "for i in range(9):\n",
    "    printBoard(theBoard)\n",
    "    print('turn for player '+turn+' move which space')\n",
    "    move=input()\n",
    "    if theBoard[move]==' ':\n",
    "        theBoard[move]=turn\n",
    "        numberOfMove =numberOfMove+1\n",
    "        if turn=='x':\n",
    "            turn='o'\n",
    "        else:\n",
    "            turn='x'\n",
    "    else:\n",
    "        print('space is already fille.\\n move to which space')\n",
    "        print('m_ove:'+str(i))\n",
    "        continue\n",
    "       \n",
    "printBoard(theBoard)\n",
    "print(numberOfMove)"
   ]
  },
  {
   "cell_type": "markdown",
   "metadata": {},
   "source": [
    "####  Complete  tic-tac-toe game"
   ]
  },
  {
   "cell_type": "code",
   "execution_count": 252,
   "metadata": {},
   "outputs": [
    {
     "name": "stdout",
     "output_type": "stream",
     "text": [
      " | | \n",
      "-+-+-\n",
      " | | \n",
      "-+-+-\n",
      " | | \n",
      "turn for player x move which space\n",
      "7\n",
      "x| | \n",
      "-+-+-\n",
      " | | \n",
      "-+-+-\n",
      " | | \n",
      "turn for player o move which space\n",
      "8\n",
      "x|o| \n",
      "-+-+-\n",
      " | | \n",
      "-+-+-\n",
      " | | \n",
      "turn for player x move which space\n",
      "5\n",
      "x|o| \n",
      "-+-+-\n",
      " |x| \n",
      "-+-+-\n",
      " | | \n",
      "turn for player o move which space\n",
      "9\n",
      "x|o|o\n",
      "-+-+-\n",
      " |x| \n",
      "-+-+-\n",
      " | | \n",
      "turn for player x move which space\n",
      "3\n",
      "x|o|o\n",
      "-+-+-\n",
      " |x| \n",
      "-+-+-\n",
      " | |x\n",
      "player x won\n",
      "GAME OVER\n",
      "x|o|o\n",
      "-+-+-\n",
      " |x| \n",
      "-+-+-\n",
      " | |x\n"
     ]
    }
   ],
   "source": [
    "theBoard={'7':' ','8':' ','9':' ',\n",
    "          '4':' ','5':' ','6':' ',\n",
    "          '1':' ','2':' ','3':' '}\n",
    "\n",
    "def printBoard(board):\n",
    "    print(board['7']+'|'+board['8']+'|'+board['9'])\n",
    "    print('-+-+-')\n",
    "    print(board['4']+'|'+board['5']+'|'+board['6'])\n",
    "    print('-+-+-')\n",
    "    print(board['1']+'|'+board['2']+'|'+board['3'])\n",
    "    \n",
    "    \n",
    "   \n",
    "def game():    \n",
    "    turn='x'\n",
    "    count=0\n",
    "    for i in range(20):\n",
    "        printBoard(theBoard)\n",
    "        print('turn for player '+turn+' move which space')\n",
    "\n",
    "        move=input()\n",
    "\n",
    "        if theBoard[move]==' ':\n",
    "            theBoard[move]=turn\n",
    "            count+=1\n",
    "        else:\n",
    "            print('space is already fille.\\n move to which space')\n",
    "            continue\n",
    "\n",
    "        if count>=5:\n",
    "            if theBoard['7']==theBoard['8']==theBoard['9']!=' ':\n",
    "                printBoard(theBoard)\n",
    "                print('player '+turn+ ' won\\nGAME OVER')\n",
    "                break\n",
    "            elif theBoard['4']==theBoard['5']==theBoard['6']!=' ':\n",
    "                printBoard(theBoard)\n",
    "                print('player '+turn+ ' won\\nGAME OVER')\n",
    "                break\n",
    "            elif theBoard['1']==theBoard['2']==theBoard['3']!=' ':\n",
    "                printBoard(theBoard)\n",
    "                print('player '+turn+ ' won\\nGAME OVER')\n",
    "                break\n",
    "            elif theBoard['7']==theBoard['4']==theBoard['1']!=' ':\n",
    "                printBoard(theBoard)\n",
    "                print('player '+turn+ ' won\\nGAME OVER')\n",
    "                break\n",
    "            elif theBoard['8']==theBoard['5']==theBoard['2']!=' ':\n",
    "                printBoard(theBoard)\n",
    "                print('player '+turn+ ' won\\nGAME OVER')\n",
    "                break\n",
    "            elif theBoard['9']==theBoard['6']==theBoard['3']!=' ':\n",
    "                printBoard(theBoard)\n",
    "                print('player '+turn+ ' won\\nGAME OVER')\n",
    "                break\n",
    "            elif theBoard['7']==theBoard['5']==theBoard['3']!=' ':\n",
    "                printBoard(theBoard)\n",
    "                print('player '+turn+ ' won\\nGAME OVER')\n",
    "                break\n",
    "            elif theBoard['9']==theBoard['5']==theBoard['1']:\n",
    "                printBoard(theBoard)\n",
    "                print('player '+turn+ ' won\\nGAME OVER')\n",
    "                break\n",
    "                \n",
    "                \n",
    "        if count==9:\n",
    "            print('match DRAW\\n GAME OVER')\n",
    "\n",
    "\n",
    "        if turn=='x':                     #chenging turn of player \n",
    "                turn='o'\n",
    "        else:\n",
    "                turn='x'\n",
    "                \n",
    "game()\n",
    "printBoard(theBoard)"
   ]
  },
  {
   "cell_type": "markdown",
   "metadata": {},
   "source": [
    "### Nested Dictionaries and Lists\n",
    " Lists are useful to contain an ordered series of values, and dictionaries are useful for associating keys with values. For\n",
    "example, here’s a program that uses a dictionary that contains other dictionaries in order to see who is bringing what to a picnic. The totalBrought() function can read this data structure and calculate the total number of an item being brought by all the guests.\n"
   ]
  },
  {
   "cell_type": "code",
   "execution_count": 253,
   "metadata": {},
   "outputs": [
    {
     "name": "stdout",
     "output_type": "stream",
     "text": [
      "no of things being brought\n",
      "apples 10\n",
      "apples 120\n",
      "apples 7\n",
      "apples 20\n",
      "apples 0\n"
     ]
    }
   ],
   "source": [
    "allGuest={'alice':{'apple':5,'pine':120},\n",
    "          'bob':{'apple':5,'mango':7, 'banana':12},\n",
    "          'carol':{'banana':8,'papaya':1}}\n",
    "def totalBrought(guest,items):\n",
    "    numbBrought=0\n",
    "    for k,v in guest.items():                           # the for loop iterates over the keyvalue pairs in guests \n",
    "        numbBrought=numbBrought+v.get(items,0)\n",
    "    return(numbBrought)\n",
    "print('no of things being brought')\n",
    "print('apples '+str(totalBrought(allGuest,'apple')))\n",
    "print('apples '+str(totalBrought(allGuest,'pine')))\n",
    "print('apples '+str(totalBrought(allGuest,'mango')))\n",
    "print('apples '+str(totalBrought(allGuest,'banana')))\n",
    "print('apples '+str(totalBrought(allGuest,'anaar')))"
   ]
  },
  {
   "cell_type": "markdown",
   "metadata": {},
   "source": [
    " Inside the loop, the string of the guest’s name is assigned to **k**, and the dictionary of picnic items they’re bringing is assigned to **v**. If the item parameter exists as a key in this dictionary, it’s value (the quantity) is added to **numBrough**. If it does not exist as a key, the get()\n",
    "method returns 0 to be added to numBrought."
   ]
  },
  {
   "cell_type": "markdown",
   "metadata": {},
   "source": [
    "## Summary\n",
    "You learned all about dictionaries in this chapter. Lists and dictionaries are values that can contain multiple values, including other lists and dictionaries. Dictionaries are useful because you can map one item (the key) to another (the value), as opposed to lists, which simply contain a series of values in order. Values inside a dictionary are accessed using square brackets just as with lists. Instead of an integer index, dictionaries can have keys of a variety of data types: integers, floats, strings, or tuples. By organizing a program’s values into data structures, you can create representations of real-world objects. You saw an example of this with a tic-tac-toe board.\n",
    "\n",
    "That just about covers all the basic concepts of Python programming! You’ll continue to learn new concepts throughout the rest of this book, but you now know enough to start writing some useful programs that can automate tasks. You might not think you have enough Python knowledge to do things such as download web pages, update spreadsheets, or send text messages, but that’s where Python modules come in! These modules, written by other programmers, provide functions that make it easy for you to do all these things. So let’s learn how to write real programs to do useful automated tasks."
   ]
  },
  {
   "cell_type": "markdown",
   "metadata": {},
   "source": [
    "## Practice Projects\n",
    "### Fantasy Game Inventory\n",
    "\n",
    "You are creating a fantasy video game. The data structure to model the player’s inventory will be a dictionary where the keys are string values describing the item in the inventory and the value is an integer value detailing how many of that item the player has. For example, the dictionary value\n",
    "\n",
    "    {'rope': 1, 'torch': 6, 'gold coin': 42, 'dagger': 1, 'arrow': 12}\n",
    "\n",
    "means the player has 1 rope, 6 torches, 42 gold coins, and so on. Write a function named displayInventory() that would take any possible\n",
    "“inventory” and display it like the following:\n",
    "\n",
    "    Inventory:\n",
    "    12 arrow\n",
    "    42 gold coin\n",
    "    1 rope\n",
    "    6 torch\n",
    "    1 dagger\n",
    "    Total number of items: 62\n",
    "    \n",
    "Hint: You can use a for loop to loop through all the keys in a dictionary.\n",
    "\n",
    "    # inventory.py\n",
    "    stuff = {'rope': 1, 'torch': 6, 'gold coin': 42, 'dagger': 1, 'arrow': 12}\n",
    "    def displayInventory(inventory):\n",
    "     print(\"Inventory:\")\n",
    "     item_total = 0\n",
    "     for k, v in inventory.items():\n",
    "     print(str(v) + ' ' + k)\n",
    "     item_total += v\n",
    "     print(\"Total number of items: \" + str(item_total))\n",
    "    displayInventory(stuff)"
   ]
  },
  {
   "cell_type": "code",
   "execution_count": 254,
   "metadata": {},
   "outputs": [
    {
     "name": "stdout",
     "output_type": "stream",
     "text": [
      "1    rope\n",
      "6    torch\n",
      "42    gold coin\n",
      "1    dagger\n",
      "12    arrow\n",
      "Total number of items:62\n"
     ]
    }
   ],
   "source": [
    "stuff={'rope': 1, 'torch': 6, 'gold coin': 42, 'dagger': 1, 'arrow': 12}\n",
    "\n",
    "def displayInventory(inventory):\n",
    "    total=0\n",
    "    for k, v in inventory.items():\n",
    "        print(str(v) +'    '+    k)\n",
    "        total=total+v\n",
    "    print('Total number of items:' +str(total))\n",
    "displayInventory(stuff)"
   ]
  },
  {
   "cell_type": "markdown",
   "metadata": {},
   "source": [
    "### List to Dictionary Function for Fantasy Game Inventory\n",
    "\n",
    "Imagine that a vanquished dragon’s loot is represented as a list of strings like this:\n",
    "\n",
    "     dragonLoot = ['gold coin', 'dagger', 'gold coin', 'gold coin', 'ruby']\n",
    "        \n",
    "Write a function named addToInventory(inventory, addedItems), where the inventory parameter is a dictionary representing the player’s inventory (like in the previous project) and the addedItems parameter is a list like dragonLoot. "
   ]
  },
  {
   "cell_type": "code",
   "execution_count": 255,
   "metadata": {},
   "outputs": [
    {
     "name": "stdout",
     "output_type": "stream",
     "text": [
      "45    gold coin\n",
      "2    rope\n",
      "2    dagger\n",
      "1    ruby\n",
      "Total number of items:50\n"
     ]
    }
   ],
   "source": [
    "dragonLoot = ['gold coin', 'dagger', 'gold coin', 'gold coin', 'ruby','rope','dagger']\n",
    "inv = {'gold coin': 42, 'rope': 1}\n",
    "\n",
    "def addToInventory(inventory,addedItems):\n",
    "    for i in addedItems:\n",
    "        if i in inventory:\n",
    "            inventory[i]=inventory.get(i,0)+1    \n",
    "        else:\n",
    "            inventory[i]=1\n",
    "            \n",
    "\n",
    "def displayInventory(inventory):\n",
    "    total=0\n",
    "    for k, v in inventory.items():\n",
    "        print(str(v) +'    '+    k)\n",
    "        total=total+v\n",
    "    print('Total number of items:' +str(total))\n",
    "    \n",
    "    \n",
    "addToInventory(inv,dragonLoot)    \n",
    "displayInventory(inv)   "
   ]
  },
  {
   "cell_type": "markdown",
   "metadata": {},
   "source": [
    "# Arrays\n",
    "An array is a collection of items stored at contiguous memory locations. The idea is to store multiple items of the same type together. This makes it easier to calculate the position of each element by simply adding an offset to a base value, i.e., the memory location of the first element of the array (generally denoted by the name of the array).\n",
    "\n",
    "or simplicity, we can think of an array a fleet of stairs where on each step is placed a value (let’s say one of your friends). Here, you can identify the location of any of your friends by simply knowing the count of the step they are on. Array can be handled in Python by a module named array. They can be useful when we have to manipulate only a specific data type values. A user can treat lists as arrays. However, user cannot constraint the type of elements stored in a list. If you create arrays using the array module, all elements of the array must be of the same type.\n",
    "![title](https://media.geeksforgeeks.org/wp-content/uploads/CommonArticleDesign1-min.png)\n",
    "\n",
    "Array in Python can be created by importing array module. array(data_type, value_list) is used to create an array with data type and value list specified in its arguments."
   ]
  },
  {
   "cell_type": "code",
   "execution_count": 1,
   "metadata": {
    "ExecuteTime": {
     "end_time": "2020-10-25T05:58:18.276083Z",
     "start_time": "2020-10-25T05:58:18.189293Z"
    }
   },
   "outputs": [
    {
     "name": "stdout",
     "output_type": "stream",
     "text": [
      "The new created array is :  1 2 3 \n",
      "The new created array is :  2.5 3.2 3.3 "
     ]
    }
   ],
   "source": [
    "# Python program to demonstrate\n",
    "# Creation of Array\n",
    "\n",
    "# importing \"array\" for array creations\n",
    "import array as arr\n",
    "\n",
    "# creating an array with integer type\n",
    "a = arr.array('i', [1, 2, 3])\n",
    "\n",
    "# printing original array\n",
    "print(\"The new created array is : \", end=\" \")\n",
    "for i in range(0, 3):\n",
    "    print(a[i], end=\" \")\n",
    "print()\n",
    "\n",
    "# creating an array with float type\n",
    "b = arr.array('d', [2.5, 3.2, 3.3])\n",
    "\n",
    "# printing original array\n",
    "print(\"The new created array is : \", end=\" \")\n",
    "for i in range(0, 3):\n",
    "    print(b[i], end=\" \")"
   ]
  },
  {
   "cell_type": "markdown",
   "metadata": {},
   "source": [
    "## creating an array of different data types\n",
    "\n",
    "**Some of the data types are mentioned below which will help in creating an array of different data types**\n",
    "![title](https://media.geeksforgeeks.org/wp-content/uploads/CommonArticleDesign2-min.png)"
   ]
  },
  {
   "cell_type": "markdown",
   "metadata": {},
   "source": [
    "## Adding elements in array\n",
    "Elements can be added to the Array by using built-in **insert()** function. Insert is used to insert one or more data elements into an array. Based on the requirement, a new element can be added at the beginning, end, or any given index of **array. append()** is also used to add the value mentioned in its arguments at the end of the array."
   ]
  },
  {
   "cell_type": "code",
   "execution_count": 2,
   "metadata": {
    "ExecuteTime": {
     "end_time": "2020-10-25T06:02:55.228586Z",
     "start_time": "2020-10-25T06:02:55.138829Z"
    }
   },
   "outputs": [
    {
     "name": "stdout",
     "output_type": "stream",
     "text": [
      "Array before insertion :  1 2 3 \n",
      "Array after insertion :  1 4 2 3 \n",
      "Array before insertion :  2.5 3.2 3.3 \n",
      "Array after insertion :  2.5 3.2 3.3 4.4 \n"
     ]
    }
   ],
   "source": [
    "# Python program to demonstrate\n",
    "# Adding Elements to a Array\n",
    "\n",
    "# importing \"array\" for array creations\n",
    "import array as arr\n",
    "\n",
    "# array with int type\n",
    "a = arr.array('i', [1, 2, 3])\n",
    "\n",
    "print(\"Array before insertion : \", end=\" \")\n",
    "for i in range(0, 3):\n",
    "    print(a[i], end=\" \")\n",
    "print()\n",
    "\n",
    "# inserting array using\n",
    "# insert() function\n",
    "a.insert(1, 4)\n",
    "\n",
    "print(\"Array after insertion : \", end=\" \")\n",
    "for i in (a):\n",
    "    print(i, end=\" \")\n",
    "print()\n",
    "\n",
    "# array with float type\n",
    "b = arr.array('d', [2.5, 3.2, 3.3])\n",
    "\n",
    "print(\"Array before insertion : \", end=\" \")\n",
    "for i in range(0, 3):\n",
    "    print(b[i], end=\" \")\n",
    "print()\n",
    "\n",
    "# adding an element using append()\n",
    "b.append(4.4)\n",
    "\n",
    "print(\"Array after insertion : \", end=\" \")\n",
    "for i in (b):\n",
    "    print(i, end=\" \")\n",
    "print()"
   ]
  },
  {
   "cell_type": "markdown",
   "metadata": {},
   "source": [
    "## Removing Elements from array\n",
    "elements can be removed from the array by using built-in **remove()** function but an **Error arises if element doesn’t exist in the set**. **Remove() method only removes one element at a time,** to **remove range of elements, iterator is used.pop()** function can also be used to **remove and return an element from the array**, but by default it removes only the last element of the array, to remove element from a specific position of the array, index of the element is passed as an argument to the pop() method.\n",
    "\n",
    "**Note– Remove method in List will only remove the first occurrence of the searched element.**"
   ]
  },
  {
   "cell_type": "code",
   "execution_count": 3,
   "metadata": {
    "ExecuteTime": {
     "end_time": "2020-10-25T06:05:27.072534Z",
     "start_time": "2020-10-25T06:05:27.046578Z"
    }
   },
   "outputs": [
    {
     "name": "stdout",
     "output_type": "stream",
     "text": [
      "The new created array is : 1 2 3 1 5 \r\n",
      "The popped element is : 3\n",
      "The array after popping is : 1 2 1 5 \r\n",
      "The array after removing is : 2 1 5 "
     ]
    }
   ],
   "source": [
    "# Python program to demonstrate\n",
    "# Removal of elements in a Array\n",
    "\n",
    "# importing \"array\" for array operations\n",
    "import array\n",
    "\n",
    "# initializing array with array values\n",
    "# initializes array with signed integers\n",
    "arr = array.array('i', [1, 2, 3, 1, 5])\n",
    "\n",
    "# printing original array\n",
    "print(\"The new created array is : \", end=\"\")\n",
    "for i in range(0, 5):\n",
    "    print(arr[i], end=\" \")\n",
    "\n",
    "print(\"\\r\")\n",
    "\n",
    "# using pop() to remove element at 2nd position\n",
    "print(\"The popped element is : \", end=\"\")\n",
    "print(arr.pop(2))\n",
    "\n",
    "# printing array after popping\n",
    "print(\"The array after popping is : \", end=\"\")\n",
    "for i in range(0, 4):\n",
    "    print(arr[i], end=\" \")\n",
    "\n",
    "print(\"\\r\")\n",
    "\n",
    "# using remove() to remove 1st occurrence of 1\n",
    "arr.remove(1)\n",
    "\n",
    "# printing array after removing\n",
    "print(\"The array after removing is : \", end=\"\")\n",
    "for i in range(0, 3):\n",
    "    print(arr[i], end=\" \")"
   ]
  },
  {
   "cell_type": "markdown",
   "metadata": {},
   "source": [
    "## Slicing of a Array\n",
    "we use Slice operation. Slice operation is performed on array with the use of colon(:). To print elements from beginning to a range use [:Index], to print elements from end use [:-Index], to print elements from specific Index till the end use [Index:], to print elements within a range, use [Start Index:End Index] and to print whole List with the use of slicing operation, use [:]. Further, to print whole array in reverse order, use [::-1].\n",
    "\n",
    "![title](https://media.geeksforgeeks.org/wp-content/uploads/CommonArticleDesign3-min.png)"
   ]
  },
  {
   "cell_type": "code",
   "execution_count": 4,
   "metadata": {
    "ExecuteTime": {
     "end_time": "2020-10-25T06:07:41.509494Z",
     "start_time": "2020-10-25T06:07:41.492544Z"
    }
   },
   "outputs": [
    {
     "name": "stdout",
     "output_type": "stream",
     "text": [
      "Intial Array: \n",
      "1 2 3 4 5 6 7 8 9 10 \n",
      "Slicing elements in a range 3-8: \n",
      "array('i', [4, 5, 6, 7, 8])\n",
      "\n",
      "Elements sliced from 5th element till the end: \n",
      "array('i', [6, 7, 8, 9, 10])\n",
      "\n",
      "Printing all elements using slice operation: \n",
      "array('i', [1, 2, 3, 4, 5, 6, 7, 8, 9, 10])\n"
     ]
    }
   ],
   "source": [
    "# Python program to demonstrate\n",
    "# silicing of elements in a Array\n",
    "\n",
    "# importing array module\n",
    "import array as arr\n",
    "\n",
    "# creating a list\n",
    "l = [1, 2, 3, 4, 5, 6, 7, 8, 9, 10]\n",
    "\n",
    "a = arr.array('i', l)\n",
    "print(\"Intial Array: \")\n",
    "for i in (a):\n",
    "    print(i, end=\" \")\n",
    "\n",
    "# Print elements of a range\n",
    "# using Slice operation\n",
    "Sliced_array = a[3:8]\n",
    "print(\"\\nSlicing elements in a range 3-8: \")\n",
    "print(Sliced_array)\n",
    "\n",
    "# Print elements from a\n",
    "# pre-defined point to end\n",
    "Sliced_array = a[5:]\n",
    "print(\"\\nElements sliced from 5th \" \"element till the end: \")\n",
    "print(Sliced_array)\n",
    "\n",
    "# Printing elements from\n",
    "# beginning till end\n",
    "Sliced_array = a[:]\n",
    "print(\"\\nPrinting all elements using slice operation: \")\n",
    "print(Sliced_array)"
   ]
  },
  {
   "cell_type": "markdown",
   "metadata": {},
   "source": [
    "## Searching element in a Array\n",
    "In order to search an element in the array we use a python in-built **index()** method. This function returns the index of the first occurrence of value mentioned in arguments.\n"
   ]
  },
  {
   "cell_type": "code",
   "execution_count": 5,
   "metadata": {
    "ExecuteTime": {
     "end_time": "2020-10-25T06:08:45.110737Z",
     "start_time": "2020-10-25T06:08:45.058039Z"
    }
   },
   "outputs": [
    {
     "name": "stdout",
     "output_type": "stream",
     "text": [
      "The new created array is : 1 2 3 1 2 5 \r\n",
      "The index of 1st occurrence of 2 is : 1\n",
      "The index of 1st occurrence of 1 is : 0\n"
     ]
    }
   ],
   "source": [
    "# Python code to demonstrate\n",
    "# searching an element in array\n",
    "\n",
    "# importing array module\n",
    "import array\n",
    "\n",
    "# initializing array with array values\n",
    "# initializes array with signed integers\n",
    "arr = array.array('i', [1, 2, 3, 1, 2, 5])\n",
    "\n",
    "# printing original array\n",
    "print(\"The new created array is : \", end=\"\")\n",
    "for i in range(0, 6):\n",
    "    print(arr[i], end=\" \")\n",
    "\n",
    "print(\"\\r\")\n",
    "\n",
    "# using index() to print index of 1st occurrenece of 2\n",
    "print(\"The index of 1st occurrence of 2 is : \", end=\"\")\n",
    "print(arr.index(2))\n",
    "\n",
    "# using index() to print index of 1st occurrenece of 1\n",
    "print(\"The index of 1st occurrence of 1 is : \", end=\"\")\n",
    "print(arr.index(1))"
   ]
  },
  {
   "cell_type": "markdown",
   "metadata": {},
   "source": [
    "## Updating Elements in a Array\n",
    "In order to update an element in the array we simply reassign a new value to the desired index we want to update."
   ]
  },
  {
   "cell_type": "code",
   "execution_count": 6,
   "metadata": {
    "ExecuteTime": {
     "end_time": "2020-10-25T06:10:04.237349Z",
     "start_time": "2020-10-25T06:10:04.218369Z"
    }
   },
   "outputs": [
    {
     "name": "stdout",
     "output_type": "stream",
     "text": [
      "Array before updation : 1 2 3 1 2 5 \r\n",
      "Array after updation : 1 2 6 1 2 5 \n",
      "Array after updation : 1 2 6 1 8 5 "
     ]
    }
   ],
   "source": [
    "# Python code to demonstrate\n",
    "# how to update an element in array\n",
    "\n",
    "# importing array module\n",
    "import array\n",
    "\n",
    "# initializing array with array values\n",
    "# initializes array with signed integers\n",
    "arr = array.array('i', [1, 2, 3, 1, 2, 5])\n",
    "\n",
    "# printing original array\n",
    "print(\"Array before updation : \", end=\"\")\n",
    "for i in range(0, 6):\n",
    "    print(arr[i], end=\" \")\n",
    "\n",
    "print(\"\\r\")\n",
    "\n",
    "# updating a element in a array\n",
    "arr[2] = 6\n",
    "print(\"Array after updation : \", end=\"\")\n",
    "for i in range(0, 6):\n",
    "    print(arr[i], end=\" \")\n",
    "print()\n",
    "\n",
    "# updating a element in a array\n",
    "arr[4] = 8\n",
    "print(\"Array after updation : \", end=\"\")\n",
    "for i in range(0, 6):\n",
    "    print(arr[i], end=\" \")"
   ]
  },
  {
   "cell_type": "code",
   "execution_count": null,
   "metadata": {},
   "outputs": [],
   "source": []
  },
  {
   "cell_type": "code",
   "execution_count": null,
   "metadata": {},
   "outputs": [],
   "source": []
  },
  {
   "cell_type": "markdown",
   "metadata": {},
   "source": [
    "# Manipulating Strings\n",
    "strings from string values, add or remove spacing, convert letters to lowercase or uppercase, and check that strings are formatted correctly. You can even write Python code to access the clipboard for copying and pasting text. In this chapter, you’ll learn all this and more. Then you’ll work through two different programming projects: a simple password manager and a program to automate the boring chore of formatting pieces of text.\n",
    "\n",
    "1. A string is a sequence of characters.\n",
    "2. Computers do not deal with characters, they deal with numbers (binary). Even though you may see characters on your screen, internally it is stored and manipulated as a combination of 0's and 1's.\n",
    "3. This conversion of character to a number is called encoding, and the reverse process is decoding. ASCII and Unicode are some of the popular encoding used.\n",
    "4. In Python, string is a sequence of Unicode character.\n",
    "\n",
    "\n",
    "## Working with Strings\n",
    "\n",
    "### String Literals\n",
    "   Strings can begin and end with double quotes, just as they do with single quotes. One benefit of using double quotes is that the string can have a single quote character in it. Enter the following into the interactive shell:\n",
    "\n",
    "        spam = \"That is Alice's cat.\"\n",
    "\n",
    "Since the string begins with a double quote, Python knows that the single quote is part of the string and not marking the end of the string. However, if you need to use both single quotes and double quotes in the string, you’ll need to use escape characters.\n",
    "\n",
    "### Escape Characters\n",
    "\n",
    "An **escape character** lets you use characters that are otherwise impossible to put into a string. An escape character consists of a backslash (\\) followed by the character you want to add to the string. (Despite consisting of two characters, it is commonly referred to as a singular escape character.) For example, the escape character for a single quote is \\'. You can use this\n",
    "inside a string that begins and ends with single quotes. To see how escape characters work, enter the following into the interactive shell:\n",
    "\n",
    "    spam = 'Say hi to Bob\\'s mother.'\n",
    "    \n",
    "Python knows that since the single quote in Bob\\'s has a backslash, it is not a single quote meant to end the string value. The escape characters \\' and \\\" let you put single quotes and double quotes inside your strings, respectively.\n",
    "\n",
    "     **Escape Characters**\n",
    "     \n",
    "    Escape       character Prints as\n",
    "    \\'            Single quote\n",
    "    \\\"            Double quote\n",
    "    \\t            Tab\n",
    "    \\n            Newline (line break)\n",
    "    \\\\            Backslash"
   ]
  },
  {
   "cell_type": "markdown",
   "metadata": {},
   "source": [
    "**Strings can be created by enclosing characters inside a *single quote* or *double quotes*.\n",
    "Even *triple quotes* can be used in Python but generally used to represent multiline strings and docstrings.**"
   ]
  },
  {
   "cell_type": "code",
   "execution_count": 256,
   "metadata": {},
   "outputs": [
    {
     "name": "stdout",
     "output_type": "stream",
     "text": [
      "Hello\n",
      "Hello\n",
      "Hello\n"
     ]
    }
   ],
   "source": [
    "myString = 'Hello'\n",
    "print(myString)\n",
    "\n",
    "myString = \"Hello\"\n",
    "print(myString)\n",
    "\n",
    "myString = '''Hello'''\n",
    "print(myString)"
   ]
  },
  {
   "cell_type": "code",
   "execution_count": 257,
   "metadata": {},
   "outputs": [
    {
     "name": "stdout",
     "output_type": "stream",
     "text": [
      "Hello there!\n",
      "How are you?\n",
      "I'm doing fine.\n"
     ]
    }
   ],
   "source": [
    "print(\"Hello there!\\nHow are you?\\nI'm doing fine.\")"
   ]
  },
  {
   "cell_type": "code",
   "execution_count": 258,
   "metadata": {},
   "outputs": [
    {
     "name": "stdout",
     "output_type": "stream",
     "text": [
      "Hello there!\n",
      "How are you?\\I'm doing fine.\n"
     ]
    }
   ],
   "source": [
    "print('Hello there!\\nHow are you?\\I\\'m doing fine.')"
   ]
  },
  {
   "cell_type": "code",
   "execution_count": 259,
   "metadata": {},
   "outputs": [
    {
     "name": "stdout",
     "output_type": "stream",
     "text": [
      "Say hi to Bob's mother.\n"
     ]
    }
   ],
   "source": [
    "print(\"Say hi to Bob's mother.\")"
   ]
  },
  {
   "cell_type": "code",
   "execution_count": 260,
   "metadata": {},
   "outputs": [
    {
     "ename": "SyntaxError",
     "evalue": "invalid syntax (<ipython-input-260-13ed596c9d7e>, line 1)",
     "output_type": "error",
     "traceback": [
      "\u001b[1;36m  File \u001b[1;32m\"<ipython-input-260-13ed596c9d7e>\"\u001b[1;36m, line \u001b[1;32m1\u001b[0m\n\u001b[1;33m    print('Say hi to Bob's mother.')\u001b[0m\n\u001b[1;37m                         ^\u001b[0m\n\u001b[1;31mSyntaxError\u001b[0m\u001b[1;31m:\u001b[0m invalid syntax\n"
     ]
    }
   ],
   "source": [
    "print('Say hi to Bob's mother.')"
   ]
  },
  {
   "cell_type": "code",
   "execution_count": 261,
   "metadata": {},
   "outputs": [
    {
     "name": "stdout",
     "output_type": "stream",
     "text": [
      "Say hi to Bob's mother.\n"
     ]
    }
   ],
   "source": [
    "print('Say hi to Bob\\'s mother.')"
   ]
  },
  {
   "cell_type": "markdown",
   "metadata": {},
   "source": [
    "### Raw Strings\n",
    "You can place an r before the beginning quotation mark of a string to make it a raw string. A raw string completely ignores all escape characters and prints any backslash that appears in the string. "
   ]
  },
  {
   "cell_type": "code",
   "execution_count": 262,
   "metadata": {},
   "outputs": [
    {
     "name": "stdout",
     "output_type": "stream",
     "text": [
      "Hello there!\\nHow are you?\\I\\'m doing fine.\n"
     ]
    }
   ],
   "source": [
    "print(r'Hello there!\\nHow are you?\\I\\'m doing fine.')"
   ]
  },
  {
   "cell_type": "markdown",
   "metadata": {},
   "source": [
    "### Multiline Strings with Triple Quotes\n",
    "\n",
    "While you can use the \\n escape character to put a newline into a string, it is often easier to use multiline strings. A multiline string in Python begins and ends with either three single quotes or three double quotes. Any quotes, tabs, or newlines in between the “triple quotes” are considered part of the string. Python’s indentation rules for blocks do not apply to lines inside a multiline string.\n"
   ]
  },
  {
   "cell_type": "code",
   "execution_count": 263,
   "metadata": {},
   "outputs": [
    {
     "name": "stdout",
     "output_type": "stream",
     "text": [
      "Dear Alice,\n",
      "    Eve's cat has been arrested for catnapping, cat burglary, and extortion.\n",
      "    Sincerely,\n",
      "    Bob\n"
     ]
    }
   ],
   "source": [
    "print('''Dear Alice,\n",
    "    Eve's cat has been arrested for catnapping, cat burglary, and extortion.\n",
    "    Sincerely,\n",
    "    Bob''')"
   ]
  },
  {
   "cell_type": "code",
   "execution_count": 264,
   "metadata": {},
   "outputs": [
    {
     "name": "stdout",
     "output_type": "stream",
     "text": [
      "Dear Alice,\n",
      "\n",
      "Eve's cat has been arrested for catnapping, cat burglary, and extortion.\n",
      "\n",
      "Sincerely,\n",
      "Bob\n"
     ]
    }
   ],
   "source": [
    "print('''Dear Alice,\n",
    "\n",
    "Eve's cat has been arrested for catnapping, cat burglary, and extortion.\n",
    "\n",
    "Sincerely,\n",
    "Bob''')"
   ]
  },
  {
   "cell_type": "markdown",
   "metadata": {},
   "source": [
    "Notice that the single quote character in Eve's does not need to be escaped. Escaping single and double quotes is optional in raw strings. The following print() call would print identical text but doesn’t use a multiline string:"
   ]
  },
  {
   "cell_type": "code",
   "execution_count": 265,
   "metadata": {},
   "outputs": [
    {
     "name": "stdout",
     "output_type": "stream",
     "text": [
      "Dear Alice,\n",
      "\n",
      "Eve's cat has been arrested for catnapping, cat burglary, and extortion.\n",
      "\n",
      "Sincerely,\n",
      "Bob\n"
     ]
    }
   ],
   "source": [
    "print('Dear Alice,\\n\\nEve\\'s cat has been arrested for catnapping, cat burglary, and extortion.\\n\\nSincerely,\\nBob')"
   ]
  },
  {
   "cell_type": "markdown",
   "metadata": {},
   "source": [
    "### Multiline Comments\n",
    "While the hash character (#) marks the beginning of a comment for the rest of the line, a multiline string is often used for comments that span multiple lines."
   ]
  },
  {
   "cell_type": "code",
   "execution_count": 266,
   "metadata": {},
   "outputs": [
    {
     "name": "stdout",
     "output_type": "stream",
     "text": [
      "Hello!\n"
     ]
    }
   ],
   "source": [
    "\"\"\"This is a test Python program.\n",
    "Written by Al Sweigart al@inventwithpython.com\n",
    "This program was designed for Python 3, not Python 2.\n",
    "\"\"\"\n",
    "def spam():\n",
    " \"\"\"This is a multiline comment to help\n",
    " explain what the spam() function does.\"\"\"\n",
    " print('Hello!')\n",
    "spam()"
   ]
  },
  {
   "cell_type": "markdown",
   "metadata": {},
   "source": [
    "### Indexing and Slicing Strings\n",
    "\n",
    "Strings use indexes and slices the same way lists do. You can think of the\n",
    "string 'Hello world!' as a list and each character in the string as an item\n",
    "with a corresponding index.\n",
    "\n",
    "    '   H  e  l  l  o    w  o  r  l   d   ! '\n",
    "        0  1  2  3  4  5 6  7  8  9  10  11\n",
    "\n",
    "The space and exclamation point are included in the character count,\n",
    "so 'Hello world!' is 12 characters long, from H at index 0 to ! at index 11.\n",
    "Enter the following into the interactive shell:\n"
   ]
  },
  {
   "cell_type": "code",
   "execution_count": 267,
   "metadata": {},
   "outputs": [
    {
     "data": {
      "text/plain": [
       "'H'"
      ]
     },
     "execution_count": 267,
     "metadata": {},
     "output_type": "execute_result"
    }
   ],
   "source": [
    "spam = 'Hello world!'\n",
    "spam[0]"
   ]
  },
  {
   "cell_type": "code",
   "execution_count": 268,
   "metadata": {},
   "outputs": [
    {
     "data": {
      "text/plain": [
       "'!'"
      ]
     },
     "execution_count": 268,
     "metadata": {},
     "output_type": "execute_result"
    }
   ],
   "source": [
    "spam[11]"
   ]
  },
  {
   "cell_type": "code",
   "execution_count": 269,
   "metadata": {},
   "outputs": [
    {
     "data": {
      "text/plain": [
       "'Hell'"
      ]
     },
     "execution_count": 269,
     "metadata": {},
     "output_type": "execute_result"
    }
   ],
   "source": [
    "spam[0:4]"
   ]
  },
  {
   "cell_type": "code",
   "execution_count": 270,
   "metadata": {},
   "outputs": [
    {
     "data": {
      "text/plain": [
       "'l'"
      ]
     },
     "execution_count": 270,
     "metadata": {},
     "output_type": "execute_result"
    }
   ],
   "source": [
    "spam[-3]"
   ]
  },
  {
   "cell_type": "code",
   "execution_count": 271,
   "metadata": {},
   "outputs": [
    {
     "data": {
      "text/plain": [
       "'Hello'"
      ]
     },
     "execution_count": 271,
     "metadata": {},
     "output_type": "execute_result"
    }
   ],
   "source": [
    "spam[:5]"
   ]
  },
  {
   "cell_type": "code",
   "execution_count": 272,
   "metadata": {},
   "outputs": [
    {
     "data": {
      "text/plain": [
       "'world!'"
      ]
     },
     "execution_count": 272,
     "metadata": {},
     "output_type": "execute_result"
    }
   ],
   "source": [
    "spam[6:]"
   ]
  },
  {
   "cell_type": "code",
   "execution_count": 273,
   "metadata": {},
   "outputs": [
    {
     "data": {
      "text/plain": [
       "'hello '"
      ]
     },
     "execution_count": 273,
     "metadata": {},
     "output_type": "execute_result"
    }
   ],
   "source": [
    "spam='hello world'\n",
    "fizz=spam[:6]\n",
    "fizz"
   ]
  },
  {
   "cell_type": "code",
   "execution_count": 274,
   "metadata": {},
   "outputs": [
    {
     "data": {
      "text/plain": [
       "'l'"
      ]
     },
     "execution_count": 274,
     "metadata": {},
     "output_type": "execute_result"
    }
   ],
   "source": [
    "fizz[3]"
   ]
  },
  {
   "cell_type": "code",
   "execution_count": 275,
   "metadata": {},
   "outputs": [
    {
     "name": "stdout",
     "output_type": "stream",
     "text": [
      "H\n",
      "o\n",
      "llo\n"
     ]
    }
   ],
   "source": [
    "myString = \"Hello\"\n",
    "\n",
    "#print first Character\n",
    "print(myString[0])\n",
    "\n",
    "#print last character using negative indexing\n",
    "print(myString[-1])\n",
    "\n",
    "#slicing 2nd to 5th character\n",
    "print(myString[2:5])"
   ]
  },
  {
   "cell_type": "code",
   "execution_count": 276,
   "metadata": {},
   "outputs": [
    {
     "ename": "IndexError",
     "evalue": "string index out of range",
     "output_type": "error",
     "traceback": [
      "\u001b[1;31m---------------------------------------------------------------------------\u001b[0m",
      "\u001b[1;31mIndexError\u001b[0m                                Traceback (most recent call last)",
      "\u001b[1;32m<ipython-input-276-a6e04654a783>\u001b[0m in \u001b[0;36m<module>\u001b[1;34m\u001b[0m\n\u001b[1;32m----> 1\u001b[1;33m \u001b[0mprint\u001b[0m\u001b[1;33m(\u001b[0m\u001b[0mmyString\u001b[0m\u001b[1;33m[\u001b[0m\u001b[1;36m15\u001b[0m\u001b[1;33m]\u001b[0m\u001b[1;33m)\u001b[0m\u001b[1;33m\u001b[0m\u001b[1;33m\u001b[0m\u001b[0m\n\u001b[0m",
      "\u001b[1;31mIndexError\u001b[0m: string index out of range"
     ]
    }
   ],
   "source": [
    "print(myString[15])"
   ]
  },
  {
   "cell_type": "code",
   "execution_count": 277,
   "metadata": {},
   "outputs": [
    {
     "ename": "TypeError",
     "evalue": "string indices must be integers",
     "output_type": "error",
     "traceback": [
      "\u001b[1;31m---------------------------------------------------------------------------\u001b[0m",
      "\u001b[1;31mTypeError\u001b[0m                                 Traceback (most recent call last)",
      "\u001b[1;32m<ipython-input-277-f317be76d762>\u001b[0m in \u001b[0;36m<module>\u001b[1;34m\u001b[0m\n\u001b[1;32m----> 1\u001b[1;33m \u001b[0mprint\u001b[0m\u001b[1;33m(\u001b[0m\u001b[0mmyString\u001b[0m\u001b[1;33m[\u001b[0m\u001b[1;36m1.5\u001b[0m\u001b[1;33m]\u001b[0m\u001b[1;33m)\u001b[0m\u001b[1;33m\u001b[0m\u001b[1;33m\u001b[0m\u001b[0m\n\u001b[0m",
      "\u001b[1;31mTypeError\u001b[0m: string indices must be integers"
     ]
    }
   ],
   "source": [
    "print(myString[1.5])"
   ]
  },
  {
   "cell_type": "markdown",
   "metadata": {},
   "source": [
    "### How to change or delete a string ?\n",
    "Strings are **immutable**. This means that elements of a string **cannot be changed once it has been assigned.** **We can simply reassign different strings to the same name.**"
   ]
  },
  {
   "cell_type": "code",
   "execution_count": 278,
   "metadata": {},
   "outputs": [
    {
     "ename": "TypeError",
     "evalue": "'str' object does not support item assignment",
     "output_type": "error",
     "traceback": [
      "\u001b[1;31m---------------------------------------------------------------------------\u001b[0m",
      "\u001b[1;31mTypeError\u001b[0m                                 Traceback (most recent call last)",
      "\u001b[1;32m<ipython-input-278-786fea0a1f9c>\u001b[0m in \u001b[0;36m<module>\u001b[1;34m\u001b[0m\n\u001b[0;32m      1\u001b[0m \u001b[0mmyString\u001b[0m \u001b[1;33m=\u001b[0m \u001b[1;34m\"Hello\"\u001b[0m\u001b[1;33m\u001b[0m\u001b[1;33m\u001b[0m\u001b[0m\n\u001b[1;32m----> 2\u001b[1;33m \u001b[0mmyString\u001b[0m\u001b[1;33m[\u001b[0m\u001b[1;36m4\u001b[0m\u001b[1;33m]\u001b[0m \u001b[1;33m=\u001b[0m \u001b[1;34m's'\u001b[0m \u001b[1;31m# strings are immutable\u001b[0m\u001b[1;33m\u001b[0m\u001b[1;33m\u001b[0m\u001b[0m\n\u001b[0m",
      "\u001b[1;31mTypeError\u001b[0m: 'str' object does not support item assignment"
     ]
    }
   ],
   "source": [
    "myString = \"Hello\"\n",
    "myString[4] = 's' # strings are immutable"
   ]
  },
  {
   "cell_type": "markdown",
   "metadata": {},
   "source": [
    "**We cannot delete or remove characters from a string. But deleting the string entirely is possible using the keyword del.**"
   ]
  },
  {
   "cell_type": "code",
   "execution_count": 279,
   "metadata": {},
   "outputs": [],
   "source": [
    "del myString # delete complete string"
   ]
  },
  {
   "cell_type": "code",
   "execution_count": 280,
   "metadata": {},
   "outputs": [
    {
     "ename": "NameError",
     "evalue": "name 'myString' is not defined",
     "output_type": "error",
     "traceback": [
      "\u001b[1;31m---------------------------------------------------------------------------\u001b[0m",
      "\u001b[1;31mNameError\u001b[0m                                 Traceback (most recent call last)",
      "\u001b[1;32m<ipython-input-280-13235c81a0c6>\u001b[0m in \u001b[0;36m<module>\u001b[1;34m\u001b[0m\n\u001b[1;32m----> 1\u001b[1;33m \u001b[0mprint\u001b[0m\u001b[1;33m(\u001b[0m\u001b[0mmyString\u001b[0m\u001b[1;33m)\u001b[0m\u001b[1;33m\u001b[0m\u001b[1;33m\u001b[0m\u001b[0m\n\u001b[0m",
      "\u001b[1;31mNameError\u001b[0m: name 'myString' is not defined"
     ]
    }
   ],
   "source": [
    "print(myString)"
   ]
  },
  {
   "cell_type": "markdown",
   "metadata": {},
   "source": [
    "### Concatenation\n",
    "1. Joining of two or more strings into a single one is called concatenation.\n",
    "2. The + operator does this in Python. Simply writing two string literals together also concatenates them.\n",
    "3. The * operator can be used to repeat the string for a given number of times."
   ]
  },
  {
   "cell_type": "code",
   "execution_count": 281,
   "metadata": {},
   "outputs": [
    {
     "name": "stdout",
     "output_type": "stream",
     "text": [
      "Hello Satish\n",
      "Hello Hello Hello \n"
     ]
    }
   ],
   "source": [
    "s1 = \"Hello \"\n",
    "s2 = \"Satish\"\n",
    "\n",
    "                           #concatenation of 2 strings\n",
    "print(s1 + s2)\n",
    "\n",
    "                             #repeat string n times\n",
    "print(s1 * 3)"
   ]
  },
  {
   "cell_type": "markdown",
   "metadata": {},
   "source": [
    "### Iterating Through String"
   ]
  },
  {
   "cell_type": "code",
   "execution_count": 282,
   "metadata": {},
   "outputs": [
    {
     "name": "stdout",
     "output_type": "stream",
     "text": [
      "2  letters found\n"
     ]
    }
   ],
   "source": [
    "count = 0\n",
    "for l in \"Hello World\":\n",
    "    if l == 'o':\n",
    "        count += 1\n",
    "print(count, ' letters found')"
   ]
  },
  {
   "cell_type": "markdown",
   "metadata": {},
   "source": [
    "### The in and not in Operators with Strings\n",
    "\n",
    "The in and not in operators can be used with strings just like with list values. An expression with two strings joined using in or not in will evaluate to a Boolean True or False."
   ]
  },
  {
   "cell_type": "code",
   "execution_count": 283,
   "metadata": {},
   "outputs": [
    {
     "data": {
      "text/plain": [
       "True"
      ]
     },
     "execution_count": 283,
     "metadata": {},
     "output_type": "execute_result"
    }
   ],
   "source": [
    "'Hello' in 'Hello World'"
   ]
  },
  {
   "cell_type": "code",
   "execution_count": 284,
   "metadata": {},
   "outputs": [
    {
     "data": {
      "text/plain": [
       "False"
      ]
     },
     "execution_count": 284,
     "metadata": {},
     "output_type": "execute_result"
    }
   ],
   "source": [
    "'HELLO' in 'Hello World'"
   ]
  },
  {
   "cell_type": "code",
   "execution_count": 285,
   "metadata": {},
   "outputs": [
    {
     "data": {
      "text/plain": [
       "True"
      ]
     },
     "execution_count": 285,
     "metadata": {},
     "output_type": "execute_result"
    }
   ],
   "source": [
    "'' in 'world'"
   ]
  },
  {
   "cell_type": "code",
   "execution_count": 286,
   "metadata": {},
   "outputs": [
    {
     "data": {
      "text/plain": [
       "False"
      ]
     },
     "execution_count": 286,
     "metadata": {},
     "output_type": "execute_result"
    }
   ],
   "source": [
    "'cats' not in 'cats and dogs'"
   ]
  },
  {
   "cell_type": "markdown",
   "metadata": {},
   "source": [
    "These expressions test whether the first string (the exact string, case sensitive) can be found within the second string."
   ]
  },
  {
   "cell_type": "markdown",
   "metadata": {},
   "source": [
    "## Useful String Methods\n",
    "### The upper(), lower(), isupper(), and islower() String Methods\n",
    "\n",
    "The upper() and lower() string methods return a new string where all the letters in the original string have been converted to uppercase or lowercase, respectively. Nonletter characters in the string remain unchanged. \n"
   ]
  },
  {
   "cell_type": "code",
   "execution_count": 287,
   "metadata": {},
   "outputs": [
    {
     "data": {
      "text/plain": [
       "'HELLO WORLD!'"
      ]
     },
     "execution_count": 287,
     "metadata": {},
     "output_type": "execute_result"
    }
   ],
   "source": [
    "spam='Hello World!'\n",
    "spam= spam.upper()\n",
    "spam"
   ]
  },
  {
   "cell_type": "code",
   "execution_count": 288,
   "metadata": {},
   "outputs": [
    {
     "data": {
      "text/plain": [
       "'hello world!'"
      ]
     },
     "execution_count": 288,
     "metadata": {},
     "output_type": "execute_result"
    }
   ],
   "source": [
    "spam='Hello World!'\n",
    "spam= spam.lower()\n",
    "spam"
   ]
  },
  {
   "cell_type": "markdown",
   "metadata": {},
   "source": [
    "Note that these methods do not change the string itself but return new string values.  This is why you must use **spam =\n",
    "spam.upper()** to change the string in spam instead of simply spam.upper(). *(This is just like if a variable eggs contains the value 10. Writing eggs + 3 does not change the value of eggs, but eggs = eggs + 3 does.)*\n"
   ]
  },
  {
   "cell_type": "code",
   "execution_count": 289,
   "metadata": {},
   "outputs": [
    {
     "name": "stdout",
     "output_type": "stream",
     "text": [
      "How are you?\n",
      "bad\n",
      "I hope the rest of your day is good.\n"
     ]
    }
   ],
   "source": [
    "print('How are you?')\n",
    "feeling = input()\n",
    "if feeling.lower() == 'great':\n",
    " print('I feel great too.')\n",
    "else:\n",
    " print('I hope the rest of your day is good.')"
   ]
  },
  {
   "cell_type": "markdown",
   "metadata": {},
   "source": [
    "The **upper()** and **lower()** methods are helpful if you need to make a **case-insensitive comparison.** The strings 'great' and 'GREat' are not equal to each other. But in the following small program, it does not matter whether the user types Great, GREAT, or grEAT, because the string is first converted to\n",
    "lowercase."
   ]
  },
  {
   "cell_type": "markdown",
   "metadata": {},
   "source": [
    "The **isupper() and islower()** methods will return a **Boolean** True value if the string has at least one letter and all the letters are uppercase or lowercase, respectively. Otherwise, the method returns False. Enter the following into the interactive shell, and notice what each method call returns:"
   ]
  },
  {
   "cell_type": "code",
   "execution_count": 290,
   "metadata": {},
   "outputs": [
    {
     "data": {
      "text/plain": [
       "False"
      ]
     },
     "execution_count": 290,
     "metadata": {},
     "output_type": "execute_result"
    }
   ],
   "source": [
    "spam='Hello World!'\n",
    "spam.islower()"
   ]
  },
  {
   "cell_type": "code",
   "execution_count": 291,
   "metadata": {},
   "outputs": [
    {
     "data": {
      "text/plain": [
       "True"
      ]
     },
     "execution_count": 291,
     "metadata": {},
     "output_type": "execute_result"
    }
   ],
   "source": [
    "spam='hello world!'\n",
    "spam.islower()"
   ]
  },
  {
   "cell_type": "code",
   "execution_count": 292,
   "metadata": {},
   "outputs": [
    {
     "data": {
      "text/plain": [
       "True"
      ]
     },
     "execution_count": 292,
     "metadata": {},
     "output_type": "execute_result"
    }
   ],
   "source": [
    "'hello'.islower()"
   ]
  },
  {
   "cell_type": "code",
   "execution_count": 293,
   "metadata": {},
   "outputs": [
    {
     "data": {
      "text/plain": [
       "True"
      ]
     },
     "execution_count": 293,
     "metadata": {},
     "output_type": "execute_result"
    }
   ],
   "source": [
    "'abd543'.islower()"
   ]
  },
  {
   "cell_type": "code",
   "execution_count": 294,
   "metadata": {},
   "outputs": [
    {
     "data": {
      "text/plain": [
       "True"
      ]
     },
     "execution_count": 294,
     "metadata": {},
     "output_type": "execute_result"
    }
   ],
   "source": [
    "'ABS123'.isupper()"
   ]
  },
  {
   "cell_type": "code",
   "execution_count": 295,
   "metadata": {},
   "outputs": [
    {
     "data": {
      "text/plain": [
       "False"
      ]
     },
     "execution_count": 295,
     "metadata": {},
     "output_type": "execute_result"
    }
   ],
   "source": [
    "'1234'.islower()"
   ]
  },
  {
   "cell_type": "code",
   "execution_count": 296,
   "metadata": {},
   "outputs": [
    {
     "data": {
      "text/plain": [
       "False"
      ]
     },
     "execution_count": 296,
     "metadata": {},
     "output_type": "execute_result"
    }
   ],
   "source": [
    "'12345'.isupper()"
   ]
  },
  {
   "cell_type": "markdown",
   "metadata": {},
   "source": [
    "Since the **upper()** and **lower()** string methods themselves return strings, you can call string methods on those returned string values as well. Expressions that do this will look like a **chain of method** calls. "
   ]
  },
  {
   "cell_type": "code",
   "execution_count": 297,
   "metadata": {},
   "outputs": [
    {
     "data": {
      "text/plain": [
       "'hello'"
      ]
     },
     "execution_count": 297,
     "metadata": {},
     "output_type": "execute_result"
    }
   ],
   "source": [
    "'HELLO'.lower()"
   ]
  },
  {
   "cell_type": "code",
   "execution_count": 298,
   "metadata": {},
   "outputs": [
    {
     "data": {
      "text/plain": [
       "True"
      ]
     },
     "execution_count": 298,
     "metadata": {},
     "output_type": "execute_result"
    }
   ],
   "source": [
    "'hello'.upper().isupper()"
   ]
  },
  {
   "cell_type": "code",
   "execution_count": 299,
   "metadata": {},
   "outputs": [
    {
     "data": {
      "text/plain": [
       "True"
      ]
     },
     "execution_count": 299,
     "metadata": {},
     "output_type": "execute_result"
    }
   ],
   "source": [
    "'Hello'.lower().islower()"
   ]
  },
  {
   "cell_type": "markdown",
   "metadata": {},
   "source": [
    "### find(), replace() methods\n"
   ]
  },
  {
   "cell_type": "code",
   "execution_count": 300,
   "metadata": {},
   "outputs": [
    {
     "data": {
      "text/plain": [
       "2"
      ]
     },
     "execution_count": 300,
     "metadata": {},
     "output_type": "execute_result"
    }
   ],
   "source": [
    "spam='''These methods are useful alternatives to the == equals operator \n",
    "if you need to check only whether the first or last part of the string,\n",
    "rather than the whole thing, is equal to another string.'''\n",
    "\n",
    "spam.find('e')"
   ]
  },
  {
   "cell_type": "code",
   "execution_count": 301,
   "metadata": {},
   "outputs": [
    {
     "data": {
      "text/plain": [
       "5"
      ]
     },
     "execution_count": 301,
     "metadata": {},
     "output_type": "execute_result"
    }
   ],
   "source": [
    "\"Good Morning\".find(\"Mo\")"
   ]
  },
  {
   "cell_type": "code",
   "execution_count": 302,
   "metadata": {},
   "outputs": [
    {
     "name": "stdout",
     "output_type": "stream",
     "text": [
      "Bad morning\n",
      "Good morning\n"
     ]
    }
   ],
   "source": [
    "s1 = \"Bad morning\"\n",
    "\n",
    "s2 = s1.replace(\"Bad\", \"Good\")\n",
    "\n",
    "print(s1)\n",
    "print(s2)"
   ]
  },
  {
   "cell_type": "markdown",
   "metadata": {},
   "source": [
    "#### Python Program to Check where a String is Palindrome or not ?\n"
   ]
  },
  {
   "cell_type": "code",
   "execution_count": 303,
   "metadata": {},
   "outputs": [
    {
     "name": "stdout",
     "output_type": "stream",
     "text": [
      "enter a word:maDaM\n",
      "m\n",
      "a\n",
      "d\n",
      "a\n",
      "m\n",
      "madam\n",
      "madam:is a palindrome\n"
     ]
    }
   ],
   "source": [
    "#without using reversed(Str) funstion\n",
    "\n",
    "spam=input('enter a word:')\n",
    "spam=spam.lower()\n",
    "s=''\n",
    "for i in range (len(spam)-1,-1,-1):\n",
    "    print(spam[i])\n",
    "    s=s+spam[i]\n",
    "print(s)\n",
    "\n",
    "if s==spam:\n",
    "    print(spam+':is a palindrome')\n",
    "else:\n",
    "    print(spam+':is not palindrom')  #e.g. saippuakivikauppias is a palindrom"
   ]
  },
  {
   "cell_type": "code",
   "execution_count": 304,
   "metadata": {},
   "outputs": [
    {
     "name": "stdout",
     "output_type": "stream",
     "text": [
      "Given String is palindrome\n"
     ]
    }
   ],
   "source": [
    "myStr = \"Madam\"\n",
    "\n",
    "#convert entire string to either lower or upper\n",
    "myStr = myStr.lower()\n",
    "\n",
    "#reverse string\n",
    "revStr = reversed(myStr)\n",
    "\n",
    "\n",
    "#check if the string is equal to its reverse\n",
    "if list(myStr) == list(revStr):\n",
    "    print(\"Given String is palindrome\")\n",
    "else:\n",
    "    print(\"Given String is not palindrome\")\n"
   ]
  },
  {
   "cell_type": "markdown",
   "metadata": {},
   "source": [
    "#### Python Program to Sort Words in Alphabetic Order?"
   ]
  },
  {
   "cell_type": "code",
   "execution_count": 305,
   "metadata": {},
   "outputs": [
    {
     "name": "stdout",
     "output_type": "stream",
     "text": [
      "Alphabetic\n",
      "Order\n",
      "Program\n",
      "Sort\n",
      "in\n",
      "python\n",
      "to\n",
      "words\n"
     ]
    }
   ],
   "source": [
    "myStr = \"python Program to Sort words in Alphabetic Order\"\n",
    "\n",
    "#breakdown the string into list of words\n",
    "words = myStr.split()\n",
    "\n",
    "#sort the list\n",
    "words.sort()\n",
    "\n",
    "#print Sorted words are\n",
    "for word in words:\n",
    "    print(word)"
   ]
  },
  {
   "cell_type": "markdown",
   "metadata": {},
   "source": [
    "### The isX String Methods\n",
    "Along with islower() and isupper(), there are several string methods that have names beginning with the word is. **These methods return a Boolean value** that describes the nature of the string.\n",
    "\n",
    "    •\t isalpha() returns True if the string consists only of letters and is not blank.\n",
    "    •\t isalnum() returns True if the string consists only of letters and numbers and is not blank.\n",
    "    •\t isdecimal() returns True if the string consists only of numeric characters and is not blank.\n",
    "    •\t isspace() returns True if the string consists only of spaces, tabs, and newlines and is not blank.\n",
    "    •\t istitle() returns True if the string consists only of words that begin with an uppercase letter followed by only lowercase letters."
   ]
  },
  {
   "cell_type": "code",
   "execution_count": 306,
   "metadata": {},
   "outputs": [
    {
     "data": {
      "text/plain": [
       "True"
      ]
     },
     "execution_count": 306,
     "metadata": {},
     "output_type": "execute_result"
    }
   ],
   "source": [
    "'Hello'.isalpha()"
   ]
  },
  {
   "cell_type": "code",
   "execution_count": 307,
   "metadata": {},
   "outputs": [
    {
     "data": {
      "text/plain": [
       "False"
      ]
     },
     "execution_count": 307,
     "metadata": {},
     "output_type": "execute_result"
    }
   ],
   "source": [
    "'Hello123'.isalpha()"
   ]
  },
  {
   "cell_type": "code",
   "execution_count": 308,
   "metadata": {},
   "outputs": [
    {
     "data": {
      "text/plain": [
       "False"
      ]
     },
     "execution_count": 308,
     "metadata": {},
     "output_type": "execute_result"
    }
   ],
   "source": [
    "'Hello123/'.isalnum()"
   ]
  },
  {
   "cell_type": "code",
   "execution_count": 309,
   "metadata": {},
   "outputs": [
    {
     "data": {
      "text/plain": [
       "True"
      ]
     },
     "execution_count": 309,
     "metadata": {},
     "output_type": "execute_result"
    }
   ],
   "source": [
    "'123'.isalnum()"
   ]
  },
  {
   "cell_type": "code",
   "execution_count": 310,
   "metadata": {},
   "outputs": [
    {
     "data": {
      "text/plain": [
       "True"
      ]
     },
     "execution_count": 310,
     "metadata": {},
     "output_type": "execute_result"
    }
   ],
   "source": [
    "'Hello'.isalnum()"
   ]
  },
  {
   "cell_type": "code",
   "execution_count": 311,
   "metadata": {},
   "outputs": [
    {
     "data": {
      "text/plain": [
       "True"
      ]
     },
     "execution_count": 311,
     "metadata": {},
     "output_type": "execute_result"
    }
   ],
   "source": [
    "'123'.isdecimal()"
   ]
  },
  {
   "cell_type": "code",
   "execution_count": 312,
   "metadata": {},
   "outputs": [
    {
     "data": {
      "text/plain": [
       "False"
      ]
     },
     "execution_count": 312,
     "metadata": {},
     "output_type": "execute_result"
    }
   ],
   "source": [
    "'123Hellow'.isdecimal()"
   ]
  },
  {
   "cell_type": "code",
   "execution_count": 313,
   "metadata": {},
   "outputs": [
    {
     "data": {
      "text/plain": [
       "True"
      ]
     },
     "execution_count": 313,
     "metadata": {},
     "output_type": "execute_result"
    }
   ],
   "source": [
    "'   '.isspace()"
   ]
  },
  {
   "cell_type": "code",
   "execution_count": 314,
   "metadata": {},
   "outputs": [
    {
     "data": {
      "text/plain": [
       "True"
      ]
     },
     "execution_count": 314,
     "metadata": {},
     "output_type": "execute_result"
    }
   ],
   "source": [
    "'\\n  '.isspace()"
   ]
  },
  {
   "cell_type": "code",
   "execution_count": 315,
   "metadata": {},
   "outputs": [
    {
     "data": {
      "text/plain": [
       "False"
      ]
     },
     "execution_count": 315,
     "metadata": {},
     "output_type": "execute_result"
    }
   ],
   "source": [
    "' n '.isspace()"
   ]
  },
  {
   "cell_type": "code",
   "execution_count": 316,
   "metadata": {},
   "outputs": [
    {
     "data": {
      "text/plain": [
       "True"
      ]
     },
     "execution_count": 316,
     "metadata": {},
     "output_type": "execute_result"
    }
   ],
   "source": [
    "'This Is A Tiyle'.istitle()"
   ]
  },
  {
   "cell_type": "code",
   "execution_count": 317,
   "metadata": {},
   "outputs": [
    {
     "data": {
      "text/plain": [
       "False"
      ]
     },
     "execution_count": 317,
     "metadata": {},
     "output_type": "execute_result"
    }
   ],
   "source": [
    "'This is Not The Title'.istitle()"
   ]
  },
  {
   "cell_type": "code",
   "execution_count": 318,
   "metadata": {},
   "outputs": [
    {
     "data": {
      "text/plain": [
       "False"
      ]
     },
     "execution_count": 318,
     "metadata": {},
     "output_type": "execute_result"
    }
   ],
   "source": [
    "'This IS A Not Title.istitle()'.istitle()"
   ]
  },
  {
   "cell_type": "code",
   "execution_count": 319,
   "metadata": {},
   "outputs": [
    {
     "data": {
      "text/plain": [
       "True"
      ]
     },
     "execution_count": 319,
     "metadata": {},
     "output_type": "execute_result"
    }
   ],
   "source": [
    "'This Is The Title 123'.istitle()"
   ]
  },
  {
   "cell_type": "markdown",
   "metadata": {},
   "source": [
    "The **isX** string methods are helpful when you need to validate user input. For example, the following program repeatedly asks users for their age and a password until they provide valid input"
   ]
  },
  {
   "cell_type": "code",
   "execution_count": 320,
   "metadata": {},
   "outputs": [
    {
     "name": "stdout",
     "output_type": "stream",
     "text": [
      "enter your age:25.0\n",
      "Enter your age in decimal\n",
      "enter your age:25\n",
      "enter your password:pky256\n"
     ]
    }
   ],
   "source": [
    "while True:\n",
    "    age=input('enter your age:')\n",
    "    if age.isdecimal():\n",
    "        break\n",
    "    else:\n",
    "        print('Enter your age in decimal')\n",
    "while True:\n",
    "    pswrd=input('enter your password:')\n",
    "    if pswrd.isalnum():\n",
    "        break\n",
    "    else:\n",
    "        print('password can be only alpha or numeric')\n",
    "        "
   ]
  },
  {
   "cell_type": "markdown",
   "metadata": {},
   "source": [
    "**These methods are useful alternatives to the == equals operator if you need to check only whether the first or last part of the string, rather than the whole thing, is equal to another string.**"
   ]
  },
  {
   "cell_type": "markdown",
   "metadata": {},
   "source": [
    "### The *join()* and *split()* String Methods\n",
    "The join() method is useful when you have a list of strings that need to be joined together into a single string value. The join() method is called on a string, gets passed a list of strings, and returns a string. The returned string\n",
    "is the concatenation of each string in the passed-in list. For example, enter the following into the interactive shell:\n"
   ]
  },
  {
   "cell_type": "code",
   "execution_count": 321,
   "metadata": {},
   "outputs": [
    {
     "data": {
      "text/plain": [
       "'cat,dog,cow'"
      ]
     },
     "execution_count": 321,
     "metadata": {},
     "output_type": "execute_result"
    }
   ],
   "source": [
    "','.join(['cat','dog','cow'])"
   ]
  },
  {
   "cell_type": "code",
   "execution_count": 322,
   "metadata": {},
   "outputs": [
    {
     "data": {
      "text/plain": [
       "'catdogcow'"
      ]
     },
     "execution_count": 322,
     "metadata": {},
     "output_type": "execute_result"
    }
   ],
   "source": [
    "''.join(['cat','dog','cow'])"
   ]
  },
  {
   "cell_type": "code",
   "execution_count": 323,
   "metadata": {},
   "outputs": [
    {
     "data": {
      "text/plain": [
       "'cat dog cow'"
      ]
     },
     "execution_count": 323,
     "metadata": {},
     "output_type": "execute_result"
    }
   ],
   "source": [
    "' '.join(['cat','dog','cow'])"
   ]
  },
  {
   "cell_type": "code",
   "execution_count": 324,
   "metadata": {},
   "outputs": [
    {
     "data": {
      "text/plain": [
       "'cat $ dog $ cow'"
      ]
     },
     "execution_count": 324,
     "metadata": {},
     "output_type": "execute_result"
    }
   ],
   "source": [
    "' $ '.join(['cat','dog','cow'])"
   ]
  },
  {
   "cell_type": "code",
   "execution_count": 325,
   "metadata": {},
   "outputs": [
    {
     "data": {
      "text/plain": [
       "'catABCdogABCcow'"
      ]
     },
     "execution_count": 325,
     "metadata": {},
     "output_type": "execute_result"
    }
   ],
   "source": [
    "'ABC'.join(['cat','dog','cow'])"
   ]
  },
  {
   "cell_type": "markdown",
   "metadata": {},
   "source": [
    "Remember that **join() is called on a string value and is passed a list value.** (It’s easy to accidentally call it the other way around.) **The split() method does the opposite: It’s called on a string value and returns a list of strings.**"
   ]
  },
  {
   "cell_type": "code",
   "execution_count": 326,
   "metadata": {},
   "outputs": [
    {
     "data": {
      "text/plain": [
       "['I', 'am', 'pramod', 'kumar', 'yadav']"
      ]
     },
     "execution_count": 326,
     "metadata": {},
     "output_type": "execute_result"
    }
   ],
   "source": [
    "'I am pramod kumar yadav'.split()"
   ]
  },
  {
   "cell_type": "code",
   "execution_count": 327,
   "metadata": {},
   "outputs": [
    {
     "data": {
      "text/plain": [
       "['i', 'am', 'pramod', 'kuamr']"
      ]
     },
     "execution_count": 327,
     "metadata": {},
     "output_type": "execute_result"
    }
   ],
   "source": [
    "'iABCamABCpramodABCkuamr'.split('ABC')"
   ]
  },
  {
   "cell_type": "code",
   "execution_count": 328,
   "metadata": {},
   "outputs": [
    {
     "data": {
      "text/plain": [
       "['I ', 'm pr', 'mod kum', 'r y', 'd', 'v']"
      ]
     },
     "execution_count": 328,
     "metadata": {},
     "output_type": "execute_result"
    }
   ],
   "source": [
    "'I am pramod kumar yadav'.split('a')"
   ]
  },
  {
   "cell_type": "code",
   "execution_count": 329,
   "metadata": {},
   "outputs": [
    {
     "name": "stdout",
     "output_type": "stream",
     "text": [
      "['one', 'two', 'three', 'four', 'five']\n"
     ]
    }
   ],
   "source": [
    "#let's take a string\n",
    "\n",
    "s = \"one,two,three,four,five\"\n",
    "slst = s.split(',')\n",
    "print(slst)"
   ]
  },
  {
   "cell_type": "markdown",
   "metadata": {},
   "source": [
    "***A common use of split() is to split a multiline string along the newline characters. Enter the following into the interactive shell:***"
   ]
  },
  {
   "cell_type": "code",
   "execution_count": 330,
   "metadata": {},
   "outputs": [
    {
     "data": {
      "text/plain": [
       "'Dear Alice,\\nHow have you been? I am fine.\\nThere is a container in the fridge\\nthat is labeled \"Milk Experiment\".\\nPlease do not drink it.\\nSincerely,\\nBob'"
      ]
     },
     "execution_count": 330,
     "metadata": {},
     "output_type": "execute_result"
    }
   ],
   "source": [
    "spam = '''Dear Alice,\n",
    "How have you been? I am fine.\n",
    "There is a container in the fridge\n",
    "that is labeled \"Milk Experiment\".\n",
    "Please do not drink it.\n",
    "Sincerely,\n",
    "Bob'''\n",
    "spam"
   ]
  },
  {
   "cell_type": "code",
   "execution_count": 331,
   "metadata": {},
   "outputs": [
    {
     "name": "stdout",
     "output_type": "stream",
     "text": [
      "Dear Alice,\n",
      "How have you been? I am fine.\n",
      "There is a container in the fridge\n",
      "that is labeled \"Milk Experiment\".\n",
      "Please do not drink it.\n",
      "Sincerely,\n",
      "Bob\n"
     ]
    }
   ],
   "source": [
    "spam = '''Dear Alice,\n",
    "How have you been? I am fine.\n",
    "There is a container in the fridge\n",
    "that is labeled \"Milk Experiment\".\n",
    "Please do not drink it.\n",
    "Sincerely,\n",
    "Bob'''\n",
    "print(spam)"
   ]
  },
  {
   "cell_type": "code",
   "execution_count": 332,
   "metadata": {},
   "outputs": [
    {
     "data": {
      "text/plain": [
       "['Dear Alice,',\n",
       " 'How have you been? I am fine.',\n",
       " 'There is a container in the fridge',\n",
       " 'that is labeled \"Milk Experiment\".',\n",
       " 'Please do not drink it.',\n",
       " 'Sincerely,',\n",
       " 'Bob']"
      ]
     },
     "execution_count": 332,
     "metadata": {},
     "output_type": "execute_result"
    }
   ],
   "source": [
    "spam = '''Dear Alice,\n",
    "How have you been? I am fine.\n",
    "There is a container in the fridge\n",
    "that is labeled \"Milk Experiment\".\n",
    "Please do not drink it.\n",
    "Sincerely,\n",
    "Bob'''\n",
    "\n",
    "\n",
    "spam.split('\\n')"
   ]
  },
  {
   "cell_type": "markdown",
   "metadata": {},
   "source": [
    "Passing split() the argument '\\n' lets us split the multiline string stored in spam along the newlines and return a list in which each item corresponds to one line of the string."
   ]
  },
  {
   "cell_type": "markdown",
   "metadata": {},
   "source": [
    "### Justifying Text with *rjust()*, *ljust()*, and *center()*\n",
    "\n",
    "   The *rjust()* and *ljust()* string methods return a padded version of the string they are called on, with **spaces inserted to justify the text**. The **first argument to both methods is an integer** length for the justified string. "
   ]
  },
  {
   "cell_type": "code",
   "execution_count": 333,
   "metadata": {},
   "outputs": [
    {
     "data": {
      "text/plain": [
       "'     hello'"
      ]
     },
     "execution_count": 333,
     "metadata": {},
     "output_type": "execute_result"
    }
   ],
   "source": [
    "'hello'.rjust(10)"
   ]
  },
  {
   "cell_type": "code",
   "execution_count": 334,
   "metadata": {},
   "outputs": [
    {
     "data": {
      "text/plain": [
       "'hello     '"
      ]
     },
     "execution_count": 334,
     "metadata": {},
     "output_type": "execute_result"
    }
   ],
   "source": [
    "'hello'.ljust(10)"
   ]
  },
  {
   "cell_type": "code",
   "execution_count": 335,
   "metadata": {},
   "outputs": [
    {
     "data": {
      "text/plain": [
       "'  hello   '"
      ]
     },
     "execution_count": 335,
     "metadata": {},
     "output_type": "execute_result"
    }
   ],
   "source": [
    "'hello'.center(10)"
   ]
  },
  {
   "cell_type": "code",
   "execution_count": 336,
   "metadata": {},
   "outputs": [
    {
     "data": {
      "text/plain": [
       "'         hello world'"
      ]
     },
     "execution_count": 336,
     "metadata": {},
     "output_type": "execute_result"
    }
   ],
   "source": [
    "'hello world'.rjust(20)"
   ]
  },
  {
   "cell_type": "markdown",
   "metadata": {},
   "source": [
    "**'Hello'.rjust(10)** says that we want to **right-justify 'Hello'** in a string of **total length 10.** **'Hello' is five** characters, **so five spaces will be added to its left**, giving us a string of 10 characters with 'Hello' justified right."
   ]
  },
  {
   "cell_type": "code",
   "execution_count": 337,
   "metadata": {},
   "outputs": [
    {
     "data": {
      "text/plain": [
       "'*****Hello'"
      ]
     },
     "execution_count": 337,
     "metadata": {},
     "output_type": "execute_result"
    }
   ],
   "source": [
    "'Hello'.rjust(10,'*')"
   ]
  },
  {
   "cell_type": "code",
   "execution_count": 338,
   "metadata": {},
   "outputs": [
    {
     "data": {
      "text/plain": [
       "'=====Hello====='"
      ]
     },
     "execution_count": 338,
     "metadata": {},
     "output_type": "execute_result"
    }
   ],
   "source": [
    "'Hello'.center(15,'=')"
   ]
  },
  {
   "cell_type": "markdown",
   "metadata": {},
   "source": [
    "**These methods are especially useful when you need to print tabular data that has the correct spacing. Open a new file editor window and enter the following code,**"
   ]
  },
  {
   "cell_type": "code",
   "execution_count": 339,
   "metadata": {},
   "outputs": [
    {
     "name": "stdout",
     "output_type": "stream",
     "text": [
      "...ITEMS LIST..\n",
      "apple.....   20\n",
      "banana....   24\n",
      "boll......    2\n",
      "tennice...  two\n",
      "..........ITEMS LIST..........\n",
      "apple...............        20\n",
      "banana..............        24\n",
      "boll................         2\n",
      "tennice.............       two\n"
     ]
    }
   ],
   "source": [
    "def itemPrint(itemDict,leftWidth,rightWidth):\n",
    "    print('ITEMS LIST'.center(leftWidth+rightWidth,'.'))\n",
    "    for k,v in itemDict.items():\n",
    "        print(k.ljust(leftWidth,'.')+str(v).rjust(rightWidth))\n",
    "        \n",
    "picnicItems={'apple':20, 'banana':24,'boll':2, 'tennice':'two'}\n",
    "\n",
    "itemPrint(picnicItems,10,5)\n",
    "itemPrint(picnicItems,20,10)"
   ]
  },
  {
   "cell_type": "markdown",
   "metadata": {},
   "source": [
    "### Removing Whitespace with *strip()*, *rstrip()*, and *lstrip()*\n",
    "\n",
    "Sometimes you may want to strip off whitespace characters (space, tab, and newline) from the left side, right side, or both sides of a string. The strip() string method will return a new string without any whitespace characters at the beginning or end. The lstrip() and rstrip() methods will remove whitespace characters from the left and right ends, respectively. Enter the following into the interactive shell:"
   ]
  },
  {
   "cell_type": "code",
   "execution_count": 340,
   "metadata": {},
   "outputs": [
    {
     "data": {
      "text/plain": [
       "'hello'"
      ]
     },
     "execution_count": 340,
     "metadata": {},
     "output_type": "execute_result"
    }
   ],
   "source": [
    "spam='  hello   '\n",
    "spam.strip()"
   ]
  },
  {
   "cell_type": "code",
   "execution_count": 341,
   "metadata": {},
   "outputs": [
    {
     "data": {
      "text/plain": [
       "'  hello'"
      ]
     },
     "execution_count": 341,
     "metadata": {},
     "output_type": "execute_result"
    }
   ],
   "source": [
    "spam='  hello   '\n",
    "spam.rstrip()"
   ]
  },
  {
   "cell_type": "code",
   "execution_count": 342,
   "metadata": {},
   "outputs": [
    {
     "data": {
      "text/plain": [
       "'hello   '"
      ]
     },
     "execution_count": 342,
     "metadata": {},
     "output_type": "execute_result"
    }
   ],
   "source": [
    "spam='  hello   '\n",
    "spam.lstrip()"
   ]
  },
  {
   "cell_type": "code",
   "execution_count": 343,
   "metadata": {},
   "outputs": [
    {
     "data": {
      "text/plain": [
       "'hello  world'"
      ]
     },
     "execution_count": 343,
     "metadata": {},
     "output_type": "execute_result"
    }
   ],
   "source": [
    "spam='     hello  world    '\n",
    "spam.strip()"
   ]
  },
  {
   "cell_type": "markdown",
   "metadata": {},
   "source": [
    "**Optionally, a string argument will specify which characters on the ends should be stripped. Enter the following into the interactive shell:**"
   ]
  },
  {
   "cell_type": "code",
   "execution_count": 344,
   "metadata": {},
   "outputs": [
    {
     "data": {
      "text/plain": [
       "'BaconSpamEggs'"
      ]
     },
     "execution_count": 344,
     "metadata": {},
     "output_type": "execute_result"
    }
   ],
   "source": [
    "spam = 'SpamSpamBaconSpamEggsSpamSpam'\n",
    "spam.strip('Samp')"
   ]
  },
  {
   "cell_type": "markdown",
   "metadata": {},
   "source": [
    "Passing strip() the argument 'ampS' will tell it to strip occurences of a, m, p, and capital S from the ends of the string stored in spam. **The order of the characters in the string passed to strip() does not matter**: **strip('ampS') will do the same thing as strip('mapS') or strip('Spam').**\n",
    "\n",
    "### Copying and Pasting Strings with the pyperclip Module\n",
    "The pyperclip module has copy() and paste() functions that can send text to and receive text from your computer’s clipboard. Sending the output of your program to the clipboard will make it easy to paste it to an email, word processor, or some other software. Pyperclip does not come with Python. To install it, follow the directionsfor installing third-party modules...\n",
    "Of course, if something outside of your program changes the clipboardcontents, the paste() function will return it."
   ]
  },
  {
   "cell_type": "code",
   "execution_count": 345,
   "metadata": {},
   "outputs": [
    {
     "data": {
      "text/plain": [
       "'Hello world!'"
      ]
     },
     "execution_count": 345,
     "metadata": {},
     "output_type": "execute_result"
    }
   ],
   "source": [
    " import pyperclip\n",
    "pyperclip.copy('Hello world!')\n",
    "pyperclip.paste()"
   ]
  },
  {
   "cell_type": "code",
   "execution_count": 346,
   "metadata": {},
   "outputs": [
    {
     "data": {
      "text/plain": [
       "'Hello world!'"
      ]
     },
     "execution_count": 346,
     "metadata": {},
     "output_type": "execute_result"
    }
   ],
   "source": [
    "import pyperclip\n",
    "pyperclip.copy('Hello world!')\n",
    "pyperclip.paste()"
   ]
  },
  {
   "cell_type": "markdown",
   "metadata": {},
   "source": [
    "## Project: Password Locker\n",
    "\n",
    "The password manager program you’ll create in this example isn’t secure, but it offers a basic demonstration of how such programs work.\n",
    "### Step 1: Program Design and Data Structures\n",
    "(*pyperclip module not imported so we cant do this currently)"
   ]
  },
  {
   "cell_type": "markdown",
   "metadata": {},
   "source": [
    "## Project: Adding Bullets to Wiki Markup"
   ]
  },
  {
   "cell_type": "code",
   "execution_count": 347,
   "metadata": {},
   "outputs": [
    {
     "data": {
      "text/plain": [
       "['We split the text along its newlines to get a list in which each item is one',\n",
       " 'line of the text. We store the list in lines and then loop through the items in',\n",
       " 'lines. For each line, we add a star and a space to the start of the line. Now',\n",
       " 'each string in lines begins with a star']"
      ]
     },
     "execution_count": 347,
     "metadata": {},
     "output_type": "execute_result"
    }
   ],
   "source": [
    "text='''We split the text along its newlines to get a list in which each item is one\n",
    "line of the text. We store the list in lines and then loop through the items in\n",
    "lines. For each line, we add a star and a space to the start of the line. Now\n",
    "each string in lines begins with a star'''\n",
    "lines = text.split('\\n')\n",
    "lines"
   ]
  },
  {
   "cell_type": "code",
   "execution_count": 348,
   "metadata": {},
   "outputs": [
    {
     "name": "stdout",
     "output_type": "stream",
     "text": [
      "*We split the text along its newlines to get a list in which each item is one\n",
      "*line of the text. We store the list in lines and then loop through the items in\n",
      "*lines. For each line, we add a star and a space to the start of the line. Now\n",
      "*each string in lines begins with a star\n"
     ]
    }
   ],
   "source": [
    "text='''We split the text along its newlines to get a list in which each item is one\n",
    "line of the text. We store the list in lines and then loop through the items in\n",
    "lines. For each line, we add a star and a space to the start of the line. Now\n",
    "each string in lines begins with a star'''\n",
    "lines = text.split('\\n')\n",
    "for i in range (len(lines)):\n",
    "    lines[i]='*'+lines[i]\n",
    "    print (lines[i])"
   ]
  },
  {
   "cell_type": "code",
   "execution_count": 349,
   "metadata": {},
   "outputs": [
    {
     "name": "stdout",
     "output_type": "stream",
     "text": [
      "*Hello world!\n"
     ]
    }
   ],
   "source": [
    "text=pyperclip.paste()\n",
    "lines = text.split('\\n')\n",
    "for i in range (len(lines)):\n",
    "    lines[i]='*'+lines[i]\n",
    "    print (lines[i])"
   ]
  },
  {
   "cell_type": "markdown",
   "metadata": {},
   "source": [
    "## Summary\n",
    "Text is a common form of data, and Python comes with many helpful string methods to process the text stored in string values. You will make use of indexing, slicing, and string methods in almost every Python program you\n",
    "write. The programs you are writing now don’t seem too sophisticated—they don’t have graphical user interfaces with images and colorful text. So far, you’re displaying text with print() and letting the user enter text with input(). However, the user can quickly enter large amounts of text through the clipboard. This ability provides a useful avenue for writing programs that manipulate massive amounts of text. These text-based programs might not have flashy windows or graphics, but they can get a lot of useful work done quickly. Another way to manipulate large amounts of text is reading and writing files directly off the hard drive. You’ll learn how to do this with Python in the next chapter."
   ]
  },
  {
   "cell_type": "markdown",
   "metadata": {},
   "source": [
    "## Practice Project\n",
    "### Table Printer\n",
    "Write a function named printTable() that takes a list of lists of strings and displays it in a well-organized table with each column right-justified. Assume that all the inner lists will contain the same number of strings. For example, the value could look like this:\n",
    "\n",
    "    tableData = [['apples', 'oranges', 'cherries', 'banana'],\n",
    "                ['Alice', 'Bob', 'Carol', 'David'],\n",
    "                ['dogs', 'cats', 'moose', 'goose']]\n",
    "                \n",
    "Your printTable() function would print the following:\n",
    "\n",
    "     apples Alice dogs\n",
    "     oranges Bob cats\n",
    "     cherries Carol moose\n",
    "     banana David goose                "
   ]
  },
  {
   "cell_type": "code",
   "execution_count": 350,
   "metadata": {},
   "outputs": [
    {
     "name": "stdout",
     "output_type": "stream",
     "text": [
      "apples oranges cherries banana\n",
      "Alice Bob Carol David\n",
      "dogs cats moose goose\n"
     ]
    }
   ],
   "source": [
    "tableData = [['apples', 'oranges', 'cherries', 'banana'],\n",
    "            ['Alice', 'Bob', 'Carol', 'David'],\n",
    "            ['dogs', 'cats', 'moose', 'goose']]\n",
    "for i in range (len(tableData)):\n",
    "    print(' '.join(tableData[i]))\n",
    "    "
   ]
  },
  {
   "cell_type": "code",
   "execution_count": 351,
   "metadata": {},
   "outputs": [
    {
     "name": "stdout",
     "output_type": "stream",
     "text": [
      "apples Alice dogs \n",
      "oranges Bob cats \n",
      "cherries Carol moose \n",
      "banana David goose \n"
     ]
    }
   ],
   "source": [
    "tableData = [['apples', 'oranges', 'cherries', 'banana'],\n",
    "            ['Alice', 'Bob', 'Carol', 'David'],\n",
    "            ['dogs', 'cats', 'moose', 'goose']]\n",
    "def printTable(tableData):\n",
    "    for i in range(len(tableData)):\n",
    "        for j in range(len(tableData[i])):\n",
    "            for i in range(len(tableData)):\n",
    "                print(tableData[i][j],end=' ')     \n",
    "            print('') \n",
    "        break\n",
    "printTable(tableData)    \n",
    "  "
   ]
  },
  {
   "cell_type": "code",
   "execution_count": 352,
   "metadata": {},
   "outputs": [
    {
     "name": "stdout",
     "output_type": "stream",
     "text": [
      "apples Alice dogs \n",
      "oranges Bob cats \n",
      "cherries Carol moose \n",
      "banana David goose \n"
     ]
    }
   ],
   "source": [
    "tableData = [['apples', 'oranges', 'cherries', 'banana'],\n",
    "            ['Alice', 'Bob', 'Carol', 'David'],\n",
    "            ['dogs', 'cats', 'moose', 'goose']]\n",
    "\n",
    "def printTable(tableData):  \n",
    "    for j in range(len(tableData[1])):\n",
    "        for i in range(len(tableData)):\n",
    "            print(tableData[i][j],end=' ')     \n",
    "        print('') \n",
    "        \n",
    "printTable(tableData) "
   ]
  },
  {
   "cell_type": "markdown",
   "metadata": {},
   "source": [
    "# Classes and Objects\n",
    "1. user-defined blueprint or prototype from which objects are created. Classes provide a means of bundling data and functionality together.\n",
    "2. Creating a new class creates a new type of object, allowing new instances of that type to be made. Each class instance can have attributes attached to it for maintaining its state. \n",
    "3. Class creates a user-defined data structure, which holds its own data members and member functions, which can be accessed and used by creating an instance of that class. A class is like a blueprint for an object.\n",
    "\n",
    "To understand the need for creating a class let’s consider an example, let’s say you wanted to track the number of dogs which may have different attributes like breed, age. If a list is used, the first element could be the dog’s breed while the second element could represent its age. Let’s suppose there are 100 different dogs, then how would you know which element is supposed to be which? What if you wanted to add other properties to these dogs? This lacks organization and it’s the exact need for classes.\n",
    "\n",
    "## Some points on Python class:\n",
    "\n",
    "Classes are created by keyword class.\n",
    "Attributes are the variables that belong to class.\n",
    "Attributes are always public and can be accessed using dot (.) operator. Eg.: Myclass.Myattribute\n",
    "\n",
    "    Class Definition Syntax:\n",
    "\n",
    "    class ClassName:\n",
    "        # Statement-1\n",
    "        .\n",
    "        .\n",
    "        .\n",
    "        # Statement-N"
   ]
  },
  {
   "cell_type": "markdown",
   "metadata": {},
   "source": [
    "## Defining a class"
   ]
  },
  {
   "cell_type": "code",
   "execution_count": 12,
   "metadata": {
    "ExecuteTime": {
     "end_time": "2020-10-25T08:30:52.661337Z",
     "start_time": "2020-10-25T08:30:52.636404Z"
    }
   },
   "outputs": [],
   "source": [
    "# Python program to\n",
    "# demonstrate defining\n",
    "# a class\n",
    "\n",
    "\n",
    "class Dog:\n",
    "    pass"
   ]
  },
  {
   "cell_type": "markdown",
   "metadata": {},
   "source": [
    "In the above example, **class keyword indicates that you are creating a class followed by the name of the class** (Dog in this case)."
   ]
  },
  {
   "cell_type": "markdown",
   "metadata": {},
   "source": [
    "## Class Objects\n",
    "An Object is an instance of a Class. A class is like a blueprint while an instance is a copy of the class with actual values. It’s not an idea anymore, it’s an actual dog, like a dog of breed pug who’s seven years old. You can have many dogs to create many different instances, but without the class as a guide, you would be lost, not knowing what information is required.\n",
    "\n",
    "An object consists of :\n",
    "\n",
    "**State** : It is represented by attributes of an object. It also reflects the properties of an object.\n",
    "\n",
    "**Behavior** : It is represented by methods of an object. It also reflects the response of an object with other objects.\n",
    "\n",
    "**Identity** : It gives a unique name to an object and enables one object to interact with other objects.\n",
    "![](https://media.geeksforgeeks.org/wp-content/uploads/Blank-Diagram-Page-1-5.png)\n",
    "\n",
    "**Declaring Objects (Also called instantiating a class)**\n",
    "\n",
    "When an object of a class is created, the class is said to be instantiated. All the instances share the attributes and the behavior of the class. But the values of those attributes, i.e. the state are unique for each object. A single class may have any number of instances.\n",
    "\n",
    "Example:\n",
    "![](https://media.geeksforgeeks.org/wp-content/uploads/Blank-Diagram-Page-1-3.png)"
   ]
  },
  {
   "cell_type": "markdown",
   "metadata": {},
   "source": [
    "### Declaring an object \n",
    "In the bellow example, an object is created which is basically a dog named Rodger. This class only has two class attributes that tell us that Rodger is a dog and a mammal."
   ]
  },
  {
   "cell_type": "code",
   "execution_count": 13,
   "metadata": {
    "ExecuteTime": {
     "end_time": "2020-10-25T08:39:38.783679Z",
     "start_time": "2020-10-25T08:39:38.763698Z"
    }
   },
   "outputs": [
    {
     "name": "stdout",
     "output_type": "stream",
     "text": [
      "mamal\n",
      "I'm a mamal\n",
      "I'm a dog\n"
     ]
    }
   ],
   "source": [
    "# Python program to\n",
    "# demonstrate instantiating\n",
    "# a class\n",
    "\n",
    "\n",
    "class Dog:\n",
    "\n",
    "    # A simple class\n",
    "    # attribute\n",
    "    attr1 = \"mamal\"\n",
    "    attr2 = \"dog\"\n",
    "\n",
    "    # A sample method\n",
    "    def fun(self):\n",
    "        print(\"I'm a\", self.attr1)\n",
    "        print(\"I'm a\", self.attr2)\n",
    "\n",
    "\n",
    "# Driver code\n",
    "# Object instantiation\n",
    "Rodger = Dog()\n",
    "\n",
    "# Accessing class attributes\n",
    "# and method through objects\n",
    "print(Rodger.attr1)\n",
    "Rodger.fun()"
   ]
  },
  {
   "cell_type": "markdown",
   "metadata": {},
   "source": [
    "## The self\n",
    "1. Class methods must have an extra first parameter in method definition. We do not give a value for this parameter when we call the method, Python provides it.\n",
    "2. If we have a method which takes no arguments, then we still have to have one argument.\n",
    "3. This is similar to this pointer in C++ and this reference in Java.\n",
    "\n",
    "When we call a method of this object as **myobject.method(arg1, arg2)**, this is automatically converted by Python into **MyClass.method(myobject, arg1, arg2)** – this is all the special self is about."
   ]
  },
  {
   "cell_type": "markdown",
   "metadata": {},
   "source": [
    "## __init__ method\n",
    "A constructor also contains a collection of statements(i.e. instructions) that are executed at the time of Object creation. It is run as soon as an object of a class is instantiated. The method is useful to do any initialization you want to do with your object."
   ]
  },
  {
   "cell_type": "code",
   "execution_count": 14,
   "metadata": {
    "ExecuteTime": {
     "end_time": "2020-10-25T08:43:35.525051Z",
     "start_time": "2020-10-25T08:43:35.507074Z"
    }
   },
   "outputs": [
    {
     "name": "stdout",
     "output_type": "stream",
     "text": [
      "Hello, my name is Nikhil\n"
     ]
    }
   ],
   "source": [
    "# A Sample class with init method\n",
    "class Person:\n",
    "\n",
    "    # _init_ method or constructor\n",
    "    def __init__(self, name):\n",
    "        self.name = name\n",
    "\n",
    "    # Sample Method\n",
    "    def say_hi(self):\n",
    "        print('Hello, my name is', self.name)\n",
    "\n",
    "\n",
    "p = Person('Nikhil')\n",
    "p.say_hi()"
   ]
  },
  {
   "cell_type": "markdown",
   "metadata": {},
   "source": [
    "## Class and Instance Variables\n",
    "Instance variables are for data unique to each instance and class variables are for attributes and methods shared by all instances of the class. Instance variables are variables whose value is assigned inside a constructor or method with self whereas class variables are variables whose value is assigned in the class.\n",
    "\n",
    "Defining instance varibale using constructor."
   ]
  },
  {
   "cell_type": "code",
   "execution_count": 15,
   "metadata": {
    "ExecuteTime": {
     "end_time": "2020-10-25T08:47:33.546519Z",
     "start_time": "2020-10-25T08:47:33.531559Z"
    }
   },
   "outputs": [
    {
     "name": "stdout",
     "output_type": "stream",
     "text": [
      "Rodger details:\n",
      "Rodger is a dog\n",
      "Breed:  Pug\n",
      "Color:  brown\n",
      "\n",
      "Buzo details:\n",
      "Buzo is a dog\n",
      "Breed:  Bulldog\n",
      "Color:  black\n",
      "\n",
      "Accessing class variable using class name\n",
      "dog\n"
     ]
    }
   ],
   "source": [
    "# Python program to show that the variables with a value\n",
    "# assigned in the class declaration, are class variables and\n",
    "# variables inside methods and constructors are instance\n",
    "# variables.\n",
    "\n",
    "\n",
    "# Class for Dog\n",
    "class Dog:\n",
    "\n",
    "    # Class Variable\n",
    "    animal = 'dog'\n",
    "\n",
    "    # The init method or constructor\n",
    "    def __init__(self, breed, color):\n",
    "\n",
    "        # Instance Variable\n",
    "        self.breed = breed\n",
    "        self.color = color\n",
    "\n",
    "\n",
    "# Objects of Dog class\n",
    "Rodger = Dog(\"Pug\", \"brown\")\n",
    "Buzo = Dog(\"Bulldog\", \"black\")\n",
    "\n",
    "print('Rodger details:')\n",
    "print('Rodger is a', Rodger.animal)\n",
    "print('Breed: ', Rodger.breed)\n",
    "print('Color: ', Rodger.color)\n",
    "\n",
    "print('\\nBuzo details:')\n",
    "print('Buzo is a', Buzo.animal)\n",
    "print('Breed: ', Buzo.breed)\n",
    "print('Color: ', Buzo.color)\n",
    "\n",
    "# Class variables can be accessed using class\n",
    "# name also\n",
    "print(\"\\nAccessing class variable using class name\")\n",
    "print(Dog.animal)"
   ]
  },
  {
   "cell_type": "markdown",
   "metadata": {},
   "source": [
    "**Defining instance variable using the normal method.**"
   ]
  },
  {
   "cell_type": "code",
   "execution_count": 16,
   "metadata": {
    "ExecuteTime": {
     "end_time": "2020-10-25T08:48:22.886816Z",
     "start_time": "2020-10-25T08:48:22.869834Z"
    }
   },
   "outputs": [
    {
     "name": "stdout",
     "output_type": "stream",
     "text": [
      "brown\n"
     ]
    }
   ],
   "source": [
    "# Python program to show that we can create\n",
    "# instance variables inside methods\n",
    "\n",
    "\n",
    "# Class for Dog\n",
    "class Dog:\n",
    "\n",
    "    # Class Variable\n",
    "    animal = 'dog'\n",
    "\n",
    "    # The init method or constructor\n",
    "    def __init__(self, breed):\n",
    "\n",
    "        # Instance Variable\n",
    "        self.breed = breed\n",
    "\n",
    "    # Adds an instance variable\n",
    "    def setColor(self, color):\n",
    "        self.color = color\n",
    "\n",
    "    # Retrieves instance variable\n",
    "    def getColor(self):\n",
    "        return self.color\n",
    "\n",
    "\n",
    "# Driver Code\n",
    "Rodger = Dog(\"pug\")\n",
    "Rodger.setColor(\"brown\")\n",
    "print(Rodger.getColor())"
   ]
  },
  {
   "cell_type": "markdown",
   "metadata": {},
   "source": [
    "                                            ****Part-1****\n",
    "                                            *****END*****"
   ]
  }
 ],
 "metadata": {
  "kernelspec": {
   "display_name": "Python 3",
   "language": "python",
   "name": "python3"
  },
  "language_info": {
   "codemirror_mode": {
    "name": "ipython",
    "version": 3
   },
   "file_extension": ".py",
   "mimetype": "text/x-python",
   "name": "python",
   "nbconvert_exporter": "python",
   "pygments_lexer": "ipython3",
   "version": "3.8.5"
  },
  "toc": {
   "base_numbering": 1,
   "nav_menu": {},
   "number_sections": true,
   "sideBar": true,
   "skip_h1_title": false,
   "title_cell": "Table of Contents",
   "title_sidebar": "Contents",
   "toc_cell": true,
   "toc_position": {},
   "toc_section_display": true,
   "toc_window_display": true
  }
 },
 "nbformat": 4,
 "nbformat_minor": 4
}
