{
  "nbformat": 4,
  "nbformat_minor": 0,
  "metadata": {
    "colab": {
      "name": "K-Fold_Simple_Cross_Validation.ipynb",
      "provenance": [],
      "collapsed_sections": [],
      "toc_visible": true,
      "include_colab_link": true
    },
    "kernelspec": {
      "display_name": "Python 3",
      "language": "python",
      "name": "python3"
    },
    "language_info": {
      "codemirror_mode": {
        "name": "ipython",
        "version": 3
      },
      "file_extension": ".py",
      "mimetype": "text/x-python",
      "name": "python",
      "nbconvert_exporter": "python",
      "pygments_lexer": "ipython3",
      "version": "3.8.5"
    },
    "toc": {
      "base_numbering": 1,
      "nav_menu": {},
      "number_sections": true,
      "sideBar": true,
      "skip_h1_title": false,
      "title_cell": "Table of Contents",
      "title_sidebar": "Contents",
      "toc_cell": true,
      "toc_position": {
        "height": "calc(100% - 180px)",
        "left": "10px",
        "top": "150px",
        "width": "165px"
      },
      "toc_section_display": true,
      "toc_window_display": true
    },
    "varInspector": {
      "cols": {
        "lenName": 16,
        "lenType": 16,
        "lenVar": 40
      },
      "kernels_config": {
        "python": {
          "delete_cmd_postfix": "",
          "delete_cmd_prefix": "del ",
          "library": "var_list.py",
          "varRefreshCmd": "print(var_dic_list())"
        },
        "r": {
          "delete_cmd_postfix": ") ",
          "delete_cmd_prefix": "rm(",
          "library": "var_list.r",
          "varRefreshCmd": "cat(var_dic_list()) "
        }
      },
      "types_to_exclude": [
        "module",
        "function",
        "builtin_function_or_method",
        "instance",
        "_Feature"
      ],
      "window_display": false
    }
  },
  "cells": [
    {
      "cell_type": "markdown",
      "metadata": {
        "id": "view-in-github",
        "colab_type": "text"
      },
      "source": [
        "<a href=\"https://colab.research.google.com/github/iampramodyadav/ML/blob/main/K_Fold_Simple_Cross_Validation.ipynb\" target=\"_parent\"><img src=\"https://colab.research.google.com/assets/colab-badge.svg\" alt=\"Open In Colab\"/></a>"
      ]
    },
    {
      "cell_type": "markdown",
      "metadata": {
        "id": "BH-FrKHCBsk-"
      },
      "source": [
        "# K-Fold Cross Validation"
      ]
    },
    {
      "cell_type": "markdown",
      "metadata": {
        "toc": true,
        "id": "tf17fAoFBslH"
      },
      "source": [
        "<h1>Table of Contents<span class=\"tocSkip\"></span></h1>\n",
        "<div class=\"toc\"><ul class=\"toc-item\"><li><span><a href=\"#K-Fold-Cross-Validation\" data-toc-modified-id=\"K-Fold-Cross-Validation-1\"><span class=\"toc-item-num\">1&nbsp;&nbsp;</span>K-Fold Cross Validation</a></span><ul class=\"toc-item\"><li><span><a href=\"#Loading-libraries\" data-toc-modified-id=\"Loading-libraries-1.1\"><span class=\"toc-item-num\">1.1&nbsp;&nbsp;</span>Loading libraries</a></span></li><li><span><a href=\"#Procedure\" data-toc-modified-id=\"Procedure-1.2\"><span class=\"toc-item-num\">1.2&nbsp;&nbsp;</span>Procedure</a></span></li></ul></li><li><span><a href=\"#Data-set-1\" data-toc-modified-id=\"Data-set-1-2\"><span class=\"toc-item-num\">2&nbsp;&nbsp;</span>Data set-1</a></span><ul class=\"toc-item\"><li><span><a href=\"#data-preprocessing\" data-toc-modified-id=\"data-preprocessing-2.1\"><span class=\"toc-item-num\">2.1&nbsp;&nbsp;</span>data preprocessing</a></span></li><li><span><a href=\"#Simple-Cross-Validation\" data-toc-modified-id=\"Simple-Cross-Validation-2.2\"><span class=\"toc-item-num\">2.2&nbsp;&nbsp;</span>Simple Cross Validation</a></span></li><li><span><a href=\"#Ten-fold-cross-validation\" data-toc-modified-id=\"Ten-fold-cross-validation-2.3\"><span class=\"toc-item-num\">2.3&nbsp;&nbsp;</span>Ten fold cross validation</a></span><ul class=\"toc-item\"><li><span><a href=\"#KNN-with-Optimal-k\" data-toc-modified-id=\"KNN-with-Optimal-k-2.3.1\"><span class=\"toc-item-num\">2.3.1&nbsp;&nbsp;</span>KNN with Optimal k</a></span></li></ul></li></ul></li><li><span><a href=\"#Data-Set-2\" data-toc-modified-id=\"Data-Set-2-3\"><span class=\"toc-item-num\">3&nbsp;&nbsp;</span>Data Set-2</a></span></li></ul></div>"
      ]
    },
    {
      "cell_type": "markdown",
      "metadata": {
        "id": "7EdImtqCBslI"
      },
      "source": [
        "## Loading libraries"
      ]
    },
    {
      "cell_type": "code",
      "metadata": {
        "ExecuteTime": {
          "end_time": "2021-06-13T10:57:58.992691Z",
          "start_time": "2021-06-13T10:57:56.399993Z"
        },
        "id": "oCdH4fBwGdCY"
      },
      "source": [
        "# ============================== loading libraries ===========================================\n",
        "import numpy as np\n",
        "import pandas as pd\n",
        "import matplotlib.pyplot as plt\n",
        "\n",
        "#from sklearn.cross_validation import train_test_split\n",
        "from sklearn.model_selection import train_test_split\n",
        "\n",
        "from sklearn.neighbors import KNeighborsClassifier\n",
        "from sklearn.metrics import accuracy_score\n",
        "\n",
        "#from sklearn.cross_validation import cross_val_score\n",
        "from sklearn.model_selection import cross_val_score\n",
        "\n",
        "from collections import Counter\n",
        "from sklearn.metrics import accuracy_score\n",
        "\n",
        "#from sklearn import cross_validation\n",
        "from sklearn.model_selection import cross_validate\n",
        "# ============================================================================================="
      ],
      "execution_count": null,
      "outputs": []
    },
    {
      "cell_type": "markdown",
      "metadata": {
        "id": "pVdCWakRBslL"
      },
      "source": [
        "## Procedure\n",
        "\n",
        "1. Import the libraries and read the data into a dataframe.\n",
        "2. Perform Exploratory Data Analysis and summarize the characteristics of the dataset.\n",
        "3. Perform Text preprocessing and remove the punctuations, stopwords andconvert all the words to lowercase.\n",
        "4. If you want to go for Simple Cross Validation, Split the dataset into 3 parts. D_train,D_cv,D_test and convert the text into features on D_train and using the same feature, convert the text into D_cv and D_test into columns.**Perform hyper-parameter tuning through Simple Cross validation and find out the optimal value of 'K' and build an optimal model now with the optimal value of 'K'. Make predictions on the test data and then compute the performance metrics.**\n",
        "4.  If you want to go for K'-fold Cross Validation, Split the dataset into 2 parts. D_train and D_test and convert the text into features on D_train and using the same feature, convert the text into D_test into columns.**Perform hyper-parameter tuning through K'-fold Cross validation and find out the optimal value of 'K' and build an optimal model now with the optimal value of 'K'. Make predictions on the test data and then compute the performance metrics.**"
      ]
    },
    {
      "cell_type": "markdown",
      "metadata": {
        "id": "OFaGZxKSBslN"
      },
      "source": [
        "If you are using **simple cross validation** technique, then you need to divide the dataset into train, cv and test sets. You have to\n",
        "1. train the model on train data\n",
        "2. perform cross validation and find the optimal hyper-parameters using cv data\n",
        "3. Retrain the model now using (train+cv) data using the optimal hyper-parameters. \n",
        "3. make predictions on the test data and compute the performance metrics.\n",
        "\n",
        "If you are using **k-fold cross validation**, \n",
        "1. divide the dataset into train and test datasets.\n",
        "2. The train data gets divided into k folds and k cross validations will happen with one of the fold as CV data and the remaining folds as train data.\n",
        "3. The average of the CV scores is computed and through that you have to find the optimal hyper-parameter.\n",
        "4. Train the model again with the optimal hyper-parameter using train data and make predictions on the test data and compute the performance metrics."
      ]
    },
    {
      "cell_type": "markdown",
      "metadata": {
        "id": "aXYAPntABslP"
      },
      "source": [
        "# Data set-1"
      ]
    },
    {
      "cell_type": "markdown",
      "metadata": {
        "id": "iEeHu4XnBslQ"
      },
      "source": [
        "\n",
        "## data preprocessing"
      ]
    },
    {
      "cell_type": "code",
      "metadata": {
        "ExecuteTime": {
          "end_time": "2021-06-13T10:57:59.029515Z",
          "start_time": "2021-06-13T10:57:58.996857Z"
        },
        "id": "UWsDjpSYGdCi",
        "outputId": "efa553ef-7ba0-45fa-a8ca-f167caa765ed"
      },
      "source": [
        "# Part I\n",
        "# ============================== data preprocessing ===========================================\n",
        "\n",
        "# define column names\n",
        "names = ['x', 'y', 'class']\n",
        "\n",
        "# loading training data\n",
        "df = pd.read_csv('./demo_data/3.concertriccir2.csv', header=None, names=names)\n",
        "print(df.head())\n",
        "\n",
        "# create design matrix X and target vector y\n",
        "X = np.array(df.iloc[:, 0:2]) # end index is exclusive\n",
        "y = np.array(df['class']) # showing you two ways of indexing a pandas df\n"
      ],
      "execution_count": null,
      "outputs": [
        {
          "output_type": "stream",
          "text": [
            "          x         y  class\n",
            "0  0.700335 -0.247068    0.0\n",
            "1 -3.950019  2.740080    1.0\n",
            "2  0.150222 -2.157638    1.0\n",
            "3 -1.672050 -0.941519    1.0\n",
            "4  2.560483 -1.846577    1.0\n"
          ],
          "name": "stdout"
        }
      ]
    },
    {
      "cell_type": "markdown",
      "metadata": {
        "id": "UVVtNgCFGdCm"
      },
      "source": [
        "## Simple Cross Validation "
      ]
    },
    {
      "cell_type": "code",
      "metadata": {
        "ExecuteTime": {
          "end_time": "2021-06-13T10:57:59.304898Z",
          "start_time": "2021-06-13T10:57:59.033051Z"
        },
        "id": "T14J4B9FGdCn",
        "scrolled": false,
        "outputId": "47e53c29-b23b-407f-c26d-f4b1493ff29b"
      },
      "source": [
        "# split the data set into train and test\n",
        "X_1, X_test, y_1, y_test = train_test_split(X, y, test_size=0.3, random_state=0)\n",
        "\n",
        "# split the train data set into cross validation train and cross validation test\n",
        "X_tr, X_cv, y_tr, y_cv = train_test_split(X_1, y_1, test_size=0.3)\n",
        "\n",
        "for i in range(1,30,2):\n",
        "    # instantiate learning model (k = 30)\n",
        "    knn = KNeighborsClassifier(n_neighbors=i)\n",
        "\n",
        "    # fitting the model on crossvalidation train\n",
        "    knn.fit(X_tr, y_tr)\n",
        "\n",
        "    # predict the response on the crossvalidation train\n",
        "    pred = knn.predict(X_cv)\n",
        "\n",
        "    # evaluate CV accuracy\n",
        "    acc = accuracy_score(y_cv, pred, normalize=True) * float(100)\n",
        "    print('\\nCV accuracy for k = %d is %d%%' % (i, acc))\n",
        "    \n",
        "knn = KNeighborsClassifier(1)\n",
        "knn.fit(X_tr,y_tr)\n",
        "pred = knn.predict(X_test)\n",
        "acc = accuracy_score(y_test, pred, normalize=True) * float(100)\n",
        "print('\\n****Test accuracy for k = 1 is %d%%' % (acc))"
      ],
      "execution_count": null,
      "outputs": [
        {
          "output_type": "stream",
          "text": [
            "\n",
            "CV accuracy for k = 1 is 84%\n",
            "\n",
            "CV accuracy for k = 3 is 89%\n",
            "\n",
            "CV accuracy for k = 5 is 84%\n",
            "\n",
            "CV accuracy for k = 7 is 83%\n",
            "\n",
            "CV accuracy for k = 9 is 83%\n",
            "\n",
            "CV accuracy for k = 11 is 83%\n",
            "\n",
            "CV accuracy for k = 13 is 81%\n",
            "\n",
            "CV accuracy for k = 15 is 83%\n",
            "\n",
            "CV accuracy for k = 17 is 80%\n",
            "\n",
            "CV accuracy for k = 19 is 80%\n",
            "\n",
            "CV accuracy for k = 21 is 78%\n",
            "\n",
            "CV accuracy for k = 23 is 74%\n",
            "\n",
            "CV accuracy for k = 25 is 69%\n",
            "\n",
            "CV accuracy for k = 27 is 68%\n",
            "\n",
            "CV accuracy for k = 29 is 65%\n",
            "\n",
            "****Test accuracy for k = 1 is 91%\n"
          ],
          "name": "stdout"
        }
      ]
    },
    {
      "cell_type": "markdown",
      "metadata": {
        "id": "ZRuToE6OGdCs"
      },
      "source": [
        "## Ten fold cross validation "
      ]
    },
    {
      "cell_type": "code",
      "metadata": {
        "ExecuteTime": {
          "end_time": "2021-06-13T10:58:00.436648Z",
          "start_time": "2021-06-13T10:57:59.310344Z"
        },
        "id": "_f9Cr5pjGdCu",
        "outputId": "c5c3dfed-525e-4461-deb0-796c03c35ef8"
      },
      "source": [
        "\n",
        "# creating odd list of K for KNN\n",
        "myList = list(range(0,50))\n",
        "neighbors = list(filter(lambda x: x % 2 != 0, myList))\n",
        "\n",
        "# empty list that will hold cv scores\n",
        "cv_scores = []\n",
        "\n",
        "# perform 10-fold cross validation\n",
        "for k in neighbors:\n",
        "    knn = KNeighborsClassifier(n_neighbors=k)\n",
        "    scores = cross_val_score(knn, X_tr, y_tr, cv=10, scoring='accuracy')\n",
        "    cv_scores.append(scores.mean())\n",
        "\n",
        "# changing to misclassification error(1-accuracy)\n",
        "MSE = [1 - x for x in cv_scores]\n",
        "\n",
        "# determining best k\n",
        "optimal_k = neighbors[MSE.index(min(MSE))]\n",
        "#    or\n",
        "#optimal_k = neighbors[cv_scores.index(max(cv_scores))]\n",
        "print('\\nThe optimal number of neighbors is %d.' % optimal_k)\n",
        "\n",
        "# plot misclassification error vs k \n",
        "plt.plot(neighbors, MSE)\n",
        "\n",
        "for xy in zip(neighbors, np.round(MSE,3)):\n",
        "    plt.annotate('(%s, %s)' % xy, xy=xy, textcoords='data')\n",
        "\n",
        "plt.xlabel('Number of Neighbors K')\n",
        "plt.ylabel('Misclassification Error')\n",
        "plt.show()\n",
        "\n",
        "print(\"the misclassification error for each k value is : \", np.round(MSE,3))"
      ],
      "execution_count": null,
      "outputs": [
        {
          "output_type": "stream",
          "text": [
            "\n",
            "The optimal number of neighbors is 1.\n"
          ],
          "name": "stdout"
        },
        {
          "output_type": "display_data",
          "data": {
            "image/png": "[encoded data removed]",
            "text/plain": [
              "<Figure size 432x288 with 1 Axes>"
            ]
          },
          "metadata": {
            "tags": [],
            "needs_background": "light"
          }
        },
        {
          "output_type": "stream",
          "text": [
            "the misclassification error for each k value is :  [0.118 0.135 0.143 0.151 0.18  0.192 0.204 0.212 0.241 0.261 0.294 0.326\n",
            " 0.359 0.375 0.383 0.383 0.391 0.399 0.4   0.404 0.408 0.412 0.412 0.416\n",
            " 0.412]\n"
          ],
          "name": "stdout"
        }
      ]
    },
    {
      "cell_type": "markdown",
      "metadata": {
        "id": "WvXC7BypBslY"
      },
      "source": [
        "### KNN with Optimal k"
      ]
    },
    {
      "cell_type": "code",
      "metadata": {
        "ExecuteTime": {
          "end_time": "2021-06-13T10:58:00.464674Z",
          "start_time": "2021-06-13T10:58:00.438772Z"
        },
        "id": "SzVqv1-qGdCy",
        "outputId": "0deda05e-91f5-477a-df14-d463d2d27d08"
      },
      "source": [
        "# ============================== KNN with k = optimal_k ===============================================\n",
        "# instantiate learning model k = optimal_k\n",
        "knn_optimal = KNeighborsClassifier(n_neighbors=optimal_k)\n",
        "\n",
        "# fitting the model\n",
        "knn_optimal.fit(X_tr, y_tr)\n",
        "\n",
        "# predict the response\n",
        "pred = knn_optimal.predict(X_test)\n",
        "\n",
        "# evaluate accuracy\n",
        "acc = accuracy_score(y_test, pred) * 100\n",
        "print('\\nThe accuracy of the knn classifier for k = %d is %f%%' % (optimal_k, acc))"
      ],
      "execution_count": null,
      "outputs": [
        {
          "output_type": "stream",
          "text": [
            "\n",
            "The accuracy of the knn classifier for k = 1 is 91.333333%\n"
          ],
          "name": "stdout"
        }
      ]
    },
    {
      "cell_type": "markdown",
      "metadata": {
        "id": "sDTiN0T9BslZ"
      },
      "source": [
        "---"
      ]
    },
    {
      "cell_type": "markdown",
      "metadata": {
        "id": "wA7JV_AyBslZ"
      },
      "source": [
        "# Data Set-2"
      ]
    },
    {
      "cell_type": "code",
      "metadata": {
        "ExecuteTime": {
          "end_time": "2021-06-13T10:58:00.893625Z",
          "start_time": "2021-06-13T10:58:00.467758Z"
        },
        "colab": {
          "base_uri": "https://localhost:8080/"
        },
        "id": "sHLRZhFfGdC4",
        "outputId": "9cde12a4-8217-4e64-9595-90748f5bf08b"
      },
      "source": [
        "from sklearn.model_selection import cross_val_score\n",
        "from sklearn import datasets, linear_model\n",
        "from sklearn.neighbors import KNeighborsClassifier\n",
        "\n",
        "diabetes = datasets.load_diabetes()\n",
        "X = diabetes.data[:150]\n",
        "y = diabetes.target[:150]\n",
        "\n",
        "\n",
        "# creating odd list of K for KNN\n",
        "myList = list(range(0,10))\n",
        "neighbors = list(filter(lambda x: x % 2 != 0, myList))\n",
        "\n",
        "# empty list that will hold cv scores\n",
        "cv_scores = []\n",
        "\n",
        "# perform 10-fold cross validation\n",
        "for k in neighbors:\n",
        "    print(k)\n",
        "    knn = KNeighborsClassifier(n_neighbors=k)\n",
        "    \n",
        "    scores = cross_val_score(knn, X, y, cv=2, scoring='accuracy')\n",
        "    #print(X)\n",
        "    cv_scores.append(scores.mean())\n",
        "    print(cv_scores)\n",
        "    \n",
        "optimal_k = neighbors[cv_scores.index(max(cv_scores))]\n",
        "print('\\nThe optimal number of neighbors is %d.' % optimal_k)"
      ],
      "execution_count": null,
      "outputs": [
        {
          "output_type": "stream",
          "text": [
            "1\n",
            "[0.013333333333333334]\n",
            "3\n",
            "[0.013333333333333334, 0.02]\n",
            "5\n",
            "[0.013333333333333334, 0.02, 0.013333333333333334]\n",
            "7\n",
            "[0.013333333333333334, 0.02, 0.013333333333333334, 0.013333333333333334]\n",
            "9\n",
            "[0.013333333333333334, 0.02, 0.013333333333333334, 0.013333333333333334, 0.013333333333333334]\n",
            "\n",
            "The optimal number of neighbors is 3.\n"
          ],
          "name": "stdout"
        },
        {
          "output_type": "stream",
          "text": [
            "C:\\Users\\PRAMOD\\anaconda3\\lib\\site-packages\\sklearn\\model_selection\\_split.py:666: UserWarning: The least populated class in y has only 1 members, which is less than n_splits=2.\n",
            "  warnings.warn((\"The least populated class in y has only %d\"\n",
            "C:\\Users\\PRAMOD\\anaconda3\\lib\\site-packages\\sklearn\\model_selection\\_split.py:666: UserWarning: The least populated class in y has only 1 members, which is less than n_splits=2.\n",
            "  warnings.warn((\"The least populated class in y has only %d\"\n",
            "C:\\Users\\PRAMOD\\anaconda3\\lib\\site-packages\\sklearn\\model_selection\\_split.py:666: UserWarning: The least populated class in y has only 1 members, which is less than n_splits=2.\n",
            "  warnings.warn((\"The least populated class in y has only %d\"\n",
            "C:\\Users\\PRAMOD\\anaconda3\\lib\\site-packages\\sklearn\\model_selection\\_split.py:666: UserWarning: The least populated class in y has only 1 members, which is less than n_splits=2.\n",
            "  warnings.warn((\"The least populated class in y has only %d\"\n",
            "C:\\Users\\PRAMOD\\anaconda3\\lib\\site-packages\\sklearn\\model_selection\\_split.py:666: UserWarning: The least populated class in y has only 1 members, which is less than n_splits=2.\n",
            "  warnings.warn((\"The least populated class in y has only %d\"\n"
          ],
          "name": "stderr"
        }
      ]
    },
    {
      "cell_type": "code",
      "metadata": {
        "ExecuteTime": {
          "end_time": "2021-06-13T10:58:00.927814Z",
          "start_time": "2021-06-13T10:58:00.896628Z"
        },
        "id": "Dr9HOKLdGdC8",
        "outputId": "624b55e0-76ff-4b04-8bf7-89cc5e7baa43"
      },
      "source": [
        "knn_optimal = KNeighborsClassifier(n_neighbors=optimal_k)\n",
        "X1 = diabetes.data[150:200]\n",
        "y1 = diabetes.target[150:200]\n",
        "# fitting the model\n",
        "knn_optimal.fit(X, y)\n",
        "\n",
        "# predict the response\n",
        "pred = knn_optimal.predict(X1)\n",
        "\n",
        "# evaluate accuracy\n",
        "acc = accuracy_score(y1, pred) * 100\n",
        "print('\\nThe accuracy of the knn classifier for k = %d is %f%%' % (optimal_k, acc))"
      ],
      "execution_count": null,
      "outputs": [
        {
          "output_type": "stream",
          "text": [
            "\n",
            "The accuracy of the knn classifier for k = 3 is 2.000000%\n"
          ],
          "name": "stdout"
        }
      ]
    },
    {
      "cell_type": "markdown",
      "metadata": {
        "id": "kuxpLGiHB2bv"
      },
      "source": [
        "\n",
        "\n",
        "---\n",
        "\n"
      ]
    }
  ]
}