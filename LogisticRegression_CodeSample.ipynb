{
  "nbformat": 4,
  "nbformat_minor": 0,
  "metadata": {
    "kernelspec": {
      "display_name": "Python 3",
      "language": "python",
      "name": "python3"
    },
    "language_info": {
      "codemirror_mode": {
        "name": "ipython",
        "version": 3
      },
      "file_extension": ".py",
      "mimetype": "text/x-python",
      "name": "python",
      "nbconvert_exporter": "python",
      "pygments_lexer": "ipython3",
      "version": "3.6.1"
    },
    "colab": {
      "name": "LogisticRegression_CodeSample.ipynb",
      "provenance": [],
      "collapsed_sections": [],
      "toc_visible": true,
      "include_colab_link": true
    }
  },
  "cells": [
    {
      "cell_type": "markdown",
      "metadata": {
        "id": "view-in-github",
        "colab_type": "text"
      },
      "source": [
        "<a href=\"https://colab.research.google.com/github/iampramodyadav/ML/blob/main/LogisticRegression_CodeSample.ipynb\" target=\"_parent\"><img src=\"https://colab.research.google.com/assets/colab-badge.svg\" alt=\"Open In Colab\"/></a>"
      ]
    },
    {
      "cell_type": "markdown",
      "metadata": {
        "id": "4YhP2G5lMDBa"
      },
      "source": [
        "# Logistic Regression (toy example)\n",
        "\n",
        "[A nice blog.](http://occam.olin.edu/sites/default/files/DataScienceMaterials/machine_learning_lecture_2/Machine%20Learning%20Lecture%202.html)"
      ]
    },
    {
      "cell_type": "markdown",
      "metadata": {
        "id": "etsU1_DAx9M_"
      },
      "source": [
        "## importing libraries"
      ]
    },
    {
      "cell_type": "code",
      "metadata": {
        "id": "1nV6GPjnv4Tr"
      },
      "source": [
        "from sklearn.model_selection import train_test_split\n",
        "#from sklearn.grid_search import GridSearchCV\n",
        "from sklearn.model_selection import GridSearchCV\n",
        "from sklearn.datasets import *\n",
        "from sklearn.linear_model import LogisticRegression\n"
      ],
      "execution_count": 26,
      "outputs": []
    },
    {
      "cell_type": "markdown",
      "metadata": {
        "id": "FOtY4fbh2hs9"
      },
      "source": [
        "## Loading Dataset\n",
        "\n",
        "\n",
        "[The breast cancer dataset](https://scikit-learn.org/stable/modules/generated/sklearn.datasets.load_breast_cancer.html#sklearn.datasets.load_breast_cancer)\n",
        "\n"
      ]
    },
    {
      "cell_type": "markdown",
      "metadata": {
        "id": "2-CkH45f3GtX"
      },
      "source": [
        "## Train and test (Logistic Regression)"
      ]
    },
    {
      "cell_type": "code",
      "metadata": {
        "colab": {
          "base_uri": "https://localhost:8080/"
        },
        "id": "zd7qLDuYxk0j",
        "outputId": "dcc9ad99-bb57-4b17-f427-822d6a55a2fe"
      },
      "source": [
        "data = load_breast_cancer()\n",
        "tuned_parameters = [{'C': [10**-4, 10**-2, 10**0, 10**2, 10**4]}]\n",
        "X_train, X_test, y_train, y_test = train_test_split(data.data, data.target, train_size=.9)\n",
        "\n",
        "\n",
        "#Using GridSearchCV\n",
        "model = GridSearchCV(LogisticRegression(penalty='l2',max_iter=100,C=1.0,solver='liblinear'), tuned_parameters, scoring = 'f1', cv=5)\n",
        "model.fit(X_train, y_train)\n",
        "\n",
        "print(model.best_estimator_)\n",
        "print(model.score(X_test, y_test))"
      ],
      "execution_count": 31,
      "outputs": [
        {
          "output_type": "stream",
          "text": [
            "LogisticRegression(C=10000, class_weight=None, dual=False, fit_intercept=True,\n",
            "                   intercept_scaling=1, l1_ratio=None, max_iter=100,\n",
            "                   multi_class='auto', n_jobs=None, penalty='l2',\n",
            "                   random_state=None, solver='liblinear', tol=0.0001, verbose=0,\n",
            "                   warm_start=False)\n",
            "0.9589041095890412\n"
          ],
          "name": "stdout"
        }
      ]
    },
    {
      "cell_type": "markdown",
      "metadata": {
        "id": "Ig_Kxuqd4DIf"
      },
      "source": [
        "## More Sparsity (Fewer elements of W* being non-zero) by increasing Lambda (decreasing C) "
      ]
    },
    {
      "cell_type": "code",
      "metadata": {
        "id": "OS1jJuodv4Ty",
        "colab": {
          "base_uri": "https://localhost:8080/"
        },
        "outputId": "8c60b9fe-227f-4003-ed5f-f2b3c619abca"
      },
      "source": [
        "# More Sparsity (Fewer elements of W* being non-zero) by increasing Lambda (decreasing C) \n",
        "\n",
        "import numpy as np\n",
        "\n",
        "clf = LogisticRegression(C=0.1, penalty='l1',solver='liblinear'); #lamdda=1/c=10\n",
        "clf.fit(X_train, y_train);\n",
        "w = clf.coef_\n",
        "print(np.count_nonzero(w))\n"
      ],
      "execution_count": 32,
      "outputs": [
        {
          "output_type": "stream",
          "text": [
            "8\n"
          ],
          "name": "stdout"
        }
      ]
    },
    {
      "cell_type": "markdown",
      "metadata": {
        "id": "wubpOgiR7ZJx"
      },
      "source": [
        "**for this data set dimensianality is 30. So out of 30 only 8 values are non zero, rest are zero**"
      ]
    },
    {
      "cell_type": "code",
      "metadata": {
        "id": "AWF0yjcQv4T0",
        "colab": {
          "base_uri": "https://localhost:8080/"
        },
        "outputId": "200d6e6a-1815-4ef8-8834-c8e4e9d82327"
      },
      "source": [
        "clf = LogisticRegression(C=0.01, penalty='l1',solver='liblinear');#lamdda=1/c=100\n",
        "clf.fit(X_train, y_train);\n",
        "w = clf.coef_\n",
        "print(np.count_nonzero(w))\n"
      ],
      "execution_count": 17,
      "outputs": [
        {
          "output_type": "stream",
          "text": [
            "4\n"
          ],
          "name": "stdout"
        }
      ]
    },
    {
      "cell_type": "markdown",
      "metadata": {
        "id": "1-nYB6uA71jF"
      },
      "source": [
        "**for this data set dimensianality is 30. So out of 30 only 4 values are non zero, rest are zero**\n",
        "\n",
        "* lambda increase sparsity also increses.\n",
        "\n",
        "\n"
      ]
    },
    {
      "cell_type": "code",
      "metadata": {
        "id": "rTDDmXxdv4T2",
        "colab": {
          "base_uri": "https://localhost:8080/"
        },
        "outputId": "607a4463-0f72-498d-9433-6091707ef057"
      },
      "source": [
        "clf = LogisticRegression(C=0.001, penalty='l1',solver='liblinear');#lamdda=1/c=100\n",
        "clf.fit(X_train, y_train);\n",
        "w = clf.coef_\n",
        "print(np.count_nonzero(w))\n"
      ],
      "execution_count": 34,
      "outputs": [
        {
          "output_type": "stream",
          "text": [
            "3\n"
          ],
          "name": "stdout"
        }
      ]
    },
    {
      "cell_type": "markdown",
      "metadata": {
        "id": "istERDOX9Lat"
      },
      "source": [
        "\n",
        "\n",
        "---\n",
        "\n"
      ]
    },
    {
      "cell_type": "markdown",
      "metadata": {
        "id": "6pZj70SM8lEH"
      },
      "source": [
        "**for this data set dimensianality is 30. So out of 30 only 3 values are non zero, rest 23 are zero**\n",
        "\n",
        "* lambda increase sparsity also increses.\n",
        "\n",
        "\n"
      ]
    },
    {
      "cell_type": "code",
      "metadata": {
        "id": "RH0VDyVuv4T5",
        "colab": {
          "base_uri": "https://localhost:8080/"
        },
        "outputId": "ba427376-435a-4511-8d0e-4c21891f6511"
      },
      "source": [
        "clf = LogisticRegression(C=10, penalty='l1',solver='liblinear');#lamdda=1/c=0.1\n",
        "clf.fit(X_train, y_train);\n",
        "w = clf.coef_\n",
        "print(np.count_nonzero(w))"
      ],
      "execution_count": 20,
      "outputs": [
        {
          "output_type": "stream",
          "text": [
            "16\n"
          ],
          "name": "stdout"
        }
      ]
    },
    {
      "cell_type": "markdown",
      "metadata": {
        "id": "0n5FvL6z8uhH"
      },
      "source": [
        "**lambda decrease sparsity also decreses.**"
      ]
    },
    {
      "cell_type": "code",
      "metadata": {
        "colab": {
          "base_uri": "https://localhost:8080/"
        },
        "id": "G70qF0WJ7ChW",
        "outputId": "216d9a1c-5087-4980-974c-4935932bfd7d"
      },
      "source": [
        "clf = LogisticRegression(C=1000, penalty='l1',solver='liblinear');#lamdda=1/c=0.001\n",
        "clf.fit(X_train, y_train);\n",
        "w = clf.coef_\n",
        "print(np.count_nonzero(w))"
      ],
      "execution_count": 37,
      "outputs": [
        {
          "output_type": "stream",
          "text": [
            "28\n"
          ],
          "name": "stdout"
        }
      ]
    },
    {
      "cell_type": "markdown",
      "metadata": {
        "id": "DPkrFT199InF"
      },
      "source": [
        "\n",
        "\n",
        "---\n",
        "\n"
      ]
    }
  ]
}